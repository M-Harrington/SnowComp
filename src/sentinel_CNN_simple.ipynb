{
  "cells": [
    {
      "cell_type": "markdown",
      "source": [
        "# Setup"
      ],
      "metadata": {
        "id": "Vl2lbOSAGK53"
      },
      "id": "Vl2lbOSAGK53"
    },
    {
      "cell_type": "code",
      "source": [
        "#@title Mount drive\n",
        "from google.colab import drive\n",
        "drive.mount('/content/drive')"
      ],
      "metadata": {
        "id": "n6XY-AUnf8tC",
        "outputId": "34108b14-d694-4d63-a968-fb9afbb38a6c",
        "colab": {
          "base_uri": "https://localhost:8080/"
        },
        "cellView": "form"
      },
      "execution_count": null,
      "outputs": [
        {
          "output_type": "stream",
          "name": "stdout",
          "text": [
            "Mounted at /content/drive\n"
          ]
        }
      ],
      "id": "n6XY-AUnf8tC"
    },
    {
      "cell_type": "code",
      "execution_count": null,
      "id": "f9b5b40b",
      "metadata": {
        "id": "f9b5b40b",
        "scrolled": true,
        "cellView": "form"
      },
      "outputs": [],
      "source": [
        "#@title Imports\n",
        "import pickle\n",
        "import random\n",
        "import time\n",
        "\n",
        "import pandas as pd\n",
        "import numpy as np\n",
        "import matplotlib.pyplot as plt\n",
        "\n",
        "from datetime import datetime"
      ]
    },
    {
      "cell_type": "code",
      "source": [
        "# Matt setup\n",
        "BASE_PATH = 'C:/Users/Matt/Dropbox/SnowComp/'\n",
        "MODIS_PATH = BASE_PATH\n",
        "DATA_PATH = 'C:/Users/Matt/Documents/Python Scripts/SnowComp/dat/'\n",
        "OUT_PATH = \"C:/Users/Matt/Dropbox/SnowComp/RunGraphs/\"\n",
        "PRED_PATH = \"C:/Users/Matt/Dropbox/SnowComp/preds/pred\" \n",
        "\n",
        "\n",
        "# Isabella setup\n",
        "DATA_PATH = 'drive/MyDrive/fall21/snowcast/data/'\n",
        "BASE_PATH = DATA_PATH\n",
        "MODIS_PATH = DATA_PATH + 'modis/'\n",
        "DEM_PATH = DATA_PATH + 'elevation/'\n",
        "OUT_PATH = DATA_PATH + 'nn_output/'\n",
        "PRED_PATH = OUT_PATH\n"
      ],
      "metadata": {
        "id": "6e9tKRNzGtX4"
      },
      "id": "6e9tKRNzGtX4",
      "execution_count": null,
      "outputs": []
    },
    {
      "cell_type": "markdown",
      "source": [
        "# Sentinel sandbox"
      ],
      "metadata": {
        "id": "AouWvniLp-p8"
      },
      "id": "AouWvniLp-p8"
    },
    {
      "cell_type": "code",
      "source": [
        "! ls $DATA_PATH/sentinel/sent_pp_ylabs.npy"
      ],
      "metadata": {
        "colab": {
          "base_uri": "https://localhost:8080/"
        },
        "id": "IxhbWOgVqBYQ",
        "outputId": "d0ae2586-4816-457f-8e32-bf53dba33024"
      },
      "id": "IxhbWOgVqBYQ",
      "execution_count": null,
      "outputs": [
        {
          "output_type": "stream",
          "name": "stdout",
          "text": [
            "ls: cannot access '/sentinel/sent_pp_ylabs.npy': No such file or directory\n"
          ]
        }
      ]
    },
    {
      "cell_type": "code",
      "source": [
        "#@title Installs\n",
        "# Important library for many geopython libraries\n",
        "!apt install gdal-bin python-gdal python3-gdal &> /dev/null\n",
        "# Install rtree - Geopandas requirment\n",
        "!apt install python3-rtree &> /dev/null\n",
        "# Install Geopandas\n",
        "!pip install git+git://github.com/geopandas/geopandas.git &> /dev/null\n",
        "# Install descartes - Geopandas requirment\n",
        "!pip install descartes &> /dev/null\n",
        "!pip install geopandas rioxarray &> /dev/null\n",
        "\n",
        "import geopandas as gpd"
      ],
      "metadata": {
        "cellView": "form",
        "id": "cWdMMNkVuHDs"
      },
      "id": "cWdMMNkVuHDs",
      "execution_count": null,
      "outputs": []
    },
    {
      "cell_type": "code",
      "source": [
        "#@title Original data\n",
        "metadata = pd.read_csv(DATA_PATH + 'ground_measures_metadata.csv')\n",
        "train_inp = pd.read_csv(DATA_PATH + 'ground_measures_train_features.csv')\n",
        "test_inp = pd.read_csv(DATA_PATH + 'ground_measures_test_features.csv')\n",
        "train_labels = pd.read_csv(DATA_PATH + 'train_labels.csv')\n",
        "grid_cells = gpd.read_file(DATA_PATH + 'grid_cells.geojson')\n",
        "submission_format = gpd.read_file(DATA_PATH + 'submission_format.csv')\n"
      ],
      "metadata": {
        "cellView": "form",
        "id": "3IyJqM31tSp-"
      },
      "id": "3IyJqM31tSp-",
      "execution_count": null,
      "outputs": []
    },
    {
      "cell_type": "code",
      "source": [
        "#@title Get metadata for grid cells\n",
        "states = gpd.read_file(DATA_PATH + 'states/cb_2018_us_state_5m.shp')\\\n",
        "    .rename({'NAME': 'state'}, axis=1)\n",
        "cell_metadata = gpd.sjoin(grid_cells, states[['geometry', 'state']])\\\n",
        "    .drop_duplicates(subset='cell_id')\\\n",
        "    .drop(['index_right'], axis=1)\n",
        "cell_metadata['centroid'] = cell_metadata['geometry'].centroid\n",
        "cell_metadata['longitude'] = cell_metadata['centroid'].x\n",
        "cell_metadata['latitude'] = cell_metadata['centroid'].y\n",
        "cell_metadata = cell_metadata[['cell_id', 'state', 'longitude', 'latitude']]"
      ],
      "metadata": {
        "cellView": "form",
        "id": "Hcs43YziuiDF"
      },
      "id": "Hcs43YziuiDF",
      "execution_count": null,
      "outputs": []
    },
    {
      "cell_type": "code",
      "source": [
        "#@title Format dfs\n",
        "def get_rmse(df, actual='actual_snowpack', predicted='snowpack'):\n",
        "    return ((df[actual] - df[predicted]) ** 2).mean() ** 0.5\n",
        "\n",
        "def pivot_df(df, id_col, ignore_cols=None):\n",
        "    if not ignore_cols:\n",
        "        ignore_cols = []\n",
        "    date_cols = [x for x in df.columns if x not in [id_col] + ignore_cols]\n",
        "    dfs = []\n",
        "    for day in date_cols:\n",
        "        day_df = df[[id_col, day]].rename({day: 'snowpack'}, axis=1)\n",
        "        day_df['date'] = day\n",
        "        dfs.append(day_df)\n",
        "    return pd.concat(dfs)\n",
        "\n",
        "def get_day_of_season(doy):\n",
        "    return doy + 365 - 335 if doy < 335 else doy - 335\n",
        "\n",
        "def add_time_cols(df):\n",
        "    df['date'] = pd.to_datetime(df['date'])\n",
        "    df['doy'] = df['date'].dt.dayofyear\n",
        "    df['dos'] = df['doy'].apply(get_day_of_season)\n",
        "    df['year'] = df['date'].dt.year\n",
        "    df['season'] = df['year']\n",
        "    df.loc[df['doy'] < 335, 'season'] -= 1\n",
        "    return df\n",
        "\n",
        "def clean_train_test(df, id_col='station_id', metadata_df=None):\n",
        "    df = pivot_df(df, id_col)\n",
        "    if metadata_df is not None:\n",
        "        df = df.merge(metadata_df)\n",
        "    return add_time_cols(df)\n",
        "\n",
        "\n",
        "train = clean_train_test(train_inp.rename({'Unnamed: 0': 'station_id'}, axis=1),\n",
        "                         metadata_df=metadata)\n",
        "train2 = clean_train_test(train_labels, 'cell_id', cell_metadata).dropna()\n",
        "train_full = pd.concat([train2.rename({'cell_id': 'station_id'}, axis=1).assign(datatype='labels'),\n",
        "                        train.drop(['elevation_m', 'name'], axis=1).assign(datatype='ground')])\n",
        "\n",
        "test = clean_train_test(\n",
        "    test_inp.rename({'Unnamed: 0': 'station_id'}, axis=1), metadata_df=metadata)\\\n",
        "    .rename({'snowpack': 'actual_snowpack'}, axis=1).dropna()\\\n",
        "    .merge(train[['station_id', 'state']].drop_duplicates())\n",
        "\n",
        "to_predict = clean_train_test(submission_format.drop('geometry', axis=1), 'cell_id', cell_metadata)\n"
      ],
      "metadata": {
        "cellView": "form",
        "id": "miRKAGpguAlF"
      },
      "id": "miRKAGpguAlF",
      "execution_count": null,
      "outputs": []
    },
    {
      "cell_type": "code",
      "source": [
        "#@title Sentinel data\n",
        "sent_path = DATA_PATH + 'sentinel/'\n",
        "\n",
        "sentinel_trainfeat = np.load(sent_path + \"sent_pp_trainfeat.npy\")\n",
        "sentinel_testfeat = np.load(sent_path + \"sent_pp_testfeat.npy\")\n",
        "sentinel_ylabs = np.load(sent_path + \"sent_pp_ylabs.npy\")\n",
        "\n",
        "trainfeat_meta = pd.read_csv(sent_path + \"sent_trainfeat_meta.csv\")\n",
        "testfeat_meta = pd.read_csv(sent_path + \"sent_testfeat_meta.csv\")\n",
        "ylabs_meta = pd.read_csv(sent_path + \"sent_ylabs_meta.csv\")\n"
      ],
      "metadata": {
        "cellView": "form",
        "id": "wN_3ZAWbqjtJ"
      },
      "id": "wN_3ZAWbqjtJ",
      "execution_count": null,
      "outputs": []
    },
    {
      "cell_type": "code",
      "source": [
        "#@title Sentinel data helpers\n",
        "def y_merger(x, y):\n",
        "    '''reattach y labels to sentinel'''\n",
        "    y = y.rename(columns={\"Unnamed: 0\":\"cell_id\"})\n",
        "    y = pivot_df(y, 'cell_id').dropna()\n",
        "    y['date']=y['date'].map(daynum_gen)\n",
        "\n",
        "    y['idx'] = y['cell_id'] + \"-\" + y['date']\n",
        "    y = y.set_index('idx')\n",
        "\n",
        "    x['idx'] = x['cell_id'] +\\\n",
        "         \"-\" +x['date_long'].astype(str)\n",
        "    x = x.set_index('idx')\n",
        "\n",
        "    return x.join(y['snowpack'])\n",
        "\n",
        "def masker(x, y):\n",
        "    mask = np.all(x > -99, axis = (1,2))\n",
        "    print(mask.sum(), \"of\", len(mask))\n",
        "    return x[mask], y[mask]\n",
        "\n",
        "def minmaxscaler(x):\n",
        "    print(\"min\", round(x.min(),3), \"max\", round(x.max(),3))\n",
        "    x = (x - x.min())/(x.max() - x.min())            \n",
        "    return x\n",
        "\n",
        "def reshaper(ds):\n",
        "    dim0 = ds.shape[0]\n",
        "    dim1 = ds.shape[1]\n",
        "    dim2 = ds.shape[2]\n",
        "\n",
        "    return ds.reshape((dim0, 1, dim1, dim2))"
      ],
      "metadata": {
        "cellView": "form",
        "id": "srJqh92DqjHz"
      },
      "id": "srJqh92DqjHz",
      "execution_count": null,
      "outputs": []
    },
    {
      "cell_type": "code",
      "source": [
        "sentinel_ylabs, ylabs_meta = masker(sentinel_ylabs, ylabs_meta)\n",
        "sentinel_trainfeat, trainfeat_meta = masker(sentinel_trainfeat, trainfeat_meta)\n",
        "sentinel_testfeat, testfeat_meta = masker(sentinel_testfeat, testfeat_meta)\n",
        "\n",
        "sentinel_ylabs = minmaxscaler(sentinel_ylabs)\n",
        "sentinel_trainfeat = minmaxscaler(sentinel_trainfeat)\n",
        "sentinel_testfeat = minmaxscaler(sentinel_testfeat)"
      ],
      "metadata": {
        "colab": {
          "base_uri": "https://localhost:8080/"
        },
        "id": "j5Bom6OqrDB9",
        "outputId": "758095f1-760c-4402-d44e-46e8adcad016"
      },
      "id": "j5Bom6OqrDB9",
      "execution_count": null,
      "outputs": [
        {
          "output_type": "stream",
          "name": "stdout",
          "text": [
            "76159 of 76410\n",
            "105571 of 106760\n",
            "38618 of 38628\n",
            "min -57.906 max 18.57\n",
            "min -50.229 max 19.536\n",
            "min -27.488 max 14.445\n"
          ]
        }
      ]
    },
    {
      "cell_type": "code",
      "source": [
        "dataset = np.concatenate([sentinel_trainfeat, sentinel_ylabs])\n",
        "train_y = pd.concat([trainfeat_meta, ylabs_meta])\n",
        "train_y['date'] = pd.to_datetime(train_y['date'])\n",
        "train_y = train_y.merge(train_full.rename({'station_id': 'cell_id'}, axis=1)\\\n",
        "                                    [['cell_id', 'snowpack', 'date']])\n",
        "\n",
        "testfeat_meta['date'] = pd.to_datetime(testfeat_meta['date'])\n",
        "sentinel_ylab_test = testfeat_meta.merge(\n",
        "    test.rename({'station_id': 'cell_id', 'actual_snowpack': 'snowpack'}, axis=1)\\\n",
        "    [['cell_id', 'snowpack', 'date']])\n",
        "\n"
      ],
      "metadata": {
        "id": "KB-nGVTPr4N_"
      },
      "id": "KB-nGVTPr4N_",
      "execution_count": null,
      "outputs": []
    },
    {
      "cell_type": "code",
      "source": [
        "# sentinel_testfeat, sentinel_ylab_test\n",
        "del sentinel_ylabs\n",
        "del ylabs_meta\n",
        "del sentinel_trainfeat\n",
        "del trainfeat_meta"
      ],
      "metadata": {
        "id": "-iUIAR6KyYjS"
      },
      "id": "-iUIAR6KyYjS",
      "execution_count": null,
      "outputs": []
    },
    {
      "cell_type": "markdown",
      "id": "xzy-yKA8089p",
      "metadata": {
        "id": "xzy-yKA8089p"
      },
      "source": [
        "# Basic pytorch CNN"
      ]
    },
    {
      "cell_type": "code",
      "execution_count": null,
      "id": "4hSy2cPa0w1L",
      "metadata": {
        "id": "4hSy2cPa0w1L",
        "cellView": "form"
      },
      "outputs": [],
      "source": [
        "#@title Imports\n",
        "import torch\n",
        "import torch.nn as nn\n",
        "import torch.nn.functional as F\n",
        "import torch.optim as optim\n",
        "from torch.utils.data import TensorDataset, DataLoader\n",
        "from torch.utils.tensorboard import SummaryWriter"
      ]
    },
    {
      "cell_type": "code",
      "execution_count": null,
      "id": "Y6LVO6sr0cNn",
      "metadata": {
        "id": "Y6LVO6sr0cNn"
      },
      "outputs": [],
      "source": [
        ""
      ]
    },
    {
      "cell_type": "code",
      "execution_count": null,
      "id": "_ZFymFE0nMRh",
      "metadata": {
        "cellView": "form",
        "id": "_ZFymFE0nMRh"
      },
      "outputs": [],
      "source": [
        "#@title Define simple CNN\n",
        "# From: https://pytorch.org/tutorials/recipes/recipes/defining_a_neural_network.html\n",
        "# Also used: https://pytorch.org/tutorials/beginner/deep_learning_60min_blitz.html\n",
        "\n",
        "START_D = 1\n",
        "START_HW = 41\n",
        "\n",
        "class Net(nn.Module):\n",
        "\n",
        "    def _conv_calc(self, in_dim, pad, stride, k):\n",
        "        out = int(np.floor((in_dim + 2 * pad - (k - 1) - 1) / stride + 1))\n",
        "        return out\n",
        "\n",
        "    def __init__(self, cdim1, cdim2, cdim3, kernel_sz, dropout,\n",
        "                 ldim, print_dim = True):\n",
        "        super(Net, self).__init__()\n",
        "        \n",
        "        #first layer\n",
        "        self.conv1 = nn.Conv2d(START_D, cdim1, kernel_sz, 1)\n",
        "        self.avgpool = nn.AvgPool2d(3, stride= 1)\n",
        "        \n",
        "        c1_dim = self._conv_calc(START_HW, 0, 1, kernel_sz)\n",
        "        mp0_dim = self._conv_calc(c1_dim, 0, 1, 3)\n",
        "        \n",
        "        #second layer\n",
        "        self.conv2 = nn.Conv2d(cdim1, cdim2, kernel_sz, 1)\n",
        "        c2_dim = self._conv_calc(mp0_dim, 0, 1, kernel_sz)\n",
        "        mp1_dim = self._conv_calc(c2_dim, 0, 1, 3)\n",
        "        \n",
        "        #third layer\n",
        "        self.conv3 = nn.Conv2d(cdim2, cdim3, kernel_sz, 1)\n",
        "        c3_dim = self._conv_calc(mp1_dim, 0, 1, kernel_sz)\n",
        "        mp2_dim = self._conv_calc(c3_dim, 0, 1, 3)\n",
        "        \n",
        "        #fourth layer\n",
        "        print(cdim3, mp2_dim, mp2_dim)\n",
        "        flattened_dim = cdim3 * mp2_dim * mp2_dim\n",
        "        self.fc1 = nn.Linear(flattened_dim, ldim)\n",
        "        self.fc2 = nn.Linear(ldim, 1)\n",
        "\n",
        "        #extras\n",
        "        self.dropout1 = nn.Dropout2d(dropout)\n",
        "        self.dropout2 = nn.Dropout2d(dropout*2)\n",
        "        self.BatchNorm1 = nn.BatchNorm2d(cdim1)\n",
        "        self.BatchNorm3 = nn.BatchNorm2d(cdim3)\n",
        "        \n",
        "        if print_dim:\n",
        "            print('c1 dim:', c1_dim)\n",
        "            print('mp0 dim:', mp0_dim)\n",
        "            print('c2 dim:', c2_dim)\n",
        "            print('mp1 dim:', mp1_dim)\n",
        "            print('c3 dim:', c3_dim)\n",
        "            print('mp2 dim:', mp2_dim)\n",
        "            print('flattened_dim', flattened_dim)\n",
        "        \n",
        "        \n",
        "    def forward(self, x):\n",
        "        #first layer\n",
        "        x = self.conv1(x)\n",
        "        x = F.tanh(x)\n",
        "        # x = F.relu(x)\n",
        "        x = self.BatchNorm1(x)\n",
        "        x = self.avgpool(x)\n",
        "        \n",
        "        #second layer\n",
        "        x = self.dropout1(x)\n",
        "        x = self.conv2(x)\n",
        "        x = F.tanh(x)\n",
        "        # x = F.relu(x)\n",
        "        x = self.avgpool(x)\n",
        "        \n",
        "        #third layer\n",
        "        x = self.dropout2(x)\n",
        "        x = self.conv3(x)\n",
        "        x = F.tanh(x)\n",
        "        # x = F.relu(x)\n",
        "        x = self.BatchNorm3(x)\n",
        "        x = self.avgpool(x)\n",
        "        \n",
        "        #fourth layer\n",
        "        x = self.dropout1(x)\n",
        "        x = torch.flatten(x, 1)\n",
        "        x = self.fc1(x)\n",
        "        x = F.tanh(x)\n",
        "        # x = F.relu(x)\n",
        "        \n",
        "        output = self.fc2(x)\n",
        "        return output\n",
        "\n",
        "    \n",
        "\n",
        "\n"
      ]
    },
    {
      "cell_type": "code",
      "execution_count": null,
      "id": "vH2t7GaryngE",
      "metadata": {
        "cellView": "form",
        "id": "vH2t7GaryngE"
      },
      "outputs": [],
      "source": [
        "#@title Helpers to get predictions and accuracy\n",
        "def predict(cnn, x, as_numpy=False):\n",
        "    device = torch.device(\"cuda:0\" if torch.cuda.is_available() else \"cpu\")\n",
        "    cnn.eval()\n",
        "    x = x.type(torch.FloatTensor).to(device)\n",
        "    output = cnn(x)\n",
        "    if as_numpy:\n",
        "        output = output.flatten().cpu().detach().numpy() #detach removes gradients (bad)\n",
        "        \n",
        "    cnn.train()\n",
        "    return output.squeeze()\n",
        "\n",
        "def get_accuracy(cnn, x, y):\n",
        "#     y = torch.from_numpy(y).to(device)\n",
        "    outputs = predict(cnn, x, as_numpy = False)\n",
        "    loss = ((y-outputs)**2).sum()\n",
        "    return round(loss.item(), 6)\n",
        "\n"
      ]
    },
    {
      "cell_type": "code",
      "execution_count": null,
      "id": "CzIiQX4hnMOL",
      "metadata": {
        "cellView": "form",
        "id": "CzIiQX4hnMOL",
        "colab": {
          "base_uri": "https://localhost:8080/"
        },
        "outputId": "9d3b386e-2e91-4241-d577-7d422e47c371"
      },
      "outputs": [
        {
          "output_type": "stream",
          "name": "stdout",
          "text": [
            "8 17 17\n",
            "c1 dim: 35\n",
            "mp0 dim: 33\n",
            "c2 dim: 27\n",
            "mp1 dim: 25\n",
            "c3 dim: 19\n",
            "mp2 dim: 17\n",
            "flattened_dim 2312\n"
          ]
        },
        {
          "output_type": "stream",
          "name": "stderr",
          "text": [
            "/usr/local/lib/python3.7/dist-packages/torch/nn/functional.py:1795: UserWarning: nn.functional.tanh is deprecated. Use torch.tanh instead.\n",
            "  warnings.warn(\"nn.functional.tanh is deprecated. Use torch.tanh instead.\")\n"
          ]
        },
        {
          "output_type": "execute_result",
          "data": {
            "text/plain": [
              "torch.Size([1, 1])"
            ]
          },
          "metadata": {},
          "execution_count": 16
        }
      ],
      "source": [
        "#@title Test run\n",
        "cdim1=32; cdim2=18; cdim3 =8; kernel_sz=7; dropout=0.13; ldim=50\n",
        "my_nn = Net(cdim1=cdim1, cdim2=cdim2,cdim3 =cdim3, kernel_sz=kernel_sz, dropout=dropout, ldim=ldim)\n",
        "optimizer = optim.Adam(my_nn.parameters(), lr=0.1)\n",
        "optimizer.zero_grad()\n",
        "\n",
        "# test_im = torch.from_numpy(dataset[0]).reshape(1, START_D, 21, 21)\n",
        "test_im = torch.from_numpy(dataset[0]).reshape(1, START_D, 41, 41)\n",
        "result = my_nn(test_im.type(torch.FloatTensor))\n",
        "result.shape\n"
      ]
    },
    {
      "cell_type": "code",
      "source": [
        "#@title Get data loaders\n",
        "\n",
        "mini_x = np.array(dataset.reshape(dataset.shape[0], 1, 41, 41))\n",
        "mini_y = np.array(train_y['snowpack'])\n",
        "mini_x, mini_y = torch.Tensor(mini_x), torch.Tensor(mini_y)\n",
        "\n",
        "test_x = np.array(sentinel_testfeat.reshape(sentinel_testfeat.shape[0], 1, 41, 41))\n",
        "test_y = np.array(sentinel_ylab_test['snowpack'])\n",
        "test_x, test_y = torch.Tensor(test_x), torch.Tensor(test_y)\n",
        "test_dataset = TensorDataset(test_x, test_y)\n",
        "test_loader = DataLoader(test_dataset, batch_size = 200)\n",
        "\n",
        "mini_dataset = TensorDataset(mini_x, mini_y)\n",
        "mini_loader = DataLoader(mini_dataset, batch_size=200)\n",
        "\n",
        "train_rows = len(mini_x)\n",
        "test_rows = len(test_x)\n"
      ],
      "metadata": {
        "id": "FhSu-atUbEJm",
        "cellView": "form"
      },
      "id": "FhSu-atUbEJm",
      "execution_count": null,
      "outputs": []
    },
    {
      "cell_type": "code",
      "source": [
        ""
      ],
      "metadata": {
        "id": "Fi8aRUgC0yuq"
      },
      "id": "Fi8aRUgC0yuq",
      "execution_count": null,
      "outputs": []
    },
    {
      "cell_type": "code",
      "execution_count": null,
      "id": "GwEGyBD2nMIR",
      "metadata": {
        "id": "GwEGyBD2nMIR"
      },
      "outputs": [],
      "source": [
        "#@ title Setup net\n",
        "cdim1, cdim2, cdim3, kernel_sz, dropout, ldim, lr = 32, 18, 8, 7, 0.13, 16, 1e-5\n",
        "# cdim1, cdim2, cdim3, kernel_sz, dropout, ldim = 48, 18, 8, 3, 0.2, 50\n",
        "\n",
        "my_nn = Net(cdim1=cdim1, cdim2=cdim2, cdim3=cdim3, kernel_sz=kernel_sz, dropout=dropout, ldim=ldim)\n",
        "\n",
        "device = torch.device(\"cuda:0\" if torch.cuda.is_available() else \"cpu\")\n",
        "my_nn.to(device)\n",
        "optimizer = optim.Adam(my_nn.parameters(), lr=lr)#0.00005)\n",
        "criterion = nn.MSELoss(reduction = 'sum')\n",
        "\n",
        "writer = SummaryWriter('runs/cnn_full')\n",
        "write_index = 0\n"
      ]
    },
    {
      "cell_type": "code",
      "execution_count": null,
      "id": "rZKIBpS5nMAZ",
      "metadata": {
        "cellView": "form",
        "id": "rZKIBpS5nMAZ",
        "scrolled": true,
        "colab": {
          "base_uri": "https://localhost:8080/"
        },
        "outputId": "f8b315d7-d7c6-48d2-8068-b6d8713487b8"
      },
      "outputs": [
        {
          "output_type": "stream",
          "name": "stderr",
          "text": [
            "/usr/local/lib/python3.7/dist-packages/torch/nn/functional.py:1795: UserWarning: nn.functional.tanh is deprecated. Use torch.tanh instead.\n",
            "  warnings.warn(\"nn.functional.tanh is deprecated. Use torch.tanh instead.\")\n"
          ]
        },
        {
          "output_type": "stream",
          "name": "stdout",
          "text": [
            "0 / 25 complete, train: 17.8807 test: 12.5302 elapsed: 52\n",
            "1 / 25 complete, train: 17.8634 test: 12.5064 elapsed: 104\n",
            "2 / 25 complete, train: 17.8078 test: 12.4681 elapsed: 156\n",
            "3 / 25 complete, train: 17.6781 test: 12.4045 elapsed: 207\n",
            "4 / 25 complete, train: 17.3874 test: 12.3193 elapsed: 259\n",
            "5 / 25 complete, train: 17.0058 test: 12.2386 elapsed: 311\n",
            "6 / 25 complete, train: 16.7382 test: 12.1689 elapsed: 363\n",
            "7 / 25 complete, train: 16.5768 test: 12.1069 elapsed: 415\n",
            "8 / 25 complete, train: 16.4674 test: 12.0495 elapsed: 467\n",
            "9 / 25 complete, train: 16.3855 test: 11.995 elapsed: 519\n",
            "10 / 25 complete, train: 16.3173 test: 11.9426 elapsed: 571\n",
            "11 / 25 complete, train: 16.2572 test: 11.8918 elapsed: 623\n",
            "12 / 25 complete, train: 16.202 test: 11.8424 elapsed: 675\n"
          ]
        }
      ],
      "source": [
        "#@title Run net\n",
        "N_EPOCHS = 25\n",
        "\n",
        "test_loss = []\n",
        "train_loss = []\n",
        "t0 = time.time()\n",
        "\n",
        "for epoch in range(N_EPOCHS):\n",
        "    running_loss = 0.0\n",
        "    for i, data in enumerate(mini_loader, 0):\n",
        "        optimizer.zero_grad()\n",
        "\n",
        "        inputs, labels = data[0].to(device), data[1].to(device)\n",
        "\n",
        "        outputs = my_nn(inputs).squeeze()\n",
        "        loss = criterion(outputs, labels)\n",
        "        loss.backward()\n",
        "        optimizer.step()\n",
        "\n",
        "        running_loss += loss.item()\n",
        "        if (i + 1) % 100 == 0:\n",
        "            writer.add_scalar('Loss/train', running_loss , write_index)\n",
        "        write_index += 1\n",
        "\n",
        "    train_loss.append(running_loss/train_rows)\n",
        "    writer.add_scalar('Acc/val', train_loss[-1], write_index)\n",
        "    \n",
        "    #calculate test loss.\n",
        "    with torch.no_grad():        \n",
        "        running_tar_loss = 0\n",
        "        for data, target in test_loader:\n",
        "            running_tar_loss += get_accuracy(my_nn, data, target.to(device))\n",
        "\n",
        "\n",
        "        test_loss.append(running_tar_loss / test_rows)\n",
        "        writer.add_scalar('Test MSE', test_loss[-1], write_index)\n",
        "\n",
        "    print(epoch, '/', N_EPOCHS,\n",
        "          'complete, train:', round(np.sqrt(train_loss[-1]), 4),\n",
        "          \"test:\", round(np.sqrt(test_loss[-1]), 4),\n",
        "          'elapsed:', round(time.time() - t0))\n",
        "    \n",
        "writer.close()\n",
        "print('Finished Training')"
      ]
    },
    {
      "cell_type": "code",
      "execution_count": null,
      "id": "bc0c97a0",
      "metadata": {
        "id": "bc0c97a0"
      },
      "outputs": [],
      "source": [
        "torch.cuda.empty_cache()\n",
        "# 15.7-15.8\n"
      ]
    },
    {
      "cell_type": "code",
      "source": [
        ""
      ],
      "metadata": {
        "id": "EXpVYo5ZjXM6"
      },
      "id": "EXpVYo5ZjXM6",
      "execution_count": null,
      "outputs": []
    },
    {
      "cell_type": "markdown",
      "source": [
        "# Misc stuff you can probably ignore"
      ],
      "metadata": {
        "id": "ojdCu6ED7aOh"
      },
      "id": "ojdCu6ED7aOh"
    },
    {
      "cell_type": "markdown",
      "id": "47e00e48",
      "metadata": {
        "id": "47e00e48"
      },
      "source": [
        "## Checking accuracy"
      ]
    },
    {
      "cell_type": "code",
      "execution_count": null,
      "id": "de3e80bb",
      "metadata": {
        "id": "de3e80bb"
      },
      "outputs": [],
      "source": [
        "# my_nn = my_nn.to('cpu')\n",
        "# \n",
        "\n",
        "# print(np.sqrt(((vals.detach().numpy().flatten() - mini_y.numpy())**2).mean()))"
      ]
    },
    {
      "cell_type": "code",
      "source": [
        "params = [cdim1, cdim1, cdim3, kernel_sz, dropout, ldim, epoch]\n",
        "suffix = '_'.join([str(x) for x in params])\n",
        "\n",
        "len(train_loss), len(test_loss),\n",
        "epoch = len(train_loss) - 1"
      ],
      "metadata": {
        "colab": {
          "base_uri": "https://localhost:8080/",
          "height": 36
        },
        "id": "nHag9e06W4Ak",
        "outputId": "91cb5d58-b6cf-405a-ea64-b63a979b4ff1"
      },
      "id": "nHag9e06W4Ak",
      "execution_count": null,
      "outputs": [
        {
          "output_type": "execute_result",
          "data": {
            "application/vnd.google.colaboratory.intrinsic+json": {
              "type": "string"
            },
            "text/plain": [
              "'48_48_8_3_0.2_50_44'"
            ]
          },
          "metadata": {},
          "execution_count": 18
        }
      ]
    },
    {
      "cell_type": "code",
      "execution_count": null,
      "id": "6f48dda5",
      "metadata": {
        "id": "6f48dda5",
        "outputId": "16358fc7-f40d-4df1-f512-4c38f4dac457",
        "colab": {
          "base_uri": "https://localhost:8080/",
          "height": 285
        }
      },
      "outputs": [
        {
          "output_type": "execute_result",
          "data": {
            "text/plain": [
              "<matplotlib.legend.Legend at 0x7f9814be8650>"
            ]
          },
          "metadata": {},
          "execution_count": 97
        },
        {
          "output_type": "display_data",
          "data": {
            "image/png": "[encoded data removed]",
            "text/plain": [
              "<Figure size 432x288 with 1 Axes>"
            ]
          },
          "metadata": {
            "needs_background": "light"
          }
        }
      ],
      "source": [
        "\n",
        "plt.plot(range(epoch + 1), np.sqrt(train_loss), label = \"train\")\n",
        "plt.plot(range(epoch + 1), np.sqrt(test_loss), label = \"test\")\n",
        "plt.legend()\n",
        "# plt.savefig(OUT_PATH + \"converge_%s.png\" % suffix)"
      ]
    },
    {
      "cell_type": "code",
      "source": [
        "from scipy.stats import pearsonr\n",
        "import seaborn as sns\n",
        "\n",
        "my_nn.eval()\n",
        "preds = predict(my_nn.cuda(), test_x.cuda(), as_numpy=True)\n",
        "\n",
        "preds_adj = preds * std + mean\n",
        "gt_adj = test_y * std + mean\n",
        "\n",
        "print(pearsonr(preds_adj, np.array(gt_adj)))\n",
        "print(((preds_adj - np.array(gt_adj)) ** 2).mean() ** 0.5)\n",
        "\n",
        "f, ax = plt.subplots(figsize=(8, 8))\n",
        "sns.scatterplot(preds_adj, gt_adj, ax=ax)"
      ],
      "metadata": {
        "colab": {
          "base_uri": "https://localhost:8080/",
          "height": 632
        },
        "id": "Fx9LaKjJi3lO",
        "outputId": "25c178fd-b19a-4861-a228-0d84e39eeb98"
      },
      "id": "Fx9LaKjJi3lO",
      "execution_count": null,
      "outputs": [
        {
          "output_type": "stream",
          "name": "stdout",
          "text": [
            "(0.21107279569118523, 4.556924787190551e-92)\n",
            "15.399050378626487\n"
          ]
        },
        {
          "output_type": "stream",
          "name": "stderr",
          "text": [
            "/usr/local/lib/python3.7/dist-packages/torch/nn/functional.py:1795: UserWarning: nn.functional.tanh is deprecated. Use torch.tanh instead.\n",
            "  warnings.warn(\"nn.functional.tanh is deprecated. Use torch.tanh instead.\")\n",
            "/usr/local/lib/python3.7/dist-packages/seaborn/_decorators.py:43: FutureWarning: Pass the following variables as keyword args: x, y. From version 0.12, the only valid positional argument will be `data`, and passing other arguments without an explicit keyword will result in an error or misinterpretation.\n",
            "  FutureWarning\n"
          ]
        },
        {
          "output_type": "execute_result",
          "data": {
            "text/plain": [
              "<matplotlib.axes._subplots.AxesSubplot at 0x7f9814b70390>"
            ]
          },
          "metadata": {},
          "execution_count": 98
        },
        {
          "output_type": "display_data",
          "data": {
            "image/png": "[encoded data removed]",
            "text/plain": [
              "<Figure size 576x576 with 1 Axes>"
            ]
          },
          "metadata": {
            "needs_background": "light"
          }
        }
      ]
    },
    {
      "cell_type": "code",
      "source": [
        "my_nn.load_state_dict(torch.load(OUT_PATH + 'model48_48_8_3_0.2_50_44'))\n",
        "# model.eval()"
      ],
      "metadata": {
        "colab": {
          "base_uri": "https://localhost:8080/"
        },
        "id": "aFKsujiv0Iub",
        "outputId": "c0b3c085-b4c0-484c-d468-040ceddc23e5"
      },
      "id": "aFKsujiv0Iub",
      "execution_count": null,
      "outputs": [
        {
          "output_type": "execute_result",
          "data": {
            "text/plain": [
              "<All keys matched successfully>"
            ]
          },
          "metadata": {},
          "execution_count": 15
        }
      ]
    },
    {
      "cell_type": "code",
      "source": [
        ""
      ],
      "metadata": {
        "id": "KXsCoDRW8bw5"
      },
      "id": "KXsCoDRW8bw5",
      "execution_count": null,
      "outputs": []
    },
    {
      "cell_type": "code",
      "source": [
        "my_nn.eval()\n",
        "my_nn.to('cpu')\n",
        "\n",
        "torch.save(my_nn.state_dict(), OUT_PATH + \"model\" + suffix)"
      ],
      "metadata": {
        "id": "8KRwDTLri3ZA"
      },
      "id": "8KRwDTLri3ZA",
      "execution_count": null,
      "outputs": []
    },
    {
      "cell_type": "code",
      "source": [
        ""
      ],
      "metadata": {
        "colab": {
          "base_uri": "https://localhost:8080/",
          "height": 36
        },
        "id": "E9uz4fIW0TM_",
        "outputId": "0b750a92-5e79-4fa8-f271-1bf0cf87ce78"
      },
      "id": "E9uz4fIW0TM_",
      "execution_count": null,
      "outputs": [
        {
          "output_type": "execute_result",
          "data": {
            "application/vnd.google.colaboratory.intrinsic+json": {
              "type": "string"
            },
            "text/plain": [
              "'drive/MyDrive/fall21/snowcast/data/nn_output/model48_48_8_3_0.2_50_44'"
            ]
          },
          "metadata": {},
          "execution_count": 100
        }
      ]
    },
    {
      "cell_type": "markdown",
      "id": "f45a706e",
      "metadata": {
        "id": "f45a706e"
      },
      "source": [
        "## Save Model and Predictions"
      ]
    },
    {
      "cell_type": "code",
      "execution_count": null,
      "id": "5eea40c3",
      "metadata": {
        "id": "5eea40c3",
        "colab": {
          "base_uri": "https://localhost:8080/"
        },
        "outputId": "1d8eb3a5-ffa5-4259-d244-beefd8a044d3"
      },
      "outputs": [
        {
          "output_type": "stream",
          "name": "stderr",
          "text": [
            "/usr/local/lib/python3.7/dist-packages/torch/nn/functional.py:1795: UserWarning: nn.functional.tanh is deprecated. Use torch.tanh instead.\n",
            "  warnings.warn(\"nn.functional.tanh is deprecated. Use torch.tanh instead.\")\n"
          ]
        }
      ],
      "source": [
        "subset = dataset[int(dataset.shape[0] / 2):, :, :, :]\n",
        "full_train_preds = predict(my_nn.cuda(), torch.Tensor(subset).cuda(), as_numpy=True)\n",
        "np.save(PRED_PATH + 'preds1_' + suffix, full_train_preds)"
      ]
    },
    {
      "cell_type": "code",
      "source": [
        "!ls $PRED_PATH/subpreds_$suffix"
      ],
      "metadata": {
        "colab": {
          "base_uri": "https://localhost:8080/"
        },
        "id": "jEPX8J8X9J3A",
        "outputId": "11fe2ec9-bfec-4fef-ed41-ab4ffbfe80e6"
      },
      "id": "jEPX8J8X9J3A",
      "execution_count": null,
      "outputs": [
        {
          "output_type": "stream",
          "name": "stdout",
          "text": [
            "converge_32_32_8_3_0.13_50_2.png  model48_48_8_3_0.2_50_9\n",
            "model32_32_8_3_0.13_50_2\t  preds0_48_48_8_3_0.2_50_44.npy\n",
            "model48_48_8_3_0.2_50_36\t  preds1_48_48_8_3_0.2_50_44.npy\n",
            "model48_48_8_3_0.2_50_44\t  subpreds_48_48_8_3_0.2_50_44\n"
          ]
        }
      ]
    },
    {
      "cell_type": "code",
      "source": [
        "folds = 50\n",
        "for i in range(folds):\n",
        "    start = int(sub_dataset.shape[0] / folds) * i\n",
        "    end = int(sub_dataset.shape[0] / folds) * (i + 1) if i < folds - 1 else sub_dataset.shape[0]\n",
        "\n",
        "    subset = sub_dataset[start: end, :, :, :]\n",
        "    full_train_preds = predict(my_nn.cuda(), torch.Tensor(subset).cuda(), as_numpy=True)\n",
        "    np.save(PRED_PATH + 'subpreds_%s/%d' % (suffix, i) , full_train_preds)\n",
        "    print(i)"
      ],
      "metadata": {
        "id": "cHgdG6TdWor2"
      },
      "id": "cHgdG6TdWor2",
      "execution_count": null,
      "outputs": []
    },
    {
      "cell_type": "code",
      "source": [
        ""
      ],
      "metadata": {
        "colab": {
          "base_uri": "https://localhost:8080/"
        },
        "id": "WX_ebHttvC3X",
        "outputId": "3d6b3381-06e8-4021-b739-9a6dd2ee3a9e"
      },
      "id": "WX_ebHttvC3X",
      "execution_count": null,
      "outputs": [
        {
          "output_type": "execute_result",
          "data": {
            "text/plain": [
              "(45745, 2, 21, 21)"
            ]
          },
          "metadata": {},
          "execution_count": 122
        }
      ]
    },
    {
      "cell_type": "code",
      "source": [
        ""
      ],
      "metadata": {
        "id": "FZS3gs6ZugeX"
      },
      "id": "FZS3gs6ZugeX",
      "execution_count": null,
      "outputs": []
    },
    {
      "cell_type": "code",
      "source": [
        ""
      ],
      "metadata": {
        "id": "GM9SF9Qd7wdM"
      },
      "id": "GM9SF9Qd7wdM",
      "execution_count": null,
      "outputs": []
    },
    {
      "cell_type": "code",
      "source": [
        ""
      ],
      "metadata": {
        "id": "Ho2auYBlugUl"
      },
      "id": "Ho2auYBlugUl",
      "execution_count": null,
      "outputs": []
    },
    {
      "cell_type": "code",
      "execution_count": null,
      "id": "94a3ac59",
      "metadata": {
        "id": "94a3ac59"
      },
      "outputs": [],
      "source": [
        "with torch.no_grad():\n",
        "    vals = my_nn(mini_x).detach().numpy()\n"
      ]
    },
    {
      "cell_type": "code",
      "execution_count": null,
      "id": "4042d12c",
      "metadata": {
        "id": "4042d12c"
      },
      "outputs": [],
      "source": [
        "np.save(PRED_PATH + suffix, vals)"
      ]
    },
    {
      "cell_type": "code",
      "execution_count": null,
      "id": "b7f3631f",
      "metadata": {
        "id": "b7f3631f"
      },
      "outputs": [],
      "source": [
        "del mini_x, mini_dataset, mini_loader\n",
        "\n",
        "sub_dataset = np.load(path5)"
      ]
    },
    {
      "cell_type": "code",
      "execution_count": null,
      "id": "5e57d247",
      "metadata": {
        "id": "5e57d247",
        "colab": {
          "base_uri": "https://localhost:8080/",
          "height": 455
        },
        "outputId": "4f2567f0-f426-432e-c5e0-ba8b2e187440"
      },
      "outputs": [
        {
          "output_type": "error",
          "ename": "TypeError",
          "evalue": "ignored",
          "traceback": [
            "\u001b[0;31m---------------------------------------------------------------------------\u001b[0m",
            "\u001b[0;31mTypeError\u001b[0m                                 Traceback (most recent call last)",
            "\u001b[0;32m<ipython-input-118-73f73bfde75d>\u001b[0m in \u001b[0;36m<module>\u001b[0;34m()\u001b[0m\n\u001b[1;32m      1\u001b[0m \u001b[0;31m#warning, very memory intensive (idk why)\u001b[0m\u001b[0;34m\u001b[0m\u001b[0;34m\u001b[0m\u001b[0;34m\u001b[0m\u001b[0m\n\u001b[1;32m      2\u001b[0m \u001b[0;32mwith\u001b[0m \u001b[0mtorch\u001b[0m\u001b[0;34m.\u001b[0m\u001b[0mno_grad\u001b[0m\u001b[0;34m(\u001b[0m\u001b[0;34m)\u001b[0m\u001b[0;34m:\u001b[0m\u001b[0;34m\u001b[0m\u001b[0;34m\u001b[0m\u001b[0m\n\u001b[0;32m----> 3\u001b[0;31m     \u001b[0mvals_sub\u001b[0m \u001b[0;34m=\u001b[0m \u001b[0mmy_nn\u001b[0m\u001b[0;34m(\u001b[0m\u001b[0msub_dataset\u001b[0m\u001b[0;34m)\u001b[0m\u001b[0;34m.\u001b[0m\u001b[0mdetach\u001b[0m\u001b[0;34m(\u001b[0m\u001b[0;34m)\u001b[0m\u001b[0;34m.\u001b[0m\u001b[0mnumpy\u001b[0m\u001b[0;34m(\u001b[0m\u001b[0;34m)\u001b[0m\u001b[0;34m\u001b[0m\u001b[0;34m\u001b[0m\u001b[0m\n\u001b[0m",
            "\u001b[0;32m/usr/local/lib/python3.7/dist-packages/torch/nn/modules/module.py\u001b[0m in \u001b[0;36m_call_impl\u001b[0;34m(self, *input, **kwargs)\u001b[0m\n\u001b[1;32m   1100\u001b[0m         if not (self._backward_hooks or self._forward_hooks or self._forward_pre_hooks or _global_backward_hooks\n\u001b[1;32m   1101\u001b[0m                 or _global_forward_hooks or _global_forward_pre_hooks):\n\u001b[0;32m-> 1102\u001b[0;31m             \u001b[0;32mreturn\u001b[0m \u001b[0mforward_call\u001b[0m\u001b[0;34m(\u001b[0m\u001b[0;34m*\u001b[0m\u001b[0minput\u001b[0m\u001b[0;34m,\u001b[0m \u001b[0;34m**\u001b[0m\u001b[0mkwargs\u001b[0m\u001b[0;34m)\u001b[0m\u001b[0;34m\u001b[0m\u001b[0;34m\u001b[0m\u001b[0m\n\u001b[0m\u001b[1;32m   1103\u001b[0m         \u001b[0;31m# Do not call functions when jit is used\u001b[0m\u001b[0;34m\u001b[0m\u001b[0;34m\u001b[0m\u001b[0;34m\u001b[0m\u001b[0m\n\u001b[1;32m   1104\u001b[0m         \u001b[0mfull_backward_hooks\u001b[0m\u001b[0;34m,\u001b[0m \u001b[0mnon_full_backward_hooks\u001b[0m \u001b[0;34m=\u001b[0m \u001b[0;34m[\u001b[0m\u001b[0;34m]\u001b[0m\u001b[0;34m,\u001b[0m \u001b[0;34m[\u001b[0m\u001b[0;34m]\u001b[0m\u001b[0;34m\u001b[0m\u001b[0;34m\u001b[0m\u001b[0m\n",
            "\u001b[0;32m<ipython-input-104-a9e9f5edad58>\u001b[0m in \u001b[0;36mforward\u001b[0;34m(self, x)\u001b[0m\n\u001b[1;32m     57\u001b[0m     \u001b[0;32mdef\u001b[0m \u001b[0mforward\u001b[0m\u001b[0;34m(\u001b[0m\u001b[0mself\u001b[0m\u001b[0;34m,\u001b[0m \u001b[0mx\u001b[0m\u001b[0;34m)\u001b[0m\u001b[0;34m:\u001b[0m\u001b[0;34m\u001b[0m\u001b[0;34m\u001b[0m\u001b[0m\n\u001b[1;32m     58\u001b[0m         \u001b[0;31m#first layer\u001b[0m\u001b[0;34m\u001b[0m\u001b[0;34m\u001b[0m\u001b[0;34m\u001b[0m\u001b[0m\n\u001b[0;32m---> 59\u001b[0;31m         \u001b[0mx\u001b[0m \u001b[0;34m=\u001b[0m \u001b[0mself\u001b[0m\u001b[0;34m.\u001b[0m\u001b[0mconv1\u001b[0m\u001b[0;34m(\u001b[0m\u001b[0mx\u001b[0m\u001b[0;34m)\u001b[0m\u001b[0;34m\u001b[0m\u001b[0;34m\u001b[0m\u001b[0m\n\u001b[0m\u001b[1;32m     60\u001b[0m         \u001b[0mx\u001b[0m \u001b[0;34m=\u001b[0m \u001b[0mF\u001b[0m\u001b[0;34m.\u001b[0m\u001b[0mtanh\u001b[0m\u001b[0;34m(\u001b[0m\u001b[0mx\u001b[0m\u001b[0;34m)\u001b[0m\u001b[0;34m\u001b[0m\u001b[0;34m\u001b[0m\u001b[0m\n\u001b[1;32m     61\u001b[0m         \u001b[0;31m# x = F.relu(x)\u001b[0m\u001b[0;34m\u001b[0m\u001b[0;34m\u001b[0m\u001b[0;34m\u001b[0m\u001b[0m\n",
            "\u001b[0;32m/usr/local/lib/python3.7/dist-packages/torch/nn/modules/module.py\u001b[0m in \u001b[0;36m_call_impl\u001b[0;34m(self, *input, **kwargs)\u001b[0m\n\u001b[1;32m   1100\u001b[0m         if not (self._backward_hooks or self._forward_hooks or self._forward_pre_hooks or _global_backward_hooks\n\u001b[1;32m   1101\u001b[0m                 or _global_forward_hooks or _global_forward_pre_hooks):\n\u001b[0;32m-> 1102\u001b[0;31m             \u001b[0;32mreturn\u001b[0m \u001b[0mforward_call\u001b[0m\u001b[0;34m(\u001b[0m\u001b[0;34m*\u001b[0m\u001b[0minput\u001b[0m\u001b[0;34m,\u001b[0m \u001b[0;34m**\u001b[0m\u001b[0mkwargs\u001b[0m\u001b[0;34m)\u001b[0m\u001b[0;34m\u001b[0m\u001b[0;34m\u001b[0m\u001b[0m\n\u001b[0m\u001b[1;32m   1103\u001b[0m         \u001b[0;31m# Do not call functions when jit is used\u001b[0m\u001b[0;34m\u001b[0m\u001b[0;34m\u001b[0m\u001b[0;34m\u001b[0m\u001b[0m\n\u001b[1;32m   1104\u001b[0m         \u001b[0mfull_backward_hooks\u001b[0m\u001b[0;34m,\u001b[0m \u001b[0mnon_full_backward_hooks\u001b[0m \u001b[0;34m=\u001b[0m \u001b[0;34m[\u001b[0m\u001b[0;34m]\u001b[0m\u001b[0;34m,\u001b[0m \u001b[0;34m[\u001b[0m\u001b[0;34m]\u001b[0m\u001b[0;34m\u001b[0m\u001b[0;34m\u001b[0m\u001b[0m\n",
            "\u001b[0;32m/usr/local/lib/python3.7/dist-packages/torch/nn/modules/conv.py\u001b[0m in \u001b[0;36mforward\u001b[0;34m(self, input)\u001b[0m\n\u001b[1;32m    444\u001b[0m \u001b[0;34m\u001b[0m\u001b[0m\n\u001b[1;32m    445\u001b[0m     \u001b[0;32mdef\u001b[0m \u001b[0mforward\u001b[0m\u001b[0;34m(\u001b[0m\u001b[0mself\u001b[0m\u001b[0;34m,\u001b[0m \u001b[0minput\u001b[0m\u001b[0;34m:\u001b[0m \u001b[0mTensor\u001b[0m\u001b[0;34m)\u001b[0m \u001b[0;34m->\u001b[0m \u001b[0mTensor\u001b[0m\u001b[0;34m:\u001b[0m\u001b[0;34m\u001b[0m\u001b[0;34m\u001b[0m\u001b[0m\n\u001b[0;32m--> 446\u001b[0;31m         \u001b[0;32mreturn\u001b[0m \u001b[0mself\u001b[0m\u001b[0;34m.\u001b[0m\u001b[0m_conv_forward\u001b[0m\u001b[0;34m(\u001b[0m\u001b[0minput\u001b[0m\u001b[0;34m,\u001b[0m \u001b[0mself\u001b[0m\u001b[0;34m.\u001b[0m\u001b[0mweight\u001b[0m\u001b[0;34m,\u001b[0m \u001b[0mself\u001b[0m\u001b[0;34m.\u001b[0m\u001b[0mbias\u001b[0m\u001b[0;34m)\u001b[0m\u001b[0;34m\u001b[0m\u001b[0;34m\u001b[0m\u001b[0m\n\u001b[0m\u001b[1;32m    447\u001b[0m \u001b[0;34m\u001b[0m\u001b[0m\n\u001b[1;32m    448\u001b[0m \u001b[0;32mclass\u001b[0m \u001b[0mConv3d\u001b[0m\u001b[0;34m(\u001b[0m\u001b[0m_ConvNd\u001b[0m\u001b[0;34m)\u001b[0m\u001b[0;34m:\u001b[0m\u001b[0;34m\u001b[0m\u001b[0;34m\u001b[0m\u001b[0m\n",
            "\u001b[0;32m/usr/local/lib/python3.7/dist-packages/torch/nn/modules/conv.py\u001b[0m in \u001b[0;36m_conv_forward\u001b[0;34m(self, input, weight, bias)\u001b[0m\n\u001b[1;32m    441\u001b[0m                             _pair(0), self.dilation, self.groups)\n\u001b[1;32m    442\u001b[0m         return F.conv2d(input, weight, bias, self.stride,\n\u001b[0;32m--> 443\u001b[0;31m                         self.padding, self.dilation, self.groups)\n\u001b[0m\u001b[1;32m    444\u001b[0m \u001b[0;34m\u001b[0m\u001b[0m\n\u001b[1;32m    445\u001b[0m     \u001b[0;32mdef\u001b[0m \u001b[0mforward\u001b[0m\u001b[0;34m(\u001b[0m\u001b[0mself\u001b[0m\u001b[0;34m,\u001b[0m \u001b[0minput\u001b[0m\u001b[0;34m:\u001b[0m \u001b[0mTensor\u001b[0m\u001b[0;34m)\u001b[0m \u001b[0;34m->\u001b[0m \u001b[0mTensor\u001b[0m\u001b[0;34m:\u001b[0m\u001b[0;34m\u001b[0m\u001b[0;34m\u001b[0m\u001b[0m\n",
            "\u001b[0;31mTypeError\u001b[0m: conv2d() received an invalid combination of arguments - got (numpy.ndarray, Parameter, Parameter, tuple, tuple, tuple, int), but expected one of:\n * (Tensor input, Tensor weight, Tensor bias, tuple of ints stride, tuple of ints padding, tuple of ints dilation, int groups)\n      didn't match because some of the arguments have invalid types: (!numpy.ndarray!, !Parameter!, !Parameter!, !tuple!, !tuple!, !tuple!, int)\n * (Tensor input, Tensor weight, Tensor bias, tuple of ints stride, str padding, tuple of ints dilation, int groups)\n      didn't match because some of the arguments have invalid types: (!numpy.ndarray!, !Parameter!, !Parameter!, !tuple!, !tuple!, !tuple!, int)\n"
          ]
        }
      ],
      "source": [
        "#warning, very memory intensive (idk why)\n",
        "with torch.no_grad():\n",
        "    vals_sub = my_nn(sub_dataset).detach().numpy() "
      ]
    },
    {
      "cell_type": "code",
      "execution_count": null,
      "id": "d54805c6",
      "metadata": {
        "id": "d54805c6"
      },
      "outputs": [],
      "source": [
        "np.save(PRED_PATH + \"sub\" + suffix, vals_sub)"
      ]
    },
    {
      "cell_type": "markdown",
      "id": "520c4033",
      "metadata": {
        "id": "520c4033"
      },
      "source": [
        "## Things to check\n",
        "\n",
        "1. Accuracy measures are right\n",
        "2. Check missing value\n",
        "\n",
        "### TODO:\n",
        "- Add test set/cv\n",
        "- Batchnorm?\n",
        "- CNN benchmark"
      ]
    }
  ],
  "metadata": {
    "colab": {
      "name": "sentinel_CNN_simple.ipynb",
      "provenance": []
    },
    "kernelspec": {
      "display_name": "Python 3 (ipykernel)",
      "language": "python",
      "name": "python3"
    },
    "language_info": {
      "codemirror_mode": {
        "name": "ipython",
        "version": 3
      },
      "file_extension": ".py",
      "mimetype": "text/x-python",
      "name": "python",
      "nbconvert_exporter": "python",
      "pygments_lexer": "ipython3",
      "version": "3.10.1"
    },
    "accelerator": "GPU"
  },
  "nbformat": 4,
  "nbformat_minor": 5
}