{
 "cells": [
  {
   "cell_type": "markdown",
   "id": "2f9c7785",
   "metadata": {},
   "source": [
    "# Pre-preprocessing Sentinel 1\n",
    "\n",
    "list of `cell_id, date, lat, lon` for downloading"
   ]
  },
  {
   "cell_type": "code",
   "execution_count": 4,
   "id": "c4c8cf9b",
   "metadata": {},
   "outputs": [],
   "source": [
    "import pandas as pd\n",
    "import geojson as gsn\n",
    "from pyproj import Proj\n",
    "from osgeo import gdal\n",
    "from osgeo import gdalconst\n",
    "\n",
    "import tempfile\n",
    "import wget\n",
    "import math\n",
    "import random\n",
    "import numpy as np\n",
    "import matplotlib.pyplot as plt\n",
    "from tqdm.notebook import tqdm\n",
    "\n",
    "import os\n",
    "import pickle\n",
    "from collections import defaultdict\n",
    "from datetime import datetime, timedelta\n",
    "\n",
    "import xarray as xr\n",
    "import rioxarray as rxr"
   ]
  },
  {
   "cell_type": "code",
   "execution_count": 2,
   "id": "f73da42a",
   "metadata": {},
   "outputs": [],
   "source": [
    "train_feat = pd.read_csv(\"C:/Users/Matt/Documents/Python Scripts/SnowComp/dat/ground_measures_train_features.csv\")\n",
    "test =pd.read_csv(\"C:/Users/Matt/Documents/Python Scripts/SnowComp/dat/ground_measures_test_features.csv\")\n",
    "submission = pd.read_csv(\"C:/Users/Matt/Documents/Python Scripts/SnowComp/dat/submission_format.csv\")\n",
    "train_y = pd.read_csv(\"C:/Users/Matt/Documents/Python Scripts/SnowComp/dat/train_labels.csv\") \n",
    "metadata = pd.read_csv(\"C:/Users/Matt/Documents/Python Scripts/SnowComp/dat/ground_measures_metadata.csv\")"
   ]
  },
  {
   "cell_type": "code",
   "execution_count": 5,
   "id": "54cc02c1",
   "metadata": {},
   "outputs": [
    {
     "name": "stdout",
     "output_type": "stream",
     "text": [
      "18130\n"
     ]
    }
   ],
   "source": [
    "path = \"C:/Users/Matt/Documents/Python Scripts/SnowComp/dat/grid_cells.geojson\"\n",
    "with open(path) as f:\n",
    "    gj = gsn.load(f)\n",
    "print(len(gj['features']))"
   ]
  },
  {
   "cell_type": "code",
   "execution_count": 8,
   "id": "566d6063",
   "metadata": {},
   "outputs": [],
   "source": [
    "centroids = {} #cellid : centroid\n",
    "\n",
    "for cell in range(len(gj['features'])):\n",
    "    assert len(gj['features'][cell]['geometry']['coordinates'][0]) == 5 #coordinates have repeat on fifth, make sure this is universal\n",
    "    \n",
    "    cell_id =gj['features'][cell]['properties']['cell_id']\n",
    "    centroid = list(np.mean(\n",
    "        gj['features'][cell]['geometry']['coordinates'][0][0:4],\n",
    "        axis = 0)) #lazy centroid calculation\n",
    "    centroids[cell_id] = centroid"
   ]
  },
  {
   "cell_type": "markdown",
   "id": "02618246",
   "metadata": {},
   "source": [
    "## Train labels"
   ]
  },
  {
   "cell_type": "code",
   "execution_count": 6,
   "id": "acbac806",
   "metadata": {},
   "outputs": [],
   "source": [
    "#grab date/cell_id combos\n",
    "dates = {}\n",
    "\n",
    "#go through all rows, grab nonnull dates\n",
    "for i in range(train_y.shape[0]):\n",
    "    dates[train_y.iloc[i,0]] =list(\n",
    "        train_y.iloc[i,1:][~train_y.iloc[i,:].isnull()].index)#cell_id : [dates]\n"
   ]
  },
  {
   "cell_type": "code",
   "execution_count": 11,
   "id": "0cf9de99",
   "metadata": {
    "scrolled": false
   },
   "outputs": [
    {
     "data": {
      "application/vnd.jupyter.widget-view+json": {
       "model_id": "abb1028637ec42f984fadccf07f55050",
       "version_major": 2,
       "version_minor": 0
      },
      "text/plain": [
       "  0%|          | 0/10878 [00:00<?, ?it/s]"
      ]
     },
     "metadata": {},
     "output_type": "display_data"
    },
    {
     "name": "stdout",
     "output_type": "stream",
     "text": [
      "total squares: 91490\n"
     ]
    },
    {
     "data": {
      "text/html": [
       "<div>\n",
       "<style scoped>\n",
       "    .dataframe tbody tr th:only-of-type {\n",
       "        vertical-align: middle;\n",
       "    }\n",
       "\n",
       "    .dataframe tbody tr th {\n",
       "        vertical-align: top;\n",
       "    }\n",
       "\n",
       "    .dataframe thead th {\n",
       "        text-align: right;\n",
       "    }\n",
       "</style>\n",
       "<table border=\"1\" class=\"dataframe\">\n",
       "  <thead>\n",
       "    <tr style=\"text-align: right;\">\n",
       "      <th></th>\n",
       "      <th>cell_id</th>\n",
       "      <th>date</th>\n",
       "      <th>lat</th>\n",
       "      <th>lon</th>\n",
       "    </tr>\n",
       "  </thead>\n",
       "  <tbody>\n",
       "    <tr>\n",
       "      <th>0</th>\n",
       "      <td>0003f387-71c4-48f6-b2b0-d853bd4f0aba</td>\n",
       "      <td>2018-04-26</td>\n",
       "      <td>37.077776</td>\n",
       "      <td>-118.723444</td>\n",
       "    </tr>\n",
       "    <tr>\n",
       "      <th>1</th>\n",
       "      <td>0003f387-71c4-48f6-b2b0-d853bd4f0aba</td>\n",
       "      <td>2019-03-16</td>\n",
       "      <td>37.077776</td>\n",
       "      <td>-118.723444</td>\n",
       "    </tr>\n",
       "    <tr>\n",
       "      <th>2</th>\n",
       "      <td>0003f387-71c4-48f6-b2b0-d853bd4f0aba</td>\n",
       "      <td>2019-04-18</td>\n",
       "      <td>37.077776</td>\n",
       "      <td>-118.723444</td>\n",
       "    </tr>\n",
       "    <tr>\n",
       "      <th>3</th>\n",
       "      <td>0003f387-71c4-48f6-b2b0-d853bd4f0aba</td>\n",
       "      <td>2019-04-28</td>\n",
       "      <td>37.077776</td>\n",
       "      <td>-118.723444</td>\n",
       "    </tr>\n",
       "    <tr>\n",
       "      <th>4</th>\n",
       "      <td>0003f387-71c4-48f6-b2b0-d853bd4f0aba</td>\n",
       "      <td>2019-06-08</td>\n",
       "      <td>37.077776</td>\n",
       "      <td>-118.723444</td>\n",
       "    </tr>\n",
       "    <tr>\n",
       "      <th>...</th>\n",
       "      <td>...</td>\n",
       "      <td>...</td>\n",
       "      <td>...</td>\n",
       "      <td>...</td>\n",
       "    </tr>\n",
       "    <tr>\n",
       "      <th>91485</th>\n",
       "      <td>ffe43514-2c92-43b6-bd84-d183806aca65</td>\n",
       "      <td>2016-03-29</td>\n",
       "      <td>47.904329</td>\n",
       "      <td>-123.502482</td>\n",
       "    </tr>\n",
       "    <tr>\n",
       "      <th>91486</th>\n",
       "      <td>fff95195-ccc9-40b7-b302-a0d8570c86bc</td>\n",
       "      <td>2016-02-08</td>\n",
       "      <td>47.735437</td>\n",
       "      <td>-123.376717</td>\n",
       "    </tr>\n",
       "    <tr>\n",
       "      <th>91487</th>\n",
       "      <td>fff95195-ccc9-40b7-b302-a0d8570c86bc</td>\n",
       "      <td>2016-03-29</td>\n",
       "      <td>47.735437</td>\n",
       "      <td>-123.376717</td>\n",
       "    </tr>\n",
       "    <tr>\n",
       "      <th>91488</th>\n",
       "      <td>fffb4d40-5947-4922-9f05-5d8b5a243d84</td>\n",
       "      <td>2016-02-08</td>\n",
       "      <td>47.523549</td>\n",
       "      <td>-123.798926</td>\n",
       "    </tr>\n",
       "    <tr>\n",
       "      <th>91489</th>\n",
       "      <td>fffb4d40-5947-4922-9f05-5d8b5a243d84</td>\n",
       "      <td>2016-03-29</td>\n",
       "      <td>47.523549</td>\n",
       "      <td>-123.798926</td>\n",
       "    </tr>\n",
       "  </tbody>\n",
       "</table>\n",
       "<p>91490 rows × 4 columns</p>\n",
       "</div>"
      ],
      "text/plain": [
       "                                    cell_id        date        lat         lon\n",
       "0      0003f387-71c4-48f6-b2b0-d853bd4f0aba  2018-04-26  37.077776 -118.723444\n",
       "1      0003f387-71c4-48f6-b2b0-d853bd4f0aba  2019-03-16  37.077776 -118.723444\n",
       "2      0003f387-71c4-48f6-b2b0-d853bd4f0aba  2019-04-18  37.077776 -118.723444\n",
       "3      0003f387-71c4-48f6-b2b0-d853bd4f0aba  2019-04-28  37.077776 -118.723444\n",
       "4      0003f387-71c4-48f6-b2b0-d853bd4f0aba  2019-06-08  37.077776 -118.723444\n",
       "...                                     ...         ...        ...         ...\n",
       "91485  ffe43514-2c92-43b6-bd84-d183806aca65  2016-03-29  47.904329 -123.502482\n",
       "91486  fff95195-ccc9-40b7-b302-a0d8570c86bc  2016-02-08  47.735437 -123.376717\n",
       "91487  fff95195-ccc9-40b7-b302-a0d8570c86bc  2016-03-29  47.735437 -123.376717\n",
       "91488  fffb4d40-5947-4922-9f05-5d8b5a243d84  2016-02-08  47.523549 -123.798926\n",
       "91489  fffb4d40-5947-4922-9f05-5d8b5a243d84  2016-03-29  47.523549 -123.798926\n",
       "\n",
       "[91490 rows x 4 columns]"
      ]
     },
     "execution_count": 11,
     "metadata": {},
     "output_type": "execute_result"
    }
   ],
   "source": [
    "date_locs = []\n",
    "\n",
    "# create a numpy array date_locs (cell_id, date, lat, lon)\n",
    "counter = 0 \n",
    "\n",
    "for cell, date_list in tqdm(dates.items()):\n",
    "    for date in date_list:        \n",
    "        date_locs.append([cell, date, centroids[cell][1], centroids[cell][0]])\n",
    "\n",
    "        counter += 1\n",
    "print(\"total squares:\", counter)    \n",
    "date_locs = pd.DataFrame(date_locs, columns = ['cell_id', 'date', 'lat', 'lon'])"
   ]
  },
  {
   "cell_type": "code",
   "execution_count": 13,
   "id": "3a034abd",
   "metadata": {
    "scrolled": true
   },
   "outputs": [],
   "source": [
    "date_locs.to_csv(\"C:/Users/Matt/Dropbox/SnowComp/SentinelHelper/ylabs_dateloc.csv\", index= False)"
   ]
  }
 ],
 "metadata": {
  "kernelspec": {
   "display_name": "Python 3 (ipykernel)",
   "language": "python",
   "name": "python3"
  },
  "language_info": {
   "codemirror_mode": {
    "name": "ipython",
    "version": 3
   },
   "file_extension": ".py",
   "mimetype": "text/x-python",
   "name": "python",
   "nbconvert_exporter": "python",
   "pygments_lexer": "ipython3",
   "version": "3.10.1"
  }
 },
 "nbformat": 4,
 "nbformat_minor": 5
}
