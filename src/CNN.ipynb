{
 "cells": [
  {
   "cell_type": "code",
   "execution_count": 1,
   "id": "f9b5b40b",
   "metadata": {
    "id": "f9b5b40b",
    "scrolled": true
   },
   "outputs": [],
   "source": [
    "import pandas as pd\n",
    "import numpy as np\n",
    "import matplotlib.pyplot as plt\n",
    "\n",
    "from datetime import datetime\n",
    "import pickle\n",
    "import random\n",
    "\n",
    "rng = np.random.default_rng(926834)"
   ]
  },
  {
   "cell_type": "code",
   "execution_count": 2,
   "id": "de5e4942",
   "metadata": {},
   "outputs": [],
   "source": [
    "#labels helpers and processing\n",
    "def pivot_df(df, id_col, ignore_cols=None):\n",
    "    if not ignore_cols:\n",
    "        ignore_cols = []\n",
    "    date_cols = [x for x in df.columns if x not in [id_col] + ignore_cols]\n",
    "    dfs = []\n",
    "    for day in date_cols:\n",
    "        day_df = df[[id_col, day]].rename({day: 'snowpack'}, axis=1)\n",
    "        day_df['date'] = day\n",
    "        dfs.append(day_df)\n",
    "    return pd.concat(dfs)\n",
    "\n",
    "def daynum_gen(date_time):\n",
    "    '''converts date time objects to filename'''\n",
    "    date_time = datetime.fromisoformat(date_time)\n",
    "    doy = date_time.timetuple().tm_yday\n",
    "    year = date_time.year\n",
    "    return str(year) + '{:03d}'.format(doy)"
   ]
  },
  {
   "cell_type": "markdown",
   "id": "0ebf6eca",
   "metadata": {
    "id": "0ebf6eca"
   },
   "source": [
    "### Load data"
   ]
  },
  {
   "cell_type": "code",
   "execution_count": 3,
   "id": "89fc9ea2",
   "metadata": {},
   "outputs": [],
   "source": [
    "base_path = \"C:/Users/Matt/Dropbox/SnowComp/\"\n",
    "path1 = base_path+\"ModisSnowImagesT.npy\"\n",
    "path2 = base_path+\"ModisSnowImagesA.npy\"\n",
    "path3 = base_path+\"ModisSnowImages_subT.npy\"\n",
    "path4 = base_path+\"ModisSnowImages_subA.npy\"\n",
    "\n",
    "#submission small\n",
    "path5 =base_path +\"ModisSnowImages_subAT_small.npy\"\n",
    "path6 =base_path +\"ModisSnowImages_AT_small.npy\"\n",
    "\n",
    "#train_features\n",
    "path7 =base_path + \"ModisSnowImages_trainfeat_T.npy\"\n",
    "path8 =base_path + \"ModisSnowImages_trainfeat_A.npy\"\n",
    "\n",
    "#test_features\n",
    "path9 =base_path + \"ModisSnowImages_testfeat_T.npy\"\n",
    "path10=base_path + \"ModisSnowImages_testfeat_A.npy\""
   ]
  },
  {
   "cell_type": "code",
   "execution_count": 4,
   "id": "2d74f386",
   "metadata": {},
   "outputs": [],
   "source": [
    "#load cell ids, note Ts are correct, As are actual daynums \n",
    "path_id = \"C:/Users/Matt/Dropbox/SnowComp/cell_snow_idsT.pkl\"\n",
    "with open(path_id, 'rb') as handle:\n",
    "    cell_ids = pickle.load( handle)\n",
    "\n",
    "path_id = \"C:/Users/Matt/Dropbox/SnowComp/cell_snow_ids_trainfeat.pkl\"\n",
    "with open(path_id, 'rb') as handle:\n",
    "    cell_ids_train = pickle.load(handle)\n",
    "    \n",
    "path_id = \"C:/Users/Matt/Dropbox/SnowComp/cell_snow_ids_testfeat.pkl\"\n",
    "with open(path_id, 'rb') as handle:\n",
    "    cell_ids_test = pickle.load( handle)"
   ]
  },
  {
   "cell_type": "code",
   "execution_count": 5,
   "id": "73935ca2",
   "metadata": {},
   "outputs": [],
   "source": [
    "# #Assemble submission dataset\n",
    "# sub_dataT = np.load(path3) #be careful about memory, this is about 25-30 gigs ram\n",
    "# sub_dataA = np.load(path4)\n",
    "\n",
    "# sub_dataset = np.concatenate((sub_dataT[:,0:1,:,:],sub_dataA[:,0:1,:,:]), axis = 1)\n",
    "# sub_dataset = sub_dataset/255\n",
    "# np.save(path5,sub_dataset)\n",
    "\n",
    "# sub_dataset = torch.Tensor(sub_dataset)\n",
    "# del sub_dataT, sub_dataA"
   ]
  },
  {
   "cell_type": "markdown",
   "id": "76e05379",
   "metadata": {},
   "source": [
    "#### Read in and process `train_label` data"
   ]
  },
  {
   "cell_type": "code",
   "execution_count": 6,
   "id": "edac2dc0",
   "metadata": {
    "id": "edac2dc0"
   },
   "outputs": [],
   "source": [
    "train_y = pd.read_csv(\"C:/Users/Matt/Documents/Python Scripts/SnowComp/dat/train_labels.csv\")\n",
    "train_y = pivot_df(train_y, 'cell_id').dropna()\n",
    "train_y['date']=train_y['date'].map(daynum_gen)\n",
    "\n",
    "#sort train_y so it has correct order before stripping labels\n",
    "sorter = [idx +\"-\" +date for  idx, date  in cell_ids]\n",
    "# with open(base_path + \"train_idorder.pkl\", 'wb') as handle:\n",
    "#     pickle.dump(sorter, handle)\n",
    "\n",
    "train_y['idx'] = train_y['cell_id'] +\"-\"+train_y['date']\n",
    "train_y = train_y.set_index('idx')\n",
    "train_y = train_y.loc[sorter]"
   ]
  },
  {
   "cell_type": "code",
   "execution_count": 7,
   "id": "708b0a48",
   "metadata": {},
   "outputs": [],
   "source": [
    "#combine Aqua and Terra DSs\n",
    "train_dataT = np.load(path1)\n",
    "train_dataA = np.load(path2)\n",
    "\n",
    "dataset = np.concatenate((train_dataT[:,0:1,:,:],train_dataA[:,0:1,:,:]), axis = 1)\n",
    "# dataset = np.concatenate((train_dataT[:,(0,4),:,:],train_dataA[:,(0,4),:,:]), axis = 1)\n",
    "# dataset = np.concatenate((train_dataT,train_dataA), axis = 1)\n",
    "START_D = dataset.shape[1]\n",
    "\n",
    "dataset= dataset/255\n",
    "# np.save(path6,dataset)\n",
    "\n",
    "del train_dataT\n",
    "del train_dataA"
   ]
  },
  {
   "cell_type": "markdown",
   "id": "d17a08ed",
   "metadata": {},
   "source": [
    "#### Read in and order `train_features` data "
   ]
  },
  {
   "cell_type": "code",
   "execution_count": 8,
   "id": "9fdade79",
   "metadata": {
    "id": "edac2dc0"
   },
   "outputs": [],
   "source": [
    "train_feat = pd.read_csv(\"C:/Users/Matt/Documents/Python Scripts/SnowComp/dat/ground_measures_train_features.csv\")\n",
    "train_feat = train_feat.rename(columns={\"Unnamed: 0\":\"cell_id\"})\n",
    "train_feat = pivot_df(train_feat, 'cell_id').dropna()\n",
    "train_feat['date']=train_feat['date'].map(daynum_gen)\n",
    "\n",
    "#sort train_feat so it has correct order before stripping labels\n",
    "sorter = [idx +\"-\" +date for  idx, date  in cell_ids_train]\n",
    "with open(base_path + \"trainfeat_idorder.pkl\", 'wb') as handle:\n",
    "    pickle.dump(sorter, handle)\n",
    "\n",
    "train_feat['idx'] = train_feat['cell_id'] +\"-\"+train_feat['date']\n",
    "train_feat = train_feat.set_index('idx')\n",
    "train_feat = train_feat.loc[sorter]"
   ]
  },
  {
   "cell_type": "code",
   "execution_count": null,
   "id": "0dd29034",
   "metadata": {},
   "outputs": [],
   "source": [
    "#combine Aqua and Terra DSs\n",
    "train_feat_dataT = np.load(path7)\n",
    "train_feat_dataA = np.load(path8)\n",
    "\n",
    "dataset_temp = np.concatenate((train_feat_dataT[:,0:1,:,:],train_feat_dataA[:,0:1,:,:]), axis = 1)\n",
    "# dataset_temp = np.concatenate((train_feat_dataT[:,(0,4),:,:],train_feat_dataA[:,(0,4),:,:]), axis = 1)\n",
    "# dataset_temp = np.concatenate((train_feat_dataT,train_feat_dataA), axis = 1)\n",
    "\n",
    "dataset_temp= dataset_temp/255\n",
    "# np.save(path6,dataset_temp)\n",
    "\n",
    "del train_feat_dataT, train_feat_dataA"
   ]
  },
  {
   "cell_type": "markdown",
   "id": "bec75aa1",
   "metadata": {},
   "source": [
    "#### Read in and order `test_features` data"
   ]
  },
  {
   "cell_type": "code",
   "execution_count": null,
   "id": "f8ce9ee8",
   "metadata": {},
   "outputs": [],
   "source": [
    "y_test = pd.read_csv(\"C:/Users/Matt/Documents/Python Scripts/SnowComp/dat/ground_measures_test_features.csv\")\n",
    "y_test = y_test.rename(columns={\"Unnamed: 0\":\"cell_id\"})\n",
    "y_test = pivot_df(y_test, 'cell_id').dropna()\n",
    "y_test['date']=y_test['date'].map(daynum_gen)\n",
    "\n",
    "#sort train_feat so it has correct order before stripping labels\n",
    "sorter = [idx +\"-\" +date for  idx, date  in cell_ids_test]\n",
    "with open(base_path + \"testfeat_idorder.pkl\", 'wb') as handle:\n",
    "    pickle.dump(sorter, handle)\n",
    "\n",
    "y_test['idx'] = y_test['cell_id'] +\"-\"+y_test['date']\n",
    "y_test = y_test.set_index('idx')\n",
    "y_test = y_test.loc[sorter]"
   ]
  },
  {
   "cell_type": "code",
   "execution_count": null,
   "id": "3c018a4d",
   "metadata": {},
   "outputs": [],
   "source": [
    "#combine Aqua and Terra DSs\n",
    "test_feat_dataT = np.load(path9)\n",
    "test_feat_dataA = np.load(path10)\n",
    "\n",
    "dataset_test = np.concatenate((test_feat_dataT[:,0:1,:,:],test_feat_dataA[:,0:1,:,:]), axis = 1)\n",
    "# dataset_temp = np.concatenate((test_feat_dataT[:,(0,4),:,:],test_feat_dataA[:,(0,4),:,:]), axis = 1)\n",
    "# dataset_temp = np.concatenate((test_feat_dataT,test_feat_dataA), axis = 1)\n",
    "\n",
    "dataset_test= dataset_test/255\n",
    "# np.save(path6,dataset_temp)\n",
    "\n",
    "del test_feat_dataT, test_feat_dataA"
   ]
  },
  {
   "cell_type": "markdown",
   "id": "feb8b015",
   "metadata": {},
   "source": [
    "Holdout 15% of `train_labels` and smoosh everything together"
   ]
  },
  {
   "cell_type": "code",
   "execution_count": null,
   "id": "1af4d4ff",
   "metadata": {},
   "outputs": [],
   "source": [
    "#holdout \n",
    "mask = rng.random(len(dataset)) < 0.85\n",
    "\n",
    "test_grid = dataset[~mask]\n",
    "dataset = dataset[mask]\n",
    "test_grid_y = train_y[~mask]\n",
    "train_y = train_y[mask]\n",
    "\n",
    "print(dataset.shape)\n",
    "print(test_grid.shape)\n",
    "print(test_grid_y.shape)\n",
    "print(train_y.shape)"
   ]
  },
  {
   "cell_type": "code",
   "execution_count": null,
   "id": "165e6643",
   "metadata": {},
   "outputs": [],
   "source": [
    "#training data\n",
    "train_dataset = np.concatenate((dataset,\n",
    "                   dataset_temp), axis = 0)\n",
    "train_y = pd.concat((train_y, train_feat),\n",
    "                    axis = 0)\n",
    "\n",
    "train_y = train_y.reset_index(drop=True)\n",
    "del dataset_temp, train_feat\n",
    "\n",
    "#shuffle\n",
    "p =rng.permutation(len(train_dataset))\n",
    "train_y = train_y.loc[p]\n",
    "train_dataset = train_dataset[p]"
   ]
  },
  {
   "cell_type": "code",
   "execution_count": null,
   "id": "279bb053",
   "metadata": {},
   "outputs": [],
   "source": [
    "#test data\n",
    "dataset_test = np.concatenate((dataset_test, test_grid),\n",
    "                              axis = 0) \n",
    "y_test = pd.concat((y_test, test_grid_y),\n",
    "                    axis = 0)\n",
    "\n",
    "y_test = y_test.reset_index(drop=True)\n",
    "del test_grid_y, test_grid\n",
    "\n",
    "#shuffle\n",
    "p =rng.permutation(len(dataset_test))\n",
    "y_test = y_test.loc[p]\n",
    "dataset_test = dataset_test[p]"
   ]
  },
  {
   "cell_type": "code",
   "execution_count": null,
   "id": "447e46e1",
   "metadata": {},
   "outputs": [],
   "source": [
    "data_path = \"C:/Users/Matt/Dropbox/SnowComp/FinalData/\"\n",
    "\n",
    "train_y.to_csv(data_path + \"train_y.csv\", index = False)\n",
    "y_test.to_csv(data_path + \"test_y.csv\", index = False)\n",
    "\n",
    "np.save(data_path + \"train_dataset.npy\", train_dataset)\n",
    "np.save(data_path + \"test_datast.npy\", dataset_test)"
   ]
  },
  {
   "cell_type": "markdown",
   "id": "2802f8ca",
   "metadata": {},
   "source": [
    "## Translate to Pytorch datatypes and validation\n",
    "\n",
    "Redefine train and testing datasets "
   ]
  },
  {
   "cell_type": "code",
   "execution_count": null,
   "id": "785f66ce",
   "metadata": {
    "cellView": "form",
    "id": "4hSy2cPa0w1L"
   },
   "outputs": [],
   "source": [
    "#@title Imports\n",
    "import torch\n",
    "import torch.nn as nn\n",
    "import torch.nn.functional as F\n",
    "import torch.optim as optim\n",
    "from torch.utils.data import TensorDataset, DataLoader\n",
    "from torch.utils.tensorboard import SummaryWriter"
   ]
  },
  {
   "cell_type": "code",
   "execution_count": null,
   "id": "a91ecf18",
   "metadata": {},
   "outputs": [],
   "source": [
    "#@title split training and testing\n",
    "training_data = train_dataset\n",
    "testing_data = dataset_test\n",
    "train_rows = len(training_data)\n",
    "test_rows = len(testing_data)"
   ]
  },
  {
   "cell_type": "code",
   "execution_count": null,
   "id": "2818f6ec",
   "metadata": {
    "cellView": "form",
    "id": "j9xCBXI-nMK9"
   },
   "outputs": [],
   "source": [
    "#@title Get data loaders\n",
    "test_x, test_y = dataset_test, np.array(y_test['snowpack'])\n",
    "test_x, test_y = torch.Tensor(test_x), torch.Tensor(test_y)\n",
    "test_dataset = TensorDataset(test_x,test_y)\n",
    "test_loader = DataLoader(test_dataset, batch_size = 256)\n",
    "\n",
    "mini_x, mini_y = train_dataset, np.array(train_y['snowpack'])\n",
    "mini_x, mini_y = torch.Tensor(mini_x), torch.Tensor(mini_y)\n",
    "\n",
    "mini_dataset = TensorDataset(mini_x,\n",
    "                              mini_y)\n",
    "mini_loader = DataLoader(mini_dataset, batch_size=256)"
   ]
  },
  {
   "cell_type": "markdown",
   "id": "xzy-yKA8089p",
   "metadata": {
    "id": "xzy-yKA8089p"
   },
   "source": [
    "# CNN"
   ]
  },
  {
   "cell_type": "code",
   "execution_count": null,
   "id": "_ZFymFE0nMRh",
   "metadata": {
    "cellView": "form",
    "id": "_ZFymFE0nMRh"
   },
   "outputs": [],
   "source": [
    "#@title Define simple CNN\n",
    "# From: https://pytorch.org/tutorials/recipes/recipes/defining_a_neural_network.html\n",
    "# Also used: https://pytorch.org/tutorials/beginner/deep_learning_60min_blitz.html\n",
    "\n",
    "START_HW = 21\n",
    "\n",
    "class Net(nn.Module):\n",
    "\n",
    "    def _conv_calc(self, in_dim, pad, stride, k):\n",
    "        out = int(np.floor((in_dim + 2 * pad - (k - 1) - 1) / stride + 1))\n",
    "        return out\n",
    "\n",
    "    def __init__(self, cdim1, cdim2,cdim3, kernel_sz, dropout,\n",
    "                 ldim, print_dim = True):\n",
    "        super(Net, self).__init__()\n",
    "        \n",
    "        #first layer\n",
    "        self.conv1 = nn.Conv2d(START_D, cdim1, kernel_sz, 1)\n",
    "        self.avgpool = nn.AvgPool2d(3, stride= 1)\n",
    "        \n",
    "        c1_dim = self._conv_calc(START_HW, 0, 1, kernel_sz)\n",
    "        mp0_dim = self._conv_calc(c1_dim, 0, 1, 3)\n",
    "        \n",
    "        #second layer\n",
    "        self.conv2 = nn.Conv2d(cdim1, cdim2, kernel_sz, 1)\n",
    "        c2_dim = self._conv_calc(mp0_dim, 0, 1, kernel_sz)\n",
    "        mp1_dim = self._conv_calc(c2_dim, 0, 1, 3)\n",
    "        \n",
    "        \n",
    "        #third layer\n",
    "        self.conv3 = nn.Conv2d(cdim2, cdim3, kernel_sz, 1)\n",
    "        c3_dim = self._conv_calc(mp1_dim, 0, 1, kernel_sz)\n",
    "        mp2_dim = self._conv_calc(c3_dim, 0, 1, 3)\n",
    "        \n",
    "        #fourth layer\n",
    "        flattened_dim = cdim3 * mp2_dim * mp2_dim\n",
    "        self.fc1 = nn.Linear(flattened_dim, ldim)\n",
    "        self.fc2 = nn.Linear(ldim, 1)\n",
    "\n",
    "        #extras\n",
    "        self.dropout1 = nn.Dropout2d(dropout)\n",
    "        self.dropout2 = nn.Dropout2d(dropout*2)\n",
    "        self.BatchNorm1 = nn.BatchNorm2d(cdim1)\n",
    "        self.BatchNorm3 = nn.BatchNorm2d(cdim3)\n",
    "        \n",
    "        if print_dim:\n",
    "            print('c1 dim:', c1_dim)\n",
    "            print('mp0 dim:', mp0_dim)\n",
    "            print('c2 dim:', c2_dim)\n",
    "            print('mp1 dim:', mp1_dim)\n",
    "            print('c3 dim:', c3_dim)\n",
    "            print('mp2 dim:', mp2_dim)\n",
    "            print('flattened_dim',flattened_dim)\n",
    "        \n",
    "        \n",
    "    def forward(self, x):\n",
    "        #first layer\n",
    "        x = self.conv1(x)\n",
    "#         x = torch.tanh(x)\n",
    "        x = F.relu(x)\n",
    "        x = self.BatchNorm1(x)\n",
    "        x = self.avgpool(x)\n",
    "        \n",
    "        #second layer\n",
    "        x = self.dropout1(x)\n",
    "        x = self.conv2(x)\n",
    "#         x = torch.tanh(x)\n",
    "        x = F.relu(x)\n",
    "        x = self.avgpool(x)\n",
    "        \n",
    "        #third layer\n",
    "        x = self.dropout2(x)\n",
    "        x = self.conv3(x)\n",
    "        x = torch.tanh(x)\n",
    "        x = F.relu(x)\n",
    "        x = self.BatchNorm3(x)\n",
    "        x = self.avgpool(x)\n",
    "        \n",
    "        #fourth layer\n",
    "        x = torch.flatten(x, 1)\n",
    "        x = self.fc1(x)\n",
    "        x = F.relu(x)\n",
    "        \n",
    "        output = self.fc2(x)\n",
    "        return output\n",
    "\n",
    "    \n",
    "\n",
    "\n"
   ]
  },
  {
   "cell_type": "code",
   "execution_count": null,
   "id": "vH2t7GaryngE",
   "metadata": {
    "cellView": "form",
    "id": "vH2t7GaryngE"
   },
   "outputs": [],
   "source": [
    "#@title Helpers to get predictions and accuracy\n",
    "def predict(cnn, x, as_numpy=False):\n",
    "    device = torch.device(\"cuda:0\" if torch.cuda.is_available() else \"cpu\")\n",
    "    cnn.eval()\n",
    "    x =x.type(torch.FloatTensor).to(device)\n",
    "    output = cnn(x)\n",
    "    if as_numpy:\n",
    "        output = output.flatten().cpu().detach().numpy() #detach removes gradients (bad)\n",
    "        \n",
    "    cnn.train()\n",
    "    return output.squeeze()\n",
    "\n",
    "def get_accuracy(cnn, x, y):\n",
    "#     y = torch.from_numpy(y).to(device)\n",
    "    outputs = predict(cnn, x,as_numpy = False)\n",
    "    \n",
    "#     print(y.shape, outputs.shape)\n",
    "    loss = ((y-outputs)**2).sum()\n",
    "    return round(loss.item(), 6)\n",
    "\n"
   ]
  },
  {
   "cell_type": "code",
   "execution_count": null,
   "id": "GwEGyBD2nMIR",
   "metadata": {
    "cellView": "form",
    "id": "GwEGyBD2nMIR"
   },
   "outputs": [],
   "source": [
    "#@title Setup net\n",
    "cdim1=32; cdim2=18; cdim3 =8; kernel_sz=3; dropout=0.13; ldim=50; lrate = 0.0001\n",
    "my_nn = Net(cdim1=cdim1, cdim2=cdim2,cdim3 =cdim3, kernel_sz=kernel_sz, dropout=dropout, ldim=ldim)\n",
    "\n",
    "device = torch.device(\"cuda:0\" if torch.cuda.is_available() else \"cpu\"\n",
    ")\n",
    "my_nn.to(device)\n",
    "optimizer = optim.Adam(my_nn.parameters(), lr=lrate)\n",
    "criterion = nn.MSELoss(reduction = 'sum')\n",
    "\n",
    "writer = SummaryWriter('runs/cnn_alldata')\n",
    "write_index = 0"
   ]
  },
  {
   "cell_type": "code",
   "execution_count": null,
   "id": "rZKIBpS5nMAZ",
   "metadata": {
    "cellView": "form",
    "colab": {
     "base_uri": "https://localhost:8080/"
    },
    "id": "rZKIBpS5nMAZ",
    "outputId": "40e82096-4e7c-42b9-9b24-2e38d7fb1bec",
    "scrolled": true
   },
   "outputs": [],
   "source": [
    "N_EPOCHS = 4000\n",
    "\n",
    "test_loss = []\n",
    "train_loss = []\n",
    "\n",
    "#@title Run net\n",
    "for epoch in range(N_EPOCHS):\n",
    "    running_loss = 0.0\n",
    "    for i, data in enumerate(mini_loader, 0):\n",
    "        optimizer.zero_grad()\n",
    "        inputs, labels = data[0].to(device), data[1].to(device)\n",
    "\n",
    "        outputs = my_nn(inputs).squeeze()\n",
    "#         print(outputs.shape, labels.shape)\n",
    "        loss = criterion(outputs, labels)\n",
    "        loss.backward()\n",
    "        optimizer.step()\n",
    "#         for name, param in my_nn.named_parameters():\n",
    "#             print(name, param.grad.abs().sum())\n",
    "\n",
    "        running_loss += loss.item()\n",
    "        if (i + 1) % 100 == 0:\n",
    "            writer.add_scalar('Loss/train', running_loss , write_index)\n",
    "        write_index += 1\n",
    "\n",
    "#     val_acc = get_accuracy(my_nn, mini_x, mini_y)\n",
    "    train_loss.append(running_loss/train_rows)\n",
    "    writer.add_scalar('Acc/val', train_loss[-1], write_index)\n",
    "    \n",
    "    #calculate test loss.\n",
    "    with torch.no_grad():\n",
    "        \n",
    "        running_tar_loss = 0\n",
    "        for data, target in test_loader:\n",
    "            running_tar_loss += get_accuracy(my_nn, data, target.to(device))\n",
    "\n",
    "\n",
    "        test_loss.append(running_tar_loss / test_rows)\n",
    "        writer.add_scalar('Test MSE', test_loss[-1], write_index)\n",
    "\n",
    "    print(epoch, '/', N_EPOCHS,\n",
    "          'complete, train:', round(np.sqrt(train_loss[-1]), 4),\n",
    "          \"test:\", round(np.sqrt(test_loss[-1]), 4) )\n",
    "            \n",
    "            \n",
    "            \n",
    "\n",
    "    \n",
    "    \n",
    "writer.close()\n",
    "print('Finished Training')\n",
    "# 10.5, 9.63 best"
   ]
  },
  {
   "cell_type": "code",
   "execution_count": null,
   "id": "bc0c97a0",
   "metadata": {},
   "outputs": [],
   "source": [
    "torch.cuda.empty_cache()\n"
   ]
  },
  {
   "cell_type": "markdown",
   "id": "47e00e48",
   "metadata": {},
   "source": [
    "### Checking accuracy"
   ]
  },
  {
   "cell_type": "code",
   "execution_count": null,
   "id": "6f48dda5",
   "metadata": {},
   "outputs": [],
   "source": [
    "path = \"C:/Users/Matt/Dropbox/SnowComp/RunGraphs/\" \n",
    "\n",
    "suffix = \"_\" + \\\n",
    "    str(cdim1)+ \"_\" + str(cdim2)+ \"_\" +str(cdim3)+ \"_\" + str(kernel_sz)+ \\\n",
    "    \"_\" + str(dropout)+ \"_\" + str(ldim)+ \"_\" + str(epoch) +\"_\" + str(lrate)\n",
    "\n",
    "plt.plot(range(epoch+1), np.sqrt(train_loss), label =\"train\")\n",
    "plt.plot(range(epoch+1), np.sqrt(test_loss), label =\"test\")\n",
    "plt.legend()\n",
    "plt.savefig(path +\"converge_alldata\" + suffix+ \".png\")"
   ]
  },
  {
   "cell_type": "markdown",
   "id": "f45a706e",
   "metadata": {},
   "source": [
    "## Save Model and Predictions\n",
    "\n",
    "### TODO: save image quality for random forest ingestion"
   ]
  },
  {
   "cell_type": "code",
   "execution_count": null,
   "id": "d17710be",
   "metadata": {},
   "outputs": [],
   "source": [
    "pred_all = True"
   ]
  },
  {
   "cell_type": "markdown",
   "id": "3fcf6212",
   "metadata": {},
   "source": [
    "Rerun model on full dataset"
   ]
  },
  {
   "cell_type": "code",
   "execution_count": null,
   "id": "f51a5465",
   "metadata": {},
   "outputs": [],
   "source": [
    "del mini_x, mini_dataset, mini_loader\n",
    "\n",
    "full_x = np.concatenate((train_dataset, dataset_test), axis = 0)\n",
    "full_y = pd.concat((train_y, y_test), axis= 0)\n",
    "\n",
    "#shuffle\n",
    "full_y = full_y.reset_index(drop=True)\n",
    "\n",
    "p = rng.permutation(len(full_x))\n",
    "full_y = full_y.loc[p]\n",
    "full_x = full_x[p]\n",
    "\n",
    "full_y_og = full_y.copy()"
   ]
  },
  {
   "cell_type": "code",
   "execution_count": null,
   "id": "48c50672",
   "metadata": {},
   "outputs": [],
   "source": [
    "full_y = np.array(full_y['snowpack'])\n",
    "\n",
    "full_x, full_y = torch.Tensor(full_x), torch.Tensor(full_y)\n",
    "full_dataset = TensorDataset(full_x, full_y)\n",
    "full_loader = DataLoader(full_dataset, batch_size=128)\n",
    "\n",
    "# del train_dataset, dataset_test, train_y, y_test"
   ]
  },
  {
   "cell_type": "code",
   "execution_count": null,
   "id": "99c43f49",
   "metadata": {},
   "outputs": [],
   "source": [
    "#@title Setup net\n",
    "my_nn = Net(cdim1=cdim1, cdim2=cdim2,cdim3 =cdim3, kernel_sz=kernel_sz, dropout=dropout, ldim=ldim)\n",
    "\n",
    "device = torch.device(\"cuda:0\" if torch.cuda.is_available() else \"cpu\")\n",
    "my_nn.to(device)\n",
    "\n",
    "optimizer = optim.Adam(my_nn.parameters(), lr=lrate)\n",
    "criterion = nn.MSELoss(reduction = 'sum')"
   ]
  },
  {
   "cell_type": "code",
   "execution_count": null,
   "id": "cb6a2c99",
   "metadata": {},
   "outputs": [],
   "source": [
    "train_loss = []\n",
    "\n",
    "#@title Run net\n",
    "for epoch in range(N_EPOCHS):\n",
    "    running_loss = 0.0\n",
    "    for i, data in enumerate(full_loader, 0):\n",
    "        optimizer.zero_grad()\n",
    "        inputs, labels = data[0].to(device), data[1].to(device)\n",
    "\n",
    "        outputs = my_nn(inputs).squeeze()\n",
    "        loss = criterion(outputs, labels)\n",
    "        loss.backward()\n",
    "        optimizer.step()\n",
    "\n",
    "        running_loss += loss.item()\n",
    "\n",
    "    train_loss.append(running_loss/train_rows)\n",
    "    print(epoch, '/', N_EPOCHS,\n",
    "          'complete, train:', round(np.sqrt(train_loss[-1]), 4),\n",
    "          \"test:\", round(np.sqrt(test_loss[-1]), 4) )"
   ]
  },
  {
   "cell_type": "code",
   "execution_count": null,
   "id": "67aa4fc2",
   "metadata": {},
   "outputs": [],
   "source": [
    "torch.cuda.empty_cache()"
   ]
  },
  {
   "cell_type": "code",
   "execution_count": null,
   "id": "422c182f",
   "metadata": {
    "scrolled": true
   },
   "outputs": [],
   "source": [
    "path = \"C:/Users/Matt/Dropbox/SnowComp/RunGraphs/\" \n",
    "\n",
    "suffix = \"_\" + \\\n",
    "    str(cdim1)+ \"_\" + str(cdim2)+ \"_\" +str(cdim3)+ \"_\" + str(kernel_sz)+ \\\n",
    "    \"_\" + str(dropout)+ \"_\" + str(ldim)+ \"_\" + str(epoch) +\"_\" + str(lrate) \n",
    "\n",
    "plt.plot(range(epoch+1), np.sqrt(train_loss), label =\"train\")\n",
    "plt.legend()\n",
    "plt.savefig(path +\"full\" + suffix+ \".png\")"
   ]
  },
  {
   "cell_type": "markdown",
   "id": "28050087",
   "metadata": {},
   "source": [
    "### Save predictions"
   ]
  },
  {
   "cell_type": "code",
   "execution_count": null,
   "id": "5eea40c3",
   "metadata": {},
   "outputs": [],
   "source": [
    "if pred_all:\n",
    "    my_nn.eval()\n",
    "    my_nn.to('cpu')\n",
    "\n",
    "    torch.save(my_nn.state_dict(), path +\"model\"+suffix)\n",
    "    \n",
    "    with torch.no_grad():\n",
    "        vals = my_nn(full_x).detach().numpy()\n",
    "        \n",
    "    path_preds = \"C:/Users/Matt/Dropbox/SnowComp/preds/\" \n",
    "    np.save(path_preds+\"pred\"+suffix, vals)\n",
    "    full_y_og.to_csv(path_preds+\"yvals.csv\")\n",
    "    \n",
    "    #Predict and save on submission data\n",
    "    vals_sub = []\n",
    "\n",
    "    sub_dataset = torch.Tensor(sub_dataset)\n",
    "    sub_ds = TensorDataset(sub_dataset)\n",
    "    sub_loader = DataLoader(sub_ds, batch_size=50000)\n",
    "\n",
    "    with torch.no_grad():\n",
    "        for images in sub_loader:\n",
    "            vals_sub.append(my_nn(images[0]).detach().numpy()) \n",
    "\n",
    "    vals_sub = np.concatenate(vals_sub, axis = 0)        \n",
    "    np.save(path_preds+\"subpred.npy\", vals_sub)\n",
    "    \n",
    "    #calculate image quality\n",
    "    image_qual = full_x.detach().numpy()\n",
    "    image_qual = np.sum(image_qual, axis= (1,2,3))\n",
    "    np.save(path_preds +\"image_qual_train.npy\", image_qual)\n",
    "    \n",
    "    image_qual = np.sum(sub_dataset.detach().numpy(), axis= (1,2,3))\n",
    "    np.save(path_preds +\"image_qual_sub.npy\", image_qual)    \n",
    "    "
   ]
  },
  {
   "cell_type": "markdown",
   "id": "520c4033",
   "metadata": {},
   "source": [
    "## Things to check\n",
    "\n",
    "1. Accuracy measures are right\n",
    "2. Check missing value\n",
    "\n",
    "### TODO:\n",
    "- Add test set/cv\n",
    "- Batchnorm?\n",
    "- CNN benchmark"
   ]
  }
 ],
 "metadata": {
  "colab": {
   "name": "CNN.ipynb",
   "provenance": []
  },
  "kernelspec": {
   "display_name": "Python 3 (ipykernel)",
   "language": "python",
   "name": "python3"
  },
  "language_info": {
   "codemirror_mode": {
    "name": "ipython",
    "version": 3
   },
   "file_extension": ".py",
   "mimetype": "text/x-python",
   "name": "python",
   "nbconvert_exporter": "python",
   "pygments_lexer": "ipython3",
   "version": "3.9.9"
  }
 },
 "nbformat": 4,
 "nbformat_minor": 5
}
