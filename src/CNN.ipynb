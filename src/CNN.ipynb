{
 "cells": [
  {
   "cell_type": "code",
   "execution_count": 2,
   "id": "f9b5b40b",
   "metadata": {
    "id": "f9b5b40b",
    "scrolled": true
   },
   "outputs": [],
   "source": [
    "import pandas as pd\n",
    "import numpy as np\n",
    "import matplotlib.pyplot as plt\n",
    "\n",
    "from datetime import datetime\n",
    "import pickle\n",
    "import random"
   ]
  },
  {
   "cell_type": "markdown",
   "id": "0ebf6eca",
   "metadata": {
    "id": "0ebf6eca"
   },
   "source": [
    "### Load in (correct) data"
   ]
  },
  {
   "cell_type": "code",
   "execution_count": 3,
   "id": "89fc9ea2",
   "metadata": {},
   "outputs": [],
   "source": [
    "base_path = \"C:/Users/Matt/Dropbox/SnowComp/\"\n",
    "path1 = base_path+\"ModisSnowImagesT.npy\"\n",
    "path2 = base_path+\"ModisSnowImagesA.npy\"\n",
    "path3 = base_path+\"ModisSnowImages_subT.npy\"\n",
    "path4 = base_path+\"ModisSnowImages_subA.npy\"\n",
    "\n",
    "train_dataT = np.load(path1)\n",
    "train_dataA = np.load(path2)\n",
    "# sub_dataT = np.load(path3) #be careful about memory, this is about 25-30 gigs ram\n",
    "# sub_dataA = np.load(path4)\n",
    "\n",
    "#load cell ids, note Ts are correct, As are actual daynums \n",
    "path_id = \"C:/Users/Matt/Dropbox/SnowComp/cell_snow_idsT.pkl\"\n",
    "with open(path_id, 'rb') as handle:\n",
    "    cell_ids = pickle.load( handle)\n",
    "    \n",
    "train_y = pd.read_csv(\"C:/Users/Matt/Documents/Python Scripts/SnowComp/dat/train_labels.csv\")"
   ]
  },
  {
   "cell_type": "code",
   "execution_count": 4,
   "id": "b947c93d",
   "metadata": {
    "id": "b947c93d"
   },
   "outputs": [],
   "source": [
    "#labels helpers and processing\n",
    "def pivot_df(df, id_col, ignore_cols=None):\n",
    "    if not ignore_cols:\n",
    "        ignore_cols = []\n",
    "    date_cols = [x for x in df.columns if x not in [id_col] + ignore_cols]\n",
    "    dfs = []\n",
    "    for day in date_cols:\n",
    "        day_df = df[[id_col, day]].rename({day: 'snowpack'}, axis=1)\n",
    "        day_df['date'] = day\n",
    "        dfs.append(day_df)\n",
    "    return pd.concat(dfs)\n",
    "\n",
    "def daynum_gen(date_time):\n",
    "    '''converts date time objects to filename'''\n",
    "    date_time = datetime.fromisoformat(date_time)\n",
    "    doy = date_time.timetuple().tm_yday\n",
    "    year = date_time.year\n",
    "    return str(year) + '{:03d}'.format(doy)\n",
    "\n",
    "train_y = pivot_df(train_y, 'cell_id').dropna()\n",
    "train_y['date']=train_y['date'].map(daynum_gen)"
   ]
  },
  {
   "cell_type": "code",
   "execution_count": 5,
   "id": "edac2dc0",
   "metadata": {
    "id": "edac2dc0"
   },
   "outputs": [],
   "source": [
    "#sort train_y so it has correct order before stripping labels\n",
    "train_y['idx'] = train_y['cell_id'] +\"-\"+train_y['date']\n",
    "sorter = [idx +\"-\" +date for  idx, date  in cell_ids]\n",
    "train_y = train_y.set_index('idx')\n",
    "train_y = train_y.loc[sorter]\n",
    "\n",
    "#combine Aqua and Terra DSs\n",
    "dataset = np.concatenate((train_dataT[:,0:1,:,:],train_dataA[:,0:1,:,:]), axis = 1)\n",
    "# dataset = np.concatenate((train_dataT,train_dataA), axis = 1)\n",
    "\n",
    "# #delete problematic columns\n",
    "# dataset = np.delete(dataset, 3, 1) \n",
    "# dataset = np.delete(dataset, 9, 1)\n",
    "\n",
    "dataset= dataset/255"
   ]
  },
  {
   "cell_type": "markdown",
   "id": "xzy-yKA8089p",
   "metadata": {
    "id": "xzy-yKA8089p"
   },
   "source": [
    "# Basic pytorch CNN"
   ]
  },
  {
   "cell_type": "code",
   "execution_count": 6,
   "id": "4hSy2cPa0w1L",
   "metadata": {
    "cellView": "form",
    "id": "4hSy2cPa0w1L"
   },
   "outputs": [],
   "source": [
    "#@title Imports\n",
    "import torch\n",
    "import torch.nn as nn\n",
    "import torch.nn.functional as F\n",
    "import torch.optim as optim\n",
    "from torch.utils.data import TensorDataset, DataLoader\n",
    "from torch.utils.tensorboard import SummaryWriter"
   ]
  },
  {
   "cell_type": "code",
   "execution_count": 6,
   "id": "Y6LVO6sr0cNn",
   "metadata": {
    "id": "Y6LVO6sr0cNn"
   },
   "outputs": [],
   "source": [
    "# Do categorical preds to start (change)\n",
    "train_y['cat'] = train_y['snowpack'].apply(lambda x: 1 if x > 15 else 0)\n",
    "# dataset.shape, train_y.shape"
   ]
  },
  {
   "cell_type": "code",
   "execution_count": 7,
   "id": "_ZFymFE0nMRh",
   "metadata": {
    "cellView": "form",
    "id": "_ZFymFE0nMRh"
   },
   "outputs": [],
   "source": [
    "#@title Define simple CNN\n",
    "# From: https://pytorch.org/tutorials/recipes/recipes/defining_a_neural_network.html\n",
    "# Also used: https://pytorch.org/tutorials/beginner/deep_learning_60min_blitz.html\n",
    "\n",
    "START_D = 2\n",
    "START_HW = 21\n",
    "\n",
    "class Net(nn.Module):\n",
    "\n",
    "    def _conv_calc(self, in_dim, pad, stride, k):\n",
    "        out = int(np.floor((in_dim + 2 * pad - (k - 1) - 1) / stride + 1))\n",
    "        return out\n",
    "\n",
    "    def __init__(self, cdim1, cdim2, kernel_sz, dropout,\n",
    "                 ldim):\n",
    "        super(Net, self).__init__()\n",
    "        \n",
    "        self.conv1 = nn.Conv2d(2, cdim1, kernel_sz, 1)\n",
    "        c1_dim = self._conv_calc(START_HW, 0, 1, kernel_sz)\n",
    "        print('c1 dim:', c1_dim)\n",
    "        \n",
    "        self.conv2 = nn.Conv2d(cdim1, cdim2, kernel_sz, 1)\n",
    "        c2_dim = self._conv_calc(c1_dim, 0, 1, kernel_sz)\n",
    "        print('c2 dim:', c2_dim)\n",
    "        \n",
    "        self.maxpool1 = nn.MaxPool2d(2)\n",
    "        mp1_dim = self._conv_calc(c2_dim, 0, 2, 2)\n",
    "        # print('mp1 dim:', mp1_dim)\n",
    "        \n",
    "        # self.conv3 = nn.Conv2d(cdim2, cdim2, kernel_sz, 1)\n",
    "\n",
    "        self.dropout1 = nn.Dropout2d(dropout)\n",
    "        self.dropout2 = nn.Dropout2d(2 * dropout)\n",
    "\n",
    "        flattened_dim = cdim2 * mp1_dim * mp1_dim\n",
    "        print(flattened_dim)\n",
    "        self.fc1 = nn.Linear(flattened_dim, ldim)\n",
    "        # self.fc1 = nn.Linear(8192, ldim)\n",
    "        self.fc2 = nn.Linear(ldim, 1)\n",
    "\n",
    "    def forward(self, x):\n",
    "        x = self.conv1(x)\n",
    "        x = F.relu(x)\n",
    "        \n",
    "        x = self.conv2(x)\n",
    "        x = F.relu(x)\n",
    "        \n",
    "        # x = self.dropout1(x)\n",
    "        # x = self.conv3(x)\n",
    "        # x = F.relu(x)\n",
    "\n",
    "        # x = F.max_pool2d(x, 2)\n",
    "        x = self.maxpool1(x)\n",
    "        \n",
    "        # x = self.dropout1(x)\n",
    "        x = torch.flatten(x, 1)\n",
    "\n",
    "        x = self.fc1(x)\n",
    "        x = F.relu(x)\n",
    "        x = self.dropout2(x)\n",
    "        \n",
    "        output = self.fc2(x)\n",
    "        return output\n",
    "\n",
    "    \n",
    "\n",
    "\n"
   ]
  },
  {
   "cell_type": "code",
   "execution_count": 8,
   "id": "vH2t7GaryngE",
   "metadata": {
    "cellView": "form",
    "id": "vH2t7GaryngE"
   },
   "outputs": [],
   "source": [
    "#@title Helpers to get predictions and accuracy\n",
    "def predict(cnn, x, as_numpy=False):\n",
    "    device = torch.device(\"cuda:0\" if torch.cuda.is_available() else \"cpu\")\n",
    "    cnn.eval()\n",
    "    x =x.type(torch.FloatTensor).to(device)\n",
    "    output = cnn(x)\n",
    "    if as_numpy:\n",
    "        output = output.flatten().cpu().detach().numpy() #detach removes gradients (bad)\n",
    "        \n",
    "    cnn.train()\n",
    "    return output.squeeze()\n",
    "\n",
    "def get_accuracy(cnn, x, y):\n",
    "#     y = torch.from_numpy(y).to(device)\n",
    "    outputs = predict(cnn, x,as_numpy = True)\n",
    "    \n",
    "#     print(y.shape, outputs.shape)\n",
    "    loss = ((y-outputs)**2).mean()\n",
    "    return round(loss.item(), 6)\n",
    "\n"
   ]
  },
  {
   "cell_type": "code",
   "execution_count": 9,
   "id": "CzIiQX4hnMOL",
   "metadata": {
    "cellView": "form",
    "colab": {
     "base_uri": "https://localhost:8080/"
    },
    "id": "CzIiQX4hnMOL",
    "outputId": "8aeeac04-d3f3-49a8-d991-7c26fe94f061"
   },
   "outputs": [],
   "source": [
    "#@title Test run\n",
    "# my_nn = Net(cdim1=8, cdim2=8, kernel_sz=3, dropout=0.25, ldim=8)\n",
    "# optimizer = optim.Adam(my_nn.parameters(), lr=0.1)\n",
    "# optimizer.zero_grad()\n",
    "\n",
    "# test_im = torch.from_numpy(dataset[0]).reshape(1, 14, 21, 21)\n",
    "# result = my_nn(test_im.type(torch.FloatTensor))\n",
    "# result.shape\n"
   ]
  },
  {
   "cell_type": "code",
   "execution_count": 10,
   "id": "9f3b510c",
   "metadata": {},
   "outputs": [
    {
     "data": {
      "text/plain": [
       "91490"
      ]
     },
     "execution_count": 10,
     "metadata": {},
     "output_type": "execute_result"
    }
   ],
   "source": [
    "len(dataset)"
   ]
  },
  {
   "cell_type": "code",
   "execution_count": 11,
   "id": "7957c546",
   "metadata": {},
   "outputs": [],
   "source": [
    "#@title split training and testing\n",
    "\n",
    "mask = np.random.rand(len(dataset)) < 0.9\n",
    "training_data = dataset[mask]\n",
    "testing_data = dataset[~mask]"
   ]
  },
  {
   "cell_type": "code",
   "execution_count": 12,
   "id": "j9xCBXI-nMK9",
   "metadata": {
    "cellView": "form",
    "id": "j9xCBXI-nMK9"
   },
   "outputs": [],
   "source": [
    "#@title Get data loaders\n",
    "# train_dataset = TensorDataset(torch.Tensor(dataset),\n",
    "#                               torch.Tensor(train_y['snowpack']))\n",
    "# train_loader = DataLoader(train_dataset, batch_size=64)\n",
    "\n",
    "# mini_x, mini_y = np.array(dataset)[:2,], np.array(train_y['snowpack'])[:2,]\n",
    "\n",
    "test_x, test_y = np.array(dataset)[~mask], np.array(train_y['snowpack'])[~mask]\n",
    "test_x, test_y = torch.Tensor(test_x), torch.Tensor(test_y)\n",
    "test_dataset = TensorDataset(test_x,test_y)\n",
    "test_loader = DataLoader(test_dataset, batch_size = 200)\n",
    "\n",
    "mini_x, mini_y = np.array(dataset)[mask], np.array(train_y['snowpack'])[mask]\n",
    "mini_x, mini_y = torch.Tensor(mini_x), torch.Tensor(mini_y)\n",
    "\n",
    "mini_dataset = TensorDataset(mini_x,\n",
    "                              mini_y)\n",
    "mini_loader = DataLoader(mini_dataset, batch_size=200)"
   ]
  },
  {
   "cell_type": "code",
   "execution_count": 13,
   "id": "GwEGyBD2nMIR",
   "metadata": {
    "cellView": "form",
    "id": "GwEGyBD2nMIR"
   },
   "outputs": [
    {
     "name": "stdout",
     "output_type": "stream",
     "text": [
      "c1 dim: 19\n",
      "c2 dim: 17\n",
      "1536\n"
     ]
    }
   ],
   "source": [
    "#@title Setup net\n",
    "my_nn = Net(cdim1=32, cdim2=24, kernel_sz=3, dropout=0, ldim=14)\n",
    "\n",
    "device = torch.device(\"cuda:0\" if torch.cuda.is_available() else \"cpu\")\n",
    "my_nn.to(device)\n",
    "\n",
    "optimizer = optim.Adam(my_nn.parameters(), lr=0.001)\n",
    "criterion = nn.MSELoss(reduction = 'sum')\n",
    "\n",
    "writer = SummaryWriter('runs/cnn_full')\n",
    "write_index = 0\n",
    "\n",
    "\n"
   ]
  },
  {
   "cell_type": "code",
   "execution_count": 14,
   "id": "rZKIBpS5nMAZ",
   "metadata": {
    "cellView": "form",
    "colab": {
     "base_uri": "https://localhost:8080/"
    },
    "id": "rZKIBpS5nMAZ",
    "outputId": "40e82096-4e7c-42b9-9b24-2e38d7fb1bec",
    "scrolled": true
   },
   "outputs": [
    {
     "ename": "RuntimeError",
     "evalue": "CUDA out of memory. Tried to allocate 3.54 GiB (GPU 0; 8.00 GiB total capacity; 3.82 GiB already allocated; 1.40 GiB free; 3.82 GiB reserved in total by PyTorch) If reserved memory is >> allocated memory try setting max_split_size_mb to avoid fragmentation.  See documentation for Memory Management and PYTORCH_CUDA_ALLOC_CONF",
     "output_type": "error",
     "traceback": [
      "\u001b[1;31m---------------------------------------------------------------------------\u001b[0m",
      "\u001b[1;31mRuntimeError\u001b[0m                              Traceback (most recent call last)",
      "Input \u001b[1;32mIn [14]\u001b[0m, in \u001b[0;36m<module>\u001b[1;34m\u001b[0m\n\u001b[0;32m     24\u001b[0m         writer\u001b[38;5;241m.\u001b[39madd_scalar(\u001b[38;5;124m'\u001b[39m\u001b[38;5;124mLoss/train\u001b[39m\u001b[38;5;124m'\u001b[39m, running_loss , write_index)\n\u001b[0;32m     25\u001b[0m     write_index \u001b[38;5;241m+\u001b[39m\u001b[38;5;241m=\u001b[39m \u001b[38;5;241m1\u001b[39m\n\u001b[1;32m---> 27\u001b[0m val_acc \u001b[38;5;241m=\u001b[39m \u001b[43mget_accuracy\u001b[49m\u001b[43m(\u001b[49m\u001b[43mmy_nn\u001b[49m\u001b[43m,\u001b[49m\u001b[43m \u001b[49m\u001b[43mmini_x\u001b[49m\u001b[43m,\u001b[49m\u001b[43m \u001b[49m\u001b[43mmini_y\u001b[49m\u001b[43m)\u001b[49m\n\u001b[0;32m     28\u001b[0m writer\u001b[38;5;241m.\u001b[39madd_scalar(\u001b[38;5;124m'\u001b[39m\u001b[38;5;124mAcc/val\u001b[39m\u001b[38;5;124m'\u001b[39m, val_acc, write_index)\n\u001b[0;32m     29\u001b[0m \u001b[38;5;28mprint\u001b[39m(epoch, \u001b[38;5;124m'\u001b[39m\u001b[38;5;124m/\u001b[39m\u001b[38;5;124m'\u001b[39m, N_EPOCHS, \u001b[38;5;124m'\u001b[39m\u001b[38;5;124mcomplete\u001b[39m\u001b[38;5;124m'\u001b[39m, val_acc, running_loss )\n",
      "Input \u001b[1;32mIn [8]\u001b[0m, in \u001b[0;36mget_accuracy\u001b[1;34m(cnn, x, y)\u001b[0m\n\u001b[0;32m     13\u001b[0m \u001b[38;5;28;01mdef\u001b[39;00m \u001b[38;5;21mget_accuracy\u001b[39m(cnn, x, y):\n\u001b[0;32m     14\u001b[0m \u001b[38;5;66;03m#     y = torch.from_numpy(y).to(device)\u001b[39;00m\n\u001b[1;32m---> 15\u001b[0m     outputs \u001b[38;5;241m=\u001b[39m \u001b[43mpredict\u001b[49m\u001b[43m(\u001b[49m\u001b[43mcnn\u001b[49m\u001b[43m,\u001b[49m\u001b[43m \u001b[49m\u001b[43mx\u001b[49m\u001b[43m,\u001b[49m\u001b[43mas_numpy\u001b[49m\u001b[43m \u001b[49m\u001b[38;5;241;43m=\u001b[39;49m\u001b[43m \u001b[49m\u001b[38;5;28;43;01mTrue\u001b[39;49;00m\u001b[43m)\u001b[49m\n\u001b[0;32m     17\u001b[0m \u001b[38;5;66;03m#     print(y.shape, outputs.shape)\u001b[39;00m\n\u001b[0;32m     18\u001b[0m     loss \u001b[38;5;241m=\u001b[39m ((y\u001b[38;5;241m-\u001b[39moutputs)\u001b[38;5;241m*\u001b[39m\u001b[38;5;241m*\u001b[39m\u001b[38;5;241m2\u001b[39m)\u001b[38;5;241m.\u001b[39mmean()\n",
      "Input \u001b[1;32mIn [8]\u001b[0m, in \u001b[0;36mpredict\u001b[1;34m(cnn, x, as_numpy)\u001b[0m\n\u001b[0;32m      4\u001b[0m cnn\u001b[38;5;241m.\u001b[39meval()\n\u001b[0;32m      5\u001b[0m x \u001b[38;5;241m=\u001b[39mx\u001b[38;5;241m.\u001b[39mtype(torch\u001b[38;5;241m.\u001b[39mFloatTensor)\u001b[38;5;241m.\u001b[39mto(device)\n\u001b[1;32m----> 6\u001b[0m output \u001b[38;5;241m=\u001b[39m \u001b[43mcnn\u001b[49m\u001b[43m(\u001b[49m\u001b[43mx\u001b[49m\u001b[43m)\u001b[49m\n\u001b[0;32m      7\u001b[0m \u001b[38;5;28;01mif\u001b[39;00m as_numpy:\n\u001b[0;32m      8\u001b[0m     output \u001b[38;5;241m=\u001b[39m output\u001b[38;5;241m.\u001b[39mflatten()\u001b[38;5;241m.\u001b[39mcpu()\u001b[38;5;241m.\u001b[39mdetach()\u001b[38;5;241m.\u001b[39mnumpy() \u001b[38;5;66;03m#detach removes gradients (bad)\u001b[39;00m\n",
      "File \u001b[1;32m~\\miniconda3\\envs\\pytorch\\lib\\site-packages\\torch\\nn\\modules\\module.py:1102\u001b[0m, in \u001b[0;36mModule._call_impl\u001b[1;34m(self, *input, **kwargs)\u001b[0m\n\u001b[0;32m   1098\u001b[0m \u001b[38;5;66;03m# If we don't have any hooks, we want to skip the rest of the logic in\u001b[39;00m\n\u001b[0;32m   1099\u001b[0m \u001b[38;5;66;03m# this function, and just call forward.\u001b[39;00m\n\u001b[0;32m   1100\u001b[0m \u001b[38;5;28;01mif\u001b[39;00m \u001b[38;5;129;01mnot\u001b[39;00m (\u001b[38;5;28mself\u001b[39m\u001b[38;5;241m.\u001b[39m_backward_hooks \u001b[38;5;129;01mor\u001b[39;00m \u001b[38;5;28mself\u001b[39m\u001b[38;5;241m.\u001b[39m_forward_hooks \u001b[38;5;129;01mor\u001b[39;00m \u001b[38;5;28mself\u001b[39m\u001b[38;5;241m.\u001b[39m_forward_pre_hooks \u001b[38;5;129;01mor\u001b[39;00m _global_backward_hooks\n\u001b[0;32m   1101\u001b[0m         \u001b[38;5;129;01mor\u001b[39;00m _global_forward_hooks \u001b[38;5;129;01mor\u001b[39;00m _global_forward_pre_hooks):\n\u001b[1;32m-> 1102\u001b[0m     \u001b[38;5;28;01mreturn\u001b[39;00m forward_call(\u001b[38;5;241m*\u001b[39m\u001b[38;5;28minput\u001b[39m, \u001b[38;5;241m*\u001b[39m\u001b[38;5;241m*\u001b[39mkwargs)\n\u001b[0;32m   1103\u001b[0m \u001b[38;5;66;03m# Do not call functions when jit is used\u001b[39;00m\n\u001b[0;32m   1104\u001b[0m full_backward_hooks, non_full_backward_hooks \u001b[38;5;241m=\u001b[39m [], []\n",
      "Input \u001b[1;32mIn [7]\u001b[0m, in \u001b[0;36mNet.forward\u001b[1;34m(self, x)\u001b[0m\n\u001b[0;32m     41\u001b[0m \u001b[38;5;28;01mdef\u001b[39;00m \u001b[38;5;21mforward\u001b[39m(\u001b[38;5;28mself\u001b[39m, x):\n\u001b[0;32m     42\u001b[0m     x \u001b[38;5;241m=\u001b[39m \u001b[38;5;28mself\u001b[39m\u001b[38;5;241m.\u001b[39mconv1(x)\n\u001b[1;32m---> 43\u001b[0m     x \u001b[38;5;241m=\u001b[39m \u001b[43mF\u001b[49m\u001b[38;5;241;43m.\u001b[39;49m\u001b[43mrelu\u001b[49m\u001b[43m(\u001b[49m\u001b[43mx\u001b[49m\u001b[43m)\u001b[49m\n\u001b[0;32m     45\u001b[0m     x \u001b[38;5;241m=\u001b[39m \u001b[38;5;28mself\u001b[39m\u001b[38;5;241m.\u001b[39mconv2(x)\n\u001b[0;32m     46\u001b[0m     x \u001b[38;5;241m=\u001b[39m F\u001b[38;5;241m.\u001b[39mrelu(x)\n",
      "File \u001b[1;32m~\\miniconda3\\envs\\pytorch\\lib\\site-packages\\torch\\nn\\functional.py:1299\u001b[0m, in \u001b[0;36mrelu\u001b[1;34m(input, inplace)\u001b[0m\n\u001b[0;32m   1297\u001b[0m     result \u001b[38;5;241m=\u001b[39m torch\u001b[38;5;241m.\u001b[39mrelu_(\u001b[38;5;28minput\u001b[39m)\n\u001b[0;32m   1298\u001b[0m \u001b[38;5;28;01melse\u001b[39;00m:\n\u001b[1;32m-> 1299\u001b[0m     result \u001b[38;5;241m=\u001b[39m \u001b[43mtorch\u001b[49m\u001b[38;5;241;43m.\u001b[39;49m\u001b[43mrelu\u001b[49m\u001b[43m(\u001b[49m\u001b[38;5;28;43minput\u001b[39;49m\u001b[43m)\u001b[49m\n\u001b[0;32m   1300\u001b[0m \u001b[38;5;28;01mreturn\u001b[39;00m result\n",
      "\u001b[1;31mRuntimeError\u001b[0m: CUDA out of memory. Tried to allocate 3.54 GiB (GPU 0; 8.00 GiB total capacity; 3.82 GiB already allocated; 1.40 GiB free; 3.82 GiB reserved in total by PyTorch) If reserved memory is >> allocated memory try setting max_split_size_mb to avoid fragmentation.  See documentation for Memory Management and PYTORCH_CUDA_ALLOC_CONF"
     ]
    }
   ],
   "source": [
    "N_EPOCHS = 5\n",
    "\n",
    "test_loss = []\n",
    "train_loss = []\n",
    "\n",
    "#@title Run net\n",
    "for epoch in range(N_EPOCHS):\n",
    "    running_loss = 0.0\n",
    "    for i, data in enumerate(mini_loader, 0):\n",
    "        optimizer.zero_grad()\n",
    "        inputs, labels = data[0].to(device), data[1].to(device)\n",
    "\n",
    "        outputs = my_nn(inputs).squeeze()\n",
    "#         print(outputs.shape, labels.shape)\n",
    "        loss = criterion(outputs, labels)\n",
    "        loss.backward()\n",
    "        optimizer.step()\n",
    "#         for name, param in my_nn.named_parameters():\n",
    "#             print(name, param.grad.abs().sum())\n",
    "\n",
    "        train_loss.append(loss)\n",
    "        running_loss += loss.item()\n",
    "        if (i + 1) % 100 == 0:\n",
    "            writer.add_scalar('Loss/train', running_loss , write_index)\n",
    "        write_index += 1\n",
    "\n",
    "#     val_acc = get_accuracy(my_nn, mini_x, mini_y)\n",
    "    mse = loss/\n",
    "    writer.add_scalar('Acc/val', val_acc, write_index)\n",
    "    print(epoch, '/', N_EPOCHS, 'complete', val_acc, running_loss )\n",
    "\n",
    "    #calculate test loss.\n",
    "    with torch.no_grad():\n",
    "        test_loss.append(get_accuracy(my_nn, test_x, test_y.to(device)))\n",
    "        \n",
    "            \n",
    "            \n",
    "            \n",
    "\n",
    "    \n",
    "    \n",
    "writer.close()\n",
    "print('Finished Training')"
   ]
  },
  {
   "cell_type": "code",
   "execution_count": 15,
   "id": "bc0c97a0",
   "metadata": {},
   "outputs": [],
   "source": [
    "torch.cuda.empty_cache()"
   ]
  },
  {
   "cell_type": "markdown",
   "id": "47e00e48",
   "metadata": {},
   "source": [
    "### Checking accuracy"
   ]
  },
  {
   "cell_type": "code",
   "execution_count": null,
   "id": "51b96b74",
   "metadata": {},
   "outputs": [],
   "source": [
    "# my_nn = my_nn.to(device)"
   ]
  },
  {
   "cell_type": "code",
   "execution_count": null,
   "id": "de3e80bb",
   "metadata": {},
   "outputs": [],
   "source": [
    "my_nn = my_nn.to('cpu')\n",
    "vals = my_nn(mini_x)\n",
    "\n",
    "vals"
   ]
  },
  {
   "cell_type": "code",
   "execution_count": null,
   "id": "e7fd314b",
   "metadata": {},
   "outputs": [],
   "source": [
    "mini_y"
   ]
  },
  {
   "cell_type": "code",
   "execution_count": null,
   "id": "ca7eb1d4",
   "metadata": {},
   "outputs": [],
   "source": [
    "np.sqrt(((vals.detach().numpy().flatten()  - mini_y.numpy())**2).mean())"
   ]
  },
  {
   "cell_type": "code",
   "execution_count": null,
   "id": "2fb12a79",
   "metadata": {},
   "outputs": [],
   "source": [
    "vals.detach().numpy()"
   ]
  },
  {
   "cell_type": "markdown",
   "id": "520c4033",
   "metadata": {},
   "source": [
    "## Things to check\n",
    "\n",
    "1. Accuracy measures are right\n",
    "2. Check missing value\n",
    "\n",
    "### TODO:\n",
    "- Add test set/cv\n",
    "- Batchnorm?\n",
    "- CNN benchmark"
   ]
  },
  {
   "cell_type": "code",
   "execution_count": null,
   "id": "129b9c28",
   "metadata": {},
   "outputs": [],
   "source": []
  }
 ],
 "metadata": {
  "colab": {
   "name": "CNN.ipynb",
   "provenance": []
  },
  "kernelspec": {
   "display_name": "Python 3 (ipykernel)",
   "language": "python",
   "name": "python3"
  },
  "language_info": {
   "codemirror_mode": {
    "name": "ipython",
    "version": 3
   },
   "file_extension": ".py",
   "mimetype": "text/x-python",
   "name": "python",
   "nbconvert_exporter": "python",
   "pygments_lexer": "ipython3",
   "version": "3.9.9"
  }
 },
 "nbformat": 4,
 "nbformat_minor": 5
}
