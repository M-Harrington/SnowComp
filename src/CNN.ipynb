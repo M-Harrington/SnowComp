{
 "cells": [
  {
   "cell_type": "code",
   "execution_count": 1,
   "id": "f9b5b40b",
   "metadata": {
    "id": "f9b5b40b",
    "scrolled": true
   },
   "outputs": [],
   "source": [
    "import pandas as pd\n",
    "import numpy as np\n",
    "import matplotlib.pyplot as plt\n",
    "\n",
    "from datetime import datetime\n",
    "import pickle\n",
    "import random\n",
    "\n",
    "rng = np.random.default_rng(926834)"
   ]
  },
  {
   "cell_type": "code",
   "execution_count": 2,
   "id": "db4edd51",
   "metadata": {},
   "outputs": [],
   "source": [
    "#labels helpers and processing\n",
    "def pivot_df(df, id_col, ignore_cols=None):\n",
    "    if not ignore_cols:\n",
    "        ignore_cols = []\n",
    "    date_cols = [x for x in df.columns if x not in [id_col] + ignore_cols]\n",
    "    dfs = []\n",
    "    for day in date_cols:\n",
    "        day_df = df[[id_col, day]].rename({day: 'snowpack'}, axis=1)\n",
    "        day_df['date'] = day\n",
    "        dfs.append(day_df)\n",
    "    return pd.concat(dfs)\n",
    "\n",
    "def daynum_gen(date_time):\n",
    "    '''converts date time objects to filename'''\n",
    "    date_time = datetime.fromisoformat(date_time)\n",
    "    doy = date_time.timetuple().tm_yday\n",
    "    year = date_time.year\n",
    "    return str(year) + '{:03d}'.format(doy)"
   ]
  },
  {
   "cell_type": "markdown",
   "id": "0ebf6eca",
   "metadata": {
    "id": "0ebf6eca"
   },
   "source": [
    "### Load data"
   ]
  },
  {
   "cell_type": "code",
   "execution_count": 3,
   "id": "89fc9ea2",
   "metadata": {},
   "outputs": [],
   "source": [
    "base_path = \"C:/Users/Matt/Dropbox/SnowComp/\"\n",
    "path1 = base_path+\"ModisSnowImagesT.npy\"\n",
    "path2 = base_path+\"ModisSnowImagesA.npy\"\n",
    "path3 = base_path+\"ModisSnowImages_subT.npy\"\n",
    "path4 = base_path+\"ModisSnowImages_subA.npy\"\n",
    "\n",
    "#submission small\n",
    "path5 =base_path +\"ModisSnowImages_subAT_small.npy\"\n",
    "path6 =base_path +\"ModisSnowImages_AT_small.npy\"\n",
    "\n",
    "#train_features\n",
    "path7 =base_path + \"ModisSnowImages_trainfeat_T.npy\"\n",
    "path8 =base_path + \"ModisSnowImages_trainfeat_A.npy\"\n",
    "\n",
    "#test_features\n",
    "path9 =base_path + \"ModisSnowImages_testfeat_T.npy\"\n",
    "path10=base_path + \"ModisSnowImages_testfeat_A.npy\""
   ]
  },
  {
   "cell_type": "code",
   "execution_count": 4,
   "id": "2ef7e747",
   "metadata": {},
   "outputs": [],
   "source": [
    "#load cell ids, note Ts are correct, As are actual daynums \n",
    "path_id = \"C:/Users/Matt/Dropbox/SnowComp/cell_snow_idsT.pkl\"\n",
    "with open(path_id, 'rb') as handle:\n",
    "    cell_ids = pickle.load( handle)\n",
    "\n",
    "path_id = \"C:/Users/Matt/Dropbox/SnowComp/cell_snow_ids_trainfeat.pkl\"\n",
    "with open(path_id, 'rb') as handle:\n",
    "    cell_ids_train = pickle.load(handle)\n",
    "    \n",
    "path_id = \"C:/Users/Matt/Dropbox/SnowComp/cell_snow_ids_testfeat.pkl\"\n",
    "with open(path_id, 'rb') as handle:\n",
    "    cell_ids_test = pickle.load( handle)"
   ]
  },
  {
   "cell_type": "code",
   "execution_count": 5,
   "id": "78b91790",
   "metadata": {},
   "outputs": [],
   "source": [
    "# #Assemble submission dataset\n",
    "# sub_dataT = np.load(path3) #be careful about memory, this is about 25-30 gigs ram\n",
    "# sub_dataA = np.load(path4)\n",
    "\n",
    "# sub_dataset = np.concatenate((sub_dataT[:,0:1,:,:],sub_dataA[:,0:1,:,:]), axis = 1)\n",
    "# sub_dataset = sub_dataset/255\n",
    "# np.save(path5,sub_dataset)\n",
    "\n",
    "# sub_dataset = torch.Tensor(sub_dataset)\n",
    "# del sub_dataT, sub_dataA"
   ]
  },
  {
   "cell_type": "markdown",
   "id": "496fd479",
   "metadata": {},
   "source": [
    "#### Read in and process `train_label` data"
   ]
  },
  {
   "cell_type": "code",
   "execution_count": 6,
   "id": "edac2dc0",
   "metadata": {
    "id": "edac2dc0"
   },
   "outputs": [],
   "source": [
    "train_y = pd.read_csv(\"C:/Users/Matt/Documents/Python Scripts/SnowComp/dat/train_labels.csv\")\n",
    "train_y = pivot_df(train_y, 'cell_id').dropna()\n",
    "train_y['date']=train_y['date'].map(daynum_gen)\n",
    "\n",
    "#sort train_y so it has correct order before stripping labels\n",
    "sorter = [idx +\"-\" +date for  idx, date  in cell_ids]\n",
    "# with open(base_path + \"train_idorder.pkl\", 'wb') as handle:\n",
    "#     pickle.dump(sorter, handle)\n",
    "\n",
    "train_y['idx'] = train_y['cell_id'] +\"-\"+train_y['date']\n",
    "train_y = train_y.set_index('idx')\n",
    "train_y = train_y.loc[sorter]"
   ]
  },
  {
   "cell_type": "code",
   "execution_count": 7,
   "id": "5ab00406",
   "metadata": {},
   "outputs": [],
   "source": [
    "#combine Aqua and Terra DSs\n",
    "train_dataT = np.load(path1)\n",
    "train_dataA = np.load(path2)\n",
    "\n",
    "dataset = np.concatenate((train_dataT[:,0:1,:,:],train_dataA[:,0:1,:,:]), axis = 1)\n",
    "# dataset = np.concatenate((train_dataT[:,(0,4),:,:],train_dataA[:,(0,4),:,:]), axis = 1)\n",
    "# dataset = np.concatenate((train_dataT,train_dataA), axis = 1)\n",
    "START_D = dataset.shape[1]\n",
    "\n",
    "dataset= dataset/255\n",
    "# np.save(path6,dataset)\n",
    "\n",
    "del train_dataT\n",
    "del train_dataA"
   ]
  },
  {
   "cell_type": "markdown",
   "id": "37bf2444",
   "metadata": {},
   "source": [
    "#### Read in and order `train_features` data "
   ]
  },
  {
   "cell_type": "code",
   "execution_count": 8,
   "id": "7f31d039",
   "metadata": {
    "id": "edac2dc0"
   },
   "outputs": [],
   "source": [
    "train_feat = pd.read_csv(\"C:/Users/Matt/Documents/Python Scripts/SnowComp/dat/ground_measures_train_features.csv\")\n",
    "train_feat = train_feat.rename(columns={\"Unnamed: 0\":\"cell_id\"})\n",
    "train_feat = pivot_df(train_feat, 'cell_id').dropna()\n",
    "train_feat['date']=train_feat['date'].map(daynum_gen)\n",
    "\n",
    "#sort train_feat so it has correct order before stripping labels\n",
    "sorter = [idx +\"-\" +date for  idx, date  in cell_ids_train]\n",
    "with open(base_path + \"trainfeat_idorder.pkl\", 'wb') as handle:\n",
    "    pickle.dump(sorter, handle)\n",
    "\n",
    "train_feat['idx'] = train_feat['cell_id'] +\"-\"+train_feat['date']\n",
    "train_feat = train_feat.set_index('idx')\n",
    "train_feat = train_feat.loc[sorter]"
   ]
  },
  {
   "cell_type": "code",
   "execution_count": 9,
   "id": "8613c473",
   "metadata": {},
   "outputs": [],
   "source": [
    "#combine Aqua and Terra DSs\n",
    "train_feat_dataT = np.load(path7)\n",
    "train_feat_dataA = np.load(path8)\n",
    "\n",
    "dataset_temp = np.concatenate((train_feat_dataT[:,0:1,:,:],train_feat_dataA[:,0:1,:,:]), axis = 1)\n",
    "# dataset_temp = np.concatenate((train_feat_dataT[:,(0,4),:,:],train_feat_dataA[:,(0,4),:,:]), axis = 1)\n",
    "# dataset_temp = np.concatenate((train_feat_dataT,train_feat_dataA), axis = 1)\n",
    "\n",
    "dataset_temp= dataset_temp/255\n",
    "# np.save(path6,dataset_temp)\n",
    "\n",
    "del train_feat_dataT, train_feat_dataA"
   ]
  },
  {
   "cell_type": "markdown",
   "id": "08b069a2",
   "metadata": {},
   "source": [
    "#### Read in and order `test_features` data"
   ]
  },
  {
   "cell_type": "code",
   "execution_count": 10,
   "id": "69c52ba7",
   "metadata": {},
   "outputs": [],
   "source": [
    "y_test = pd.read_csv(\"C:/Users/Matt/Documents/Python Scripts/SnowComp/dat/ground_measures_test_features.csv\")\n",
    "y_test = y_test.rename(columns={\"Unnamed: 0\":\"cell_id\"})\n",
    "y_test = pivot_df(y_test, 'cell_id').dropna()\n",
    "y_test['date']=y_test['date'].map(daynum_gen)\n",
    "\n",
    "#sort train_feat so it has correct order before stripping labels\n",
    "sorter = [idx +\"-\" +date for  idx, date  in cell_ids_test]\n",
    "with open(base_path + \"testfeat_idorder.pkl\", 'wb') as handle:\n",
    "    pickle.dump(sorter, handle)\n",
    "\n",
    "y_test['idx'] = y_test['cell_id'] +\"-\"+y_test['date']\n",
    "y_test = y_test.set_index('idx')\n",
    "y_test = y_test.loc[sorter]"
   ]
  },
  {
   "cell_type": "code",
   "execution_count": 11,
   "id": "a8712a2d",
   "metadata": {},
   "outputs": [],
   "source": [
    "#combine Aqua and Terra DSs\n",
    "test_feat_dataT = np.load(path9)\n",
    "test_feat_dataA = np.load(path10)\n",
    "\n",
    "dataset_test = np.concatenate((test_feat_dataT[:,0:1,:,:],test_feat_dataA[:,0:1,:,:]), axis = 1)\n",
    "# dataset_temp = np.concatenate((test_feat_dataT[:,(0,4),:,:],test_feat_dataA[:,(0,4),:,:]), axis = 1)\n",
    "# dataset_temp = np.concatenate((test_feat_dataT,test_feat_dataA), axis = 1)\n",
    "\n",
    "dataset_test= dataset_test/255\n",
    "# np.save(path6,dataset_temp)\n",
    "\n",
    "del test_feat_dataT, test_feat_dataA"
   ]
  },
  {
   "cell_type": "markdown",
   "id": "aa2c4664",
   "metadata": {},
   "source": [
    "Holdout 15% of `train_labels` and smoosh everything together"
   ]
  },
  {
   "cell_type": "code",
   "execution_count": 12,
   "id": "e279de24",
   "metadata": {},
   "outputs": [
    {
     "name": "stdout",
     "output_type": "stream",
     "text": [
      "(77718, 2, 21, 21)\n",
      "(13772, 2, 21, 21)\n",
      "(13772, 3)\n",
      "(77718, 3)\n"
     ]
    }
   ],
   "source": [
    "#holdout \n",
    "mask = rng.random(len(dataset)) < 0.85\n",
    "\n",
    "test_grid = dataset[~mask]\n",
    "dataset = dataset[mask]\n",
    "test_grid_y = train_y[~mask]\n",
    "train_y = train_y[mask]\n",
    "\n",
    "print(dataset.shape)\n",
    "print(test_grid.shape)\n",
    "print(test_grid_y.shape)\n",
    "print(train_y.shape)"
   ]
  },
  {
   "cell_type": "code",
   "execution_count": 13,
   "id": "d085bceb",
   "metadata": {},
   "outputs": [],
   "source": [
    "#training data\n",
    "train_dataset = np.concatenate((dataset,\n",
    "                   dataset_temp), axis = 0)\n",
    "train_y = pd.concat((train_y, train_feat),\n",
    "                    axis = 0)\n",
    "\n",
    "train_y = train_y.reset_index(drop=True)\n",
    "del dataset_temp, train_feat\n",
    "\n",
    "#shuffle\n",
    "p =rng.permutation(len(train_dataset))\n",
    "train_y = train_y.loc[p]\n",
    "train_dataset = train_dataset[p]"
   ]
  },
  {
   "cell_type": "code",
   "execution_count": 14,
   "id": "d2458a78",
   "metadata": {},
   "outputs": [],
   "source": [
    "#test data\n",
    "dataset_test = np.concatenate((dataset_test, test_grid),\n",
    "                              axis = 0) \n",
    "y_test = pd.concat((y_test, test_grid_y),\n",
    "                    axis = 0)\n",
    "\n",
    "y_test = y_test.reset_index(drop=True)\n",
    "del test_grid_y, test_grid\n",
    "\n",
    "#shuffle\n",
    "p =rng.permutation(len(dataset_test))\n",
    "y_test = y_test.loc[p]\n",
    "dataset_test = dataset_test[p]"
   ]
  },
  {
   "cell_type": "code",
   "execution_count": 15,
   "id": "737ae7c2",
   "metadata": {},
   "outputs": [],
   "source": [
    "data_path = \"C:/Users/Matt/Dropbox/SnowComp/FinalData/\"\n",
    "\n",
    "train_y.to_csv(data_path + \"train_y.csv\", index = False)\n",
    "y_test.to_csv(data_path + \"test_y.csv\", index = False)\n",
    "\n",
    "np.save(data_path + \"train_dataset.npy\", train_dataset)\n",
    "np.save(data_path + \"test_datast.npy\", dataset_test)"
   ]
  },
  {
   "cell_type": "markdown",
   "id": "88834917",
   "metadata": {},
   "source": [
    "## Translate to Pytorch datatypes and validation\n",
    "\n",
    "Redefine train and testing datasets "
   ]
  },
  {
   "cell_type": "code",
   "execution_count": 16,
   "id": "0df3a049",
   "metadata": {
    "cellView": "form",
    "id": "4hSy2cPa0w1L"
   },
   "outputs": [],
   "source": [
    "#@title Imports\n",
    "import torch\n",
    "import torch.nn as nn\n",
    "import torch.nn.functional as F\n",
    "import torch.optim as optim\n",
    "from torch.utils.data import TensorDataset, DataLoader\n",
    "from torch.utils.tensorboard import SummaryWriter"
   ]
  },
  {
   "cell_type": "code",
   "execution_count": 17,
   "id": "9a8cdb1e",
   "metadata": {},
   "outputs": [],
   "source": [
    "#@title split training and testing\n",
    "training_data = train_dataset\n",
    "testing_data = dataset_test\n",
    "train_rows = len(training_data)\n",
    "test_rows = len(testing_data)"
   ]
  },
  {
   "cell_type": "code",
   "execution_count": 18,
   "id": "68ac5760",
   "metadata": {
    "cellView": "form",
    "id": "j9xCBXI-nMK9"
   },
   "outputs": [],
   "source": [
    "#@title Get data loaders\n",
    "test_x, test_y = dataset_test, np.array(y_test['snowpack'])\n",
    "test_x, test_y = torch.Tensor(test_x), torch.Tensor(test_y)\n",
    "test_dataset = TensorDataset(test_x,test_y)\n",
    "test_loader = DataLoader(test_dataset, batch_size = 256)\n",
    "\n",
    "mini_x, mini_y = train_dataset, np.array(train_y['snowpack'])\n",
    "mini_x, mini_y = torch.Tensor(mini_x), torch.Tensor(mini_y)\n",
    "\n",
    "mini_dataset = TensorDataset(mini_x,\n",
    "                              mini_y)\n",
    "mini_loader = DataLoader(mini_dataset, batch_size=256)"
   ]
  },
  {
   "cell_type": "markdown",
   "id": "xzy-yKA8089p",
   "metadata": {
    "id": "xzy-yKA8089p"
   },
   "source": [
    "# CNN"
   ]
  },
  {
   "cell_type": "code",
   "execution_count": 19,
   "id": "_ZFymFE0nMRh",
   "metadata": {
    "cellView": "form",
    "id": "_ZFymFE0nMRh"
   },
   "outputs": [],
   "source": [
    "#@title Define simple CNN\n",
    "# From: https://pytorch.org/tutorials/recipes/recipes/defining_a_neural_network.html\n",
    "# Also used: https://pytorch.org/tutorials/beginner/deep_learning_60min_blitz.html\n",
    "\n",
    "START_HW = 21\n",
    "\n",
    "class Net(nn.Module):\n",
    "\n",
    "    def _conv_calc(self, in_dim, pad, stride, k):\n",
    "        out = int(np.floor((in_dim + 2 * pad - (k - 1) - 1) / stride + 1))\n",
    "        return out\n",
    "\n",
    "    def __init__(self, cdim1, cdim2,cdim3, kernel_sz, dropout,\n",
    "                 ldim, print_dim = True):\n",
    "        super(Net, self).__init__()\n",
    "        \n",
    "        #first layer\n",
    "        self.conv1 = nn.Conv2d(START_D, cdim1, kernel_sz, 1)\n",
    "        self.avgpool = nn.AvgPool2d(3, stride= 1)\n",
    "        \n",
    "        c1_dim = self._conv_calc(START_HW, 0, 1, kernel_sz)\n",
    "        mp0_dim = self._conv_calc(c1_dim, 0, 1, 3)\n",
    "        \n",
    "        #second layer\n",
    "        self.conv2 = nn.Conv2d(cdim1, cdim2, kernel_sz, 1)\n",
    "        c2_dim = self._conv_calc(mp0_dim, 0, 1, kernel_sz)\n",
    "        mp1_dim = self._conv_calc(c2_dim, 0, 1, 3)\n",
    "        \n",
    "        \n",
    "        #third layer\n",
    "        self.conv3 = nn.Conv2d(cdim2, cdim3, kernel_sz, 1)\n",
    "        c3_dim = self._conv_calc(mp1_dim, 0, 1, kernel_sz)\n",
    "        mp2_dim = self._conv_calc(c3_dim, 0, 1, 3)\n",
    "        \n",
    "        #fourth layer\n",
    "        flattened_dim = cdim3 * mp2_dim * mp2_dim\n",
    "        self.fc1 = nn.Linear(flattened_dim, ldim)\n",
    "        self.fc2 = nn.Linear(ldim, 1)\n",
    "\n",
    "        #extras\n",
    "        self.dropout1 = nn.Dropout2d(dropout)\n",
    "        self.dropout2 = nn.Dropout2d(dropout*2)\n",
    "        self.BatchNorm1 = nn.BatchNorm2d(cdim1)\n",
    "        self.BatchNorm3 = nn.BatchNorm2d(cdim3)\n",
    "        \n",
    "        if print_dim:\n",
    "            print('c1 dim:', c1_dim)\n",
    "            print('mp0 dim:', mp0_dim)\n",
    "            print('c2 dim:', c2_dim)\n",
    "            print('mp1 dim:', mp1_dim)\n",
    "            print('c3 dim:', c3_dim)\n",
    "            print('mp2 dim:', mp2_dim)\n",
    "            print('flattened_dim',flattened_dim)\n",
    "        \n",
    "        \n",
    "    def forward(self, x):\n",
    "        #first layer\n",
    "        x = self.conv1(x)\n",
    "#         x = torch.tanh(x)\n",
    "        x = F.relu(x)\n",
    "        x = self.BatchNorm1(x)\n",
    "        x = self.avgpool(x)\n",
    "        \n",
    "        #second layer\n",
    "        x = self.dropout1(x)\n",
    "        x = self.conv2(x)\n",
    "#         x = torch.tanh(x)\n",
    "        x = F.relu(x)\n",
    "        x = self.avgpool(x)\n",
    "        \n",
    "        #third layer\n",
    "        x = self.dropout2(x)\n",
    "        x = self.conv3(x)\n",
    "        x = torch.tanh(x)\n",
    "        x = F.relu(x)\n",
    "        x = self.BatchNorm3(x)\n",
    "        x = self.avgpool(x)\n",
    "        \n",
    "        #fourth layer\n",
    "        x = torch.flatten(x, 1)\n",
    "        x = self.fc1(x)\n",
    "        x = F.relu(x)\n",
    "        \n",
    "        output = self.fc2(x)\n",
    "        return output\n",
    "\n",
    "    \n",
    "\n",
    "\n"
   ]
  },
  {
   "cell_type": "code",
   "execution_count": 20,
   "id": "vH2t7GaryngE",
   "metadata": {
    "cellView": "form",
    "id": "vH2t7GaryngE"
   },
   "outputs": [],
   "source": [
    "#@title Helpers to get predictions and accuracy\n",
    "def predict(cnn, x, as_numpy=False):\n",
    "    device = torch.device(\"cuda:0\" if torch.cuda.is_available() else \"cpu\")\n",
    "    cnn.eval()\n",
    "    x =x.type(torch.FloatTensor).to(device)\n",
    "    output = cnn(x)\n",
    "    if as_numpy:\n",
    "        output = output.flatten().cpu().detach().numpy() #detach removes gradients (bad)\n",
    "        \n",
    "    cnn.train()\n",
    "    return output.squeeze()\n",
    "\n",
    "def get_accuracy(cnn, x, y):\n",
    "#     y = torch.from_numpy(y).to(device)\n",
    "    outputs = predict(cnn, x,as_numpy = False)\n",
    "    \n",
    "#     print(y.shape, outputs.shape)\n",
    "    loss = ((y-outputs)**2).sum()\n",
    "    return round(loss.item(), 6)\n",
    "\n"
   ]
  },
  {
   "cell_type": "code",
   "execution_count": 21,
   "id": "GwEGyBD2nMIR",
   "metadata": {
    "cellView": "form",
    "id": "GwEGyBD2nMIR"
   },
   "outputs": [
    {
     "name": "stdout",
     "output_type": "stream",
     "text": [
      "c1 dim: 19\n",
      "mp0 dim: 17\n",
      "c2 dim: 15\n",
      "mp1 dim: 13\n",
      "c3 dim: 11\n",
      "mp2 dim: 9\n",
      "flattened_dim 648\n"
     ]
    }
   ],
   "source": [
    "#@title Setup net\n",
    "cdim1=32; cdim2=18; cdim3 =8; kernel_sz=3; dropout=0.13; ldim=50; lrate = 0.0001\n",
    "my_nn = Net(cdim1=cdim1, cdim2=cdim2,cdim3 =cdim3, kernel_sz=kernel_sz, dropout=dropout, ldim=ldim)\n",
    "\n",
    "device = torch.device(\"cuda:0\" if torch.cuda.is_available() else \"cpu\"\n",
    ")\n",
    "my_nn.to(device)\n",
    "optimizer = optim.Adam(my_nn.parameters(), lr=lrate)\n",
    "criterion = nn.MSELoss(reduction = 'sum')\n",
    "\n",
    "writer = SummaryWriter('runs/cnn_alldata')\n",
    "write_index = 0"
   ]
  },
  {
   "cell_type": "code",
   "execution_count": 22,
   "id": "rZKIBpS5nMAZ",
   "metadata": {
    "cellView": "form",
    "colab": {
     "base_uri": "https://localhost:8080/"
    },
    "id": "rZKIBpS5nMAZ",
    "outputId": "40e82096-4e7c-42b9-9b24-2e38d7fb1bec",
    "scrolled": true
   },
   "outputs": [
    {
     "name": "stdout",
     "output_type": "stream",
     "text": [
      "0 / 300 complete, train: 12.3027 test: 10.8293\n",
      "1 / 300 complete, train: 12.0324 test: 10.6015\n",
      "2 / 300 complete, train: 11.9338 test: 10.6117\n",
      "3 / 300 complete, train: 11.8725 test: 10.6127\n",
      "4 / 300 complete, train: 11.8257 test: 10.4877\n",
      "5 / 300 complete, train: 11.8368 test: 10.7191\n",
      "6 / 300 complete, train: 11.7887 test: 10.5424\n",
      "7 / 300 complete, train: 11.7233 test: 10.647\n",
      "8 / 300 complete, train: 11.8076 test: 10.4655\n",
      "9 / 300 complete, train: 11.7455 test: 10.4699\n",
      "10 / 300 complete, train: 11.7068 test: 10.5614\n",
      "11 / 300 complete, train: 11.704 test: 10.4967\n",
      "12 / 300 complete, train: 11.7284 test: 10.456\n",
      "13 / 300 complete, train: 11.6944 test: 10.4629\n",
      "14 / 300 complete, train: 11.6774 test: 10.3955\n",
      "15 / 300 complete, train: 11.7028 test: 10.7287\n",
      "16 / 300 complete, train: 11.7174 test: 10.5774\n",
      "17 / 300 complete, train: 11.672 test: 10.4738\n",
      "18 / 300 complete, train: 11.7096 test: 10.4587\n",
      "19 / 300 complete, train: 11.6421 test: 10.4202\n",
      "20 / 300 complete, train: 11.6601 test: 10.3798\n",
      "21 / 300 complete, train: 11.647 test: 10.4704\n",
      "22 / 300 complete, train: 11.6618 test: 10.5373\n",
      "23 / 300 complete, train: 11.6759 test: 10.3943\n",
      "24 / 300 complete, train: 11.7031 test: 10.4663\n",
      "25 / 300 complete, train: 11.6559 test: 10.4193\n",
      "26 / 300 complete, train: 11.6137 test: 10.4559\n",
      "27 / 300 complete, train: 11.5913 test: 10.4894\n",
      "28 / 300 complete, train: 11.6093 test: 10.4356\n",
      "29 / 300 complete, train: 11.6007 test: 10.4055\n",
      "30 / 300 complete, train: 11.612 test: 10.5325\n",
      "31 / 300 complete, train: 11.6101 test: 10.4306\n",
      "32 / 300 complete, train: 11.6176 test: 10.4652\n",
      "33 / 300 complete, train: 11.6116 test: 10.3537\n",
      "34 / 300 complete, train: 11.5692 test: 10.3661\n",
      "35 / 300 complete, train: 11.5658 test: 10.5029\n",
      "36 / 300 complete, train: 11.6 test: 10.3726\n",
      "37 / 300 complete, train: 11.5897 test: 10.448\n",
      "38 / 300 complete, train: 11.5941 test: 10.4796\n",
      "39 / 300 complete, train: 11.569 test: 10.4999\n",
      "40 / 300 complete, train: 11.5746 test: 10.3514\n",
      "41 / 300 complete, train: 11.6414 test: 10.4127\n",
      "42 / 300 complete, train: 11.5848 test: 10.4327\n",
      "43 / 300 complete, train: 11.5731 test: 10.4023\n",
      "44 / 300 complete, train: 11.5855 test: 10.4109\n",
      "45 / 300 complete, train: 11.5722 test: 10.4277\n",
      "46 / 300 complete, train: 11.5767 test: 10.3734\n",
      "47 / 300 complete, train: 11.5422 test: 10.3465\n",
      "48 / 300 complete, train: 11.6311 test: 10.4498\n",
      "49 / 300 complete, train: 11.5992 test: 10.5149\n",
      "50 / 300 complete, train: 11.5637 test: 10.3545\n",
      "51 / 300 complete, train: 11.6075 test: 10.5012\n",
      "52 / 300 complete, train: 11.6163 test: 10.5\n",
      "53 / 300 complete, train: 11.596 test: 10.3885\n",
      "54 / 300 complete, train: 11.5913 test: 10.4406\n",
      "55 / 300 complete, train: 11.5863 test: 10.416\n",
      "56 / 300 complete, train: 11.6129 test: 10.4638\n",
      "57 / 300 complete, train: 11.5651 test: 10.4024\n",
      "58 / 300 complete, train: 11.5938 test: 10.3527\n",
      "59 / 300 complete, train: 11.5833 test: 10.3906\n",
      "60 / 300 complete, train: 11.5383 test: 10.3192\n",
      "61 / 300 complete, train: 11.5648 test: 10.3744\n",
      "62 / 300 complete, train: 11.5342 test: 10.5049\n",
      "63 / 300 complete, train: 11.554 test: 10.3292\n",
      "64 / 300 complete, train: 11.5554 test: 10.4514\n",
      "65 / 300 complete, train: 11.5441 test: 10.3887\n",
      "66 / 300 complete, train: 11.545 test: 10.3352\n",
      "67 / 300 complete, train: 11.5171 test: 10.3859\n",
      "68 / 300 complete, train: 11.5174 test: 10.3254\n",
      "69 / 300 complete, train: 11.5113 test: 10.3618\n",
      "70 / 300 complete, train: 11.5191 test: 10.3875\n",
      "71 / 300 complete, train: 11.5467 test: 10.3366\n",
      "72 / 300 complete, train: 11.5607 test: 10.3444\n",
      "73 / 300 complete, train: 11.5139 test: 10.346\n",
      "74 / 300 complete, train: 11.5734 test: 10.3736\n",
      "75 / 300 complete, train: 11.7475 test: 10.4015\n",
      "76 / 300 complete, train: 11.5815 test: 10.4006\n",
      "77 / 300 complete, train: 11.595 test: 10.4413\n",
      "78 / 300 complete, train: 11.5633 test: 10.3543\n",
      "79 / 300 complete, train: 11.5137 test: 10.3473\n",
      "80 / 300 complete, train: 11.5251 test: 10.3674\n",
      "81 / 300 complete, train: 11.5145 test: 10.3596\n",
      "82 / 300 complete, train: 11.5302 test: 10.3712\n",
      "83 / 300 complete, train: 11.5254 test: 10.4352\n",
      "84 / 300 complete, train: 11.5202 test: 10.3407\n",
      "85 / 300 complete, train: 11.5305 test: 10.3524\n",
      "86 / 300 complete, train: 11.5046 test: 10.356\n",
      "87 / 300 complete, train: 11.539 test: 10.3486\n",
      "88 / 300 complete, train: 11.5123 test: 10.3631\n",
      "89 / 300 complete, train: 11.5228 test: 10.3061\n",
      "90 / 300 complete, train: 11.5199 test: 10.3859\n",
      "91 / 300 complete, train: 11.5053 test: 10.3666\n",
      "92 / 300 complete, train: 11.4944 test: 10.3137\n",
      "93 / 300 complete, train: 11.5071 test: 10.3303\n",
      "94 / 300 complete, train: 11.4973 test: 10.4105\n",
      "95 / 300 complete, train: 11.5267 test: 10.3531\n",
      "96 / 300 complete, train: 11.484 test: 10.3243\n",
      "97 / 300 complete, train: 11.5075 test: 10.3471\n",
      "98 / 300 complete, train: 11.4913 test: 10.5082\n",
      "99 / 300 complete, train: 11.4998 test: 10.3824\n",
      "100 / 300 complete, train: 11.497 test: 10.3689\n",
      "101 / 300 complete, train: 11.486 test: 10.3878\n"
     ]
    },
    {
     "ename": "KeyboardInterrupt",
     "evalue": "",
     "output_type": "error",
     "traceback": [
      "\u001b[1;31m---------------------------------------------------------------------------\u001b[0m",
      "\u001b[1;31mKeyboardInterrupt\u001b[0m                         Traceback (most recent call last)",
      "Input \u001b[1;32mIn [22]\u001b[0m, in \u001b[0;36m<module>\u001b[1;34m\u001b[0m\n\u001b[0;32m     10\u001b[0m         optimizer\u001b[38;5;241m.\u001b[39mzero_grad()\n\u001b[0;32m     11\u001b[0m         inputs, labels \u001b[38;5;241m=\u001b[39m data[\u001b[38;5;241m0\u001b[39m]\u001b[38;5;241m.\u001b[39mto(device), data[\u001b[38;5;241m1\u001b[39m]\u001b[38;5;241m.\u001b[39mto(device)\n\u001b[1;32m---> 13\u001b[0m         outputs \u001b[38;5;241m=\u001b[39m \u001b[43mmy_nn\u001b[49m\u001b[43m(\u001b[49m\u001b[43minputs\u001b[49m\u001b[43m)\u001b[49m\u001b[38;5;241m.\u001b[39msqueeze()\n\u001b[0;32m     14\u001b[0m \u001b[38;5;66;03m#         print(outputs.shape, labels.shape)\u001b[39;00m\n\u001b[0;32m     15\u001b[0m         loss \u001b[38;5;241m=\u001b[39m criterion(outputs, labels)\n",
      "File \u001b[1;32m~\\miniconda3\\envs\\pytorch\\lib\\site-packages\\torch\\nn\\modules\\module.py:1102\u001b[0m, in \u001b[0;36mModule._call_impl\u001b[1;34m(self, *input, **kwargs)\u001b[0m\n\u001b[0;32m   1098\u001b[0m \u001b[38;5;66;03m# If we don't have any hooks, we want to skip the rest of the logic in\u001b[39;00m\n\u001b[0;32m   1099\u001b[0m \u001b[38;5;66;03m# this function, and just call forward.\u001b[39;00m\n\u001b[0;32m   1100\u001b[0m \u001b[38;5;28;01mif\u001b[39;00m \u001b[38;5;129;01mnot\u001b[39;00m (\u001b[38;5;28mself\u001b[39m\u001b[38;5;241m.\u001b[39m_backward_hooks \u001b[38;5;129;01mor\u001b[39;00m \u001b[38;5;28mself\u001b[39m\u001b[38;5;241m.\u001b[39m_forward_hooks \u001b[38;5;129;01mor\u001b[39;00m \u001b[38;5;28mself\u001b[39m\u001b[38;5;241m.\u001b[39m_forward_pre_hooks \u001b[38;5;129;01mor\u001b[39;00m _global_backward_hooks\n\u001b[0;32m   1101\u001b[0m         \u001b[38;5;129;01mor\u001b[39;00m _global_forward_hooks \u001b[38;5;129;01mor\u001b[39;00m _global_forward_pre_hooks):\n\u001b[1;32m-> 1102\u001b[0m     \u001b[38;5;28;01mreturn\u001b[39;00m forward_call(\u001b[38;5;241m*\u001b[39m\u001b[38;5;28minput\u001b[39m, \u001b[38;5;241m*\u001b[39m\u001b[38;5;241m*\u001b[39mkwargs)\n\u001b[0;32m   1103\u001b[0m \u001b[38;5;66;03m# Do not call functions when jit is used\u001b[39;00m\n\u001b[0;32m   1104\u001b[0m full_backward_hooks, non_full_backward_hooks \u001b[38;5;241m=\u001b[39m [], []\n",
      "Input \u001b[1;32mIn [19]\u001b[0m, in \u001b[0;36mNet.forward\u001b[1;34m(self, x)\u001b[0m\n\u001b[0;32m     81\u001b[0m x \u001b[38;5;241m=\u001b[39m \u001b[38;5;28mself\u001b[39m\u001b[38;5;241m.\u001b[39mfc1(x)\n\u001b[0;32m     82\u001b[0m x \u001b[38;5;241m=\u001b[39m F\u001b[38;5;241m.\u001b[39mrelu(x)\n\u001b[1;32m---> 84\u001b[0m output \u001b[38;5;241m=\u001b[39m \u001b[38;5;28;43mself\u001b[39;49m\u001b[38;5;241;43m.\u001b[39;49m\u001b[43mfc2\u001b[49m\u001b[43m(\u001b[49m\u001b[43mx\u001b[49m\u001b[43m)\u001b[49m\n\u001b[0;32m     85\u001b[0m \u001b[38;5;28;01mreturn\u001b[39;00m output\n",
      "File \u001b[1;32m~\\miniconda3\\envs\\pytorch\\lib\\site-packages\\torch\\nn\\modules\\module.py:1102\u001b[0m, in \u001b[0;36mModule._call_impl\u001b[1;34m(self, *input, **kwargs)\u001b[0m\n\u001b[0;32m   1098\u001b[0m \u001b[38;5;66;03m# If we don't have any hooks, we want to skip the rest of the logic in\u001b[39;00m\n\u001b[0;32m   1099\u001b[0m \u001b[38;5;66;03m# this function, and just call forward.\u001b[39;00m\n\u001b[0;32m   1100\u001b[0m \u001b[38;5;28;01mif\u001b[39;00m \u001b[38;5;129;01mnot\u001b[39;00m (\u001b[38;5;28mself\u001b[39m\u001b[38;5;241m.\u001b[39m_backward_hooks \u001b[38;5;129;01mor\u001b[39;00m \u001b[38;5;28mself\u001b[39m\u001b[38;5;241m.\u001b[39m_forward_hooks \u001b[38;5;129;01mor\u001b[39;00m \u001b[38;5;28mself\u001b[39m\u001b[38;5;241m.\u001b[39m_forward_pre_hooks \u001b[38;5;129;01mor\u001b[39;00m _global_backward_hooks\n\u001b[0;32m   1101\u001b[0m         \u001b[38;5;129;01mor\u001b[39;00m _global_forward_hooks \u001b[38;5;129;01mor\u001b[39;00m _global_forward_pre_hooks):\n\u001b[1;32m-> 1102\u001b[0m     \u001b[38;5;28;01mreturn\u001b[39;00m forward_call(\u001b[38;5;241m*\u001b[39m\u001b[38;5;28minput\u001b[39m, \u001b[38;5;241m*\u001b[39m\u001b[38;5;241m*\u001b[39mkwargs)\n\u001b[0;32m   1103\u001b[0m \u001b[38;5;66;03m# Do not call functions when jit is used\u001b[39;00m\n\u001b[0;32m   1104\u001b[0m full_backward_hooks, non_full_backward_hooks \u001b[38;5;241m=\u001b[39m [], []\n",
      "File \u001b[1;32m~\\miniconda3\\envs\\pytorch\\lib\\site-packages\\torch\\nn\\modules\\linear.py:103\u001b[0m, in \u001b[0;36mLinear.forward\u001b[1;34m(self, input)\u001b[0m\n\u001b[0;32m    102\u001b[0m \u001b[38;5;28;01mdef\u001b[39;00m \u001b[38;5;21mforward\u001b[39m(\u001b[38;5;28mself\u001b[39m, \u001b[38;5;28minput\u001b[39m: Tensor) \u001b[38;5;241m-\u001b[39m\u001b[38;5;241m>\u001b[39m Tensor:\n\u001b[1;32m--> 103\u001b[0m     \u001b[38;5;28;01mreturn\u001b[39;00m \u001b[43mF\u001b[49m\u001b[38;5;241;43m.\u001b[39;49m\u001b[43mlinear\u001b[49m\u001b[43m(\u001b[49m\u001b[38;5;28;43minput\u001b[39;49m\u001b[43m,\u001b[49m\u001b[43m \u001b[49m\u001b[38;5;28;43mself\u001b[39;49m\u001b[38;5;241;43m.\u001b[39;49m\u001b[43mweight\u001b[49m\u001b[43m,\u001b[49m\u001b[43m \u001b[49m\u001b[38;5;28;43mself\u001b[39;49m\u001b[38;5;241;43m.\u001b[39;49m\u001b[43mbias\u001b[49m\u001b[43m)\u001b[49m\n",
      "File \u001b[1;32m~\\miniconda3\\envs\\pytorch\\lib\\site-packages\\torch\\nn\\functional.py:1848\u001b[0m, in \u001b[0;36mlinear\u001b[1;34m(input, weight, bias)\u001b[0m\n\u001b[0;32m   1846\u001b[0m \u001b[38;5;28;01mif\u001b[39;00m has_torch_function_variadic(\u001b[38;5;28minput\u001b[39m, weight, bias):\n\u001b[0;32m   1847\u001b[0m     \u001b[38;5;28;01mreturn\u001b[39;00m handle_torch_function(linear, (\u001b[38;5;28minput\u001b[39m, weight, bias), \u001b[38;5;28minput\u001b[39m, weight, bias\u001b[38;5;241m=\u001b[39mbias)\n\u001b[1;32m-> 1848\u001b[0m \u001b[38;5;28;01mreturn\u001b[39;00m \u001b[43mtorch\u001b[49m\u001b[38;5;241;43m.\u001b[39;49m\u001b[43m_C\u001b[49m\u001b[38;5;241;43m.\u001b[39;49m\u001b[43m_nn\u001b[49m\u001b[38;5;241;43m.\u001b[39;49m\u001b[43mlinear\u001b[49m\u001b[43m(\u001b[49m\u001b[38;5;28;43minput\u001b[39;49m\u001b[43m,\u001b[49m\u001b[43m \u001b[49m\u001b[43mweight\u001b[49m\u001b[43m,\u001b[49m\u001b[43m \u001b[49m\u001b[43mbias\u001b[49m\u001b[43m)\u001b[49m\n",
      "\u001b[1;31mKeyboardInterrupt\u001b[0m: "
     ]
    }
   ],
   "source": [
    "N_EPOCHS = 1000\n",
    "\n",
    "test_loss = []\n",
    "train_loss = []\n",
    "\n",
    "#@title Run net\n",
    "for epoch in range(N_EPOCHS):\n",
    "    running_loss = 0.0\n",
    "    for i, data in enumerate(mini_loader, 0):\n",
    "        optimizer.zero_grad()\n",
    "        inputs, labels = data[0].to(device), data[1].to(device)\n",
    "\n",
    "        outputs = my_nn(inputs).squeeze()\n",
    "#         print(outputs.shape, labels.shape)\n",
    "        loss = criterion(outputs, labels)\n",
    "        loss.backward()\n",
    "        optimizer.step()\n",
    "#         for name, param in my_nn.named_parameters():\n",
    "#             print(name, param.grad.abs().sum())\n",
    "\n",
    "        running_loss += loss.item()\n",
    "        if (i + 1) % 100 == 0:\n",
    "            writer.add_scalar('Loss/train', running_loss , write_index)\n",
    "        write_index += 1\n",
    "\n",
    "#     val_acc = get_accuracy(my_nn, mini_x, mini_y)\n",
    "    train_loss.append(running_loss/train_rows)\n",
    "    writer.add_scalar('Acc/val', train_loss[-1], write_index)\n",
    "    \n",
    "    #calculate test loss.\n",
    "    with torch.no_grad():\n",
    "        \n",
    "        running_tar_loss = 0\n",
    "        for data, target in test_loader:\n",
    "            running_tar_loss += get_accuracy(my_nn, data, target.to(device))\n",
    "\n",
    "\n",
    "        test_loss.append(running_tar_loss / test_rows)\n",
    "        writer.add_scalar('Test MSE', test_loss[-1], write_index)\n",
    "\n",
    "    print(epoch, '/', N_EPOCHS,\n",
    "          'complete, train:', round(np.sqrt(train_loss[-1]), 4),\n",
    "          \"test:\", round(np.sqrt(test_loss[-1]), 4) )\n",
    "            \n",
    "            \n",
    "            \n",
    "\n",
    "    \n",
    "    \n",
    "writer.close()\n",
    "print('Finished Training')\n",
    "# 11.1, 10.0 best"
   ]
  },
  {
   "cell_type": "code",
   "execution_count": null,
   "id": "bc0c97a0",
   "metadata": {},
   "outputs": [],
   "source": [
    "torch.cuda.empty_cache()\n"
   ]
  },
  {
   "cell_type": "markdown",
   "id": "47e00e48",
   "metadata": {},
   "source": [
    "### Checking accuracy"
   ]
  },
  {
   "cell_type": "code",
   "execution_count": null,
   "id": "6f48dda5",
   "metadata": {},
   "outputs": [],
   "source": [
    "path = \"C:/Users/Matt/Dropbox/SnowComp/RunGraphs/\" \n",
    "\n",
    "suffix = \"_\" + \\\n",
    "    str(cdim1)+ \"_\" + str(cdim2)+ \"_\" +str(cdim3)+ \"_\" + str(kernel_sz)+ \\\n",
    "    \"_\" + str(dropout)+ \"_\" + str(ldim)+ \"_\" + str(epoch) +\"_\" + str(lrate)\n",
    "\n",
    "plt.plot(range(epoch+1), np.sqrt(train_loss), label =\"train\")\n",
    "plt.plot(range(epoch+1), np.sqrt(test_loss), label =\"test\")\n",
    "plt.legend()\n",
    "plt.savefig(path +\"converge_alldata\" + suffix+ \".png\")"
   ]
  },
  {
   "cell_type": "markdown",
   "id": "f45a706e",
   "metadata": {},
   "source": [
    "## Save Model and Predictions\n",
    "\n",
    "### TODO: save image quality for random forest ingestion"
   ]
  },
  {
   "cell_type": "code",
   "execution_count": null,
   "id": "7a1acdf6",
   "metadata": {},
   "outputs": [],
   "source": [
    "pred_all = True"
   ]
  },
  {
   "cell_type": "markdown",
   "id": "f3af4a8d",
   "metadata": {},
   "source": [
    "Rerun model on full dataset"
   ]
  },
  {
   "cell_type": "code",
   "execution_count": 52,
   "id": "198948d7",
   "metadata": {},
   "outputs": [],
   "source": [
    "del mini_x, mini_dataset, mini_loader\n",
    "\n",
    "full_x = np.concatenate((train_dataset, dataset_test), axis = 0)\n",
    "full_y = pd.concat((train_y, y_test), axis= 0)\n",
    "\n",
    "#shuffle\n",
    "full_y = full_y.reset_index(drop=True)\n",
    "\n",
    "p = rng.permutation(len(full_x))\n",
    "full_y = full_y.loc[p]\n",
    "full_x = full_x[p]\n",
    "\n",
    "full_y_og = full_y.copy()"
   ]
  },
  {
   "cell_type": "code",
   "execution_count": 53,
   "id": "6207d003",
   "metadata": {},
   "outputs": [],
   "source": [
    "full_y = np.array(full_y['snowpack'])\n",
    "\n",
    "full_x, full_y = torch.Tensor(full_x), torch.Tensor(full_y)\n",
    "full_dataset = TensorDataset(full_x, full_y)\n",
    "full_loader = DataLoader(full_dataset, batch_size=128)\n",
    "\n",
    "# del train_dataset, dataset_test, train_y, y_test"
   ]
  },
  {
   "cell_type": "code",
   "execution_count": null,
   "id": "73d7e502",
   "metadata": {},
   "outputs": [],
   "source": [
    "#@title Setup net\n",
    "my_nn = Net(cdim1=cdim1, cdim2=cdim2,cdim3 =cdim3, kernel_sz=kernel_sz, dropout=dropout, ldim=ldim)\n",
    "\n",
    "device = torch.device(\"cuda:0\" if torch.cuda.is_available() else \"cpu\")\n",
    "my_nn.to(device)\n",
    "\n",
    "optimizer = optim.Adam(my_nn.parameters(), lr=lrate)\n",
    "criterion = nn.MSELoss(reduction = 'sum')"
   ]
  },
  {
   "cell_type": "code",
   "execution_count": null,
   "id": "23654a1a",
   "metadata": {},
   "outputs": [],
   "source": [
    "train_loss = []\n",
    "\n",
    "#@title Run net\n",
    "for epoch in range(N_EPOCHS):\n",
    "    running_loss = 0.0\n",
    "    for i, data in enumerate(full_loader, 0):\n",
    "        optimizer.zero_grad()\n",
    "        inputs, labels = data[0].to(device), data[1].to(device)\n",
    "\n",
    "        outputs = my_nn(inputs).squeeze()\n",
    "        loss = criterion(outputs, labels)\n",
    "        loss.backward()\n",
    "        optimizer.step()\n",
    "\n",
    "        running_loss += loss.item()\n",
    "\n",
    "    train_loss.append(running_loss/train_rows)\n",
    "    print(epoch, '/', N_EPOCHS,\n",
    "          'complete, train:', round(np.sqrt(train_loss[-1]), 4),\n",
    "          \"test:\", round(np.sqrt(test_loss[-1]), 4) )"
   ]
  },
  {
   "cell_type": "code",
   "execution_count": null,
   "id": "a287c1de",
   "metadata": {},
   "outputs": [],
   "source": [
    "torch.cuda.empty_cache()"
   ]
  },
  {
   "cell_type": "code",
   "execution_count": null,
   "id": "012c3225",
   "metadata": {},
   "outputs": [],
   "source": [
    "path = \"C:/Users/Matt/Dropbox/SnowComp/RunGraphs/\" \n",
    "\n",
    "suffix = \"_\" + \\\n",
    "    str(cdim1)+ \"_\" + str(cdim2)+ \"_\" +str(cdim3)+ \"_\" + str(kernel_sz)+ \\\n",
    "    \"_\" + str(dropout)+ \"_\" + str(ldim)+ \"_\" + str(epoch) +\"_\" + str(lrate) \n",
    "\n",
    "plt.plot(range(epoch+1), np.sqrt(train_loss), label =\"train\")\n",
    "plt.legend()\n",
    "plt.savefig(path +\"full\" + suffix+ \".png\")"
   ]
  },
  {
   "cell_type": "markdown",
   "id": "8ea350f3",
   "metadata": {},
   "source": [
    "### Save predictions"
   ]
  },
  {
   "cell_type": "code",
   "execution_count": 19,
   "id": "5eea40c3",
   "metadata": {},
   "outputs": [],
   "source": [
    "if pred_all:\n",
    "    my_nn.eval()\n",
    "    my_nn.to('cpu')\n",
    "\n",
    "    torch.save(my_nn.state_dict(), path +\"model\"+suffix)\n",
    "    \n",
    "    with torch.no_grad():\n",
    "        vals = my_nn(full_x).detach().numpy()\n",
    "        \n",
    "    path_preds = \"C:/Users/Matt/Dropbox/SnowComp/preds/\" \n",
    "    np.save(path_preds+\"pred\"+suffix, vals)\n",
    "    full_y_og.to_csv(path_preds+\"yvals.csv\")\n",
    "    \n",
    "    #warning, very memory intensive (idk why)\n",
    "    sub_dataset = np.load(path5)\n",
    "    with torch.no_grad():\n",
    "        vals_sub = my_nn(sub_dataset).detach().numpy() \n",
    "        \n",
    "    np.save(path_preds+\"subpred.npy\", vals_sub)\n",
    "    \n",
    "    #calculate image quality\n",
    "    image_qual = full_x.detach().numpy()\n",
    "    image_qual = np.sum(image_qual, axis= (1,2,3))\n",
    "    np.save(path_preds +\"image_qual_train.npy\", image_qual)\n",
    "    \n",
    "    image_qual = np.sum(sub_dataset, axis= (1,2,3))\n",
    "    np.save(path_preds +\"image_qual_train.npy\", image_qual)    \n",
    "    "
   ]
  },
  {
   "cell_type": "markdown",
   "id": "520c4033",
   "metadata": {},
   "source": [
    "## Things to check\n",
    "\n",
    "1. Accuracy measures are right\n",
    "2. Check missing value\n",
    "\n",
    "### TODO:\n",
    "- Add test set/cv\n",
    "- Batchnorm?\n",
    "- CNN benchmark"
   ]
  }
 ],
 "metadata": {
  "colab": {
   "name": "CNN.ipynb",
   "provenance": []
  },
  "kernelspec": {
   "display_name": "Python 3 (ipykernel)",
   "language": "python",
   "name": "python3"
  },
  "language_info": {
   "codemirror_mode": {
    "name": "ipython",
    "version": 3
   },
   "file_extension": ".py",
   "mimetype": "text/x-python",
   "name": "python",
   "nbconvert_exporter": "python",
   "pygments_lexer": "ipython3",
   "version": "3.9.9"
  }
 },
 "nbformat": 4,
 "nbformat_minor": 5
}
