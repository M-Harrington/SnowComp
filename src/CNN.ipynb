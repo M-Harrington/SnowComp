{
 "cells": [
  {
   "cell_type": "code",
   "execution_count": 1,
   "id": "f9b5b40b",
   "metadata": {
    "id": "f9b5b40b",
    "scrolled": true
   },
   "outputs": [],
   "source": [
    "import pandas as pd\n",
    "import numpy as np\n",
    "import matplotlib.pyplot as plt\n",
    "\n",
    "from datetime import datetime\n",
    "import pickle\n",
    "import random"
   ]
  },
  {
   "cell_type": "markdown",
   "id": "0ebf6eca",
   "metadata": {
    "id": "0ebf6eca"
   },
   "source": [
    "### Load in (correct) data"
   ]
  },
  {
   "cell_type": "code",
   "execution_count": 2,
   "id": "89fc9ea2",
   "metadata": {},
   "outputs": [],
   "source": [
    "base_path = \"C:/Users/Matt/Dropbox/SnowComp/\"\n",
    "path1 = base_path+\"ModisSnowImagesT.npy\"\n",
    "path2 = base_path+\"ModisSnowImagesA.npy\"\n",
    "path3 = base_path+\"ModisSnowImages_subT.npy\"\n",
    "path4 = base_path+\"ModisSnowImages_subA.npy\"\n",
    "\n",
    "train_dataT = np.load(path1)\n",
    "train_dataA = np.load(path2)\n",
    "# sub_dataT = np.load(path3) #be careful about memory, this is about 25-30 gigs ram\n",
    "# sub_dataA = np.load(path4)\n",
    "\n",
    "#load cell ids, note Ts are correct, As are actual daynums \n",
    "path_id = \"C:/Users/Matt/Dropbox/SnowComp/cell_snow_idsT.pkl\"\n",
    "with open(path_id, 'rb') as handle:\n",
    "    cell_ids = pickle.load( handle)\n",
    "    \n",
    "train_y = pd.read_csv(\"C:/Users/Matt/Documents/Python Scripts/SnowComp/dat/train_labels.csv\")"
   ]
  },
  {
   "cell_type": "code",
   "execution_count": 3,
   "id": "b947c93d",
   "metadata": {
    "id": "b947c93d"
   },
   "outputs": [],
   "source": [
    "#labels helpers and processing\n",
    "def pivot_df(df, id_col, ignore_cols=None):\n",
    "    if not ignore_cols:\n",
    "        ignore_cols = []\n",
    "    date_cols = [x for x in df.columns if x not in [id_col] + ignore_cols]\n",
    "    dfs = []\n",
    "    for day in date_cols:\n",
    "        day_df = df[[id_col, day]].rename({day: 'snowpack'}, axis=1)\n",
    "        day_df['date'] = day\n",
    "        dfs.append(day_df)\n",
    "    return pd.concat(dfs)\n",
    "\n",
    "def daynum_gen(date_time):\n",
    "    '''converts date time objects to filename'''\n",
    "    date_time = datetime.fromisoformat(date_time)\n",
    "    doy = date_time.timetuple().tm_yday\n",
    "    year = date_time.year\n",
    "    return str(year) + '{:03d}'.format(doy)\n",
    "\n",
    "train_y = pivot_df(train_y, 'cell_id').dropna()\n",
    "train_y['date']=train_y['date'].map(daynum_gen)"
   ]
  },
  {
   "cell_type": "code",
   "execution_count": 4,
   "id": "edac2dc0",
   "metadata": {
    "id": "edac2dc0"
   },
   "outputs": [],
   "source": [
    "#sort train_y so it has correct order before stripping labels\n",
    "train_y['idx'] = train_y['cell_id'] +\"-\"+train_y['date']\n",
    "sorter = [idx +\"-\" +date for  idx, date  in cell_ids]\n",
    "train_y = train_y.set_index('idx')\n",
    "train_y = train_y.loc[sorter]\n",
    "\n",
    "#combine Aqua and Terra DSs\n",
    "dataset = np.concatenate((train_dataT[:,0:1,:,:],train_dataA[:,0:1,:,:]), axis = 1)\n",
    "# dataset = np.concatenate((train_dataT,train_dataA), axis = 1)\n",
    "\n",
    "# #delete problematic columns\n",
    "# dataset = np.delete(dataset, 3, 1) \n",
    "# dataset = np.delete(dataset, 9, 1)\n",
    "\n",
    "dataset= dataset/255\n",
    "\n",
    "del train_dataT\n",
    "del train_dataA"
   ]
  },
  {
   "cell_type": "markdown",
   "id": "xzy-yKA8089p",
   "metadata": {
    "id": "xzy-yKA8089p"
   },
   "source": [
    "# Basic pytorch CNN"
   ]
  },
  {
   "cell_type": "code",
   "execution_count": 5,
   "id": "4hSy2cPa0w1L",
   "metadata": {
    "cellView": "form",
    "id": "4hSy2cPa0w1L"
   },
   "outputs": [],
   "source": [
    "#@title Imports\n",
    "import torch\n",
    "import torch.nn as nn\n",
    "import torch.nn.functional as F\n",
    "import torch.optim as optim\n",
    "from torch.utils.data import TensorDataset, DataLoader\n",
    "from torch.utils.tensorboard import SummaryWriter"
   ]
  },
  {
   "cell_type": "code",
   "execution_count": 6,
   "id": "Y6LVO6sr0cNn",
   "metadata": {
    "id": "Y6LVO6sr0cNn"
   },
   "outputs": [],
   "source": [
    "# Do categorical preds to start (change)\n",
    "train_y['cat'] = train_y['snowpack'].apply(lambda x: 1 if x > 15 else 0)\n",
    "# dataset.shape, train_y.shape"
   ]
  },
  {
   "cell_type": "code",
   "execution_count": 7,
   "id": "_ZFymFE0nMRh",
   "metadata": {
    "cellView": "form",
    "id": "_ZFymFE0nMRh"
   },
   "outputs": [],
   "source": [
    "#@title Define simple CNN\n",
    "# From: https://pytorch.org/tutorials/recipes/recipes/defining_a_neural_network.html\n",
    "# Also used: https://pytorch.org/tutorials/beginner/deep_learning_60min_blitz.html\n",
    "\n",
    "START_D = 2\n",
    "START_HW = 21\n",
    "\n",
    "class Net(nn.Module):\n",
    "\n",
    "    def _conv_calc(self, in_dim, pad, stride, k):\n",
    "        out = int(np.floor((in_dim + 2 * pad - (k - 1) - 1) / stride + 1))\n",
    "        return out\n",
    "\n",
    "    def __init__(self, cdim1, cdim2,cdim3, kernel_sz, dropout,\n",
    "                 ldim, print_dim = True):\n",
    "        super(Net, self).__init__()\n",
    "        \n",
    "        #first layer\n",
    "        self.conv1 = nn.Conv2d(2, cdim1, kernel_sz, 1)\n",
    "        self.avgpool = nn.AvgPool2d(2, stride= 1)\n",
    "        \n",
    "        c1_dim = self._conv_calc(START_HW, 0, 1, kernel_sz)\n",
    "        mp0_dim = self._conv_calc(c1_dim, 0, 1, 2)\n",
    "        \n",
    "        #second layer\n",
    "        self.conv2 = nn.Conv2d(cdim1, cdim2, kernel_sz, 1)\n",
    "        c2_dim = self._conv_calc(mp0_dim, 0, 1, kernel_sz)\n",
    "        mp1_dim = self._conv_calc(c2_dim, 0, 1, 2)\n",
    "        \n",
    "        \n",
    "        #third layer\n",
    "        self.conv3 = nn.Conv2d(cdim2, cdim3, kernel_sz, 1)\n",
    "        c3_dim = self._conv_calc(mp1_dim, 0, 1, kernel_sz)\n",
    "        mp2_dim = self._conv_calc(c3_dim, 0, 1, 2)\n",
    "        \n",
    "        #fourth layer\n",
    "        flattened_dim = cdim3 * mp2_dim * mp2_dim\n",
    "        self.fc1 = nn.Linear(flattened_dim, ldim)\n",
    "        self.fc2 = nn.Linear(ldim, 1)\n",
    "\n",
    "        #extras\n",
    "        self.dropout1 = nn.Dropout2d(dropout)\n",
    "        self.dropout2 = nn.Dropout2d(dropout*2)\n",
    "        self.BatchNorm1 = nn.BatchNorm2d(cdim1)\n",
    "        self.BatchNorm3 = nn.BatchNorm2d(cdim3)\n",
    "        \n",
    "        if print_dim:\n",
    "            print('c1 dim:', c1_dim)\n",
    "            print('mp0 dim:', mp0_dim)\n",
    "            print('c2 dim:', c2_dim)\n",
    "            print('mp1 dim:', mp1_dim)\n",
    "            print('c3 dim:', c3_dim)\n",
    "            print('mp2 dim:', mp2_dim)\n",
    "            print('flattened_dim',flattened_dim)\n",
    "        \n",
    "        \n",
    "    def forward(self, x):\n",
    "        #first layer\n",
    "        x = self.conv1(x)\n",
    "        x = F.relu(x)\n",
    "        x = self.BatchNorm1(x)\n",
    "        x = self.avgpool(x)\n",
    "        \n",
    "        #second layer\n",
    "        x = self.dropout1(x)\n",
    "        x = self.conv2(x)\n",
    "        x = F.relu(x)\n",
    "        x = self.avgpool(x)\n",
    "        \n",
    "        #third layer\n",
    "        x = self.dropout2(x)\n",
    "        x = self.conv3(x)\n",
    "        x = F.relu(x)\n",
    "        x = self.BatchNorm3(x)\n",
    "        x = self.avgpool(x)\n",
    "        \n",
    "        #fourth layer\n",
    "        x = torch.flatten(x, 1)\n",
    "        x = self.fc1(x)\n",
    "        x = F.relu(x)\n",
    "        \n",
    "        output = self.fc2(x)\n",
    "        return output\n",
    "\n",
    "    \n",
    "\n",
    "\n"
   ]
  },
  {
   "cell_type": "code",
   "execution_count": 8,
   "id": "vH2t7GaryngE",
   "metadata": {
    "cellView": "form",
    "id": "vH2t7GaryngE"
   },
   "outputs": [],
   "source": [
    "#@title Helpers to get predictions and accuracy\n",
    "def predict(cnn, x, as_numpy=False):\n",
    "    device = torch.device(\"cuda:0\" if torch.cuda.is_available() else \"cpu\")\n",
    "    cnn.eval()\n",
    "    x =x.type(torch.FloatTensor).to(device)\n",
    "    output = cnn(x)\n",
    "    if as_numpy:\n",
    "        output = output.flatten().cpu().detach().numpy() #detach removes gradients (bad)\n",
    "        \n",
    "    cnn.train()\n",
    "    return output.squeeze()\n",
    "\n",
    "def get_accuracy(cnn, x, y):\n",
    "#     y = torch.from_numpy(y).to(device)\n",
    "    outputs = predict(cnn, x,as_numpy = False)\n",
    "    \n",
    "#     print(y.shape, outputs.shape)\n",
    "    loss = ((y-outputs)**2).sum()\n",
    "    return round(loss.item(), 6)\n",
    "\n"
   ]
  },
  {
   "cell_type": "code",
   "execution_count": 9,
   "id": "CzIiQX4hnMOL",
   "metadata": {
    "cellView": "form",
    "colab": {
     "base_uri": "https://localhost:8080/"
    },
    "id": "CzIiQX4hnMOL",
    "outputId": "8aeeac04-d3f3-49a8-d991-7c26fe94f061"
   },
   "outputs": [],
   "source": [
    "#@title Test run\n",
    "# my_nn = Net(cdim1=8, cdim2=8, kernel_sz=3, dropout=0.25, ldim=8)\n",
    "# optimizer = optim.Adam(my_nn.parameters(), lr=0.1)\n",
    "# optimizer.zero_grad()\n",
    "\n",
    "# test_im = torch.from_numpy(dataset[0]).reshape(1, 14, 21, 21)\n",
    "# result = my_nn(test_im.type(torch.FloatTensor))\n",
    "# result.shape\n"
   ]
  },
  {
   "cell_type": "code",
   "execution_count": 10,
   "id": "8e03f67f",
   "metadata": {},
   "outputs": [],
   "source": [
    "#@title split training and testing\n",
    "\n",
    "mask = np.random.rand(len(dataset)) < 0.9\n",
    "training_data = dataset[mask]\n",
    "testing_data = dataset[~mask]\n",
    "train_rows = len(training_data)\n",
    "test_rows = len(testing_data)"
   ]
  },
  {
   "cell_type": "code",
   "execution_count": 11,
   "id": "j9xCBXI-nMK9",
   "metadata": {
    "cellView": "form",
    "id": "j9xCBXI-nMK9"
   },
   "outputs": [],
   "source": [
    "#@title Get data loaders\n",
    "# train_dataset = TensorDataset(torch.Tensor(dataset),\n",
    "#                               torch.Tensor(train_y['snowpack']))\n",
    "# train_loader = DataLoader(train_dataset, batch_size=64)\n",
    "\n",
    "# mini_x, mini_y = np.array(dataset)[:2,], np.array(train_y['snowpack'])[:2,]\n",
    "\n",
    "test_x, test_y = np.array(dataset)[~mask], np.array(train_y['snowpack'])[~mask]\n",
    "test_x, test_y = torch.Tensor(test_x), torch.Tensor(test_y)\n",
    "test_dataset = TensorDataset(test_x,test_y)\n",
    "test_loader = DataLoader(test_dataset, batch_size = 200)\n",
    "\n",
    "mini_x, mini_y = np.array(dataset)[mask], np.array(train_y['snowpack'])[mask]\n",
    "mini_x, mini_y = torch.Tensor(mini_x), torch.Tensor(mini_y)\n",
    "\n",
    "mini_dataset = TensorDataset(mini_x,\n",
    "                              mini_y)\n",
    "mini_loader = DataLoader(mini_dataset, batch_size=200)"
   ]
  },
  {
   "cell_type": "code",
   "execution_count": 12,
   "id": "GwEGyBD2nMIR",
   "metadata": {
    "cellView": "form",
    "id": "GwEGyBD2nMIR"
   },
   "outputs": [
    {
     "name": "stdout",
     "output_type": "stream",
     "text": [
      "c1 dim: 19\n",
      "mp0 dim: 18\n",
      "c2 dim: 16\n",
      "mp1 dim: 15\n",
      "c3 dim: 13\n",
      "mp2 dim: 12\n",
      "flattened_dim 2304\n"
     ]
    }
   ],
   "source": [
    "#@title Setup net\n",
    "my_nn = Net(cdim1=32, cdim2=24,cdim3 =16, kernel_sz=3, dropout=0.1, ldim=30)\n",
    "\n",
    "device = torch.device(\"cuda:0\" if torch.cuda.is_available() else \"cpu\")\n",
    "my_nn.to(device)\n",
    "\n",
    "optimizer = optim.Adam(my_nn.parameters(), lr=0.00005)\n",
    "criterion = nn.MSELoss(reduction = 'sum')\n",
    "\n",
    "writer = SummaryWriter('runs/cnn_full')\n",
    "write_index = 0\n",
    "\n",
    "\n"
   ]
  },
  {
   "cell_type": "code",
   "execution_count": 13,
   "id": "rZKIBpS5nMAZ",
   "metadata": {
    "cellView": "form",
    "colab": {
     "base_uri": "https://localhost:8080/"
    },
    "id": "rZKIBpS5nMAZ",
    "outputId": "40e82096-4e7c-42b9-9b24-2e38d7fb1bec",
    "scrolled": true
   },
   "outputs": [
    {
     "name": "stdout",
     "output_type": "stream",
     "text": [
      "0 / 2000 complete, train: 17.2384 test: 16.6023\n",
      "1 / 2000 complete, train: 15.3506 test: 15.7688\n",
      "2 / 2000 complete, train: 14.9349 test: 15.5057\n",
      "3 / 2000 complete, train: 14.6623 test: 15.4025\n",
      "4 / 2000 complete, train: 14.444 test: 15.4539\n",
      "5 / 2000 complete, train: 14.2593 test: 15.3022\n"
     ]
    },
    {
     "ename": "KeyboardInterrupt",
     "evalue": "",
     "output_type": "error",
     "traceback": [
      "\u001b[1;31m---------------------------------------------------------------------------\u001b[0m",
      "\u001b[1;31mKeyboardInterrupt\u001b[0m                         Traceback (most recent call last)",
      "Input \u001b[1;32mIn [13]\u001b[0m, in \u001b[0;36m<module>\u001b[1;34m\u001b[0m\n\u001b[0;32m      8\u001b[0m running_loss \u001b[38;5;241m=\u001b[39m \u001b[38;5;241m0.0\u001b[39m\n\u001b[0;32m      9\u001b[0m \u001b[38;5;28;01mfor\u001b[39;00m i, data \u001b[38;5;129;01min\u001b[39;00m \u001b[38;5;28menumerate\u001b[39m(mini_loader, \u001b[38;5;241m0\u001b[39m):\n\u001b[1;32m---> 10\u001b[0m     \u001b[43moptimizer\u001b[49m\u001b[38;5;241;43m.\u001b[39;49m\u001b[43mzero_grad\u001b[49m\u001b[43m(\u001b[49m\u001b[43m)\u001b[49m\n\u001b[0;32m     11\u001b[0m     inputs, labels \u001b[38;5;241m=\u001b[39m data[\u001b[38;5;241m0\u001b[39m]\u001b[38;5;241m.\u001b[39mto(device), data[\u001b[38;5;241m1\u001b[39m]\u001b[38;5;241m.\u001b[39mto(device)\n\u001b[0;32m     13\u001b[0m     outputs \u001b[38;5;241m=\u001b[39m my_nn(inputs)\u001b[38;5;241m.\u001b[39msqueeze()\n",
      "File \u001b[1;32m~\\miniconda3\\envs\\pytorch\\lib\\site-packages\\torch\\optim\\optimizer.py:217\u001b[0m, in \u001b[0;36mOptimizer.zero_grad\u001b[1;34m(self, set_to_none)\u001b[0m\n\u001b[0;32m    215\u001b[0m \u001b[38;5;28;01melse\u001b[39;00m:\n\u001b[0;32m    216\u001b[0m     p\u001b[38;5;241m.\u001b[39mgrad\u001b[38;5;241m.\u001b[39mrequires_grad_(\u001b[38;5;28;01mFalse\u001b[39;00m)\n\u001b[1;32m--> 217\u001b[0m \u001b[43mp\u001b[49m\u001b[38;5;241;43m.\u001b[39;49m\u001b[43mgrad\u001b[49m\u001b[38;5;241;43m.\u001b[39;49m\u001b[43mzero_\u001b[49m\u001b[43m(\u001b[49m\u001b[43m)\u001b[49m\n",
      "\u001b[1;31mKeyboardInterrupt\u001b[0m: "
     ]
    }
   ],
   "source": [
    "N_EPOCHS = 2000\n",
    "\n",
    "test_loss = []\n",
    "train_loss = []\n",
    "\n",
    "#@title Run net\n",
    "for epoch in range(N_EPOCHS):\n",
    "    running_loss = 0.0\n",
    "    for i, data in enumerate(mini_loader, 0):\n",
    "        optimizer.zero_grad()\n",
    "        inputs, labels = data[0].to(device), data[1].to(device)\n",
    "\n",
    "        outputs = my_nn(inputs).squeeze()\n",
    "#         print(outputs.shape, labels.shape)\n",
    "        loss = criterion(outputs, labels)\n",
    "        loss.backward()\n",
    "        optimizer.step()\n",
    "#         for name, param in my_nn.named_parameters():\n",
    "#             print(name, param.grad.abs().sum())\n",
    "\n",
    "        running_loss += loss.item()\n",
    "        if (i + 1) % 100 == 0:\n",
    "            writer.add_scalar('Loss/train', running_loss , write_index)\n",
    "        write_index += 1\n",
    "\n",
    "#     val_acc = get_accuracy(my_nn, mini_x, mini_y)\n",
    "    train_loss.append(running_loss/train_rows)\n",
    "    writer.add_scalar('Acc/val', train_loss[-1], write_index)\n",
    "    \n",
    "    #calculate test loss.\n",
    "    with torch.no_grad():\n",
    "        \n",
    "        running_tar_loss = 0\n",
    "        for data, target in test_loader:\n",
    "            running_tar_loss += get_accuracy(my_nn, data, target.to(device))\n",
    "\n",
    "\n",
    "        test_loss.append(running_tar_loss / test_rows)\n",
    "        writer.add_scalar('Test MSE', test_loss[-1], write_index)\n",
    "\n",
    "    print(epoch, '/', N_EPOCHS,\n",
    "          'complete, train:', round(np.sqrt(train_loss[-1]), 4),\n",
    "          \"test:\", round(np.sqrt(test_loss[-1]), 4) )\n",
    "            \n",
    "            \n",
    "            \n",
    "\n",
    "    \n",
    "    \n",
    "writer.close()\n",
    "print('Finished Training')"
   ]
  },
  {
   "cell_type": "code",
   "execution_count": null,
   "id": "bc0c97a0",
   "metadata": {},
   "outputs": [],
   "source": [
    "torch.cuda.empty_cache()"
   ]
  },
  {
   "cell_type": "markdown",
   "id": "47e00e48",
   "metadata": {},
   "source": [
    "### Checking accuracy"
   ]
  },
  {
   "cell_type": "code",
   "execution_count": null,
   "id": "51b96b74",
   "metadata": {},
   "outputs": [],
   "source": [
    "# my_nn = my_nn.to(device)"
   ]
  },
  {
   "cell_type": "code",
   "execution_count": null,
   "id": "de3e80bb",
   "metadata": {},
   "outputs": [],
   "source": [
    "my_nn = my_nn.to('cpu')\n",
    "vals = my_nn(mini_x)\n",
    "\n",
    "vals"
   ]
  },
  {
   "cell_type": "code",
   "execution_count": null,
   "id": "e7fd314b",
   "metadata": {},
   "outputs": [],
   "source": [
    "mini_y"
   ]
  },
  {
   "cell_type": "code",
   "execution_count": null,
   "id": "c010e67a",
   "metadata": {},
   "outputs": [],
   "source": [
    "np.sqrt(((vals.detach().numpy().flatten()  - mini_y.numpy())**2).mean())"
   ]
  },
  {
   "cell_type": "code",
   "execution_count": null,
   "id": "2fb12a79",
   "metadata": {},
   "outputs": [],
   "source": [
    "vals.detach().numpy()"
   ]
  },
  {
   "cell_type": "markdown",
   "id": "520c4033",
   "metadata": {},
   "source": [
    "## Things to check\n",
    "\n",
    "1. Accuracy measures are right\n",
    "2. Check missing value\n",
    "\n",
    "### TODO:\n",
    "- Add test set/cv\n",
    "- Batchnorm?\n",
    "- CNN benchmark"
   ]
  },
  {
   "cell_type": "code",
   "execution_count": null,
   "id": "129b9c28",
   "metadata": {},
   "outputs": [],
   "source": []
  }
 ],
 "metadata": {
  "colab": {
   "name": "CNN.ipynb",
   "provenance": []
  },
  "kernelspec": {
   "display_name": "Python 3 (ipykernel)",
   "language": "python",
   "name": "python3"
  },
  "language_info": {
   "codemirror_mode": {
    "name": "ipython",
    "version": 3
   },
   "file_extension": ".py",
   "mimetype": "text/x-python",
   "name": "python",
   "nbconvert_exporter": "python",
   "pygments_lexer": "ipython3",
   "version": "3.9.9"
  }
 },
 "nbformat": 4,
 "nbformat_minor": 5
}
