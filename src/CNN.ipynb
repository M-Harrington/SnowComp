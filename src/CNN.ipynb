{
 "cells": [
  {
   "cell_type": "code",
   "execution_count": null,
   "id": "f9b5b40b",
   "metadata": {
    "id": "f9b5b40b"
   },
   "outputs": [],
   "source": [
    "import pandas as pd\n",
    "import numpy as np\n",
    "import matplotlib.pyplot as plt\n",
    "\n",
    "from datetime import datetime\n",
    "import pickle"
   ]
  },
  {
   "cell_type": "markdown",
   "id": "0ebf6eca",
   "metadata": {
    "id": "0ebf6eca"
   },
   "source": [
    "### Load in data"
   ]
  },
  {
   "cell_type": "code",
   "execution_count": null,
   "id": "9b1a5162",
   "metadata": {
    "id": "9b1a5162"
   },
   "outputs": [],
   "source": [
    "input_path = \"C:/Users/Matt/Dropbox/SnowComp/ModisImages.npy\"\n",
    "dataset = np.load(input_path)\n",
    "\n",
    "path_ids = \"C:/Users/Matt/Dropbox/SnowComp/cell_ids.pkl\"\n",
    "with open(path_ids, 'rb') as handle:\n",
    "    cell_ids = pickle.load( handle)\n",
    "\n",
    "train_y = pd.read_csv(\"C:/Users/Matt/Documents/Python Scripts/SnowComp/dat/train_labels.csv\")"
   ]
  },
  {
   "cell_type": "code",
   "execution_count": null,
   "id": "b947c93d",
   "metadata": {
    "id": "b947c93d"
   },
   "outputs": [],
   "source": [
    "#labels helpers and processing\n",
    "def pivot_df(df, id_col, ignore_cols=None):\n",
    "    if not ignore_cols:\n",
    "        ignore_cols = []\n",
    "    date_cols = [x for x in df.columns if x not in [id_col] + ignore_cols]\n",
    "    dfs = []\n",
    "    for day in date_cols:\n",
    "        day_df = df[[id_col, day]].rename({day: 'snowpack'}, axis=1)\n",
    "        day_df['date'] = day\n",
    "        dfs.append(day_df)\n",
    "    return pd.concat(dfs)\n",
    "\n",
    "def daynum_gen(date_time):\n",
    "    '''converts date time objects to filename'''\n",
    "    date_time = datetime.fromisoformat(date_time)\n",
    "    doy = date_time.timetuple().tm_yday\n",
    "    year = date_time.year\n",
    "    return str(year) + '{:03d}'.format(doy)\n",
    "\n",
    "train_y = pivot_df(train_y, 'cell_id').dropna()\n",
    "train_y['date']=train_y['date'].map(daynum_gen)"
   ]
  },
  {
   "cell_type": "code",
   "execution_count": null,
   "id": "edac2dc0",
   "metadata": {
    "id": "edac2dc0"
   },
   "outputs": [],
   "source": [
    "#sort train_y so it has correct order before stripping labels\n",
    "train_y['idx'] = train_y['cell_id'] +\"-\"+train_y['date']\n",
    "sorter = [iden +\"-\" +date for  iden, date  in cell_ids]\n",
    "train_y = train_y.set_index('idx')\n",
    "train_y = train_y.loc[sorter]"
   ]
  },
  {
   "cell_type": "markdown",
   "id": "xzy-yKA8089p",
   "metadata": {
    "id": "xzy-yKA8089p"
   },
   "source": [
    "# Basic pytorch CNN"
   ]
  },
  {
   "cell_type": "code",
   "execution_count": null,
   "id": "4hSy2cPa0w1L",
   "metadata": {
    "cellView": "form",
    "id": "4hSy2cPa0w1L"
   },
   "outputs": [],
   "source": [
    "#@title Imports\n",
    "import torch\n",
    "import torch.nn as nn\n",
    "import torch.nn.functional as F\n",
    "import torch.optim as optim\n",
    "from torch.utils.data import TensorDataset, DataLoader\n",
    "from torch.utils.tensorboard import SummaryWriter"
   ]
  },
  {
   "cell_type": "code",
   "execution_count": null,
   "id": "Y6LVO6sr0cNn",
   "metadata": {
    "id": "Y6LVO6sr0cNn"
   },
   "outputs": [],
   "source": [
    "# Do categorical preds to start (change)\n",
    "train_y['cat'] = train_y['snowpack'].apply(lambda x: 1 if x > 15 else 0)\n",
    "dataset.shape, train_y.shape"
   ]
  },
  {
   "cell_type": "code",
   "execution_count": null,
   "id": "_ZFymFE0nMRh",
   "metadata": {
    "cellView": "form",
    "id": "_ZFymFE0nMRh"
   },
   "outputs": [],
   "source": [
    "#@title Define simple CNN\n",
    "# From: https://pytorch.org/tutorials/recipes/recipes/defining_a_neural_network.html\n",
    "# Also used: https://pytorch.org/tutorials/beginner/deep_learning_60min_blitz.html\n",
    "\n",
    "START_D = 14\n",
    "START_HW = 21\n",
    "\n",
    "class Net(nn.Module):\n",
    "\n",
    "    def _conv_calc(self, in_dim, pad, stride, k):\n",
    "        out = int(np.floor((in_dim + 2 * pad - (k - 1) - 1) / stride + 1))\n",
    "        return out\n",
    "\n",
    "    def __init__(self, cdim1, cdim2, kernel_sz, dropout,\n",
    "                 ldim, nclasses):\n",
    "        super(Net, self).__init__()\n",
    "        \n",
    "        self.conv1 = nn.Conv2d(14, cdim1, kernel_sz, 1)\n",
    "        c1_dim = self._conv_calc(START_HW, 0, 1, kernel_sz)\n",
    "        # print('c1 dim:', c1_dim)\n",
    "        \n",
    "        self.conv2 = nn.Conv2d(cdim1, cdim2, kernel_sz, 1)\n",
    "        c2_dim = self._conv_calc(c1_dim, 0, 1, kernel_sz)\n",
    "        # print('c2 dim:', c2_dim)\n",
    "        \n",
    "        self.maxpool1 = nn.MaxPool2d(2)\n",
    "        mp1_dim = self._conv_calc(c2_dim, 0, 2, 2)\n",
    "        # print('mp1 dim:', mp1_dim)\n",
    "        \n",
    "        # self.conv3 = nn.Conv2d(cdim2, cdim2, kernel_sz, 1)\n",
    "\n",
    "        self.dropout1 = nn.Dropout2d(dropout)\n",
    "        self.dropout2 = nn.Dropout2d(2 * dropout)\n",
    "\n",
    "        flattened_dim = cdim2 * mp1_dim * mp1_dim\n",
    "        print(flattened_dim)\n",
    "        self.fc1 = nn.Linear(flattened_dim, ldim)\n",
    "        # self.fc1 = nn.Linear(8192, ldim)\n",
    "        self.fc2 = nn.Linear(ldim, nclasses)\n",
    "\n",
    "    def forward(self, x):\n",
    "        x = self.conv1(x)\n",
    "        x = F.relu(x)\n",
    "        \n",
    "        x = self.conv2(x)\n",
    "        x = F.relu(x)\n",
    "        \n",
    "        # x = self.dropout1(x)\n",
    "        # x = self.conv3(x)\n",
    "        # x = F.relu(x)\n",
    "\n",
    "        # x = F.max_pool2d(x, 2)\n",
    "        x = self.maxpool1(x)\n",
    "        \n",
    "        # x = self.dropout1(x)\n",
    "        x = torch.flatten(x, 1)\n",
    "\n",
    "        x = self.fc1(x)\n",
    "        x = F.relu(x)\n",
    "        x = self.dropout2(x)\n",
    "        x = self.fc2(x)\n",
    "        \n",
    "        output = nn.Softmax(dim=1)(x)\n",
    "        return output\n",
    "\n",
    "    \n",
    "\n",
    "\n"
   ]
  },
  {
   "cell_type": "code",
   "execution_count": null,
   "id": "vH2t7GaryngE",
   "metadata": {
    "cellView": "form",
    "id": "vH2t7GaryngE"
   },
   "outputs": [],
   "source": [
    "#@title Helpers to get predictions and accuracy\n",
    "def predict(cnn, x, as_numpy=False):\n",
    "    device = torch.device(\"cuda:0\" if torch.cuda.is_available() else \"cpu\")\n",
    "    cnn.eval()\n",
    "    x = torch.from_numpy(x).type(torch.FloatTensor).to(device)\n",
    "    output = cnn(x)\n",
    "    if as_numpy:\n",
    "        output = output.flatten().cpu().detach().numpy()\n",
    "    cnn.train()\n",
    "    return output\n",
    "\n",
    "def get_accuracy(cnn, x, y):\n",
    "    y = torch.from_numpy(y).type(torch.LongTensor).to(device)\n",
    "    _, outputs = torch.max(predict(cnn, x), 1)\n",
    "    loss = (outputs == y).sum()\n",
    "    return round(int(loss) / x.shape[0], 3)\n",
    "\n"
   ]
  },
  {
   "cell_type": "code",
   "execution_count": null,
   "id": "CzIiQX4hnMOL",
   "metadata": {
    "cellView": "form",
    "colab": {
     "base_uri": "https://localhost:8080/"
    },
    "id": "CzIiQX4hnMOL",
    "outputId": "8aeeac04-d3f3-49a8-d991-7c26fe94f061"
   },
   "outputs": [
    {
     "name": "stdout",
     "output_type": "stream",
     "text": [
      "512\n"
     ]
    },
    {
     "data": {
      "text/plain": [
       "torch.Size([1, 2])"
      ]
     },
     "execution_count": 113,
     "metadata": {},
     "output_type": "execute_result"
    }
   ],
   "source": [
    "#@title Test run\n",
    "my_nn = Net(cdim1=8, cdim2=8, kernel_sz=3, dropout=0.25, ldim=8, nclasses=2)\n",
    "optimizer = optim.SGD(my_nn.parameters(), lr=0.001)\n",
    "optimizer.zero_grad()\n",
    "\n",
    "test_im = torch.from_numpy(dataset[0]).reshape(1, 14, 21, 21)\n",
    "result = my_nn(test_im.type(torch.FloatTensor))\n",
    "result.shape\n"
   ]
  },
  {
   "cell_type": "code",
   "execution_count": null,
   "id": "j9xCBXI-nMK9",
   "metadata": {
    "cellView": "form",
    "id": "j9xCBXI-nMK9"
   },
   "outputs": [],
   "source": [
    "#@title Get data loaders\n",
    "train_dataset = TensorDataset(torch.Tensor(dataset),\n",
    "                              torch.Tensor(train_y['cat']).type(torch.LongTensor))\n",
    "train_loader = DataLoader(train_dataset, batch_size=64)\n",
    "\n",
    "mini_x, mini_y = np.array(dataset[:1000,]), np.array(train_y['cat'][:1000])\n",
    "mini_dataset = TensorDataset(torch.Tensor(mini_x),\n",
    "                              torch.Tensor(mini_y).type(torch.LongTensor))\n",
    "mini_loader = DataLoader(mini_dataset, batch_size=64)"
   ]
  },
  {
   "cell_type": "code",
   "execution_count": null,
   "id": "GwEGyBD2nMIR",
   "metadata": {
    "cellView": "form",
    "id": "GwEGyBD2nMIR"
   },
   "outputs": [],
   "source": [
    "#@title Setup net\n",
    "device = torch.device(\"cuda:0\" if torch.cuda.is_available() else \"cpu\")\n",
    "my_nn.to(device)\n",
    "\n",
    "optimizer = optim.SGD(my_nn.parameters(), lr=0.001)\n",
    "criterion = nn.CrossEntropyLoss()\n",
    "writer = SummaryWriter('runs/cnn_full')\n",
    "write_index = 0\n",
    "\n",
    "N_EPOCHS = 2\n"
   ]
  },
  {
   "cell_type": "code",
   "execution_count": null,
   "id": "f8lCAFBjzK0o",
   "metadata": {
    "id": "f8lCAFBjzK0o"
   },
   "outputs": [],
   "source": []
  },
  {
   "cell_type": "code",
   "execution_count": null,
   "id": "rZKIBpS5nMAZ",
   "metadata": {
    "cellView": "form",
    "colab": {
     "base_uri": "https://localhost:8080/"
    },
    "id": "rZKIBpS5nMAZ",
    "outputId": "40e82096-4e7c-42b9-9b24-2e38d7fb1bec"
   },
   "outputs": [
    {
     "name": "stdout",
     "output_type": "stream",
     "text": [
      "0 / 2 complete 0.795 0.6782322029272715\n",
      "1 / 2 complete 0.796 0.6288726329803467\n",
      "Finished Training\n"
     ]
    }
   ],
   "source": [
    "#@title Run net\n",
    "for epoch in range(N_EPOCHS):\n",
    "    running_loss = 0.0\n",
    "    for i, data in enumerate(mini_loader, 0):\n",
    "        optimizer.zero_grad()\n",
    "        inputs, labels = data[0].to(device), data[1].to(device)\n",
    "\n",
    "        outputs = my_nn(inputs)\n",
    "        loss = criterion(outputs, labels)\n",
    "        loss.backward()\n",
    "        optimizer.step()\n",
    "\n",
    "        running_loss += loss.item()\n",
    "        if (i + 1) % 100 == 0:\n",
    "            writer.add_scalar('Loss/train', running_loss / i, write_index)\n",
    "        write_index += 1\n",
    "\n",
    "    val_acc = get_accuracy(my_nn, mini_x, mini_y)\n",
    "    writer.add_scalar('Acc/val', val_acc, write_index)\n",
    "    print(epoch, '/', N_EPOCHS, 'complete', val_acc, running_loss / i)\n",
    "\n",
    "writer.close()\n",
    "print('Finished Training')"
   ]
  }
 ],
 "metadata": {
  "colab": {
   "name": "CNN.ipynb",
   "provenance": []
  },
  "kernelspec": {
   "display_name": "Python 3 (ipykernel)",
   "language": "python",
   "name": "python3"
  },
  "language_info": {
   "codemirror_mode": {
    "name": "ipython",
    "version": 3
   },
   "file_extension": ".py",
   "mimetype": "text/x-python",
   "name": "python",
   "nbconvert_exporter": "python",
   "pygments_lexer": "ipython3",
   "version": "3.8.12"
  }
 },
 "nbformat": 4,
 "nbformat_minor": 5
}
