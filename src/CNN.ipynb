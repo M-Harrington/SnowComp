{
 "cells": [
  {
   "cell_type": "code",
   "execution_count": 1,
   "id": "f9b5b40b",
   "metadata": {
    "id": "f9b5b40b",
    "scrolled": true
   },
   "outputs": [],
   "source": [
    "import pandas as pd\n",
    "import numpy as np\n",
    "import matplotlib.pyplot as plt\n",
    "\n",
    "from datetime import datetime\n",
    "import pickle\n",
    "import random\n",
    "\n",
    "rng = np.random.default_rng(926834)"
   ]
  },
  {
   "cell_type": "code",
   "execution_count": 2,
   "id": "e4127f39",
   "metadata": {},
   "outputs": [],
   "source": [
    "#labels helpers and processing\n",
    "def pivot_df(df, id_col, ignore_cols=None):\n",
    "    if not ignore_cols:\n",
    "        ignore_cols = []\n",
    "    date_cols = [x for x in df.columns if x not in [id_col] + ignore_cols]\n",
    "    dfs = []\n",
    "    for day in date_cols:\n",
    "        day_df = df[[id_col, day]].rename({day: 'snowpack'}, axis=1)\n",
    "        day_df['date'] = day\n",
    "        dfs.append(day_df)\n",
    "    return pd.concat(dfs)\n",
    "\n",
    "def daynum_gen(date_time):\n",
    "    '''converts date time objects to filename'''\n",
    "    date_time = datetime.fromisoformat(date_time)\n",
    "    doy = date_time.timetuple().tm_yday\n",
    "    year = date_time.year\n",
    "    return str(year) + '{:03d}'.format(doy)"
   ]
  },
  {
   "cell_type": "markdown",
   "id": "0ebf6eca",
   "metadata": {
    "id": "0ebf6eca"
   },
   "source": [
    "### Load data"
   ]
  },
  {
   "cell_type": "code",
   "execution_count": 3,
   "id": "89fc9ea2",
   "metadata": {},
   "outputs": [],
   "source": [
    "base_path = \"C:/Users/Matt/Dropbox/SnowComp/\"\n",
    "path1 = base_path+\"ModisSnowImagesT.npy\"\n",
    "path2 = base_path+\"ModisSnowImagesA.npy\"\n",
    "path3 = base_path+\"ModisSnowImages_subT.npy\"\n",
    "path4 = base_path+\"ModisSnowImages_subA.npy\"\n",
    "\n",
    "#submission small\n",
    "path5 =base_path +\"ModisSnowImages_subAT_small.npy\"\n",
    "path6 =base_path +\"ModisSnowImages_AT_small.npy\"\n",
    "\n",
    "#train_features\n",
    "path7 =base_path + \"ModisSnowImages_trainfeat_T.npy\"\n",
    "path8 =base_path + \"ModisSnowImages_trainfeat_A.npy\"\n",
    "\n",
    "#test_features\n",
    "path9 =base_path + \"ModisSnowImages_testfeat_T.npy\"\n",
    "path10=base_path + \"ModisSnowImages_testfeat_A.npy\""
   ]
  },
  {
   "cell_type": "code",
   "execution_count": 4,
   "id": "b591f874",
   "metadata": {},
   "outputs": [],
   "source": [
    "#load cell ids, note Ts are correct, As are actual daynums \n",
    "path_id = \"C:/Users/Matt/Dropbox/SnowComp/cell_snow_idsT.pkl\"\n",
    "with open(path_id, 'rb') as handle:\n",
    "    cell_ids = pickle.load( handle)\n",
    "\n",
    "path_id = \"C:/Users/Matt/Dropbox/SnowComp/cell_snow_ids_trainfeat.pkl\"\n",
    "with open(path_id, 'rb') as handle:\n",
    "    cell_ids_train = pickle.load(handle)\n",
    "    \n",
    "path_id = \"C:/Users/Matt/Dropbox/SnowComp/cell_snow_ids_testfeat.pkl\"\n",
    "with open(path_id, 'rb') as handle:\n",
    "    cell_ids_test = pickle.load( handle)"
   ]
  },
  {
   "cell_type": "code",
   "execution_count": 5,
   "id": "d429db99",
   "metadata": {},
   "outputs": [],
   "source": [
    "# #Assemble submission dataset\n",
    "# sub_dataT = np.load(path3) #be careful about memory, this is about 25-30 gigs ram\n",
    "# sub_dataA = np.load(path4)\n",
    "\n",
    "# sub_dataset = np.concatenate((sub_dataT[:,0:1,:,:],sub_dataA[:,0:1,:,:]), axis = 1)\n",
    "# sub_dataset = sub_dataset/255\n",
    "# np.save(path5,sub_dataset)\n",
    "\n",
    "# sub_dataset = torch.Tensor(sub_dataset)\n",
    "# del sub_dataT, sub_dataA"
   ]
  },
  {
   "cell_type": "markdown",
   "id": "5bd0887f",
   "metadata": {},
   "source": [
    "#### Read in and process `train_label` data"
   ]
  },
  {
   "cell_type": "code",
   "execution_count": 6,
   "id": "edac2dc0",
   "metadata": {
    "id": "edac2dc0"
   },
   "outputs": [],
   "source": [
    "train_y = pd.read_csv(\"C:/Users/Matt/Documents/Python Scripts/SnowComp/dat/train_labels.csv\")\n",
    "train_y = pivot_df(train_y, 'cell_id').dropna()\n",
    "train_y['date']=train_y['date'].map(daynum_gen)\n",
    "\n",
    "#sort train_y so it has correct order before stripping labels\n",
    "sorter = [idx +\"-\" +date for  idx, date  in cell_ids]\n",
    "# with open(base_path + \"train_idorder.pkl\", 'wb') as handle:\n",
    "#     pickle.dump(sorter, handle)\n",
    "\n",
    "train_y['idx'] = train_y['cell_id'] +\"-\"+train_y['date']\n",
    "train_y = train_y.set_index('idx')\n",
    "train_y = train_y.loc[sorter]"
   ]
  },
  {
   "cell_type": "code",
   "execution_count": 7,
   "id": "2901a866",
   "metadata": {},
   "outputs": [],
   "source": [
    "#combine Aqua and Terra DSs\n",
    "train_dataT = np.load(path1)\n",
    "train_dataA = np.load(path2)\n",
    "\n",
    "dataset = np.concatenate((train_dataT[:,0:1,:,:],train_dataA[:,0:1,:,:]), axis = 1)\n",
    "# dataset = np.concatenate((train_dataT[:,(0,4),:,:],train_dataA[:,(0,4),:,:]), axis = 1)\n",
    "# dataset = np.concatenate((train_dataT,train_dataA), axis = 1)\n",
    "START_D = dataset.shape[1]\n",
    "\n",
    "dataset= dataset/255\n",
    "# np.save(path6,dataset)\n",
    "\n",
    "del train_dataT\n",
    "del train_dataA"
   ]
  },
  {
   "cell_type": "markdown",
   "id": "e5ac8b24",
   "metadata": {},
   "source": [
    "#### Read in and order `train_features` data "
   ]
  },
  {
   "cell_type": "code",
   "execution_count": 8,
   "id": "a888db5f",
   "metadata": {
    "id": "edac2dc0"
   },
   "outputs": [],
   "source": [
    "train_feat = pd.read_csv(\"C:/Users/Matt/Documents/Python Scripts/SnowComp/dat/ground_measures_train_features.csv\")\n",
    "train_feat = train_feat.rename(columns={\"Unnamed: 0\":\"cell_id\"})\n",
    "train_feat = pivot_df(train_feat, 'cell_id').dropna()\n",
    "train_feat['date']=train_feat['date'].map(daynum_gen)\n",
    "\n",
    "#sort train_feat so it has correct order before stripping labels\n",
    "sorter = [idx +\"-\" +date for  idx, date  in cell_ids_train]\n",
    "with open(base_path + \"trainfeat_idorder.pkl\", 'wb') as handle:\n",
    "    pickle.dump(sorter, handle)\n",
    "\n",
    "train_feat['idx'] = train_feat['cell_id'] +\"-\"+train_feat['date']\n",
    "train_feat = train_feat.set_index('idx')\n",
    "train_feat = train_feat.loc[sorter]"
   ]
  },
  {
   "cell_type": "code",
   "execution_count": 9,
   "id": "5b4b0720",
   "metadata": {},
   "outputs": [],
   "source": [
    "#combine Aqua and Terra DSs\n",
    "train_feat_dataT = np.load(path7)\n",
    "train_feat_dataA = np.load(path8)\n",
    "\n",
    "dataset_temp = np.concatenate((train_feat_dataT[:,0:1,:,:],train_feat_dataA[:,0:1,:,:]), axis = 1)\n",
    "# dataset_temp = np.concatenate((train_feat_dataT[:,(0,4),:,:],train_feat_dataA[:,(0,4),:,:]), axis = 1)\n",
    "# dataset_temp = np.concatenate((train_feat_dataT,train_feat_dataA), axis = 1)\n",
    "\n",
    "dataset_temp= dataset_temp/255\n",
    "# np.save(path6,dataset_temp)\n",
    "\n",
    "del train_feat_dataT, train_feat_dataA"
   ]
  },
  {
   "cell_type": "markdown",
   "id": "0cdc4531",
   "metadata": {},
   "source": [
    "#### Read in and order `test_features` data"
   ]
  },
  {
   "cell_type": "code",
   "execution_count": 10,
   "id": "c93013d5",
   "metadata": {},
   "outputs": [],
   "source": [
    "y_test = pd.read_csv(\"C:/Users/Matt/Documents/Python Scripts/SnowComp/dat/ground_measures_test_features.csv\")\n",
    "y_test = y_test.rename(columns={\"Unnamed: 0\":\"cell_id\"})\n",
    "y_test = pivot_df(y_test, 'cell_id').dropna()\n",
    "y_test['date']=y_test['date'].map(daynum_gen)\n",
    "\n",
    "#sort train_feat so it has correct order before stripping labels\n",
    "sorter = [idx +\"-\" +date for  idx, date  in cell_ids_test]\n",
    "with open(base_path + \"testfeat_idorder.pkl\", 'wb') as handle:\n",
    "    pickle.dump(sorter, handle)\n",
    "\n",
    "y_test['idx'] = y_test['cell_id'] +\"-\"+y_test['date']\n",
    "y_test = y_test.set_index('idx')\n",
    "y_test = y_test.loc[sorter]"
   ]
  },
  {
   "cell_type": "code",
   "execution_count": 11,
   "id": "aff2ab7d",
   "metadata": {},
   "outputs": [],
   "source": [
    "#combine Aqua and Terra DSs\n",
    "test_feat_dataT = np.load(path9)\n",
    "test_feat_dataA = np.load(path10)\n",
    "\n",
    "dataset_test = np.concatenate((test_feat_dataT[:,0:1,:,:],test_feat_dataA[:,0:1,:,:]), axis = 1)\n",
    "# dataset_temp = np.concatenate((test_feat_dataT[:,(0,4),:,:],test_feat_dataA[:,(0,4),:,:]), axis = 1)\n",
    "# dataset_temp = np.concatenate((test_feat_dataT,test_feat_dataA), axis = 1)\n",
    "\n",
    "dataset_test= dataset_test/255\n",
    "# np.save(path6,dataset_temp)\n",
    "\n",
    "del test_feat_dataT, test_feat_dataA"
   ]
  },
  {
   "cell_type": "markdown",
   "id": "f71702fd",
   "metadata": {},
   "source": [
    "Holdout 15% of `train_labels` and smoosh everything together"
   ]
  },
  {
   "cell_type": "code",
   "execution_count": 12,
   "id": "ea9c31e5",
   "metadata": {},
   "outputs": [
    {
     "name": "stdout",
     "output_type": "stream",
     "text": [
      "(77718, 2, 21, 21)\n",
      "(13772, 2, 21, 21)\n",
      "(13772, 3)\n",
      "(77718, 3)\n"
     ]
    }
   ],
   "source": [
    "#holdout \n",
    "mask = rng.random(len(dataset)) < 0.85\n",
    "\n",
    "test_grid = dataset[~mask]\n",
    "dataset = dataset[mask]\n",
    "test_grid_y = train_y[~mask]\n",
    "train_y = train_y[mask]\n",
    "\n",
    "print(dataset.shape)\n",
    "print(test_grid.shape)\n",
    "print(test_grid_y.shape)\n",
    "print(train_y.shape)"
   ]
  },
  {
   "cell_type": "code",
   "execution_count": 13,
   "id": "49557b92",
   "metadata": {},
   "outputs": [],
   "source": [
    "#training data\n",
    "train_dataset = np.concatenate((dataset,\n",
    "                   dataset_temp), axis = 0)\n",
    "train_y = pd.concat((train_y, train_feat),\n",
    "                    axis = 0)\n",
    "\n",
    "train_y = train_y.reset_index(drop=True)\n",
    "del dataset_temp, train_feat\n",
    "\n",
    "#shuffle\n",
    "p =rng.permutation(len(train_dataset))\n",
    "train_y = train_y.loc[p]\n",
    "train_dataset = train_dataset[p]"
   ]
  },
  {
   "cell_type": "code",
   "execution_count": 14,
   "id": "e6f504ea",
   "metadata": {},
   "outputs": [],
   "source": [
    "#test data\n",
    "dataset_test = np.concatenate((dataset_test, test_grid),\n",
    "                              axis = 0) \n",
    "y_test = pd.concat((y_test, test_grid_y),\n",
    "                    axis = 0)\n",
    "\n",
    "y_test = y_test.reset_index(drop=True)\n",
    "del test_grid_y, test_grid\n",
    "\n",
    "#shuffle\n",
    "p =rng.permutation(len(dataset_test))\n",
    "y_test = y_test.loc[p]\n",
    "dataset_test = dataset_test[p]"
   ]
  },
  {
   "cell_type": "code",
   "execution_count": 15,
   "id": "fe58d028",
   "metadata": {},
   "outputs": [],
   "source": [
    "data_path = \"C:/Users/Matt/Dropbox/SnowComp/FinalData/\"\n",
    "\n",
    "train_y.to_csv(data_path + \"train_y.csv\", index = False)\n",
    "y_test.to_csv(data_path + \"test_y.csv\", index = False)\n",
    "\n",
    "np.save(data_path + \"train_dataset.npy\", train_dataset)\n",
    "np.save(data_path + \"test_datast.npy\", dataset_test)"
   ]
  },
  {
   "cell_type": "markdown",
   "id": "300e6854",
   "metadata": {},
   "source": [
    "## Translate to Pytorch datatypes and validation\n",
    "\n",
    "Redefine train and testing datasets "
   ]
  },
  {
   "cell_type": "code",
   "execution_count": 16,
   "id": "08d2b645",
   "metadata": {
    "cellView": "form",
    "id": "4hSy2cPa0w1L"
   },
   "outputs": [],
   "source": [
    "#@title Imports\n",
    "import torch\n",
    "import torch.nn as nn\n",
    "import torch.nn.functional as F\n",
    "import torch.optim as optim\n",
    "from torch.utils.data import TensorDataset, DataLoader\n",
    "from torch.utils.tensorboard import SummaryWriter"
   ]
  },
  {
   "cell_type": "code",
   "execution_count": 17,
   "id": "9c8bd31c",
   "metadata": {},
   "outputs": [],
   "source": [
    "#@title split training and testing\n",
    "training_data = train_dataset\n",
    "testing_data = dataset_test\n",
    "train_rows = len(training_data)\n",
    "test_rows = len(testing_data)"
   ]
  },
  {
   "cell_type": "code",
   "execution_count": 18,
   "id": "1e27d497",
   "metadata": {
    "cellView": "form",
    "id": "j9xCBXI-nMK9"
   },
   "outputs": [],
   "source": [
    "#@title Get data loaders\n",
    "test_x, test_y = dataset_test, np.array(y_test['snowpack'])\n",
    "test_x, test_y = torch.Tensor(test_x), torch.Tensor(test_y)\n",
    "test_dataset = TensorDataset(test_x,test_y)\n",
    "test_loader = DataLoader(test_dataset, batch_size = 256)\n",
    "\n",
    "mini_x, mini_y = train_dataset, np.array(train_y['snowpack'])\n",
    "mini_x, mini_y = torch.Tensor(mini_x), torch.Tensor(mini_y)\n",
    "\n",
    "mini_dataset = TensorDataset(mini_x,\n",
    "                              mini_y)\n",
    "mini_loader = DataLoader(mini_dataset, batch_size=256)"
   ]
  },
  {
   "cell_type": "markdown",
   "id": "xzy-yKA8089p",
   "metadata": {
    "id": "xzy-yKA8089p"
   },
   "source": [
    "# CNN"
   ]
  },
  {
   "cell_type": "code",
   "execution_count": 19,
   "id": "_ZFymFE0nMRh",
   "metadata": {
    "cellView": "form",
    "id": "_ZFymFE0nMRh"
   },
   "outputs": [],
   "source": [
    "#@title Define simple CNN\n",
    "# From: https://pytorch.org/tutorials/recipes/recipes/defining_a_neural_network.html\n",
    "# Also used: https://pytorch.org/tutorials/beginner/deep_learning_60min_blitz.html\n",
    "\n",
    "START_HW = 21\n",
    "\n",
    "class Net(nn.Module):\n",
    "\n",
    "    def _conv_calc(self, in_dim, pad, stride, k):\n",
    "        out = int(np.floor((in_dim + 2 * pad - (k - 1) - 1) / stride + 1))\n",
    "        return out\n",
    "\n",
    "    def __init__(self, cdim1, cdim2,cdim3, kernel_sz, dropout,\n",
    "                 ldim, print_dim = True):\n",
    "        super(Net, self).__init__()\n",
    "        \n",
    "        #first layer\n",
    "        self.conv1 = nn.Conv2d(START_D, cdim1, kernel_sz, 1)\n",
    "        self.avgpool = nn.AvgPool2d(3, stride= 1)\n",
    "        \n",
    "        c1_dim = self._conv_calc(START_HW, 0, 1, kernel_sz)\n",
    "        mp0_dim = self._conv_calc(c1_dim, 0, 1, 3)\n",
    "        \n",
    "        #second layer\n",
    "        self.conv2 = nn.Conv2d(cdim1, cdim2, kernel_sz, 1)\n",
    "        c2_dim = self._conv_calc(mp0_dim, 0, 1, kernel_sz)\n",
    "        mp1_dim = self._conv_calc(c2_dim, 0, 1, 3)\n",
    "        \n",
    "        \n",
    "        #third layer\n",
    "        self.conv3 = nn.Conv2d(cdim2, cdim3, kernel_sz, 1)\n",
    "        c3_dim = self._conv_calc(mp1_dim, 0, 1, kernel_sz)\n",
    "        mp2_dim = self._conv_calc(c3_dim, 0, 1, 3)\n",
    "        \n",
    "        #fourth layer\n",
    "        flattened_dim = cdim3 * mp2_dim * mp2_dim\n",
    "        self.fc1 = nn.Linear(flattened_dim, ldim)\n",
    "        self.fc2 = nn.Linear(ldim, 1)\n",
    "\n",
    "        #extras\n",
    "        self.dropout1 = nn.Dropout2d(dropout)\n",
    "        self.dropout2 = nn.Dropout2d(dropout*2)\n",
    "        self.BatchNorm1 = nn.BatchNorm2d(cdim1)\n",
    "        self.BatchNorm3 = nn.BatchNorm2d(cdim3)\n",
    "        \n",
    "        if print_dim:\n",
    "            print('c1 dim:', c1_dim)\n",
    "            print('mp0 dim:', mp0_dim)\n",
    "            print('c2 dim:', c2_dim)\n",
    "            print('mp1 dim:', mp1_dim)\n",
    "            print('c3 dim:', c3_dim)\n",
    "            print('mp2 dim:', mp2_dim)\n",
    "            print('flattened_dim',flattened_dim)\n",
    "        \n",
    "        \n",
    "    def forward(self, x):\n",
    "        #first layer\n",
    "        x = self.conv1(x)\n",
    "#         x = torch.tanh(x)\n",
    "        x = F.relu(x)\n",
    "        x = self.BatchNorm1(x)\n",
    "        x = self.avgpool(x)\n",
    "        \n",
    "        #second layer\n",
    "        x = self.dropout1(x)\n",
    "        x = self.conv2(x)\n",
    "#         x = torch.tanh(x)\n",
    "        x = F.relu(x)\n",
    "        x = self.avgpool(x)\n",
    "        \n",
    "        #third layer\n",
    "        x = self.dropout2(x)\n",
    "        x = self.conv3(x)\n",
    "        x = torch.tanh(x)\n",
    "        x = F.relu(x)\n",
    "        x = self.BatchNorm3(x)\n",
    "        x = self.avgpool(x)\n",
    "        \n",
    "        #fourth layer\n",
    "        x = torch.flatten(x, 1)\n",
    "        x = self.fc1(x)\n",
    "        x = F.relu(x)\n",
    "        \n",
    "        output = self.fc2(x)\n",
    "        return output\n",
    "\n",
    "    \n",
    "\n",
    "\n"
   ]
  },
  {
   "cell_type": "code",
   "execution_count": 20,
   "id": "vH2t7GaryngE",
   "metadata": {
    "cellView": "form",
    "id": "vH2t7GaryngE"
   },
   "outputs": [],
   "source": [
    "#@title Helpers to get predictions and accuracy\n",
    "def predict(cnn, x, as_numpy=False):\n",
    "    device = torch.device(\"cuda:0\" if torch.cuda.is_available() else \"cpu\")\n",
    "    cnn.eval()\n",
    "    x =x.type(torch.FloatTensor).to(device)\n",
    "    output = cnn(x)\n",
    "    if as_numpy:\n",
    "        output = output.flatten().cpu().detach().numpy() #detach removes gradients (bad)\n",
    "        \n",
    "    cnn.train()\n",
    "    return output.squeeze()\n",
    "\n",
    "def get_accuracy(cnn, x, y):\n",
    "#     y = torch.from_numpy(y).to(device)\n",
    "    outputs = predict(cnn, x,as_numpy = False)\n",
    "    \n",
    "#     print(y.shape, outputs.shape)\n",
    "    loss = ((y-outputs)**2).sum()\n",
    "    return round(loss.item(), 6)\n",
    "\n"
   ]
  },
  {
   "cell_type": "code",
   "execution_count": 21,
   "id": "GwEGyBD2nMIR",
   "metadata": {
    "cellView": "form",
    "id": "GwEGyBD2nMIR"
   },
   "outputs": [
    {
     "name": "stdout",
     "output_type": "stream",
     "text": [
      "c1 dim: 19\n",
      "mp0 dim: 17\n",
      "c2 dim: 15\n",
      "mp1 dim: 13\n",
      "c3 dim: 11\n",
      "mp2 dim: 9\n",
      "flattened_dim 648\n"
     ]
    }
   ],
   "source": [
    "#@title Setup net\n",
    "cdim1=32; cdim2=18; cdim3 =8; kernel_sz=3; dropout=0.13; ldim=50; lrate = 0.0001\n",
    "my_nn = Net(cdim1=cdim1, cdim2=cdim2,cdim3 =cdim3, kernel_sz=kernel_sz, dropout=dropout, ldim=ldim)\n",
    "\n",
    "device = torch.device(\"cuda:0\" if torch.cuda.is_available() else \"cpu\"\n",
    ")\n",
    "my_nn.to(device)\n",
    "optimizer = optim.Adam(my_nn.parameters(), lr=lrate)\n",
    "criterion = nn.MSELoss(reduction = 'sum')\n",
    "\n",
    "writer = SummaryWriter('runs/cnn_alldata')\n",
    "write_index = 0"
   ]
  },
  {
   "cell_type": "code",
   "execution_count": null,
   "id": "rZKIBpS5nMAZ",
   "metadata": {
    "cellView": "form",
    "colab": {
     "base_uri": "https://localhost:8080/"
    },
    "id": "rZKIBpS5nMAZ",
    "outputId": "40e82096-4e7c-42b9-9b24-2e38d7fb1bec",
    "scrolled": true
   },
   "outputs": [
    {
     "name": "stdout",
     "output_type": "stream",
     "text": [
      "0 / 4000 complete, train: 12.9626 test: 10.7748\n",
      "1 / 4000 complete, train: 12.106 test: 10.6647\n",
      "2 / 4000 complete, train: 12.0032 test: 10.5984\n",
      "3 / 4000 complete, train: 11.9377 test: 10.5417\n",
      "4 / 4000 complete, train: 11.8923 test: 10.5064\n",
      "5 / 4000 complete, train: 11.8391 test: 10.4786\n",
      "6 / 4000 complete, train: 11.7941 test: 10.4551\n",
      "7 / 4000 complete, train: 11.758 test: 10.4299\n",
      "8 / 4000 complete, train: 11.7274 test: 10.4106\n",
      "9 / 4000 complete, train: 11.7085 test: 10.4117\n",
      "10 / 4000 complete, train: 11.6931 test: 10.3759\n",
      "11 / 4000 complete, train: 11.6645 test: 10.3713\n",
      "12 / 4000 complete, train: 11.6433 test: 10.3525\n",
      "13 / 4000 complete, train: 11.6373 test: 10.3407\n",
      "14 / 4000 complete, train: 11.6108 test: 10.3436\n",
      "15 / 4000 complete, train: 11.6044 test: 10.3306\n",
      "16 / 4000 complete, train: 11.5938 test: 10.3162\n",
      "17 / 4000 complete, train: 11.5794 test: 10.3188\n",
      "18 / 4000 complete, train: 11.5567 test: 10.3009\n",
      "19 / 4000 complete, train: 11.5557 test: 10.2849\n",
      "20 / 4000 complete, train: 11.541 test: 10.2824\n",
      "21 / 4000 complete, train: 11.535 test: 10.2781\n",
      "22 / 4000 complete, train: 11.525 test: 10.2676\n",
      "23 / 4000 complete, train: 11.5152 test: 10.2782\n",
      "24 / 4000 complete, train: 11.4968 test: 10.2538\n",
      "25 / 4000 complete, train: 11.4873 test: 10.2474\n",
      "26 / 4000 complete, train: 11.4864 test: 10.2486\n",
      "27 / 4000 complete, train: 11.472 test: 10.2462\n",
      "28 / 4000 complete, train: 11.4732 test: 10.2404\n",
      "29 / 4000 complete, train: 11.4664 test: 10.2265\n",
      "30 / 4000 complete, train: 11.449 test: 10.228\n",
      "31 / 4000 complete, train: 11.4374 test: 10.2081\n",
      "32 / 4000 complete, train: 11.4355 test: 10.2133\n",
      "33 / 4000 complete, train: 11.4247 test: 10.2162\n",
      "34 / 4000 complete, train: 11.4221 test: 10.2056\n",
      "35 / 4000 complete, train: 11.417 test: 10.1994\n",
      "36 / 4000 complete, train: 11.4085 test: 10.1943\n",
      "37 / 4000 complete, train: 11.4008 test: 10.206\n",
      "38 / 4000 complete, train: 11.3974 test: 10.1832\n",
      "39 / 4000 complete, train: 11.3871 test: 10.1726\n",
      "40 / 4000 complete, train: 11.3828 test: 10.1675\n",
      "41 / 4000 complete, train: 11.3687 test: 10.1694\n",
      "42 / 4000 complete, train: 11.3666 test: 10.1696\n",
      "43 / 4000 complete, train: 11.3534 test: 10.1684\n",
      "44 / 4000 complete, train: 11.3454 test: 10.1551\n",
      "45 / 4000 complete, train: 11.3599 test: 10.1545\n",
      "46 / 4000 complete, train: 11.3402 test: 10.1497\n",
      "47 / 4000 complete, train: 11.3373 test: 10.1529\n",
      "48 / 4000 complete, train: 11.3357 test: 10.1471\n",
      "49 / 4000 complete, train: 11.3312 test: 10.1429\n",
      "50 / 4000 complete, train: 11.3232 test: 10.1457\n",
      "51 / 4000 complete, train: 11.3233 test: 10.1425\n",
      "52 / 4000 complete, train: 11.314 test: 10.1384\n",
      "53 / 4000 complete, train: 11.3015 test: 10.1238\n",
      "54 / 4000 complete, train: 11.3008 test: 10.1317\n",
      "55 / 4000 complete, train: 11.293 test: 10.1327\n",
      "56 / 4000 complete, train: 11.2996 test: 10.126\n",
      "57 / 4000 complete, train: 11.2775 test: 10.1158\n",
      "58 / 4000 complete, train: 11.28 test: 10.0872\n",
      "59 / 4000 complete, train: 11.2875 test: 10.1174\n",
      "60 / 4000 complete, train: 11.2773 test: 10.1155\n",
      "61 / 4000 complete, train: 11.2672 test: 10.1027\n",
      "62 / 4000 complete, train: 11.2587 test: 10.0995\n",
      "63 / 4000 complete, train: 11.2612 test: 10.1095\n",
      "64 / 4000 complete, train: 11.2613 test: 10.1055\n",
      "65 / 4000 complete, train: 11.25 test: 10.0994\n",
      "66 / 4000 complete, train: 11.2568 test: 10.087\n",
      "67 / 4000 complete, train: 11.2483 test: 10.0886\n",
      "68 / 4000 complete, train: 11.2429 test: 10.0865\n",
      "69 / 4000 complete, train: 11.2375 test: 10.1043\n",
      "70 / 4000 complete, train: 11.2297 test: 10.082\n",
      "71 / 4000 complete, train: 11.2442 test: 10.0973\n",
      "72 / 4000 complete, train: 11.2209 test: 10.0798\n",
      "73 / 4000 complete, train: 11.2212 test: 10.0861\n",
      "74 / 4000 complete, train: 11.2173 test: 10.0718\n",
      "75 / 4000 complete, train: 11.2075 test: 10.0817\n",
      "76 / 4000 complete, train: 11.2103 test: 10.0747\n",
      "77 / 4000 complete, train: 11.2127 test: 10.0912\n",
      "78 / 4000 complete, train: 11.203 test: 10.0653\n",
      "79 / 4000 complete, train: 11.1972 test: 10.0662\n",
      "80 / 4000 complete, train: 11.1951 test: 10.0613\n",
      "81 / 4000 complete, train: 11.192 test: 10.049\n",
      "82 / 4000 complete, train: 11.1993 test: 10.0627\n",
      "83 / 4000 complete, train: 11.191 test: 10.0475\n",
      "84 / 4000 complete, train: 11.1786 test: 10.0504\n",
      "85 / 4000 complete, train: 11.1834 test: 10.0703\n",
      "86 / 4000 complete, train: 11.1795 test: 10.044\n",
      "87 / 4000 complete, train: 11.173 test: 10.0508\n",
      "88 / 4000 complete, train: 11.1743 test: 10.0612\n",
      "89 / 4000 complete, train: 11.1793 test: 10.0468\n",
      "90 / 4000 complete, train: 11.1587 test: 10.041\n",
      "91 / 4000 complete, train: 11.1717 test: 10.0559\n",
      "92 / 4000 complete, train: 11.164 test: 10.034\n",
      "93 / 4000 complete, train: 11.1621 test: 10.0471\n",
      "94 / 4000 complete, train: 11.1637 test: 10.0372\n",
      "95 / 4000 complete, train: 11.1625 test: 10.0443\n",
      "96 / 4000 complete, train: 11.1521 test: 10.0235\n",
      "97 / 4000 complete, train: 11.1553 test: 10.0499\n",
      "98 / 4000 complete, train: 11.1507 test: 10.0358\n",
      "99 / 4000 complete, train: 11.1401 test: 10.0275\n",
      "100 / 4000 complete, train: 11.1469 test: 10.0226\n",
      "101 / 4000 complete, train: 11.1354 test: 10.0316\n",
      "102 / 4000 complete, train: 11.1399 test: 10.0333\n",
      "103 / 4000 complete, train: 11.1259 test: 10.0416\n",
      "104 / 4000 complete, train: 11.1365 test: 10.0423\n",
      "105 / 4000 complete, train: 11.1179 test: 10.0397\n",
      "106 / 4000 complete, train: 11.1256 test: 10.0317\n",
      "107 / 4000 complete, train: 11.1097 test: 10.0256\n",
      "108 / 4000 complete, train: 11.1249 test: 10.0524\n",
      "109 / 4000 complete, train: 11.1167 test: 10.0171\n",
      "110 / 4000 complete, train: 11.1222 test: 10.0255\n",
      "111 / 4000 complete, train: 11.0924 test: 10.0143\n",
      "112 / 4000 complete, train: 11.1059 test: 10.0104\n",
      "113 / 4000 complete, train: 11.1096 test: 10.0165\n",
      "114 / 4000 complete, train: 11.1061 test: 10.012\n",
      "115 / 4000 complete, train: 11.1019 test: 10.0223\n",
      "116 / 4000 complete, train: 11.0977 test: 10.0298\n",
      "117 / 4000 complete, train: 11.0892 test: 10.0106\n",
      "118 / 4000 complete, train: 11.0896 test: 10.0018\n",
      "119 / 4000 complete, train: 11.0925 test: 10.0202\n",
      "120 / 4000 complete, train: 11.092 test: 10.0121\n",
      "121 / 4000 complete, train: 11.0909 test: 10.0124\n",
      "122 / 4000 complete, train: 11.092 test: 10.013\n",
      "123 / 4000 complete, train: 11.078 test: 10.0068\n",
      "124 / 4000 complete, train: 11.0749 test: 10.0001\n",
      "125 / 4000 complete, train: 11.0771 test: 10.0062\n",
      "126 / 4000 complete, train: 11.0802 test: 10.0083\n",
      "127 / 4000 complete, train: 11.0912 test: 10.0146\n",
      "128 / 4000 complete, train: 11.0746 test: 10.0001\n",
      "129 / 4000 complete, train: 11.0688 test: 10.0015\n",
      "130 / 4000 complete, train: 11.0746 test: 9.9919\n",
      "131 / 4000 complete, train: 11.0619 test: 9.9851\n",
      "132 / 4000 complete, train: 11.0661 test: 9.9765\n",
      "133 / 4000 complete, train: 11.0663 test: 9.9984\n",
      "134 / 4000 complete, train: 11.0741 test: 9.9991\n",
      "135 / 4000 complete, train: 11.0663 test: 9.98\n",
      "136 / 4000 complete, train: 11.0634 test: 9.9907\n",
      "137 / 4000 complete, train: 11.0537 test: 10.0035\n",
      "138 / 4000 complete, train: 11.0619 test: 9.9798\n"
     ]
    }
   ],
   "source": [
    "N_EPOCHS = 4000\n",
    "\n",
    "test_loss = []\n",
    "train_loss = []\n",
    "\n",
    "#@title Run net\n",
    "for epoch in range(N_EPOCHS):\n",
    "    running_loss = 0.0\n",
    "    for i, data in enumerate(mini_loader, 0):\n",
    "        optimizer.zero_grad()\n",
    "        inputs, labels = data[0].to(device), data[1].to(device)\n",
    "\n",
    "        outputs = my_nn(inputs).squeeze()\n",
    "#         print(outputs.shape, labels.shape)\n",
    "        loss = criterion(outputs, labels)\n",
    "        loss.backward()\n",
    "        optimizer.step()\n",
    "#         for name, param in my_nn.named_parameters():\n",
    "#             print(name, param.grad.abs().sum())\n",
    "\n",
    "        running_loss += loss.item()\n",
    "        if (i + 1) % 100 == 0:\n",
    "            writer.add_scalar('Loss/train', running_loss , write_index)\n",
    "        write_index += 1\n",
    "\n",
    "#     val_acc = get_accuracy(my_nn, mini_x, mini_y)\n",
    "    train_loss.append(running_loss/train_rows)\n",
    "    writer.add_scalar('Acc/val', train_loss[-1], write_index)\n",
    "    \n",
    "    #calculate test loss.\n",
    "    with torch.no_grad():\n",
    "        \n",
    "        running_tar_loss = 0\n",
    "        for data, target in test_loader:\n",
    "            running_tar_loss += get_accuracy(my_nn, data, target.to(device))\n",
    "\n",
    "\n",
    "        test_loss.append(running_tar_loss / test_rows)\n",
    "        writer.add_scalar('Test MSE', test_loss[-1], write_index)\n",
    "\n",
    "    print(epoch, '/', N_EPOCHS,\n",
    "          'complete, train:', round(np.sqrt(train_loss[-1]), 4),\n",
    "          \"test:\", round(np.sqrt(test_loss[-1]), 4) )\n",
    "            \n",
    "            \n",
    "            \n",
    "\n",
    "    \n",
    "    \n",
    "writer.close()\n",
    "print('Finished Training')\n",
    "# 10.5, 9.63 best"
   ]
  },
  {
   "cell_type": "code",
   "execution_count": null,
   "id": "bc0c97a0",
   "metadata": {},
   "outputs": [],
   "source": [
    "torch.cuda.empty_cache()\n"
   ]
  },
  {
   "cell_type": "markdown",
   "id": "47e00e48",
   "metadata": {},
   "source": [
    "### Checking accuracy"
   ]
  },
  {
   "cell_type": "code",
   "execution_count": null,
   "id": "6f48dda5",
   "metadata": {},
   "outputs": [],
   "source": [
    "path = \"C:/Users/Matt/Dropbox/SnowComp/RunGraphs/\" \n",
    "\n",
    "suffix = \"_\" + \\\n",
    "    str(cdim1)+ \"_\" + str(cdim2)+ \"_\" +str(cdim3)+ \"_\" + str(kernel_sz)+ \\\n",
    "    \"_\" + str(dropout)+ \"_\" + str(ldim)+ \"_\" + str(epoch) +\"_\" + str(lrate)\n",
    "\n",
    "plt.plot(range(epoch+1), np.sqrt(train_loss), label =\"train\")\n",
    "plt.plot(range(epoch+1), np.sqrt(test_loss), label =\"test\")\n",
    "plt.legend()\n",
    "plt.savefig(path +\"converge_alldata\" + suffix+ \".png\")"
   ]
  },
  {
   "cell_type": "markdown",
   "id": "f45a706e",
   "metadata": {},
   "source": [
    "## Save Model and Predictions\n",
    "\n",
    "### TODO: save image quality for random forest ingestion"
   ]
  },
  {
   "cell_type": "code",
   "execution_count": null,
   "id": "aec17256",
   "metadata": {},
   "outputs": [],
   "source": [
    "pred_all = True"
   ]
  },
  {
   "cell_type": "markdown",
   "id": "b0cc5da9",
   "metadata": {},
   "source": [
    "Rerun model on full dataset"
   ]
  },
  {
   "cell_type": "code",
   "execution_count": null,
   "id": "fce137a1",
   "metadata": {},
   "outputs": [],
   "source": [
    "del mini_x, mini_dataset, mini_loader\n",
    "\n",
    "full_x = np.concatenate((train_dataset, dataset_test), axis = 0)\n",
    "full_y = pd.concat((train_y, y_test), axis= 0)\n",
    "\n",
    "#shuffle\n",
    "full_y = full_y.reset_index(drop=True)\n",
    "\n",
    "p = rng.permutation(len(full_x))\n",
    "full_y = full_y.loc[p]\n",
    "full_x = full_x[p]\n",
    "\n",
    "full_y_og = full_y.copy()"
   ]
  },
  {
   "cell_type": "code",
   "execution_count": null,
   "id": "73e6c73b",
   "metadata": {},
   "outputs": [],
   "source": [
    "full_y = np.array(full_y['snowpack'])\n",
    "\n",
    "full_x, full_y = torch.Tensor(full_x), torch.Tensor(full_y)\n",
    "full_dataset = TensorDataset(full_x, full_y)\n",
    "full_loader = DataLoader(full_dataset, batch_size=128)\n",
    "\n",
    "# del train_dataset, dataset_test, train_y, y_test"
   ]
  },
  {
   "cell_type": "code",
   "execution_count": null,
   "id": "7cc2c1fb",
   "metadata": {},
   "outputs": [],
   "source": [
    "#@title Setup net\n",
    "my_nn = Net(cdim1=cdim1, cdim2=cdim2,cdim3 =cdim3, kernel_sz=kernel_sz, dropout=dropout, ldim=ldim)\n",
    "\n",
    "device = torch.device(\"cuda:0\" if torch.cuda.is_available() else \"cpu\")\n",
    "my_nn.to(device)\n",
    "\n",
    "optimizer = optim.Adam(my_nn.parameters(), lr=lrate)\n",
    "criterion = nn.MSELoss(reduction = 'sum')"
   ]
  },
  {
   "cell_type": "code",
   "execution_count": null,
   "id": "981e14eb",
   "metadata": {},
   "outputs": [],
   "source": [
    "train_loss = []\n",
    "\n",
    "#@title Run net\n",
    "for epoch in range(N_EPOCHS):\n",
    "    running_loss = 0.0\n",
    "    for i, data in enumerate(full_loader, 0):\n",
    "        optimizer.zero_grad()\n",
    "        inputs, labels = data[0].to(device), data[1].to(device)\n",
    "\n",
    "        outputs = my_nn(inputs).squeeze()\n",
    "        loss = criterion(outputs, labels)\n",
    "        loss.backward()\n",
    "        optimizer.step()\n",
    "\n",
    "        running_loss += loss.item()\n",
    "\n",
    "    train_loss.append(running_loss/train_rows)\n",
    "    print(epoch, '/', N_EPOCHS,\n",
    "          'complete, train:', round(np.sqrt(train_loss[-1]), 4),\n",
    "          \"test:\", round(np.sqrt(test_loss[-1]), 4) )"
   ]
  },
  {
   "cell_type": "code",
   "execution_count": null,
   "id": "43694b4d",
   "metadata": {},
   "outputs": [],
   "source": [
    "torch.cuda.empty_cache()"
   ]
  },
  {
   "cell_type": "code",
   "execution_count": null,
   "id": "61cb7dda",
   "metadata": {
    "scrolled": true
   },
   "outputs": [],
   "source": [
    "path = \"C:/Users/Matt/Dropbox/SnowComp/RunGraphs/\" \n",
    "\n",
    "suffix = \"_\" + \\\n",
    "    str(cdim1)+ \"_\" + str(cdim2)+ \"_\" +str(cdim3)+ \"_\" + str(kernel_sz)+ \\\n",
    "    \"_\" + str(dropout)+ \"_\" + str(ldim)+ \"_\" + str(epoch) +\"_\" + str(lrate) \n",
    "\n",
    "plt.plot(range(epoch+1), np.sqrt(train_loss), label =\"train\")\n",
    "plt.legend()\n",
    "plt.savefig(path +\"full\" + suffix+ \".png\")"
   ]
  },
  {
   "cell_type": "markdown",
   "id": "48e085cf",
   "metadata": {},
   "source": [
    "### Save predictions"
   ]
  },
  {
   "cell_type": "code",
   "execution_count": null,
   "id": "5eea40c3",
   "metadata": {},
   "outputs": [],
   "source": [
    "if pred_all:\n",
    "    my_nn.eval()\n",
    "    my_nn.to('cpu')\n",
    "\n",
    "    torch.save(my_nn.state_dict(), path +\"model\"+suffix)\n",
    "    \n",
    "    with torch.no_grad():\n",
    "        vals = my_nn(full_x).detach().numpy()\n",
    "        \n",
    "    path_preds = \"C:/Users/Matt/Dropbox/SnowComp/preds/\" \n",
    "    np.save(path_preds+\"preds.npy\", vals)\n",
    "    full_y_og.to_csv(path_preds+\"yvals.csv\")\n",
    "    \n",
    "    #Predict and save on submission data\n",
    "    vals_sub = []\n",
    "\n",
    "    sub_dataset = torch.Tensor(sub_dataset)\n",
    "    sub_ds = TensorDataset(sub_dataset)\n",
    "    sub_loader = DataLoader(sub_ds, batch_size=50000)\n",
    "\n",
    "    with torch.no_grad():\n",
    "        for images in sub_loader:\n",
    "            vals_sub.append(my_nn(images[0]).detach().numpy()) \n",
    "\n",
    "    vals_sub = np.concatenate(vals_sub, axis = 0)        \n",
    "    np.save(path_preds+\"subpred.npy\", vals_sub)\n",
    "    \n",
    "    #calculate image quality\n",
    "    image_qual = full_x.detach().numpy()\n",
    "    image_qual = np.sum(image_qual, axis= (1,2,3))\n",
    "    np.save(path_preds +\"image_qual_train.npy\", image_qual)\n",
    "    \n",
    "    image_qual = np.sum(sub_dataset.detach().numpy(), axis= (1,2,3))\n",
    "    np.save(path_preds +\"image_qual_sub.npy\", image_qual)    \n",
    "    "
   ]
  },
  {
   "cell_type": "markdown",
   "id": "520c4033",
   "metadata": {},
   "source": [
    "## Things to check\n",
    "\n",
    "1. Accuracy measures are right\n",
    "2. Check missing value\n",
    "\n",
    "### TODO:\n",
    "- Add test set/cv\n",
    "- Batchnorm?\n",
    "- CNN benchmark"
   ]
  }
 ],
 "metadata": {
  "colab": {
   "name": "CNN.ipynb",
   "provenance": []
  },
  "kernelspec": {
   "display_name": "Python 3 (ipykernel)",
   "language": "python",
   "name": "python3"
  },
  "language_info": {
   "codemirror_mode": {
    "name": "ipython",
    "version": 3
   },
   "file_extension": ".py",
   "mimetype": "text/x-python",
   "name": "python",
   "nbconvert_exporter": "python",
   "pygments_lexer": "ipython3",
   "version": "3.9.9"
  }
 },
 "nbformat": 4,
 "nbformat_minor": 5
}
