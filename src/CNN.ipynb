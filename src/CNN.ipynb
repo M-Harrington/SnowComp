{
 "cells": [
  {
   "cell_type": "code",
   "execution_count": 1,
   "id": "f9b5b40b",
   "metadata": {
    "id": "f9b5b40b"
   },
   "outputs": [],
   "source": [
    "import pandas as pd\n",
    "import numpy as np\n",
    "import matplotlib.pyplot as plt\n",
    "\n",
    "from datetime import datetime\n",
    "import pickle"
   ]
  },
  {
   "cell_type": "markdown",
   "id": "0ebf6eca",
   "metadata": {
    "id": "0ebf6eca"
   },
   "source": [
    "### Load in (correct) data"
   ]
  },
  {
   "cell_type": "code",
   "execution_count": 8,
   "id": "89fc9ea2",
   "metadata": {},
   "outputs": [],
   "source": [
    "base_path = \"C:/Users/Matt/Dropbox/SnowComp/\"\n",
    "path1 = base_path+\"ModisSnowImagesT.npy\"\n",
    "path2 = base_path+\"ModisSnowImagesA.npy\"\n",
    "path3 = base_path+\"ModisSnowImages_subT.npy\"\n",
    "path4 = base_path+\"ModisSnowImages_subA.npy\"\n",
    "\n",
    "train_dataT = np.load(path1)\n",
    "train_dataA = np.load(path2)\n",
    "# sub_dataT = np.load(path3) #be careful about memory, this is about 25-30 gigs ram\n",
    "# sub_dataA = np.load(path4)\n",
    "\n",
    "#load cell ids, note Ts are correct, As are actual daynums \n",
    "path_id = \"C:/Users/Matt/Dropbox/SnowComp/cell_snow_idsT.pkl\"\n",
    "with open(path_id, 'rb') as handle:\n",
    "    cell_ids = pickle.load( handle)\n",
    "    \n",
    "train_y = pd.read_csv(\"C:/Users/Matt/Documents/Python Scripts/SnowComp/dat/train_labels.csv\")"
   ]
  },
  {
   "cell_type": "code",
   "execution_count": 9,
   "id": "b947c93d",
   "metadata": {
    "id": "b947c93d"
   },
   "outputs": [],
   "source": [
    "#labels helpers and processing\n",
    "def pivot_df(df, id_col, ignore_cols=None):\n",
    "    if not ignore_cols:\n",
    "        ignore_cols = []\n",
    "    date_cols = [x for x in df.columns if x not in [id_col] + ignore_cols]\n",
    "    dfs = []\n",
    "    for day in date_cols:\n",
    "        day_df = df[[id_col, day]].rename({day: 'snowpack'}, axis=1)\n",
    "        day_df['date'] = day\n",
    "        dfs.append(day_df)\n",
    "    return pd.concat(dfs)\n",
    "\n",
    "def daynum_gen(date_time):\n",
    "    '''converts date time objects to filename'''\n",
    "    date_time = datetime.fromisoformat(date_time)\n",
    "    doy = date_time.timetuple().tm_yday\n",
    "    year = date_time.year\n",
    "    return str(year) + '{:03d}'.format(doy)\n",
    "\n",
    "train_y = pivot_df(train_y, 'cell_id').dropna()\n",
    "train_y['date']=train_y['date'].map(daynum_gen)"
   ]
  },
  {
   "cell_type": "code",
   "execution_count": 10,
   "id": "edac2dc0",
   "metadata": {
    "id": "edac2dc0"
   },
   "outputs": [
    {
     "ename": "KeyError",
     "evalue": "\"['018cf1a1-f945-4097-9c47-0c4690538bb5-2016049', '01be2cc7-ef77-4e4d-80ed-c4f8139162c3-2016049', '0aeaffd7-9089-49e7-85ad-2314f32cbf7c-2016049', '1135e377-22e6-4290-b4cd-e6739de7fd8a-2016049', '147d5eb4-e574-47e4-994a-8a2908c06050-2016049', '174e3100-c30e-46a4-ac7c-30cd521fc390-2016049', '2700b724-e8c8-4715-acef-f448b252e07c-2016049', '2b5aab1a-08d9-4b61-8ebe-3642eda042fb-2016049', '355693c4-a8a9-40ee-b669-2dabce1d64a8-2016049', '3bb605a5-02cc-4f60-a9aa-91b66a971db0-2016049', '43be1328-02b0-4cc1-8e9b-75842908cee3-2016049', '4f383fb2-6cc7-48a8-9bdb-9c5d150e6eae-2016049', '51ebe834-adf4-474e-871e-28ebca2bd0cc-2016049', '6e96bf06-cbc5-45b5-a36b-e37864226099-2016049', '70a8fbac-6968-46c8-bd00-eed221c1c58f-2016049', '74f8c8bc-2f60-4232-b447-43459d5d22f0-2016049', '844639be-b3a6-4665-a46b-e75774f8ed50-2016049', '8ca1aaab-07de-4532-a99f-4ab8bce2f862-2016049', '962f6718-ce02-4d13-b28c-e159d1adc2d4-2016049', '972ab3b1-7445-4f57-a1a1-c3be4c257869-2016049', 'a2588440-600e-41da-b2b9-1f5632ecdef6-2016049', 'a4e8e597-1c21-4a46-bf08-2ee5149c481c-2016049', 'c0e85162-6ff4-401b-b01e-cc6d7a51eac0-2016049', 'c89dc6ca-6d69-41ce-954d-b51f64aaacb1-2016049', 'd37da01c-d9d7-4cbf-985a-af44d5a3e1e9-2016049', 'd674ee8e-49f1-44c9-890d-4e04997522a1-2016049', 'df01bf44-46b8-4541-b0a4-ed1fae16ac38-2016049', 'f6a782f0-4b17-4989-815c-2398b77b09dd-2016049', 'fa92fd14-b8db-48b2-be54-f57db0a05bda-2016049', '02c3ec4a-8de4-4284-9ec1-5a942d3d098e-2016049', '05938de0-622b-4e0a-a82b-2a128e5be0b0-2016049', '0adbba56-85f8-49e0-9b11-000622238d91-2016049', '0b9543d3-3cf9-4f28-b8eb-fd22c1956153-2016049', '0d0b742e-c324-4140-8f62-746210d79080-2016049', '10a46ea0-13da-4cef-9aa6-ff48aa46881c-2016049', '14c19b34-6359-4d3f-865e-0b9852a0e958-2016049', '253c2443-b820-4c13-bf6d-ba7a5426f52d-2016049', '2f5c1968-2c34-4539-a9f4-38298d0de925-2016049', '333458b2-c1a9-47a3-8ae0-92053ad28ae3-2016049', '3b5bfd37-070c-4ee9-a470-c9338851e270-2016049', '40c4f8cd-b0ca-4d37-b91e-b69e5dff7f9a-2016049', '440d7558-67fd-43b4-826b-26d02663f871-2016049', '443abf3c-b57f-46f5-a40a-e202c5a41bb3-2016049', '47328cb4-c97b-41a8-b889-2e2843a7810a-2016049', '47e625fa-e2df-43ce-84dd-8ac21fdda75a-2016049', '491846d3-f81a-4777-b49f-0a0c74168395-2016049', '4f13c5e6-14c0-44cf-a2b0-4ef9bb3704fd-2016049', '517aefce-a617-4251-acb9-c5faf0b7fdf3-2016049', '630bae26-a6cc-4a36-bbe5-40dc15b38dea-2016049', '678f1920-0bc3-4687-af71-35d61030b1a0-2016049', '692c41af-2210-4dd6-916d-c99e76807447-2016049', '6bc3e088-5139-43f2-9b2a-ade1cedeae47-2016049', '6de38d5b-ccce-4ff2-90ed-1c7035491518-2016049', '76716786-19f9-41bd-8f0c-557b560d4a67-2016049', '80534a9b-0113-4fbe-99b1-7eac48719333-2016049', '89a7b0ef-1ec8-490f-9207-c93aa57a147f-2016049', '99a2d4a9-63a0-43a7-976d-2a1ed822186d-2016049', '9ea23099-dd30-4b26-9de7-5d42d5dae87b-2016049', 'a4256362-b0c9-403a-8703-f6d8d7263e47-2016049', 'ab89875f-3b86-4c6a-8d66-767017570dfc-2016049', 'b1077b69-4b02-458e-8a4b-e68695ac534f-2016049', 'b1936012-0d31-4b92-8d60-c24903b2e569-2016049', 'b5d7b6b8-4e5d-4b5e-8976-c72e99f57769-2016049', 'c59f438c-f00a-476a-938e-efd828e0d083-2016049', 'c5a82752-3e4b-43ec-8011-9111b9bfcb89-2016049', 'cacaa17b-0b1b-4fe2-a4c1-7728e6c154c1-2016049', 'cde149fe-708b-4a35-bea8-959eb9da4e0b-2016049', 'cfd2c7fc-c29a-4a32-a11d-d04fa2dd660d-2016049', 'd37ccc2e-7127-48ec-9425-2e77681c3635-2016049', 'dc31c331-837b-4b59-b184-051321e9489c-2016049', 'dca30f20-582e-40ef-be6d-aa7858be4baa-2016049', 'de9c541b-ce5e-4cc6-9ddd-03f85dc5b3d5-2016049', 'e467a17f-a729-4938-87a1-ac25157eed63-2016049', 'e776d9b6-2180-4f50-90bf-77f7b920fc3b-2016049', 'eab40c22-0c15-4291-a6ce-e085a7f0f1e4-2016049', 'f3e36cea-5eb2-495a-87f4-947395f325b0-2016049', 'f46e7d90-a754-44a8-b262-63f5c401a0ab-2016049', 'ff01e8c2-19a2-4a89-af0e-608b8f40ad5f-2016049', '02cf33c2-c8e2-48b9-bf72-92506e97e251-2016049', '064d7f3e-8bbd-49cd-b360-5c4590a19b9e-2016049', '06ec1554-a0ea-41cf-85f8-43f4b48c7599-2016049', '0a0ea690-5b73-4459-91d5-a6948d132a48-2016049', '0bd47ec1-0e3c-43bf-a491-534d06beb19f-2016049', '0cda0c4a-405b-4e16-8922-964190929d80-2016049', '10162c55-772d-49d2-8b1b-b1f9c86254b2-2016049', '2222b7b3-f48b-4cea-90bf-8e7245d002ea-2016049', '2f266b81-aad3-4c26-ac69-1bd04a208bf7-2016049', '3330a979-98df-4a38-ac3f-0b45374f8e3d-2016049', '360f1bcc-aa60-4052-a18a-b33da5745ff4-2016049', '36b98590-a7e6-4e00-8c7d-f0f3d25bafec-2016049', '38c54275-89ca-48e7-b8e6-c6ef320622f3-2016049', '408b4482-ff63-4a1f-9cf9-ca820cd51b39-2016049', '42a21eb9-10fd-4986-825b-9ea55ce13935-2016049', '50d7ad3f-57f0-45e1-911d-b0efff9deb8f-2016049', '5308a803-69e6-43cd-89db-66e93f9f83af-2016049', '551e2612-8a22-4c44-8290-78dc0e4af85d-2016049', '5e252b65-58dd-421f-a0db-3d4669bfb235-2016049', '631ed3c9-7863-4e7c-86fa-4bfb043f2851-2016049', '65894307-d4eb-4b2e-a0fa-bd83a102dc30-2016049', '679fe096-5475-4d4d-b0f8-81e32de889aa-2016049', '695bed09-0ad9-406e-b489-69408adeea06-2016049', '695c7749-a3b8-4158-bd14-59d1f2c3e736-2016049', '6bf06917-011b-4029-8fbe-a8dfea3bc598-2016049', '6d0ff6eb-0411-4863-b4e7-90958db98115-2016049', '6ed4c686-3856-4ad9-a850-8bca46d3dd75-2016049', '70e0030c-c6a6-4e0c-99fe-56d7d12264eb-2016049', '76b55900-eb3d-4d25-a538-f74302ffe72d-2016049', '78ccacb3-4eb9-4d95-b244-f3a709e39fd1-2016049', '7a4c6f7d-6bab-4221-93ac-005d30a4f6af-2016049', '7acd0d51-ff30-42a3-9338-590432bd0e43-2016049', '7bc3c413-4709-4ddd-a2ad-99f6cad9436c-2016049', '8116acfb-8035-4d34-b9b9-b0af2c5697df-2016049', '830bc2b9-592d-4334-842a-213ba4c0a347-2016049', '86257c69-a8f1-43b1-9e07-73129e2c3fbc-2016049', '875622b7-5253-43d2-8e0f-348767860eb9-2016049', '8b648393-5e66-40f7-b30c-e9d9f7fd6061-2016049', '8c45801f-6377-42e1-ae0a-9b53593ff843-2016049', '8e7f826f-8dc9-490a-9282-98d899a07cc7-2016049', '8edd6091-10fa-4617-8dc8-e0ce1d5b84f7-2016049', '93b8483d-a510-42ff-865e-33d5a8784dc4-2016049', '9474e816-b673-4e6d-83e0-28c274945bef-2016049', '990e5974-9c60-4c9a-ba23-ddce13971178-2016049', '9f0599d8-81f3-4ab5-b275-48a6ddaaae5b-2016049', 'a28a3caf-eea2-414f-8003-62ac82daaafa-2016049', 'a5080351-033f-4cfa-ad27-019fc84e052c-2016049', 'a6861fc3-2315-451b-9b95-c06d1ea96b4b-2016049', 'a6a9febf-ea16-4223-83d4-8e459e2af85a-2016049', 'acfd6255-f873-4901-8c9f-628c451eb190-2016049', 'af0463d4-f20f-4d13-bd0f-5834e2e8717b-2016049', 'b59438b9-aadc-4899-9afb-fe71974c5c3a-2016049', 'b7904f06-4067-4952-81ba-e6d64a93eef4-2016049', 'b98777af-0c7c-44f7-9c03-85d6d412856c-2016049', 'bb65d7a1-a5d5-4c89-9ef9-f0f1db06cc58-2016049', 'bdfabeb0-dc16-49d3-8fac-a467e8f9d4e1-2016049', 'bed107c2-b132-4425-a6ca-7187ba178a56-2016049', 'bfda850c-3027-4e91-afcb-cca5e73e4a03-2016049', 'c0568d62-49c7-4d9f-beba-ac0fb3e064c5-2016049', 'c07ab5f6-14a9-4b0b-a9af-9f7db6e8c220-2016049', 'c64f2bf3-90f0-4a96-b3a8-9f8db46dce92-2016049', 'c66f40ed-f72e-4012-991c-1f3726e5c8ad-2016049', 'c6cb20d8-35e2-4d0a-92e9-b2c823c8d5c5-2016049', 'c7f13d88-b4af-4484-9547-52197f778c08-2016049', 'c826aa43-0ef3-4790-9d36-326c257191a5-2016049', 'cab8dad3-0e37-4397-b041-7592a82fdcb9-2016049', 'cdb446bc-e801-404f-9911-9ba5c687f6af-2016049', 'cdfc27f0-b990-45f7-bac6-7c674cd157ac-2016049', 'ce76ce00-c8b5-4597-8ca3-1ec9db795b50-2016049', 'cfe58efd-ce2a-495a-90cd-6826f704ebee-2016049', 'd17b55c5-7848-4b79-a735-983aec995c52-2016049', 'da6ce150-5daf-4a91-9fdd-a85854462b08-2016049', 'db765752-b322-449c-a021-fc2f48c0e045-2016049', 'dc237027-8dae-4da7-91ec-501701ecd943-2016049', 'df7e906a-07f3-4a46-b9a5-0200427c26f7-2016049', 'e13f9c1b-dca0-4c63-a64c-76f6bc725156-2016049', 'e27143af-fdc0-4f6f-8a28-f57b78da75dc-2016049', 'e4473542-1804-41c0-82b2-eaddc245845d-2016049', 'e6d48180-814d-494b-99cc-0be5cd1a0eaf-2016049', 'e9759e79-461c-425e-af17-0a88be1a441f-2016049', 'ea185683-4427-44c3-84e1-706cf16781ce-2016049', 'eeb0a123-9482-4946-ab3f-9e63541cb655-2016049', 'f1f17cee-3fca-44bc-8974-b72d5f995a4a-2016049', 'f3332d55-ecc8-4644-9deb-180e42abb2eb-2016049', 'f78ea076-10a1-45dc-a848-c08e129c6a28-2016049', 'f9f7132d-56a2-43e2-baba-312f34dbaeed-2016049', 'fe33672e-7ea7-4c5d-8639-96b2cc7edb0c-2016049', '06181c40-9bb9-41d0-92d2-54b75496267e-2016049', '064405d4-4e83-4091-ad1f-0d20c8488ae9-2016049', '06442780-9a68-424b-9fbe-0184e7d14d2e-2016049', '0a820e12-033b-45d6-9ef9-d70f4c5e5b63-2016049', '17c0dce3-d68f-4457-8fd6-737b4b8e0f79-2016049', '19b5e6ce-c1a0-4cce-85f5-248c9f1abb6e-2016049', '1dfac554-00e4-43c7-ad04-cbc15c9af014-2016049', '1f022144-2f46-41bd-9fa6-e02701cf7843-2016049', '20b97bae-60d6-466d-aca9-334d9b2d63b6-2016049', '23dfda94-2d02-40cc-86b4-f6a775778cc5-2016049', '24cd85fa-6aee-4556-bb8a-b6696eb72a19-2016049', '2540867d-30aa-41cd-ae38-247adfc662e8-2016049', '2ca6a37f-67f5-4905-864b-ddf98d956ebb-2016049', '38793f95-324b-4f01-b1a7-45e1c9353bc1-2016049', '55d3e9a6-e153-43c3-a66c-cd60711ff4a9-2016049', '58c7b21d-f68f-4293-907b-34d0a0976bab-2016049', '629e076c-b9b1-4716-8e60-a225668de40f-2016049', '7b636fe2-1760-45c5-afce-505f2e927163-2016049', '7ee904e8-b3a9-4e1b-993c-653c826159ba-2016049', '9813294e-a28e-45c0-976d-a6fa65d87927-2016049', '9c43edf0-541f-4dbb-9fe1-42cc83d453bd-2016049', '9ec49e97-c399-441c-ac68-f59b516e8512-2016049', 'ac5d9985-64e2-4200-a1b4-7eacd2299ef1-2016049', 'ad44deb7-e56d-47bd-8d64-7147493e0aee-2016049', 'ad9f3d28-ef5a-4851-a5e4-5e2f7b63d17b-2016049', 'b350f97c-d836-4057-a19b-b57b735460be-2016049', 'b64a054f-02ea-476c-b478-754c87d124c8-2016049', 'ba4b2f3f-c8e3-4535-9781-426e4f77ba4c-2016049', 'c58b8603-e860-4621-b668-c1651053abdb-2016049', 'c92e4b92-91a1-47e2-be14-c03c6fe3bc96-2016049', 'cad51334-b3af-4c23-85c3-451c3447560a-2016049', 'd64197fc-0723-4c61-9ce8-ff2554e24154-2016049', 'e3473791-6153-49bc-a2ed-0b1e3e243942-2016049', 'e7171d5e-3fed-4fca-9691-8118dfbc94b3-2016049', 'e833aad1-6da3-4413-b25e-b2ab5b2029c0-2016049', 'eb1d889a-c427-49e1-95a1-fa6577002c9b-2016049', 'efada0af-09bf-4013-a1c6-0837f8ff59c5-2016049', 'f25cdbec-2f14-42c5-a6ef-a60f3a90caff-2016049', 'f62e6b4d-7f9d-4139-bac4-59f084fb09cd-2016049', 'fd4492f2-8aa9-4279-bdc0-73991786943f-2016049', 'fde3221a-9ce3-45a9-857f-bd196b07aa05-2016049', 'fdeb8912-f9d1-445d-aadb-e943534f67fe-2016049', '6dd37e24-0a9c-4749-8ab6-7e26d42925d6-2016049', '71f41513-6ac9-4d2e-97eb-6cd3b84f7043-2016049', '7cf8af73-1abf-40ad-9788-0d757201eeb0-2016049', '96dd9517-6638-4c13-9d92-a13020901147-2016049', 'dd7f64aa-3556-409b-bc86-71dc28b6fd45-2016049'] not in index\"",
     "output_type": "error",
     "traceback": [
      "\u001b[1;31m---------------------------------------------------------------------------\u001b[0m",
      "\u001b[1;31mKeyError\u001b[0m                                  Traceback (most recent call last)",
      "Input \u001b[1;32mIn [10]\u001b[0m, in \u001b[0;36m<module>\u001b[1;34m\u001b[0m\n\u001b[0;32m      3\u001b[0m sorter \u001b[38;5;241m=\u001b[39m [idx \u001b[38;5;241m+\u001b[39m\u001b[38;5;124m\"\u001b[39m\u001b[38;5;124m-\u001b[39m\u001b[38;5;124m\"\u001b[39m \u001b[38;5;241m+\u001b[39mdate \u001b[38;5;28;01mfor\u001b[39;00m  idx, date  \u001b[38;5;129;01min\u001b[39;00m cell_ids]\n\u001b[0;32m      4\u001b[0m train_y \u001b[38;5;241m=\u001b[39m train_y\u001b[38;5;241m.\u001b[39mset_index(\u001b[38;5;124m'\u001b[39m\u001b[38;5;124midx\u001b[39m\u001b[38;5;124m'\u001b[39m)\n\u001b[1;32m----> 5\u001b[0m train_y \u001b[38;5;241m=\u001b[39m \u001b[43mtrain_y\u001b[49m\u001b[38;5;241;43m.\u001b[39;49m\u001b[43mloc\u001b[49m\u001b[43m[\u001b[49m\u001b[43msorter\u001b[49m\u001b[43m]\u001b[49m\n",
      "File \u001b[1;32m~\\miniconda3\\envs\\pytorch\\lib\\site-packages\\pandas\\core\\indexing.py:931\u001b[0m, in \u001b[0;36m_LocationIndexer.__getitem__\u001b[1;34m(self, key)\u001b[0m\n\u001b[0;32m    928\u001b[0m axis \u001b[38;5;241m=\u001b[39m \u001b[38;5;28mself\u001b[39m\u001b[38;5;241m.\u001b[39maxis \u001b[38;5;129;01mor\u001b[39;00m \u001b[38;5;241m0\u001b[39m\n\u001b[0;32m    930\u001b[0m maybe_callable \u001b[38;5;241m=\u001b[39m com\u001b[38;5;241m.\u001b[39mapply_if_callable(key, \u001b[38;5;28mself\u001b[39m\u001b[38;5;241m.\u001b[39mobj)\n\u001b[1;32m--> 931\u001b[0m \u001b[38;5;28;01mreturn\u001b[39;00m \u001b[38;5;28;43mself\u001b[39;49m\u001b[38;5;241;43m.\u001b[39;49m\u001b[43m_getitem_axis\u001b[49m\u001b[43m(\u001b[49m\u001b[43mmaybe_callable\u001b[49m\u001b[43m,\u001b[49m\u001b[43m \u001b[49m\u001b[43maxis\u001b[49m\u001b[38;5;241;43m=\u001b[39;49m\u001b[43maxis\u001b[49m\u001b[43m)\u001b[49m\n",
      "File \u001b[1;32m~\\miniconda3\\envs\\pytorch\\lib\\site-packages\\pandas\\core\\indexing.py:1153\u001b[0m, in \u001b[0;36m_LocIndexer._getitem_axis\u001b[1;34m(self, key, axis)\u001b[0m\n\u001b[0;32m   1150\u001b[0m     \u001b[38;5;28;01mif\u001b[39;00m \u001b[38;5;28mhasattr\u001b[39m(key, \u001b[38;5;124m\"\u001b[39m\u001b[38;5;124mndim\u001b[39m\u001b[38;5;124m\"\u001b[39m) \u001b[38;5;129;01mand\u001b[39;00m key\u001b[38;5;241m.\u001b[39mndim \u001b[38;5;241m>\u001b[39m \u001b[38;5;241m1\u001b[39m:\n\u001b[0;32m   1151\u001b[0m         \u001b[38;5;28;01mraise\u001b[39;00m \u001b[38;5;167;01mValueError\u001b[39;00m(\u001b[38;5;124m\"\u001b[39m\u001b[38;5;124mCannot index with multidimensional key\u001b[39m\u001b[38;5;124m\"\u001b[39m)\n\u001b[1;32m-> 1153\u001b[0m     \u001b[38;5;28;01mreturn\u001b[39;00m \u001b[38;5;28;43mself\u001b[39;49m\u001b[38;5;241;43m.\u001b[39;49m\u001b[43m_getitem_iterable\u001b[49m\u001b[43m(\u001b[49m\u001b[43mkey\u001b[49m\u001b[43m,\u001b[49m\u001b[43m \u001b[49m\u001b[43maxis\u001b[49m\u001b[38;5;241;43m=\u001b[39;49m\u001b[43maxis\u001b[49m\u001b[43m)\u001b[49m\n\u001b[0;32m   1155\u001b[0m \u001b[38;5;66;03m# nested tuple slicing\u001b[39;00m\n\u001b[0;32m   1156\u001b[0m \u001b[38;5;28;01mif\u001b[39;00m is_nested_tuple(key, labels):\n",
      "File \u001b[1;32m~\\miniconda3\\envs\\pytorch\\lib\\site-packages\\pandas\\core\\indexing.py:1093\u001b[0m, in \u001b[0;36m_LocIndexer._getitem_iterable\u001b[1;34m(self, key, axis)\u001b[0m\n\u001b[0;32m   1090\u001b[0m \u001b[38;5;28mself\u001b[39m\u001b[38;5;241m.\u001b[39m_validate_key(key, axis)\n\u001b[0;32m   1092\u001b[0m \u001b[38;5;66;03m# A collection of keys\u001b[39;00m\n\u001b[1;32m-> 1093\u001b[0m keyarr, indexer \u001b[38;5;241m=\u001b[39m \u001b[38;5;28;43mself\u001b[39;49m\u001b[38;5;241;43m.\u001b[39;49m\u001b[43m_get_listlike_indexer\u001b[49m\u001b[43m(\u001b[49m\u001b[43mkey\u001b[49m\u001b[43m,\u001b[49m\u001b[43m \u001b[49m\u001b[43maxis\u001b[49m\u001b[43m)\u001b[49m\n\u001b[0;32m   1094\u001b[0m \u001b[38;5;28;01mreturn\u001b[39;00m \u001b[38;5;28mself\u001b[39m\u001b[38;5;241m.\u001b[39mobj\u001b[38;5;241m.\u001b[39m_reindex_with_indexers(\n\u001b[0;32m   1095\u001b[0m     {axis: [keyarr, indexer]}, copy\u001b[38;5;241m=\u001b[39m\u001b[38;5;28;01mTrue\u001b[39;00m, allow_dups\u001b[38;5;241m=\u001b[39m\u001b[38;5;28;01mTrue\u001b[39;00m\n\u001b[0;32m   1096\u001b[0m )\n",
      "File \u001b[1;32m~\\miniconda3\\envs\\pytorch\\lib\\site-packages\\pandas\\core\\indexing.py:1314\u001b[0m, in \u001b[0;36m_LocIndexer._get_listlike_indexer\u001b[1;34m(self, key, axis)\u001b[0m\n\u001b[0;32m   1311\u001b[0m \u001b[38;5;28;01melse\u001b[39;00m:\n\u001b[0;32m   1312\u001b[0m     keyarr, indexer, new_indexer \u001b[38;5;241m=\u001b[39m ax\u001b[38;5;241m.\u001b[39m_reindex_non_unique(keyarr)\n\u001b[1;32m-> 1314\u001b[0m \u001b[38;5;28;43mself\u001b[39;49m\u001b[38;5;241;43m.\u001b[39;49m\u001b[43m_validate_read_indexer\u001b[49m\u001b[43m(\u001b[49m\u001b[43mkeyarr\u001b[49m\u001b[43m,\u001b[49m\u001b[43m \u001b[49m\u001b[43mindexer\u001b[49m\u001b[43m,\u001b[49m\u001b[43m \u001b[49m\u001b[43maxis\u001b[49m\u001b[43m)\u001b[49m\n\u001b[0;32m   1316\u001b[0m \u001b[38;5;28;01mif\u001b[39;00m needs_i8_conversion(ax\u001b[38;5;241m.\u001b[39mdtype) \u001b[38;5;129;01mor\u001b[39;00m \u001b[38;5;28misinstance\u001b[39m(\n\u001b[0;32m   1317\u001b[0m     ax, (IntervalIndex, CategoricalIndex)\n\u001b[0;32m   1318\u001b[0m ):\n\u001b[0;32m   1319\u001b[0m     \u001b[38;5;66;03m# For CategoricalIndex take instead of reindex to preserve dtype.\u001b[39;00m\n\u001b[0;32m   1320\u001b[0m     \u001b[38;5;66;03m#  For IntervalIndex this is to map integers to the Intervals they match to.\u001b[39;00m\n\u001b[0;32m   1321\u001b[0m     keyarr \u001b[38;5;241m=\u001b[39m ax\u001b[38;5;241m.\u001b[39mtake(indexer)\n",
      "File \u001b[1;32m~\\miniconda3\\envs\\pytorch\\lib\\site-packages\\pandas\\core\\indexing.py:1377\u001b[0m, in \u001b[0;36m_LocIndexer._validate_read_indexer\u001b[1;34m(self, key, indexer, axis)\u001b[0m\n\u001b[0;32m   1374\u001b[0m     \u001b[38;5;28;01mraise\u001b[39;00m \u001b[38;5;167;01mKeyError\u001b[39;00m(\u001b[38;5;124mf\u001b[39m\u001b[38;5;124m\"\u001b[39m\u001b[38;5;124mNone of [\u001b[39m\u001b[38;5;132;01m{\u001b[39;00mkey\u001b[38;5;132;01m}\u001b[39;00m\u001b[38;5;124m] are in the [\u001b[39m\u001b[38;5;132;01m{\u001b[39;00maxis_name\u001b[38;5;132;01m}\u001b[39;00m\u001b[38;5;124m]\u001b[39m\u001b[38;5;124m\"\u001b[39m)\n\u001b[0;32m   1376\u001b[0m not_found \u001b[38;5;241m=\u001b[39m \u001b[38;5;28mlist\u001b[39m(ensure_index(key)[missing_mask\u001b[38;5;241m.\u001b[39mnonzero()[\u001b[38;5;241m0\u001b[39m]]\u001b[38;5;241m.\u001b[39munique())\n\u001b[1;32m-> 1377\u001b[0m \u001b[38;5;28;01mraise\u001b[39;00m \u001b[38;5;167;01mKeyError\u001b[39;00m(\u001b[38;5;124mf\u001b[39m\u001b[38;5;124m\"\u001b[39m\u001b[38;5;132;01m{\u001b[39;00mnot_found\u001b[38;5;132;01m}\u001b[39;00m\u001b[38;5;124m not in index\u001b[39m\u001b[38;5;124m\"\u001b[39m)\n",
      "\u001b[1;31mKeyError\u001b[0m: \"['018cf1a1-f945-4097-9c47-0c4690538bb5-2016049', '01be2cc7-ef77-4e4d-80ed-c4f8139162c3-2016049', '0aeaffd7-9089-49e7-85ad-2314f32cbf7c-2016049', '1135e377-22e6-4290-b4cd-e6739de7fd8a-2016049', '147d5eb4-e574-47e4-994a-8a2908c06050-2016049', '174e3100-c30e-46a4-ac7c-30cd521fc390-2016049', '2700b724-e8c8-4715-acef-f448b252e07c-2016049', '2b5aab1a-08d9-4b61-8ebe-3642eda042fb-2016049', '355693c4-a8a9-40ee-b669-2dabce1d64a8-2016049', '3bb605a5-02cc-4f60-a9aa-91b66a971db0-2016049', '43be1328-02b0-4cc1-8e9b-75842908cee3-2016049', '4f383fb2-6cc7-48a8-9bdb-9c5d150e6eae-2016049', '51ebe834-adf4-474e-871e-28ebca2bd0cc-2016049', '6e96bf06-cbc5-45b5-a36b-e37864226099-2016049', '70a8fbac-6968-46c8-bd00-eed221c1c58f-2016049', '74f8c8bc-2f60-4232-b447-43459d5d22f0-2016049', '844639be-b3a6-4665-a46b-e75774f8ed50-2016049', '8ca1aaab-07de-4532-a99f-4ab8bce2f862-2016049', '962f6718-ce02-4d13-b28c-e159d1adc2d4-2016049', '972ab3b1-7445-4f57-a1a1-c3be4c257869-2016049', 'a2588440-600e-41da-b2b9-1f5632ecdef6-2016049', 'a4e8e597-1c21-4a46-bf08-2ee5149c481c-2016049', 'c0e85162-6ff4-401b-b01e-cc6d7a51eac0-2016049', 'c89dc6ca-6d69-41ce-954d-b51f64aaacb1-2016049', 'd37da01c-d9d7-4cbf-985a-af44d5a3e1e9-2016049', 'd674ee8e-49f1-44c9-890d-4e04997522a1-2016049', 'df01bf44-46b8-4541-b0a4-ed1fae16ac38-2016049', 'f6a782f0-4b17-4989-815c-2398b77b09dd-2016049', 'fa92fd14-b8db-48b2-be54-f57db0a05bda-2016049', '02c3ec4a-8de4-4284-9ec1-5a942d3d098e-2016049', '05938de0-622b-4e0a-a82b-2a128e5be0b0-2016049', '0adbba56-85f8-49e0-9b11-000622238d91-2016049', '0b9543d3-3cf9-4f28-b8eb-fd22c1956153-2016049', '0d0b742e-c324-4140-8f62-746210d79080-2016049', '10a46ea0-13da-4cef-9aa6-ff48aa46881c-2016049', '14c19b34-6359-4d3f-865e-0b9852a0e958-2016049', '253c2443-b820-4c13-bf6d-ba7a5426f52d-2016049', '2f5c1968-2c34-4539-a9f4-38298d0de925-2016049', '333458b2-c1a9-47a3-8ae0-92053ad28ae3-2016049', '3b5bfd37-070c-4ee9-a470-c9338851e270-2016049', '40c4f8cd-b0ca-4d37-b91e-b69e5dff7f9a-2016049', '440d7558-67fd-43b4-826b-26d02663f871-2016049', '443abf3c-b57f-46f5-a40a-e202c5a41bb3-2016049', '47328cb4-c97b-41a8-b889-2e2843a7810a-2016049', '47e625fa-e2df-43ce-84dd-8ac21fdda75a-2016049', '491846d3-f81a-4777-b49f-0a0c74168395-2016049', '4f13c5e6-14c0-44cf-a2b0-4ef9bb3704fd-2016049', '517aefce-a617-4251-acb9-c5faf0b7fdf3-2016049', '630bae26-a6cc-4a36-bbe5-40dc15b38dea-2016049', '678f1920-0bc3-4687-af71-35d61030b1a0-2016049', '692c41af-2210-4dd6-916d-c99e76807447-2016049', '6bc3e088-5139-43f2-9b2a-ade1cedeae47-2016049', '6de38d5b-ccce-4ff2-90ed-1c7035491518-2016049', '76716786-19f9-41bd-8f0c-557b560d4a67-2016049', '80534a9b-0113-4fbe-99b1-7eac48719333-2016049', '89a7b0ef-1ec8-490f-9207-c93aa57a147f-2016049', '99a2d4a9-63a0-43a7-976d-2a1ed822186d-2016049', '9ea23099-dd30-4b26-9de7-5d42d5dae87b-2016049', 'a4256362-b0c9-403a-8703-f6d8d7263e47-2016049', 'ab89875f-3b86-4c6a-8d66-767017570dfc-2016049', 'b1077b69-4b02-458e-8a4b-e68695ac534f-2016049', 'b1936012-0d31-4b92-8d60-c24903b2e569-2016049', 'b5d7b6b8-4e5d-4b5e-8976-c72e99f57769-2016049', 'c59f438c-f00a-476a-938e-efd828e0d083-2016049', 'c5a82752-3e4b-43ec-8011-9111b9bfcb89-2016049', 'cacaa17b-0b1b-4fe2-a4c1-7728e6c154c1-2016049', 'cde149fe-708b-4a35-bea8-959eb9da4e0b-2016049', 'cfd2c7fc-c29a-4a32-a11d-d04fa2dd660d-2016049', 'd37ccc2e-7127-48ec-9425-2e77681c3635-2016049', 'dc31c331-837b-4b59-b184-051321e9489c-2016049', 'dca30f20-582e-40ef-be6d-aa7858be4baa-2016049', 'de9c541b-ce5e-4cc6-9ddd-03f85dc5b3d5-2016049', 'e467a17f-a729-4938-87a1-ac25157eed63-2016049', 'e776d9b6-2180-4f50-90bf-77f7b920fc3b-2016049', 'eab40c22-0c15-4291-a6ce-e085a7f0f1e4-2016049', 'f3e36cea-5eb2-495a-87f4-947395f325b0-2016049', 'f46e7d90-a754-44a8-b262-63f5c401a0ab-2016049', 'ff01e8c2-19a2-4a89-af0e-608b8f40ad5f-2016049', '02cf33c2-c8e2-48b9-bf72-92506e97e251-2016049', '064d7f3e-8bbd-49cd-b360-5c4590a19b9e-2016049', '06ec1554-a0ea-41cf-85f8-43f4b48c7599-2016049', '0a0ea690-5b73-4459-91d5-a6948d132a48-2016049', '0bd47ec1-0e3c-43bf-a491-534d06beb19f-2016049', '0cda0c4a-405b-4e16-8922-964190929d80-2016049', '10162c55-772d-49d2-8b1b-b1f9c86254b2-2016049', '2222b7b3-f48b-4cea-90bf-8e7245d002ea-2016049', '2f266b81-aad3-4c26-ac69-1bd04a208bf7-2016049', '3330a979-98df-4a38-ac3f-0b45374f8e3d-2016049', '360f1bcc-aa60-4052-a18a-b33da5745ff4-2016049', '36b98590-a7e6-4e00-8c7d-f0f3d25bafec-2016049', '38c54275-89ca-48e7-b8e6-c6ef320622f3-2016049', '408b4482-ff63-4a1f-9cf9-ca820cd51b39-2016049', '42a21eb9-10fd-4986-825b-9ea55ce13935-2016049', '50d7ad3f-57f0-45e1-911d-b0efff9deb8f-2016049', '5308a803-69e6-43cd-89db-66e93f9f83af-2016049', '551e2612-8a22-4c44-8290-78dc0e4af85d-2016049', '5e252b65-58dd-421f-a0db-3d4669bfb235-2016049', '631ed3c9-7863-4e7c-86fa-4bfb043f2851-2016049', '65894307-d4eb-4b2e-a0fa-bd83a102dc30-2016049', '679fe096-5475-4d4d-b0f8-81e32de889aa-2016049', '695bed09-0ad9-406e-b489-69408adeea06-2016049', '695c7749-a3b8-4158-bd14-59d1f2c3e736-2016049', '6bf06917-011b-4029-8fbe-a8dfea3bc598-2016049', '6d0ff6eb-0411-4863-b4e7-90958db98115-2016049', '6ed4c686-3856-4ad9-a850-8bca46d3dd75-2016049', '70e0030c-c6a6-4e0c-99fe-56d7d12264eb-2016049', '76b55900-eb3d-4d25-a538-f74302ffe72d-2016049', '78ccacb3-4eb9-4d95-b244-f3a709e39fd1-2016049', '7a4c6f7d-6bab-4221-93ac-005d30a4f6af-2016049', '7acd0d51-ff30-42a3-9338-590432bd0e43-2016049', '7bc3c413-4709-4ddd-a2ad-99f6cad9436c-2016049', '8116acfb-8035-4d34-b9b9-b0af2c5697df-2016049', '830bc2b9-592d-4334-842a-213ba4c0a347-2016049', '86257c69-a8f1-43b1-9e07-73129e2c3fbc-2016049', '875622b7-5253-43d2-8e0f-348767860eb9-2016049', '8b648393-5e66-40f7-b30c-e9d9f7fd6061-2016049', '8c45801f-6377-42e1-ae0a-9b53593ff843-2016049', '8e7f826f-8dc9-490a-9282-98d899a07cc7-2016049', '8edd6091-10fa-4617-8dc8-e0ce1d5b84f7-2016049', '93b8483d-a510-42ff-865e-33d5a8784dc4-2016049', '9474e816-b673-4e6d-83e0-28c274945bef-2016049', '990e5974-9c60-4c9a-ba23-ddce13971178-2016049', '9f0599d8-81f3-4ab5-b275-48a6ddaaae5b-2016049', 'a28a3caf-eea2-414f-8003-62ac82daaafa-2016049', 'a5080351-033f-4cfa-ad27-019fc84e052c-2016049', 'a6861fc3-2315-451b-9b95-c06d1ea96b4b-2016049', 'a6a9febf-ea16-4223-83d4-8e459e2af85a-2016049', 'acfd6255-f873-4901-8c9f-628c451eb190-2016049', 'af0463d4-f20f-4d13-bd0f-5834e2e8717b-2016049', 'b59438b9-aadc-4899-9afb-fe71974c5c3a-2016049', 'b7904f06-4067-4952-81ba-e6d64a93eef4-2016049', 'b98777af-0c7c-44f7-9c03-85d6d412856c-2016049', 'bb65d7a1-a5d5-4c89-9ef9-f0f1db06cc58-2016049', 'bdfabeb0-dc16-49d3-8fac-a467e8f9d4e1-2016049', 'bed107c2-b132-4425-a6ca-7187ba178a56-2016049', 'bfda850c-3027-4e91-afcb-cca5e73e4a03-2016049', 'c0568d62-49c7-4d9f-beba-ac0fb3e064c5-2016049', 'c07ab5f6-14a9-4b0b-a9af-9f7db6e8c220-2016049', 'c64f2bf3-90f0-4a96-b3a8-9f8db46dce92-2016049', 'c66f40ed-f72e-4012-991c-1f3726e5c8ad-2016049', 'c6cb20d8-35e2-4d0a-92e9-b2c823c8d5c5-2016049', 'c7f13d88-b4af-4484-9547-52197f778c08-2016049', 'c826aa43-0ef3-4790-9d36-326c257191a5-2016049', 'cab8dad3-0e37-4397-b041-7592a82fdcb9-2016049', 'cdb446bc-e801-404f-9911-9ba5c687f6af-2016049', 'cdfc27f0-b990-45f7-bac6-7c674cd157ac-2016049', 'ce76ce00-c8b5-4597-8ca3-1ec9db795b50-2016049', 'cfe58efd-ce2a-495a-90cd-6826f704ebee-2016049', 'd17b55c5-7848-4b79-a735-983aec995c52-2016049', 'da6ce150-5daf-4a91-9fdd-a85854462b08-2016049', 'db765752-b322-449c-a021-fc2f48c0e045-2016049', 'dc237027-8dae-4da7-91ec-501701ecd943-2016049', 'df7e906a-07f3-4a46-b9a5-0200427c26f7-2016049', 'e13f9c1b-dca0-4c63-a64c-76f6bc725156-2016049', 'e27143af-fdc0-4f6f-8a28-f57b78da75dc-2016049', 'e4473542-1804-41c0-82b2-eaddc245845d-2016049', 'e6d48180-814d-494b-99cc-0be5cd1a0eaf-2016049', 'e9759e79-461c-425e-af17-0a88be1a441f-2016049', 'ea185683-4427-44c3-84e1-706cf16781ce-2016049', 'eeb0a123-9482-4946-ab3f-9e63541cb655-2016049', 'f1f17cee-3fca-44bc-8974-b72d5f995a4a-2016049', 'f3332d55-ecc8-4644-9deb-180e42abb2eb-2016049', 'f78ea076-10a1-45dc-a848-c08e129c6a28-2016049', 'f9f7132d-56a2-43e2-baba-312f34dbaeed-2016049', 'fe33672e-7ea7-4c5d-8639-96b2cc7edb0c-2016049', '06181c40-9bb9-41d0-92d2-54b75496267e-2016049', '064405d4-4e83-4091-ad1f-0d20c8488ae9-2016049', '06442780-9a68-424b-9fbe-0184e7d14d2e-2016049', '0a820e12-033b-45d6-9ef9-d70f4c5e5b63-2016049', '17c0dce3-d68f-4457-8fd6-737b4b8e0f79-2016049', '19b5e6ce-c1a0-4cce-85f5-248c9f1abb6e-2016049', '1dfac554-00e4-43c7-ad04-cbc15c9af014-2016049', '1f022144-2f46-41bd-9fa6-e02701cf7843-2016049', '20b97bae-60d6-466d-aca9-334d9b2d63b6-2016049', '23dfda94-2d02-40cc-86b4-f6a775778cc5-2016049', '24cd85fa-6aee-4556-bb8a-b6696eb72a19-2016049', '2540867d-30aa-41cd-ae38-247adfc662e8-2016049', '2ca6a37f-67f5-4905-864b-ddf98d956ebb-2016049', '38793f95-324b-4f01-b1a7-45e1c9353bc1-2016049', '55d3e9a6-e153-43c3-a66c-cd60711ff4a9-2016049', '58c7b21d-f68f-4293-907b-34d0a0976bab-2016049', '629e076c-b9b1-4716-8e60-a225668de40f-2016049', '7b636fe2-1760-45c5-afce-505f2e927163-2016049', '7ee904e8-b3a9-4e1b-993c-653c826159ba-2016049', '9813294e-a28e-45c0-976d-a6fa65d87927-2016049', '9c43edf0-541f-4dbb-9fe1-42cc83d453bd-2016049', '9ec49e97-c399-441c-ac68-f59b516e8512-2016049', 'ac5d9985-64e2-4200-a1b4-7eacd2299ef1-2016049', 'ad44deb7-e56d-47bd-8d64-7147493e0aee-2016049', 'ad9f3d28-ef5a-4851-a5e4-5e2f7b63d17b-2016049', 'b350f97c-d836-4057-a19b-b57b735460be-2016049', 'b64a054f-02ea-476c-b478-754c87d124c8-2016049', 'ba4b2f3f-c8e3-4535-9781-426e4f77ba4c-2016049', 'c58b8603-e860-4621-b668-c1651053abdb-2016049', 'c92e4b92-91a1-47e2-be14-c03c6fe3bc96-2016049', 'cad51334-b3af-4c23-85c3-451c3447560a-2016049', 'd64197fc-0723-4c61-9ce8-ff2554e24154-2016049', 'e3473791-6153-49bc-a2ed-0b1e3e243942-2016049', 'e7171d5e-3fed-4fca-9691-8118dfbc94b3-2016049', 'e833aad1-6da3-4413-b25e-b2ab5b2029c0-2016049', 'eb1d889a-c427-49e1-95a1-fa6577002c9b-2016049', 'efada0af-09bf-4013-a1c6-0837f8ff59c5-2016049', 'f25cdbec-2f14-42c5-a6ef-a60f3a90caff-2016049', 'f62e6b4d-7f9d-4139-bac4-59f084fb09cd-2016049', 'fd4492f2-8aa9-4279-bdc0-73991786943f-2016049', 'fde3221a-9ce3-45a9-857f-bd196b07aa05-2016049', 'fdeb8912-f9d1-445d-aadb-e943534f67fe-2016049', '6dd37e24-0a9c-4749-8ab6-7e26d42925d6-2016049', '71f41513-6ac9-4d2e-97eb-6cd3b84f7043-2016049', '7cf8af73-1abf-40ad-9788-0d757201eeb0-2016049', '96dd9517-6638-4c13-9d92-a13020901147-2016049', 'dd7f64aa-3556-409b-bc86-71dc28b6fd45-2016049'] not in index\""
     ]
    }
   ],
   "source": [
    "#sort train_y so it has correct order before stripping labels\n",
    "train_y['idx'] = train_y['cell_id'] +\"-\"+train_y['date']\n",
    "sorter = [idx +\"-\" +date for  idx, date  in cell_ids]\n",
    "train_y = train_y.set_index('idx')\n",
    "train_y = train_y.loc[sorter]"
   ]
  },
  {
   "cell_type": "code",
   "execution_count": 19,
   "id": "6b9710b9",
   "metadata": {
    "scrolled": true
   },
   "outputs": [
    {
     "name": "stdout",
     "output_type": "stream",
     "text": [
      "91490\n",
      "(91490, 3)\n"
     ]
    },
    {
     "data": {
      "text/plain": [
       "91278"
      ]
     },
     "execution_count": 19,
     "metadata": {},
     "output_type": "execute_result"
    }
   ],
   "source": [
    "print(len(sorter))\n",
    "print(train_y.shape)\n",
    "\n",
    "\n",
    "a = [True if idx in train_y.index else False for idx in sorter]\n",
    "np.sum(a)"
   ]
  },
  {
   "cell_type": "markdown",
   "id": "xzy-yKA8089p",
   "metadata": {
    "id": "xzy-yKA8089p"
   },
   "source": [
    "# Basic pytorch CNN"
   ]
  },
  {
   "cell_type": "code",
   "execution_count": 3,
   "id": "4hSy2cPa0w1L",
   "metadata": {
    "cellView": "form",
    "id": "4hSy2cPa0w1L"
   },
   "outputs": [],
   "source": [
    "#@title Imports\n",
    "import torch\n",
    "import torch.nn as nn\n",
    "import torch.nn.functional as F\n",
    "import torch.optim as optim\n",
    "from torch.utils.data import TensorDataset, DataLoader\n",
    "from torch.utils.tensorboard import SummaryWriter"
   ]
  },
  {
   "cell_type": "code",
   "execution_count": null,
   "id": "Y6LVO6sr0cNn",
   "metadata": {
    "id": "Y6LVO6sr0cNn"
   },
   "outputs": [],
   "source": [
    "# Do categorical preds to start (change)\n",
    "train_y['cat'] = train_y['snowpack'].apply(lambda x: 1 if x > 15 else 0)\n",
    "dataset.shape, train_y.shape"
   ]
  },
  {
   "cell_type": "code",
   "execution_count": null,
   "id": "_ZFymFE0nMRh",
   "metadata": {
    "cellView": "form",
    "id": "_ZFymFE0nMRh"
   },
   "outputs": [],
   "source": [
    "#@title Define simple CNN\n",
    "# From: https://pytorch.org/tutorials/recipes/recipes/defining_a_neural_network.html\n",
    "# Also used: https://pytorch.org/tutorials/beginner/deep_learning_60min_blitz.html\n",
    "\n",
    "START_D = 14\n",
    "START_HW = 21\n",
    "\n",
    "class Net(nn.Module):\n",
    "\n",
    "    def _conv_calc(self, in_dim, pad, stride, k):\n",
    "        out = int(np.floor((in_dim + 2 * pad - (k - 1) - 1) / stride + 1))\n",
    "        return out\n",
    "\n",
    "    def __init__(self, cdim1, cdim2, kernel_sz, dropout,\n",
    "                 ldim, nclasses):\n",
    "        super(Net, self).__init__()\n",
    "        \n",
    "        self.conv1 = nn.Conv2d(14, cdim1, kernel_sz, 1)\n",
    "        c1_dim = self._conv_calc(START_HW, 0, 1, kernel_sz)\n",
    "        # print('c1 dim:', c1_dim)\n",
    "        \n",
    "        self.conv2 = nn.Conv2d(cdim1, cdim2, kernel_sz, 1)\n",
    "        c2_dim = self._conv_calc(c1_dim, 0, 1, kernel_sz)\n",
    "        # print('c2 dim:', c2_dim)\n",
    "        \n",
    "        self.maxpool1 = nn.MaxPool2d(2)\n",
    "        mp1_dim = self._conv_calc(c2_dim, 0, 2, 2)\n",
    "        # print('mp1 dim:', mp1_dim)\n",
    "        \n",
    "        # self.conv3 = nn.Conv2d(cdim2, cdim2, kernel_sz, 1)\n",
    "\n",
    "        self.dropout1 = nn.Dropout2d(dropout)\n",
    "        self.dropout2 = nn.Dropout2d(2 * dropout)\n",
    "\n",
    "        flattened_dim = cdim2 * mp1_dim * mp1_dim\n",
    "        print(flattened_dim)\n",
    "        self.fc1 = nn.Linear(flattened_dim, ldim)\n",
    "        # self.fc1 = nn.Linear(8192, ldim)\n",
    "        self.fc2 = nn.Linear(ldim, nclasses)\n",
    "\n",
    "    def forward(self, x):\n",
    "        x = self.conv1(x)\n",
    "        x = F.relu(x)\n",
    "        \n",
    "        x = self.conv2(x)\n",
    "        x = F.relu(x)\n",
    "        \n",
    "        # x = self.dropout1(x)\n",
    "        # x = self.conv3(x)\n",
    "        # x = F.relu(x)\n",
    "\n",
    "        # x = F.max_pool2d(x, 2)\n",
    "        x = self.maxpool1(x)\n",
    "        \n",
    "        # x = self.dropout1(x)\n",
    "        x = torch.flatten(x, 1)\n",
    "\n",
    "        x = self.fc1(x)\n",
    "        x = F.relu(x)\n",
    "        x = self.dropout2(x)\n",
    "        x = self.fc2(x)\n",
    "        \n",
    "        output = nn.Softmax(dim=1)(x)\n",
    "        return output\n",
    "\n",
    "    \n",
    "\n",
    "\n"
   ]
  },
  {
   "cell_type": "code",
   "execution_count": null,
   "id": "vH2t7GaryngE",
   "metadata": {
    "cellView": "form",
    "id": "vH2t7GaryngE"
   },
   "outputs": [],
   "source": [
    "#@title Helpers to get predictions and accuracy\n",
    "def predict(cnn, x, as_numpy=False):\n",
    "    device = torch.device(\"cuda:0\" if torch.cuda.is_available() else \"cpu\")\n",
    "    cnn.eval()\n",
    "    x = torch.from_numpy(x).type(torch.FloatTensor).to(device)\n",
    "    output = cnn(x)\n",
    "    if as_numpy:\n",
    "        output = output.flatten().cpu().detach().numpy()\n",
    "    cnn.train()\n",
    "    return output\n",
    "\n",
    "def get_accuracy(cnn, x, y):\n",
    "    y = torch.from_numpy(y).type(torch.LongTensor).to(device)\n",
    "    _, outputs = torch.max(predict(cnn, x), 1)\n",
    "    loss = (outputs == y).sum()\n",
    "    return round(int(loss) / x.shape[0], 3)\n",
    "\n"
   ]
  },
  {
   "cell_type": "code",
   "execution_count": null,
   "id": "CzIiQX4hnMOL",
   "metadata": {
    "cellView": "form",
    "colab": {
     "base_uri": "https://localhost:8080/"
    },
    "id": "CzIiQX4hnMOL",
    "outputId": "8aeeac04-d3f3-49a8-d991-7c26fe94f061"
   },
   "outputs": [
    {
     "name": "stdout",
     "output_type": "stream",
     "text": [
      "512\n"
     ]
    },
    {
     "data": {
      "text/plain": [
       "torch.Size([1, 2])"
      ]
     },
     "execution_count": 113,
     "metadata": {},
     "output_type": "execute_result"
    }
   ],
   "source": [
    "#@title Test run\n",
    "my_nn = Net(cdim1=8, cdim2=8, kernel_sz=3, dropout=0.25, ldim=8, nclasses=2)\n",
    "optimizer = optim.SGD(my_nn.parameters(), lr=0.001)\n",
    "optimizer.zero_grad()\n",
    "\n",
    "test_im = torch.from_numpy(dataset[0]).reshape(1, 14, 21, 21)\n",
    "result = my_nn(test_im.type(torch.FloatTensor))\n",
    "result.shape\n"
   ]
  },
  {
   "cell_type": "code",
   "execution_count": null,
   "id": "j9xCBXI-nMK9",
   "metadata": {
    "cellView": "form",
    "id": "j9xCBXI-nMK9"
   },
   "outputs": [],
   "source": [
    "#@title Get data loaders\n",
    "train_dataset = TensorDataset(torch.Tensor(dataset),\n",
    "                              torch.Tensor(train_y['cat']).type(torch.LongTensor))\n",
    "train_loader = DataLoader(train_dataset, batch_size=64)\n",
    "\n",
    "mini_x, mini_y = np.array(dataset[:1000,]), np.array(train_y['cat'][:1000])\n",
    "mini_dataset = TensorDataset(torch.Tensor(mini_x),\n",
    "                              torch.Tensor(mini_y).type(torch.LongTensor))\n",
    "mini_loader = DataLoader(mini_dataset, batch_size=64)"
   ]
  },
  {
   "cell_type": "code",
   "execution_count": null,
   "id": "GwEGyBD2nMIR",
   "metadata": {
    "cellView": "form",
    "id": "GwEGyBD2nMIR"
   },
   "outputs": [],
   "source": [
    "#@title Setup net\n",
    "device = torch.device(\"cuda:0\" if torch.cuda.is_available() else \"cpu\")\n",
    "my_nn.to(device)\n",
    "\n",
    "optimizer = optim.SGD(my_nn.parameters(), lr=0.001)\n",
    "criterion = nn.CrossEntropyLoss()\n",
    "writer = SummaryWriter('runs/cnn_full')\n",
    "write_index = 0\n",
    "\n",
    "N_EPOCHS = 2\n"
   ]
  },
  {
   "cell_type": "code",
   "execution_count": null,
   "id": "rZKIBpS5nMAZ",
   "metadata": {
    "cellView": "form",
    "colab": {
     "base_uri": "https://localhost:8080/"
    },
    "id": "rZKIBpS5nMAZ",
    "outputId": "40e82096-4e7c-42b9-9b24-2e38d7fb1bec"
   },
   "outputs": [
    {
     "name": "stdout",
     "output_type": "stream",
     "text": [
      "0 / 2 complete 0.795 0.6782322029272715\n",
      "1 / 2 complete 0.796 0.6288726329803467\n",
      "Finished Training\n"
     ]
    }
   ],
   "source": [
    "#@title Run net\n",
    "for epoch in range(N_EPOCHS):\n",
    "    running_loss = 0.0\n",
    "    for i, data in enumerate(mini_loader, 0):\n",
    "        optimizer.zero_grad()\n",
    "        inputs, labels = data[0].to(device), data[1].to(device)\n",
    "\n",
    "        outputs = my_nn(inputs)\n",
    "        loss = criterion(outputs, labels)\n",
    "        loss.backward()\n",
    "        optimizer.step()\n",
    "\n",
    "        running_loss += loss.item()\n",
    "        if (i + 1) % 100 == 0:\n",
    "            writer.add_scalar('Loss/train', running_loss / i, write_index)\n",
    "        write_index += 1\n",
    "\n",
    "    val_acc = get_accuracy(my_nn, mini_x, mini_y)\n",
    "    writer.add_scalar('Acc/val', val_acc, write_index)\n",
    "    print(epoch, '/', N_EPOCHS, 'complete', val_acc, running_loss / i)\n",
    "\n",
    "writer.close()\n",
    "print('Finished Training')"
   ]
  }
 ],
 "metadata": {
  "colab": {
   "name": "CNN.ipynb",
   "provenance": []
  },
  "kernelspec": {
   "display_name": "Python 3 (ipykernel)",
   "language": "python",
   "name": "python3"
  },
  "language_info": {
   "codemirror_mode": {
    "name": "ipython",
    "version": 3
   },
   "file_extension": ".py",
   "mimetype": "text/x-python",
   "name": "python",
   "nbconvert_exporter": "python",
   "pygments_lexer": "ipython3",
   "version": "3.9.9"
  }
 },
 "nbformat": 4,
 "nbformat_minor": 5
}
