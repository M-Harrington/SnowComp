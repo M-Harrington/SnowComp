{
 "cells": [
  {
   "cell_type": "markdown",
   "id": "b204d367",
   "metadata": {},
   "source": [
    "# Making Sentinel images CNN-ready"
   ]
  },
  {
   "cell_type": "code",
   "execution_count": 1,
   "id": "7a142cd5",
   "metadata": {},
   "outputs": [],
   "source": [
    "import pandas as pd\n",
    "import numpy as np\n",
    "import matplotlib.pyplot as plt\n",
    "from tqdm.notebook import tqdm\n",
    "tqdm.pandas() "
   ]
  },
  {
   "cell_type": "code",
   "execution_count": 2,
   "id": "08356dd6",
   "metadata": {},
   "outputs": [],
   "source": [
    "import ast\n",
    "import math\n",
    "import json"
   ]
  },
  {
   "cell_type": "code",
   "execution_count": 3,
   "id": "da8438ae",
   "metadata": {},
   "outputs": [],
   "source": [
    "path = \"C:/Users/Matt/Dropbox/SnowComp/SentinelHelper/\"\n",
    "\n",
    "sentinel_trainfeat = pd.read_csv(path+ \"sentinel_trainfeat.csv\")\n",
    "sentinel_testfeat =pd.read_csv(path+ \"sentinel_testfeat.csv\")\n",
    "sentinel_ylabs = pd.read_csv(path+ \"sentinel_ylab.csv\") \n",
    "\n",
    "# sentinel_sub = pd.read_csv(path+ \"sentinel_sub.csv\")\n",
    "\n",
    "missing_val = -100"
   ]
  },
  {
   "cell_type": "code",
   "execution_count": 4,
   "id": "623b3145",
   "metadata": {},
   "outputs": [
    {
     "data": {
      "application/vnd.jupyter.widget-view+json": {
       "model_id": "57999f55266e4bf1822025284d4d096d",
       "version_major": 2,
       "version_minor": 0
      },
      "text/plain": [
       "  0%|          | 0/106760 [00:00<?, ?it/s]"
      ]
     },
     "metadata": {},
     "output_type": "display_data"
    },
    {
     "data": {
      "application/vnd.jupyter.widget-view+json": {
       "model_id": "2bc33119613e4881b5fbdd032e9cbf55",
       "version_major": 2,
       "version_minor": 0
      },
      "text/plain": [
       "  0%|          | 0/38628 [00:00<?, ?it/s]"
      ]
     },
     "metadata": {},
     "output_type": "display_data"
    },
    {
     "data": {
      "application/vnd.jupyter.widget-view+json": {
       "model_id": "1c869c5db4e04d288452e0be7e3d6745",
       "version_major": 2,
       "version_minor": 0
      },
      "text/plain": [
       "  0%|          | 0/76410 [00:00<?, ?it/s]"
      ]
     },
     "metadata": {},
     "output_type": "display_data"
    }
   ],
   "source": [
    "def translator(row):\n",
    "    if row is np.nan:\n",
    "        return np.full((41, 41), missing_val)\n",
    "    else:\n",
    "        return np.array(json.loads(row))\n",
    "\n",
    "sentinel_trainfeat['first'] = sentinel_trainfeat['first'].astype(object)\n",
    "sentinel_trainfeat['first'] = sentinel_trainfeat['first'].progress_map(translator)\n",
    "\n",
    "sentinel_testfeat['first'] = sentinel_testfeat['first'].astype(object)\n",
    "sentinel_testfeat['first'] = sentinel_testfeat['first'].progress_map(translator)\n",
    "\n",
    "sentinel_ylabs['first'] = sentinel_ylabs['first'].astype(object)\n",
    "sentinel_ylabs['first'] = sentinel_ylabs['first'].progress_map(translator)\n"
   ]
  },
  {
   "cell_type": "code",
   "execution_count": 5,
   "id": "f8f6439d",
   "metadata": {},
   "outputs": [],
   "source": [
    "sentinel_trainfeat.drop('system:index', axis =1, inplace = True)\n",
    "sentinel_testfeat.drop('system:index', axis =1, inplace = True)\n",
    "sentinel_ylabs.drop('system:index', axis =1, inplace = True)"
   ]
  },
  {
   "cell_type": "markdown",
   "id": "0bfe837f",
   "metadata": {},
   "source": [
    "### Fix date column, save"
   ]
  },
  {
   "cell_type": "code",
   "execution_count": 6,
   "id": "3ce696e2",
   "metadata": {},
   "outputs": [],
   "source": [
    "date_fix = lambda row: row[0:-9]\n",
    "\n",
    "sentinel_trainfeat['date'] = sentinel_trainfeat['date'].map(date_fix)\n",
    "sentinel_testfeat['date'] = sentinel_testfeat['date'].map(date_fix)\n",
    "sentinel_ylabs['date'] = sentinel_ylabs['date'].map(date_fix)"
   ]
  },
  {
   "cell_type": "code",
   "execution_count": 7,
   "id": "a85264fa",
   "metadata": {
    "scrolled": true
   },
   "outputs": [],
   "source": [
    "save_path = \"C:/Users/Matt/Dropbox/SnowComp/SentinelHelper/\"\n",
    "\n",
    "sentinel_trainfeat.to_csv(save_path + \"sent_pp_trainfeat.csv\", index = False)\n",
    "sentinel_testfeat.to_csv(save_path + \"sent_pp_testfeat.csv\", index = False)\n",
    "sentinel_ylabs.to_csv(save_path + \"sent_pp_ylab.csv\", index = False)"
   ]
  },
  {
   "cell_type": "code",
   "execution_count": 8,
   "id": "50f9f26b",
   "metadata": {},
   "outputs": [],
   "source": [
    "del sentinel_trainfeat, sentinel_testfeat, sentinel_ylabs"
   ]
  },
  {
   "cell_type": "markdown",
   "id": "97af0707",
   "metadata": {},
   "source": [
    "## Submission Data"
   ]
  },
  {
   "cell_type": "code",
   "execution_count": null,
   "id": "7bd94516",
   "metadata": {},
   "outputs": [],
   "source": [
    "sentinel_sub1 = pd.read_csv(path+ \"sentinel_sub1.csv\")\n",
    "sentinel_sub2 =pd.read_csv(path+ \"sentinel_sub2.csv\")\n",
    "\n",
    "sentinel_sub1['first'] = sentinel_sub1['first'].astype(object)\n",
    "sentinel_sub1['first'] = sentinel_sub1['first'].progress_map(translator)\n",
    "\n",
    "sentinel_sub2['first'] = sentinel_sub2['first'].astype(object)\n",
    "sentinel_sub2['first'] = sentinel_sub2['first'].progress_map(translator)\n",
    "\n",
    "sentinel_sub1.drop('system:index', axis =1, inplace = True)\n",
    "sentinel_sub2.drop('system:index', axis =1, inplace = True)\n",
    "\n",
    "sentinel_sub1['date'] = sentinel_sub1['date'].map(date_fix)\n",
    "sentinel_sub2['date'] = sentinel_sub2['date'].map(date_fix)\n",
    "\n",
    "# sentinel_sub1.to_csv(save_path + \"sent_pp_sub1.csv\", index = False)\n",
    "# sentinel_sub2.to_csv(save_path + \"sent_pp_sub2.csv\", index = False)"
   ]
  }
 ],
 "metadata": {
  "kernelspec": {
   "display_name": "Python 3 (ipykernel)",
   "language": "python",
   "name": "python3"
  },
  "language_info": {
   "codemirror_mode": {
    "name": "ipython",
    "version": 3
   },
   "file_extension": ".py",
   "mimetype": "text/x-python",
   "name": "python",
   "nbconvert_exporter": "python",
   "pygments_lexer": "ipython3",
   "version": "3.10.1"
  }
 },
 "nbformat": 4,
 "nbformat_minor": 5
}
