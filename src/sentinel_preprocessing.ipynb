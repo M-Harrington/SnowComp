{
 "cells": [
  {
   "cell_type": "markdown",
   "id": "b204d367",
   "metadata": {},
   "source": [
    "# Making Sentinel images CNN-ready"
   ]
  },
  {
   "cell_type": "code",
   "execution_count": 8,
   "id": "7a142cd5",
   "metadata": {},
   "outputs": [],
   "source": [
    "import pandas as pd\n",
    "import numpy as np\n",
    "import matplotlib.pyplot as plt\n",
    "from tqdm.notebook import tqdm\n",
    "tqdm.pandas() \n",
    "\n",
    "import math\n",
    "import json\n",
    "\n",
    "path = \"C:/Users/Matt/Dropbox/SnowComp/SentinelHelper/\""
   ]
  },
  {
   "cell_type": "code",
   "execution_count": 80,
   "id": "da8438ae",
   "metadata": {},
   "outputs": [],
   "source": [
    "sentinel_trainfeat = pd.read_csv(path+ \"sentinel_trainfeat.csv\")\n",
    "sentinel_testfeat =pd.read_csv(path+ \"sentinel_testfeat.csv\")\n",
    "sentinel_ylabs = pd.read_csv(path+ \"sentinel_ylab.csv\") \n",
    "\n",
    "# sentinel_sub = pd.read_csv(path+ \"sentinel_sub.csv\")\n",
    "\n"
   ]
  },
  {
   "cell_type": "code",
   "execution_count": 6,
   "id": "396a0a30",
   "metadata": {},
   "outputs": [],
   "source": [
    "def translator(row, missing_val = -100):\n",
    "    if row is np.nan:\n",
    "        return np.full((41, 41), missing_val, dtype= np.float64)\n",
    "    else:\n",
    "        return np.array(json.loads(row))\n",
    "\n",
    "def array_create(array):\n",
    "    final = np.empty((array.shape[0], 41, 41), dtype = np.float64)\n",
    "    for i, image in tqdm(array.iterrows(), total = array.shape[0]):\n",
    "        image = translator(image['first'])\n",
    "        final[i] = np.array(image, dtype = np.float64)\n",
    "        \n",
    "    return final\n",
    "\n",
    "date_fix = lambda row: row[0:-9]"
   ]
  },
  {
   "cell_type": "code",
   "execution_count": 83,
   "id": "623b3145",
   "metadata": {
    "scrolled": true
   },
   "outputs": [
    {
     "data": {
      "application/vnd.jupyter.widget-view+json": {
       "model_id": "4d88c9ee52e440fd85381823a617b85d",
       "version_major": 2,
       "version_minor": 0
      },
      "text/plain": [
       "  0%|          | 0/106760 [00:00<?, ?it/s]"
      ]
     },
     "metadata": {},
     "output_type": "display_data"
    },
    {
     "data": {
      "application/vnd.jupyter.widget-view+json": {
       "model_id": "d92d5f2d4cc24821978b4ddd8331d51e",
       "version_major": 2,
       "version_minor": 0
      },
      "text/plain": [
       "  0%|          | 0/38628 [00:00<?, ?it/s]"
      ]
     },
     "metadata": {},
     "output_type": "display_data"
    },
    {
     "data": {
      "application/vnd.jupyter.widget-view+json": {
       "model_id": "7b672edd27e44a5482861c28a8aa4260",
       "version_major": 2,
       "version_minor": 0
      },
      "text/plain": [
       "  0%|          | 0/76410 [00:00<?, ?it/s]"
      ]
     },
     "metadata": {},
     "output_type": "display_data"
    }
   ],
   "source": [
    "sentinel_trainfeat.drop('system:index', axis =1, inplace = True)\n",
    "sentinel_testfeat.drop('system:index', axis =1, inplace = True)\n",
    "sentinel_ylabs.drop('system:index', axis =1, inplace = True)\n",
    "\n",
    "sentinel_trainfeat['date'] = sentinel_trainfeat['date'].map(date_fix)\n",
    "sentinel_testfeat['date'] = sentinel_testfeat['date'].map(date_fix)\n",
    "sentinel_ylabs['date'] = sentinel_ylabs['date'].map(date_fix)\n",
    "\n",
    "sentinel_trainfeat, trainfeat_meta = array_create(sentinel_trainfeat), \\\n",
    "    sentinel_trainfeat.drop(\"first\", axis=1)\n",
    "\n",
    "sentinel_testfeat, testfeat_meta = array_create(sentinel_testfeat), \\\n",
    "    sentinel_testfeat.drop(\"first\", axis=1)\n",
    "\n",
    "sentinel_ylabs, ylabs_meta = array_create(sentinel_ylabs), \\\n",
    "    sentinel_ylabs.drop(\"first\", axis=1)\n"
   ]
  },
  {
   "cell_type": "markdown",
   "id": "13d87262",
   "metadata": {},
   "source": [
    "### Fix date column, save two files, numpy and otherwise"
   ]
  },
  {
   "cell_type": "code",
   "execution_count": 84,
   "id": "15ae0f3a",
   "metadata": {
    "scrolled": true
   },
   "outputs": [],
   "source": [
    "save_path = \"C:/Users/Matt/Dropbox/SnowComp/SentinelHelper/\"\n",
    "\n",
    "np.save(save_path + \"sent_pp_trainfeat.npy\",sentinel_trainfeat)\n",
    "np.save(save_path + \"sent_pp_testfeat.npy\", sentinel_testfeat)\n",
    "np.save(save_path + \"sent_pp_ylabs.npy\", sentinel_ylabs)\n",
    "\n",
    "trainfeat_meta.to_csv(save_path + \"sent_trainfeat_meta.csv\", index = False)\n",
    "testfeat_meta.to_csv(save_path + \"sent_testfeat_meta.csv\", index = False)\n",
    "ylabs_meta.to_csv(save_path + \"sent_ylabs_meta.csv\", index = False)"
   ]
  },
  {
   "cell_type": "code",
   "execution_count": 87,
   "id": "03ce222b",
   "metadata": {
    "scrolled": false
   },
   "outputs": [],
   "source": [
    "del sentinel_trainfeat, sentinel_testfeat, sentinel_ylabs, trainfeat_meta, testfeat_meta, ylabs_meta"
   ]
  },
  {
   "cell_type": "markdown",
   "id": "44b3a9f7",
   "metadata": {},
   "source": [
    "## Submission Data"
   ]
  },
  {
   "cell_type": "code",
   "execution_count": null,
   "id": "11ff9943",
   "metadata": {},
   "outputs": [],
   "source": [
    "sentinel_sub1.shape"
   ]
  },
  {
   "cell_type": "code",
   "execution_count": null,
   "id": "c7085a53",
   "metadata": {},
   "outputs": [],
   "source": [
    "sub1_meta"
   ]
  },
  {
   "cell_type": "code",
   "execution_count": null,
   "id": "ac337bc4",
   "metadata": {
    "scrolled": true
   },
   "outputs": [],
   "source": [
    "sentinel_sub1 = pd.read_csv(path+ \"sentinel_sub0of2.csv\")\n",
    "sentinel_sub2 =pd.read_csv(path+ \"sentinel_sub1of2.csv\")\n",
    "\n",
    "sentinel_sub1.drop('system:index', axis =1, inplace = True)\n",
    "sentinel_sub2.drop('system:index', axis =1, inplace = True)\n",
    "\n",
    "sentinel_sub1['date'] = sentinel_sub1['date'].map(date_fix)\n",
    "sentinel_sub2['date'] = sentinel_sub2['date'].map(date_fix)\n",
    "\n",
    "sentinel_sub1, sub1_meta = array_create(sentinel_sub1), \\\n",
    "    sentinel_sub1.drop(\"first\", axis=1)\n",
    "\n",
    "sentinel_sub2, sub2_meta = array_create(sentinel_sub2), \\\n",
    "    sentinel_sub2.drop(\"first\", axis=1)\n",
    "\n",
    "\n",
    "np.save(save_path + \"sent_pp_sub1.npy\",sentinel_sub1)\n",
    "np.save(save_path + \"sent_pp_sub2.npy\", sentinel_sub2)\n",
    "sub1_meta.to_csv(save_path + \"sent_sub1_meta.csv\", index = False)\n",
    "sub2_meta.to_csv(save_path + \"sent_sub2_meta.csv\", index = False)"
   ]
  },
  {
   "cell_type": "code",
   "execution_count": 89,
   "id": "929626e2",
   "metadata": {
    "scrolled": true
   },
   "outputs": [
    {
     "ename": "NameError",
     "evalue": "name 'sentinel_sub2' is not defined",
     "output_type": "error",
     "traceback": [
      "\u001b[1;31m---------------------------------------------------------------------------\u001b[0m",
      "\u001b[1;31mNameError\u001b[0m                                 Traceback (most recent call last)",
      "\u001b[1;32m~\\AppData\\Local\\Temp/ipykernel_12784/2490575798.py\u001b[0m in \u001b[0;36m<module>\u001b[1;34m\u001b[0m\n\u001b[1;32m----> 1\u001b[1;33m \u001b[1;32mdel\u001b[0m \u001b[0msentinel_sub1\u001b[0m\u001b[1;33m,\u001b[0m \u001b[0msentinel_sub2\u001b[0m\u001b[1;33m,\u001b[0m \u001b[0msub1_meta\u001b[0m\u001b[1;33m,\u001b[0m \u001b[0msub2_meta\u001b[0m\u001b[1;33m\u001b[0m\u001b[1;33m\u001b[0m\u001b[0m\n\u001b[0m",
      "\u001b[1;31mNameError\u001b[0m: name 'sentinel_sub2' is not defined"
     ]
    }
   ],
   "source": [
    "del sentinel_sub1, sentinel_sub2, sub1_meta, sub2_meta"
   ]
  }
 ],
 "metadata": {
  "kernelspec": {
   "display_name": "Python 3 (ipykernel)",
   "language": "python",
   "name": "python3"
  },
  "language_info": {
   "codemirror_mode": {
    "name": "ipython",
    "version": 3
   },
   "file_extension": ".py",
   "mimetype": "text/x-python",
   "name": "python",
   "nbconvert_exporter": "python",
   "pygments_lexer": "ipython3",
   "version": "3.10.1"
  }
 },
 "nbformat": 4,
 "nbformat_minor": 5
}
