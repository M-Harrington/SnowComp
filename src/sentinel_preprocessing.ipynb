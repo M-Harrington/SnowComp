{
 "cells": [
  {
   "cell_type": "markdown",
   "id": "b204d367",
   "metadata": {},
   "source": [
    "# Making Sentinel images CNN-ready"
   ]
  },
  {
   "cell_type": "code",
   "execution_count": 1,
   "id": "7a142cd5",
   "metadata": {},
   "outputs": [],
   "source": [
    "import pandas as pd\n",
    "import numpy as np\n",
    "import matplotlib.pyplot as plt\n",
    "from tqdm.notebook import tqdm\n",
    "tqdm.pandas() "
   ]
  },
  {
   "cell_type": "code",
   "execution_count": 2,
   "id": "e1fd31d7",
   "metadata": {},
   "outputs": [],
   "source": [
    "import ast\n",
    "import math\n",
    "import json"
   ]
  },
  {
   "cell_type": "code",
   "execution_count": 18,
   "id": "da8438ae",
   "metadata": {},
   "outputs": [],
   "source": [
    "path = \"C:/Users/Matt/Dropbox/SnowComp/SentinelHelper/\"\n",
    "\n",
    "sentinel_trainfeat = pd.read_csv(path+ \"sentinel_trainfeat.csv\")\n",
    "sentinel_testfeat =pd.read_csv(path+ \"sentinel_testfeat.csv\")\n",
    "sentinel_ylabs = pd.read_csv(path+ \"sentinel_ylab.csv\") \n",
    "\n",
    "# sentinel_sub = pd.read_csv(path+ \"sentinel_sub.csv\")\n",
    "\n",
    "missing_val = -100"
   ]
  },
  {
   "cell_type": "code",
   "execution_count": 19,
   "id": "623b3145",
   "metadata": {},
   "outputs": [
    {
     "data": {
      "application/vnd.jupyter.widget-view+json": {
       "model_id": "8019736a7dee4636be4f8f81efafa657",
       "version_major": 2,
       "version_minor": 0
      },
      "text/plain": [
       "  0%|          | 0/106760 [00:00<?, ?it/s]"
      ]
     },
     "metadata": {},
     "output_type": "display_data"
    },
    {
     "data": {
      "application/vnd.jupyter.widget-view+json": {
       "model_id": "2469f7b329a741b8b42ee276416de603",
       "version_major": 2,
       "version_minor": 0
      },
      "text/plain": [
       "  0%|          | 0/38628 [00:00<?, ?it/s]"
      ]
     },
     "metadata": {},
     "output_type": "display_data"
    },
    {
     "data": {
      "application/vnd.jupyter.widget-view+json": {
       "model_id": "f46348a1681a40928def08f9d55d7a47",
       "version_major": 2,
       "version_minor": 0
      },
      "text/plain": [
       "  0%|          | 0/76410 [00:00<?, ?it/s]"
      ]
     },
     "metadata": {},
     "output_type": "display_data"
    }
   ],
   "source": [
    "def translator(row):\n",
    "    if row is np.nan:\n",
    "        return np.full((41, 41), missing_val)\n",
    "    else:\n",
    "        return np.array(json.loads(row))\n",
    "\n",
    "sentinel_trainfeat['first'] = sentinel_trainfeat['first'].astype(object)\n",
    "sentinel_trainfeat['first'] = sentinel_trainfeat['first'].progress_map(translator)\n",
    "\n",
    "sentinel_testfeat['first'] = sentinel_testfeat['first'].astype(object)\n",
    "sentinel_testfeat['first'] = sentinel_testfeat['first'].progress_map(translator)\n",
    "\n",
    "sentinel_ylabs['first'] = sentinel_ylabs['first'].astype(object)\n",
    "sentinel_ylabs['first'] = sentinel_ylabs['first'].progress_map(translator)\n"
   ]
  },
  {
   "cell_type": "code",
   "execution_count": 20,
   "id": "d3e93dce",
   "metadata": {},
   "outputs": [],
   "source": [
    "sentinel_trainfeat.drop('system:index', axis =1, inplace = True)\n",
    "sentinel_testfeat.drop('system:index', axis =1, inplace = True)\n",
    "sentinel_ylabs.drop('system:index', axis =1, inplace = True)"
   ]
  },
  {
   "cell_type": "markdown",
   "id": "a19a50e8",
   "metadata": {},
   "source": [
    "### Fix date column, save two files, numpy and otherwise"
   ]
  },
  {
   "cell_type": "code",
   "execution_count": 21,
   "id": "99657c9a",
   "metadata": {},
   "outputs": [],
   "source": [
    "date_fix = lambda row: row[0:-9]\n",
    "\n",
    "sentinel_trainfeat['date'] = sentinel_trainfeat['date'].map(date_fix)\n",
    "sentinel_testfeat['date'] = sentinel_testfeat['date'].map(date_fix)\n",
    "sentinel_ylabs['date'] = sentinel_ylabs['date'].map(date_fix)"
   ]
  },
  {
   "cell_type": "code",
   "execution_count": 23,
   "id": "c4016229",
   "metadata": {
    "scrolled": true
   },
   "outputs": [
    {
     "ename": "NameError",
     "evalue": "name 'sentinel_ylab' is not defined",
     "output_type": "error",
     "traceback": [
      "\u001b[1;31m---------------------------------------------------------------------------\u001b[0m",
      "\u001b[1;31mNameError\u001b[0m                                 Traceback (most recent call last)",
      "\u001b[1;32m~\\AppData\\Local\\Temp/ipykernel_12784/1678284921.py\u001b[0m in \u001b[0;36m<module>\u001b[1;34m\u001b[0m\n\u001b[0;32m      5\u001b[0m     \u001b[0msentinel_testfeat\u001b[0m\u001b[1;33m.\u001b[0m\u001b[0mdrop\u001b[0m\u001b[1;33m(\u001b[0m\u001b[1;34m\"first\"\u001b[0m\u001b[1;33m,\u001b[0m \u001b[0maxis\u001b[0m\u001b[1;33m=\u001b[0m\u001b[1;36m1\u001b[0m\u001b[1;33m)\u001b[0m\u001b[1;33m\u001b[0m\u001b[1;33m\u001b[0m\u001b[0m\n\u001b[0;32m      6\u001b[0m \u001b[1;33m\u001b[0m\u001b[0m\n\u001b[1;32m----> 7\u001b[1;33m \u001b[0msentinel_ylab\u001b[0m\u001b[1;33m,\u001b[0m \u001b[0mylab_meta\u001b[0m \u001b[1;33m=\u001b[0m \u001b[0mnp\u001b[0m\u001b[1;33m.\u001b[0m\u001b[0marray\u001b[0m\u001b[1;33m(\u001b[0m\u001b[0msentinel_ylab\u001b[0m\u001b[1;33m[\u001b[0m\u001b[1;34m'first'\u001b[0m\u001b[1;33m]\u001b[0m\u001b[1;33m.\u001b[0m\u001b[0mto_list\u001b[0m\u001b[1;33m(\u001b[0m\u001b[1;33m)\u001b[0m\u001b[1;33m)\u001b[0m\u001b[1;33m,\u001b[0m\u001b[0;31m \u001b[0m\u001b[0;31m\\\u001b[0m\u001b[1;33m\u001b[0m\u001b[1;33m\u001b[0m\u001b[0m\n\u001b[0m\u001b[0;32m      8\u001b[0m     \u001b[0msentinel_ylab\u001b[0m\u001b[1;33m.\u001b[0m\u001b[0mdrop\u001b[0m\u001b[1;33m(\u001b[0m\u001b[1;34m\"first\"\u001b[0m\u001b[1;33m,\u001b[0m \u001b[0maxis\u001b[0m\u001b[1;33m=\u001b[0m\u001b[1;36m1\u001b[0m\u001b[1;33m)\u001b[0m\u001b[1;33m\u001b[0m\u001b[1;33m\u001b[0m\u001b[0m\n",
      "\u001b[1;31mNameError\u001b[0m: name 'sentinel_ylab' is not defined"
     ]
    }
   ],
   "source": [
    "sentinel_trainfeat, trainfeat_meta = np.array(sentinel_trainfeat['first'].to_list()), \\\n",
    "    sentinel_trainfeat.drop(\"first\", axis=1)\n",
    "\n",
    "sentinel_testfeat, testfeat_meta = np.array(sentinel_testfeat['first'].to_list()), \\\n",
    "    sentinel_testfeat.drop(\"first\", axis=1)\n",
    "\n",
    "sentinel_ylabs, ylabs_meta = np.array(sentinel_ylabs['first'].to_list()), \\\n",
    "    sentinel_ylabs.drop(\"first\", axis=1)\n"
   ]
  },
  {
   "cell_type": "code",
   "execution_count": 27,
   "id": "67c1ee54",
   "metadata": {
    "scrolled": true
   },
   "outputs": [],
   "source": [
    "save_path = \"C:/Users/Matt/Dropbox/SnowComp/SentinelHelper/\"\n",
    "\n",
    "np.save(save_path + \"sent_pp_trainfeat.csv\",sentinel_trainfeat)\n",
    "np.save(save_path + \"sent_pp_testfeat.csv\", sentinel_testfeat)\n",
    "np.save(save_path + \"sent_pp_ylabs.csv\", sentinel_ylabs)\n",
    "\n",
    "trainfeat_meta.to_csv(save_path + \"sent_trainfeat_meta.csv\", index = False)\n",
    "testfeat_meta.to_csv(save_path + \"sent_testfeat_meta.csv\", index = False)\n",
    "ylabs_meta.to_csv(save_path + \"sent_ylabs_meta.csv\", index = False)"
   ]
  },
  {
   "cell_type": "code",
   "execution_count": 30,
   "id": "37903cd6",
   "metadata": {
    "scrolled": true
   },
   "outputs": [
    {
     "ename": "NameError",
     "evalue": "name 'sentinel_trainfeat' is not defined",
     "output_type": "error",
     "traceback": [
      "\u001b[1;31m---------------------------------------------------------------------------\u001b[0m",
      "\u001b[1;31mNameError\u001b[0m                                 Traceback (most recent call last)",
      "\u001b[1;32m~\\AppData\\Local\\Temp/ipykernel_12784/2301381790.py\u001b[0m in \u001b[0;36m<module>\u001b[1;34m\u001b[0m\n\u001b[1;32m----> 1\u001b[1;33m \u001b[1;32mdel\u001b[0m \u001b[0msentinel_trainfeat\u001b[0m\u001b[1;33m,\u001b[0m \u001b[0msentinel_testfeat\u001b[0m\u001b[1;33m,\u001b[0m \u001b[0msentinel_ylabs\u001b[0m\u001b[1;33m,\u001b[0m \u001b[0mtrainfeat_meta\u001b[0m\u001b[1;33m,\u001b[0m \u001b[0mtestfeat_meta\u001b[0m\u001b[1;33m,\u001b[0m \u001b[0mylabs_meta\u001b[0m\u001b[1;33m\u001b[0m\u001b[1;33m\u001b[0m\u001b[0m\n\u001b[0m",
      "\u001b[1;31mNameError\u001b[0m: name 'sentinel_trainfeat' is not defined"
     ]
    }
   ],
   "source": [
    "del sentinel_trainfeat, sentinel_testfeat, sentinel_ylabs, trainfeat_meta, testfeat_meta, ylabs_meta"
   ]
  },
  {
   "cell_type": "markdown",
   "id": "d460b9b9",
   "metadata": {},
   "source": [
    "## Submission Data"
   ]
  },
  {
   "cell_type": "code",
   "execution_count": null,
   "id": "1e44c5b1",
   "metadata": {},
   "outputs": [],
   "source": [
    "sentinel_sub1 = pd.read_csv(path+ \"sentinel_sub0of2.csv\")\n",
    "sentinel_sub2 =pd.read_csv(path+ \"sentinel_sub1of2.csv\")\n",
    "\n",
    "sentinel_sub1['first'] = sentinel_sub1['first'].astype(object)\n",
    "sentinel_sub1['first'] = sentinel_sub1['first'].progress_map(translator)\n",
    "\n",
    "sentinel_sub2['first'] = sentinel_sub2['first'].astype(object)\n",
    "sentinel_sub2['first'] = sentinel_sub2['first'].progress_map(translator)\n",
    "\n",
    "sentinel_sub1.drop('system:index', axis =1, inplace = True)\n",
    "sentinel_sub2.drop('system:index', axis =1, inplace = True)\n",
    "\n",
    "sentinel_sub1['date'] = sentinel_sub1['date'].map(date_fix)\n",
    "sentinel_sub2['date'] = sentinel_sub2['date'].map(date_fix)\n",
    "\n",
    "sentinel_sub1, sub1_meta = np.array(sentinel_sub1['first'].to_list()), \\\n",
    "    sentinel_sub1.drop(\"first\", axis=1)\n",
    "\n",
    "sentinel_sub2, sub2_meta = np.array(sentinel_sub2['first'].to_list()), \\\n",
    "    sentinel_sub2.drop(\"first\", axis=1)\n",
    "\n",
    "\n",
    "np.save(save_path + \"sent_pp_sub1.csv\",sentinel_sub1)\n",
    "np.save(save_path + \"sent_pp_sub2.csv\", sentinel_sub2)\n",
    "sub1_meta.to_csv(save_path + \"sent_sub1_meta.csv\", index = False)\n",
    "sub2_meta.to_csv(save_path + \"sent_sub2_meta.csv\", index = False)"
   ]
  },
  {
   "cell_type": "code",
   "execution_count": 11,
   "id": "45e239c1",
   "metadata": {},
   "outputs": [],
   "source": [
    "del sentinel_sub1, sentinel_sub2, sub1_meta, sub2_meta"
   ]
  }
 ],
 "metadata": {
  "kernelspec": {
   "display_name": "Python 3 (ipykernel)",
   "language": "python",
   "name": "python3"
  },
  "language_info": {
   "codemirror_mode": {
    "name": "ipython",
    "version": 3
   },
   "file_extension": ".py",
   "mimetype": "text/x-python",
   "name": "python",
   "nbconvert_exporter": "python",
   "pygments_lexer": "ipython3",
   "version": "3.10.1"
  }
 },
 "nbformat": 4,
 "nbformat_minor": 5
}
