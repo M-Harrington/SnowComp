{
 "cells": [
  {
   "cell_type": "markdown",
   "id": "b204d367",
   "metadata": {},
   "source": [
    "# Making Sentinel images CNN-ready"
   ]
  },
  {
   "cell_type": "code",
   "execution_count": 13,
   "id": "7a142cd5",
   "metadata": {},
   "outputs": [],
   "source": [
    "import pandas as pd\n",
    "import numpy as np\n",
    "import matplotlib.pyplot as plt\n",
    "from tqdm.notebook import tqdm\n",
    "tqdm.pandas() "
   ]
  },
  {
   "cell_type": "code",
   "execution_count": 14,
   "id": "75f32d00",
   "metadata": {},
   "outputs": [],
   "source": [
    "import ast\n",
    "import math\n",
    "import json"
   ]
  },
  {
   "cell_type": "code",
   "execution_count": 15,
   "id": "da8438ae",
   "metadata": {},
   "outputs": [],
   "source": [
    "path = \"C:/Users/Matt/Dropbox/SnowComp/SentinelHelper/\"\n",
    "\n",
    "sentinel_trainfeat = pd.read_csv(path+ \"sentinel_trainfeat.csv\")\n",
    "sentinel_testfeat =pd.read_csv(path+ \"sentinel_testfeat.csv\")\n",
    "sentinel_ylabs = pd.read_csv(path+ \"sentinel_ylab.csv\") \n",
    "\n",
    "# sentinel_sub = pd.read_csv(path+ \"sentinel_sub.csv\")\n",
    "\n",
    "missing_val = -100"
   ]
  },
  {
   "cell_type": "code",
   "execution_count": null,
   "id": "623b3145",
   "metadata": {},
   "outputs": [
    {
     "data": {
      "application/vnd.jupyter.widget-view+json": {
       "model_id": "6fed2cd2a739402686ea428273dd3f87",
       "version_major": 2,
       "version_minor": 0
      },
      "text/plain": [
       "  0%|          | 0/106760 [00:00<?, ?it/s]"
      ]
     },
     "metadata": {},
     "output_type": "display_data"
    },
    {
     "data": {
      "application/vnd.jupyter.widget-view+json": {
       "model_id": "0eb82ebc26514923bbdd0498158a8eed",
       "version_major": 2,
       "version_minor": 0
      },
      "text/plain": [
       "  0%|          | 0/38628 [00:00<?, ?it/s]"
      ]
     },
     "metadata": {},
     "output_type": "display_data"
    },
    {
     "data": {
      "application/vnd.jupyter.widget-view+json": {
       "model_id": "00f9321693174dbdac4f7efd94b30299",
       "version_major": 2,
       "version_minor": 0
      },
      "text/plain": [
       "  0%|          | 0/76410 [00:00<?, ?it/s]"
      ]
     },
     "metadata": {},
     "output_type": "display_data"
    }
   ],
   "source": [
    "def translator(row):\n",
    "    if row is np.nan:\n",
    "        return np.full((41, 41), missing_val)\n",
    "    else:\n",
    "        return np.array(json.loads(row))\n",
    "    \n",
    "sentinel_trainfeat['first'] = sentinel_trainfeat['first'].progress_map(translator)\n",
    "sentinel_testfeat['first'] = sentinel_testfeat['first'].progress_map(translator)\n",
    "sentinel_ylabs['first'] = sentinel_ylabs['first'].progress_map(translator)\n"
   ]
  },
  {
   "cell_type": "code",
   "execution_count": null,
   "id": "25f2a419",
   "metadata": {},
   "outputs": [],
   "source": [
    "sentinel_trainfeat"
   ]
  },
  {
   "cell_type": "markdown",
   "id": "cfd21c20",
   "metadata": {},
   "source": [
    "### Fix date column, save"
   ]
  },
  {
   "cell_type": "code",
   "execution_count": null,
   "id": "deeec36c",
   "metadata": {},
   "outputs": [],
   "source": []
  }
 ],
 "metadata": {
  "kernelspec": {
   "display_name": "Python 3 (ipykernel)",
   "language": "python",
   "name": "python3"
  },
  "language_info": {
   "codemirror_mode": {
    "name": "ipython",
    "version": 3
   },
   "file_extension": ".py",
   "mimetype": "text/x-python",
   "name": "python",
   "nbconvert_exporter": "python",
   "pygments_lexer": "ipython3",
   "version": "3.10.1"
  }
 },
 "nbformat": 4,
 "nbformat_minor": 5
}
