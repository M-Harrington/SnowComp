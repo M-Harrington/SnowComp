{
 "cells": [
  {
   "cell_type": "markdown",
   "id": "c8c0daff",
   "metadata": {},
   "source": [
    "# CNN for Sentinel Images"
   ]
  },
  {
   "cell_type": "code",
   "execution_count": 1,
   "id": "0fed0272",
   "metadata": {},
   "outputs": [],
   "source": [
    "import pandas as pd\n",
    "import numpy as np\n",
    "from tqdm.notebook import tqdm\n",
    "import matplotlib.pyplot as plt\n",
    "import geopandas as gpd\n",
    "import time\n",
    "\n",
    "from datetime import datetime\n",
    "import pickle\n",
    "import random\n",
    "import json\n",
    "\n",
    "tqdm.pandas() \n",
    "\n",
    "rng = np.random.default_rng(342834)"
   ]
  },
  {
   "cell_type": "code",
   "execution_count": 2,
   "id": "9d257ea3",
   "metadata": {},
   "outputs": [],
   "source": [
    "#labels helpers and processing\n",
    "def pivot_df(df, id_col, ignore_cols=None):\n",
    "    if not ignore_cols:\n",
    "        ignore_cols = []\n",
    "    date_cols = [x for x in df.columns if x not in [id_col] + ignore_cols]\n",
    "    dfs = []\n",
    "    for day in date_cols:\n",
    "        day_df = df[[id_col, day]].rename({day: 'snowpack'}, axis=1)\n",
    "        day_df['date'] = day\n",
    "        dfs.append(day_df)\n",
    "    return pd.concat(dfs)\n",
    "\n",
    "def daynum_gen(date_time):\n",
    "    '''converts date time objects to filename'''\n",
    "    date_time = datetime.fromisoformat(date_time)\n",
    "    doy = date_time.timetuple().tm_yday\n",
    "    year = date_time.year\n",
    "    return str(year) + '{:03d}'.format(doy)\n",
    "\n",
    "# Get ordered elevation training data\n",
    "def add_elevation(order, modis):\n",
    "    order = pd.DataFrame({'modis_idx': order, 'order': [x for x in range(len(order))]})\n",
    "    order['station_id'] = order['modis_idx'].apply(lambda x: '-'.join(x.split('-')[:-1]))\n",
    "    order = order.merge(elev_order).sort_values('order')\n",
    "    ordered_elev = elevation[order['DEM_order'].to_list(), :, :]\n",
    "    dim = ordered_elev.shape\n",
    "\n",
    "    return np.concatenate([modis, ordered_elev.reshape(dim[0], 1, dim[1], dim[2])], axis=1)\n",
    "\n"
   ]
  },
  {
   "cell_type": "code",
   "execution_count": 3,
   "id": "fbab25cf",
   "metadata": {},
   "outputs": [],
   "source": [
    "## Sentinel Helpers\n",
    "def y_merger(x, y):\n",
    "    '''reattach y labels to sentinel'''\n",
    "    y = y.rename(columns={\"Unnamed: 0\":\"cell_id\"})\n",
    "    y = pivot_df(y, 'cell_id').dropna()\n",
    "    y['date']=y['date'].map(daynum_gen)\n",
    "\n",
    "    y['idx'] = y['cell_id'] + \"-\" + y['date']\n",
    "    y = y.set_index('idx')\n",
    "\n",
    "    x['idx'] = x['cell_id'] +\\\n",
    "         \"-\" +x['date_long'].astype(str)\n",
    "    x = x.set_index('idx')\n",
    "\n",
    "    return x.join(y['snowpack'])\n",
    "\n",
    "#preprocessing helpers\n",
    "def masker(x,y):\n",
    "#     return x , y\n",
    "    mask = np.all(x > -99, axis = (1,2))\n",
    "    print(mask.sum(), \"of\", len(mask))\n",
    "    \n",
    "    return x[mask], y[mask]\n",
    "\n",
    "def minmaxscaler(x, params= None):\n",
    "    if not params:\n",
    "        print(\"min\", round(x.min(),3), \"max\", round(x.max(),3))\n",
    "        x = (x - x.min())/(x.max() - x.min())\n",
    "    else:\n",
    "        print(\"loaded min\", round(params[0],3), \"loaded max\", round(params[1],3))\n",
    "        x = (x - params[0])/(params[1] - params[0])\n",
    "    \n",
    "    return x\n",
    "\n",
    "def reshaper(ds):\n",
    "    #readjust dimensions\n",
    "    dim0 = ds.shape[0]\n",
    "    dim1 = ds.shape[1]\n",
    "    dim2 = ds.shape[2]\n",
    "\n",
    "    return ds.reshape((dim0, 1, dim1, dim2))"
   ]
  },
  {
   "cell_type": "code",
   "execution_count": 4,
   "id": "bd890158",
   "metadata": {},
   "outputs": [],
   "source": [
    "DATA_PATH = \"C:/Users/Matt/Documents/Python Scripts/SnowComp/dat/\"\n",
    "\n",
    "#@title Original data\n",
    "metadata = pd.read_csv(DATA_PATH + 'ground_measures_metadata.csv')\n",
    "train_inp = pd.read_csv(DATA_PATH + 'ground_measures_train_features.csv')\n",
    "test_inp = pd.read_csv(DATA_PATH + 'ground_measures_test_features.csv')\n",
    "train_labels = pd.read_csv(DATA_PATH + 'train_labels.csv')\n",
    "grid_cells = gpd.read_file(DATA_PATH + 'grid_cells.geojson')\n",
    "submission_format = gpd.read_file(DATA_PATH + 'submission_format.csv')"
   ]
  },
  {
   "cell_type": "markdown",
   "id": "2b9c7e62",
   "metadata": {},
   "source": [
    "## Sentinel Preprocessing"
   ]
  },
  {
   "cell_type": "code",
   "execution_count": 5,
   "id": "50aa787e",
   "metadata": {},
   "outputs": [
    {
     "name": "stderr",
     "output_type": "stream",
     "text": [
      "C:\\Users\\Matt\\AppData\\Local\\Temp\\ipykernel_7236\\1111496563.py:9: UserWarning: Geometry is in a geographic CRS. Results from 'centroid' are likely incorrect. Use 'GeoSeries.to_crs()' to re-project geometries to a projected CRS before this operation.\n",
      "\n",
      "  cell_metadata['centroid'] = cell_metadata['geometry'].centroid\n"
     ]
    }
   ],
   "source": [
    "#@title Get metadata for grid cells\n",
    "states = gpd.read_file('C:/Users/Matt/Documents/Python Scripts/SnowComp/dat/states/')\\\n",
    "    .rename({'NAME': 'state'}, axis=1)\n",
    "states = states.to_crs('EPSG:4326')\n",
    "\n",
    "cell_metadata = gpd.sjoin(grid_cells, states[['geometry', 'state']])\\\n",
    "    .drop_duplicates(subset='cell_id')\\\n",
    "    .drop(['index_right'], axis=1)\n",
    "cell_metadata['centroid'] = cell_metadata['geometry'].centroid\n",
    "cell_metadata['longitude'] = cell_metadata['centroid'].x\n",
    "cell_metadata['latitude'] = cell_metadata['centroid'].y\n",
    "cell_metadata = cell_metadata[['cell_id', 'state', 'longitude', 'latitude']]\n"
   ]
  },
  {
   "cell_type": "code",
   "execution_count": 6,
   "id": "df540fc0",
   "metadata": {},
   "outputs": [],
   "source": [
    "#@title Format dfs\n",
    "def get_rmse(df, actual='actual_snowpack', predicted='snowpack'):\n",
    "    return ((df[actual] - df[predicted]) ** 2).mean() ** 0.5\n",
    "\n",
    "def pivot_df(df, id_col, ignore_cols=None):\n",
    "    if not ignore_cols:\n",
    "        ignore_cols = []\n",
    "    date_cols = [x for x in df.columns if x not in [id_col] + ignore_cols]\n",
    "    dfs = []\n",
    "    for day in date_cols:\n",
    "        day_df = df[[id_col, day]].rename({day: 'snowpack'}, axis=1)\n",
    "        day_df['date'] = day\n",
    "        dfs.append(day_df)\n",
    "    return pd.concat(dfs)\n",
    "\n",
    "def get_day_of_season(doy):\n",
    "    return doy + 365 - 335 if doy < 335 else doy - 335\n",
    "\n",
    "def add_time_cols(df):\n",
    "    df['date'] = pd.to_datetime(df['date'])\n",
    "    df['doy'] = df['date'].dt.dayofyear\n",
    "    df['dos'] = df['doy'].apply(get_day_of_season)\n",
    "    df['year'] = df['date'].dt.year\n",
    "    df['season'] = df['year']\n",
    "    df.loc[df['doy'] < 335, 'season'] -= 1\n",
    "    return df\n",
    "\n",
    "def clean_train_test(df, id_col='station_id', metadata_df=None):\n",
    "    df = pivot_df(df, id_col)\n",
    "    if metadata_df is not None:\n",
    "        df = df.merge(metadata_df)\n",
    "    return add_time_cols(df)\n",
    "\n",
    "def permuter(narray, df, rng= rng):\n",
    "    df.reset_index(inplace= True)\n",
    "    p =rng.permutation(len(narray))\n",
    "    \n",
    "    return narray[p], df.loc[p]\n",
    "\n",
    "train = clean_train_test(train_inp.rename({'Unnamed: 0': 'station_id'}, axis=1),\n",
    "                         metadata_df=metadata)\n",
    "train2 = clean_train_test(train_labels, 'cell_id', cell_metadata).dropna()\n",
    "train_full = pd.concat([train2.rename({'cell_id': 'station_id'}, axis=1).assign(datatype='labels'),\n",
    "                        train.drop(['elevation_m', 'name'], axis=1).assign(datatype='ground')])\n",
    "\n",
    "test = clean_train_test(\n",
    "    test_inp.rename({'Unnamed: 0': 'station_id'}, axis=1), metadata_df=metadata)\\\n",
    "    .rename({'snowpack': 'actual_snowpack'}, axis=1).dropna()\\\n",
    "    .merge(train[['station_id', 'state']].drop_duplicates())\n",
    "\n",
    "to_predict = clean_train_test(submission_format.drop('geometry', axis=1), 'cell_id', cell_metadata)"
   ]
  },
  {
   "cell_type": "code",
   "execution_count": 7,
   "id": "6f147d03",
   "metadata": {},
   "outputs": [],
   "source": [
    "sent_path = \"C:/Users/Matt/Dropbox/SnowComp/SentinelHelper/\"\n",
    "\n",
    "sentinel_trainfeat = np.load(sent_path + \"sent_pp_trainfeat.npy\")\n",
    "sentinel_testfeat = np.load(sent_path + \"sent_pp_testfeat.npy\")\n",
    "sentinel_ylabs = np.load(sent_path + \"sent_pp_ylabs.npy\")\n",
    "\n",
    "trainfeat_meta = pd.read_csv(sent_path + \"sent_trainfeat_meta.csv\")\n",
    "testfeat_meta = pd.read_csv(sent_path + \"sent_testfeat_meta.csv\")\n",
    "ylabs_meta = pd.read_csv(sent_path + \"sent_ylabs_meta.csv\")"
   ]
  },
  {
   "cell_type": "markdown",
   "id": "7b6ff641",
   "metadata": {},
   "source": [
    "### Merge back in y labels, mask NAs\n",
    "\n",
    "CHECK order not adjusted"
   ]
  },
  {
   "cell_type": "code",
   "execution_count": 8,
   "id": "52a2195b",
   "metadata": {
    "scrolled": true
   },
   "outputs": [
    {
     "name": "stdout",
     "output_type": "stream",
     "text": [
      "76159 of 76410\n",
      "105571 of 106760\n",
      "38618 of 38628\n",
      "min -57.906 max 18.57\n",
      "loaded min -57.906 loaded max 18.57\n",
      "loaded min -57.906 loaded max 18.57\n"
     ]
    }
   ],
   "source": [
    "sentinel_ylabs, ylabs_meta = masker(sentinel_ylabs, ylabs_meta)\n",
    "sentinel_trainfeat, trainfeat_meta = masker(sentinel_trainfeat, trainfeat_meta)\n",
    "sentinel_testfeat, testfeat_meta = masker(sentinel_testfeat, testfeat_meta)\n",
    "\n",
    "sentinel_ylabs = minmaxscaler(sentinel_ylabs)\n",
    "sentinel_trainfeat = minmaxscaler(sentinel_trainfeat, [-57.906, 18.57])\n",
    "sentinel_testfeat = minmaxscaler(sentinel_testfeat, [-57.906, 18.57])"
   ]
  },
  {
   "cell_type": "code",
   "execution_count": 9,
   "id": "e2b7a0c1",
   "metadata": {},
   "outputs": [],
   "source": [
    "dataset = np.concatenate([sentinel_trainfeat, sentinel_ylabs])\n",
    "train_y = pd.concat([trainfeat_meta, ylabs_meta])\n",
    "train_y['date'] = pd.to_datetime(train_y['date'])\n",
    "train_y = train_y.merge(train_full.rename({'station_id': 'cell_id'}, axis=1)\\\n",
    "                                    [['cell_id', 'snowpack', 'date']])\n",
    "\n",
    "testfeat_meta['date'] = pd.to_datetime(testfeat_meta['date'])\n",
    "sentinel_ylab_test = testfeat_meta.merge(\n",
    "    test.rename({'station_id': 'cell_id', 'actual_snowpack': 'snowpack'}, axis=1)\\\n",
    "    [['cell_id', 'snowpack', 'date']])"
   ]
  },
  {
   "cell_type": "code",
   "execution_count": 10,
   "id": "e4216aae",
   "metadata": {},
   "outputs": [],
   "source": [
    "# sentinel_testfeat, sentinel_ylab_test\n",
    "del sentinel_ylabs\n",
    "del ylabs_meta\n",
    "del sentinel_trainfeat\n",
    "del trainfeat_meta"
   ]
  },
  {
   "cell_type": "markdown",
   "id": "1282c6c3",
   "metadata": {},
   "source": [
    "## Define Training and Testing Sets\n",
    "\n",
    "\n",
    "`dataset -> sentinel_ylabs`"
   ]
  },
  {
   "cell_type": "code",
   "execution_count": 11,
   "id": "933d1961",
   "metadata": {},
   "outputs": [],
   "source": [
    "#@title Imports\n",
    "import torch\n",
    "import torch.nn as nn\n",
    "import torch.nn.functional as F\n",
    "import torch.optim as optim\n",
    "from torch.utils.data import TensorDataset, DataLoader"
   ]
  },
  {
   "cell_type": "markdown",
   "id": "664086aa",
   "metadata": {},
   "source": [
    "## Define CNN"
   ]
  },
  {
   "cell_type": "code",
   "execution_count": 12,
   "id": "e6269558",
   "metadata": {},
   "outputs": [],
   "source": [
    "#@title Define simple CNN\n",
    "# From: https://pytorch.org/tutorials/recipes/recipes/defining_a_neural_network.html\n",
    "# Also used: https://pytorch.org/tutorials/beginner/deep_learning_60min_blitz.html\n",
    "\n",
    "START_D = 1\n",
    "START_HW = 41\n",
    "\n",
    "class Net(nn.Module):\n",
    "\n",
    "    def _conv_calc(self, in_dim, pad, stride, k):\n",
    "        out = int(np.floor((in_dim + 2 * pad - (k - 1) - 1) / stride + 1))\n",
    "        return out\n",
    "\n",
    "    def __init__(self, cdim1, cdim2, cdim3, kernel_sz, dropout,\n",
    "                 ldim, print_dim = True):\n",
    "        super(Net, self).__init__()\n",
    "        \n",
    "        #first layer\n",
    "        self.conv1 = nn.Conv2d(START_D, cdim1, kernel_sz, 1)\n",
    "        self.avgpool = nn.AvgPool2d(3, stride= 1)\n",
    "        \n",
    "        c1_dim = self._conv_calc(START_HW, 0, 1, kernel_sz)\n",
    "        mp0_dim = self._conv_calc(c1_dim, 0, 1, 3)\n",
    "        \n",
    "        #second layer\n",
    "        self.conv2 = nn.Conv2d(cdim1, cdim2, kernel_sz, 1)\n",
    "        c2_dim = self._conv_calc(mp0_dim, 0, 1, kernel_sz)\n",
    "        mp1_dim = self._conv_calc(c2_dim, 0, 1, 3)\n",
    "        \n",
    "        #third layer\n",
    "        self.conv3_ = nn.Conv2d(cdim3, cdim3, kernel_sz, 1)\n",
    "        self.conv3 = nn.Conv2d(cdim2, cdim3, kernel_sz, 1)\n",
    "        c3_dim = self._conv_calc(mp1_dim, 0, 1, kernel_sz)\n",
    "        c3__dim = self._conv_calc(c3_dim, 0, 1, kernel_sz)\n",
    "        c3___dim = self._conv_calc(c3_dim, 0, 1, kernel_sz)\n",
    "        mp2_dim = self._conv_calc(c3___dim, 0, 1, 3)\n",
    "        \n",
    "        #fourth layer\n",
    "        print(cdim3, mp2_dim, mp2_dim)\n",
    "        flattened_dim = cdim3 * mp2_dim * mp2_dim\n",
    "        \n",
    "#         self.fc1 = nn.LazyLinear(ldim)\n",
    "        self.fc1 = nn.Linear(200, ldim)\n",
    "        self.fc2 = nn.Linear(ldim, 1)\n",
    "\n",
    "        #extras\n",
    "        self.dropout1 = nn.Dropout2d(dropout)\n",
    "        self.dropout2 = nn.Dropout2d(dropout*2)\n",
    "        self.BatchNorm1 = nn.BatchNorm2d(cdim1)\n",
    "        self.BatchNorm3 = nn.BatchNorm2d(cdim3)\n",
    "        \n",
    "        if print_dim:\n",
    "            print('c1 dim:', c1_dim)\n",
    "            print('mp0 dim:', mp0_dim)\n",
    "            print('c2 dim:', c2_dim)\n",
    "            print('mp1 dim:', mp1_dim)\n",
    "            print('c3 dim:', c3_dim)\n",
    "            print('c3_ dim:', c3__dim)\n",
    "            print('c3__ dim:', c3___dim)\n",
    "            print('mp2 dim:', mp2_dim)\n",
    "            print('flattened_dim', flattened_dim)\n",
    "            \n",
    "        \n",
    "        \n",
    "    def forward(self, x):\n",
    "        #first layer\n",
    "        x = self.conv1(x)\n",
    "#         x = F.tanh(x)\n",
    "        x = F.relu(x)\n",
    "        x = self.BatchNorm1(x)\n",
    "        x = self.avgpool(x)\n",
    "        \n",
    "        #second layer\n",
    "        x = self.dropout1(x)\n",
    "        x = self.conv2(x)\n",
    "#         x = F.tanh(x)\n",
    "        x = F.relu(x)\n",
    "        x = self.avgpool(x)\n",
    "        \n",
    "        #third layer\n",
    "        x = self.dropout2(x)\n",
    "        x = self.conv3(x)\n",
    "        x = F.tanh(x)\n",
    "        \n",
    "        x = self.conv3_(x)\n",
    "        x = F.tanh(x)\n",
    "        \n",
    "        x = self.conv3_(x)\n",
    "        x = F.tanh(x)\n",
    "        # x = F.relu(x)\n",
    "        x = self.BatchNorm3(x)\n",
    "        x = self.avgpool(x)\n",
    "        \n",
    "        #fourth layer\n",
    "        x = self.dropout1(x)\n",
    "        x = torch.flatten(x, 1)\n",
    "#         print(x.size())\n",
    "        x = self.fc1(x)\n",
    "#         x = F.tanh(x)\n",
    "        x = F.relu(x)\n",
    "        \n",
    "        output = self.fc2(x)\n",
    "        return output"
   ]
  },
  {
   "cell_type": "code",
   "execution_count": 13,
   "id": "03c2043f",
   "metadata": {},
   "outputs": [],
   "source": [
    "#@title Helpers to get predictions and accuracy\n",
    "def predict(cnn, x, as_numpy=False):\n",
    "    device = torch.device(\"cuda:0\" if torch.cuda.is_available() else \"cpu\")\n",
    "    cnn.eval()\n",
    "    x = x.type(torch.FloatTensor).to(device)\n",
    "    output = cnn(x)\n",
    "    if as_numpy:\n",
    "        output = output.flatten().cpu().detach().numpy() #detach removes gradients (bad)\n",
    "        \n",
    "    cnn.train()\n",
    "    return output.squeeze()\n",
    "\n",
    "def get_accuracy(cnn, x, y):\n",
    "#     y = torch.from_numpy(y).to(device)\n",
    "    outputs = predict(cnn, x, as_numpy = False)\n",
    "    loss = ((y-outputs)**2).sum()\n",
    "    return round(loss.item(), 6)"
   ]
  },
  {
   "cell_type": "code",
   "execution_count": 14,
   "id": "9e6e6c80",
   "metadata": {
    "scrolled": true
   },
   "outputs": [],
   "source": [
    "# #@title Setup net\n",
    "# cdim1=60; cdim2=20; cdim3 =15; kernel_sz=3; dropout=0.13; ldim=40; lrate = 0.0003\n",
    "# my_nn = Net(cdim1=cdim1, cdim2=cdim2,cdim3 =cdim3, kernel_sz=kernel_sz, dropout=dropout, ldim=ldim)\n",
    "# optimizer = optim.Adam(my_nn.parameters(), lr=0.1)\n",
    "# optimizer.zero_grad()\n",
    "\n",
    "# # test_im = torch.from_numpy(dataset[0]).reshape(1, START_D, 21, 21)\n",
    "# test_im = torch.from_numpy(dataset[0]).reshape(1, START_D, 41, 41)\n",
    "# result = my_nn(test_im.type(torch.FloatTensor))\n",
    "# result.shape"
   ]
  },
  {
   "cell_type": "code",
   "execution_count": 15,
   "id": "9742f9da",
   "metadata": {},
   "outputs": [],
   "source": [
    "#@title Get data loaders\n",
    "\n",
    "mini_x = np.array(dataset.reshape(dataset.shape[0], 1, 41, 41))\n",
    "mini_y = np.array(train_y['snowpack'])\n",
    "mini_x, mini_y = torch.Tensor(mini_x), torch.Tensor(mini_y)\n",
    "\n",
    "test_x = np.array(sentinel_testfeat.reshape(sentinel_testfeat.shape[0], 1, 41, 41))\n",
    "test_y = np.array(sentinel_ylab_test['snowpack'])\n",
    "test_x, test_y = torch.Tensor(test_x), torch.Tensor(test_y)\n",
    "test_dataset = TensorDataset(test_x, test_y)\n",
    "test_loader = DataLoader(test_dataset, batch_size = 200)\n",
    "\n",
    "mini_dataset = TensorDataset(mini_x, mini_y)\n",
    "mini_loader = DataLoader(mini_dataset, batch_size=200)\n",
    "\n",
    "train_rows = len(mini_x)\n",
    "test_rows = len(test_x)"
   ]
  },
  {
   "cell_type": "code",
   "execution_count": 19,
   "id": "7c554846",
   "metadata": {
    "scrolled": true
   },
   "outputs": [
    {
     "name": "stdout",
     "output_type": "stream",
     "text": [
      "8 11 11\n",
      "c1 dim: 35\n",
      "mp0 dim: 33\n",
      "c2 dim: 27\n",
      "mp1 dim: 25\n",
      "c3 dim: 19\n",
      "c3_ dim: 13\n",
      "c3__ dim: 13\n",
      "mp2 dim: 11\n",
      "flattened_dim 968\n"
     ]
    }
   ],
   "source": [
    "#@ title Setup net\n",
    "cdim1, cdim2, cdim3, kernel_sz, dropout, ldim, lr = 32, 18, 8, 7, 0.13, 16, 1e-4\n",
    "# cdim1, cdim2, cdim3, kernel_sz, dropout, ldim = 48, 18, 8, 3, 0.2, 50\n",
    "\n",
    "my_nn = Net(cdim1=cdim1, cdim2=cdim2, cdim3=cdim3, kernel_sz=kernel_sz, dropout=dropout, ldim=ldim)\n",
    "\n",
    "device = torch.device(\"cuda:0\" if torch.cuda.is_available() else \"cpu\")\n",
    "my_nn.to(device)\n",
    "optimizer = optim.Adam(my_nn.parameters(), lr=lr)#0.00005)\n",
    "criterion = nn.MSELoss(reduction = 'sum')\n"
   ]
  },
  {
   "cell_type": "code",
   "execution_count": 20,
   "id": "28edfa79",
   "metadata": {
    "scrolled": true
   },
   "outputs": [
    {
     "data": {
      "application/vnd.jupyter.widget-view+json": {
       "model_id": "c963ad92e2694d2a97f9f279a009eaaa",
       "version_major": 2,
       "version_minor": 0
      },
      "text/plain": [
       "  0%|          | 0/90 [00:00<?, ?it/s]"
      ]
     },
     "metadata": {},
     "output_type": "display_data"
    },
    {
     "name": "stdout",
     "output_type": "stream",
     "text": [
      "0 / 90 complete, train: 15.7859 test: 10.9038 elapsed: 15\n",
      "1 / 90 complete, train: 14.7768 test: 12.9845 elapsed: 29\n",
      "2 / 90 complete, train: 14.6084 test: 11.5054 elapsed: 44\n",
      "3 / 90 complete, train: 14.6145 test: 12.1464 elapsed: 58\n",
      "4 / 90 complete, train: 14.6166 test: 11.9755 elapsed: 73\n",
      "5 / 90 complete, train: 14.6239 test: 11.8846 elapsed: 87\n",
      "6 / 90 complete, train: 14.5953 test: 12.2113 elapsed: 101\n",
      "7 / 90 complete, train: 14.5791 test: 11.8487 elapsed: 115\n",
      "8 / 90 complete, train: 14.5728 test: 11.8479 elapsed: 130\n",
      "9 / 90 complete, train: 14.5563 test: 11.6934 elapsed: 144\n",
      "10 / 90 complete, train: 14.5475 test: 11.917 elapsed: 158\n",
      "11 / 90 complete, train: 14.5323 test: 13.8229 elapsed: 172\n",
      "12 / 90 complete, train: 14.5418 test: 12.7684 elapsed: 186\n",
      "13 / 90 complete, train: 14.5093 test: 13.3779 elapsed: 201\n",
      "14 / 90 complete, train: 14.5014 test: 13.8553 elapsed: 215\n",
      "15 / 90 complete, train: 14.5317 test: 12.5035 elapsed: 229\n",
      "16 / 90 complete, train: 14.4577 test: 12.7274 elapsed: 243\n",
      "17 / 90 complete, train: 14.677 test: 12.1584 elapsed: 257\n"
     ]
    },
    {
     "ename": "KeyboardInterrupt",
     "evalue": "",
     "output_type": "error",
     "traceback": [
      "\u001b[1;31m---------------------------------------------------------------------------\u001b[0m",
      "\u001b[1;31mKeyboardInterrupt\u001b[0m                         Traceback (most recent call last)",
      "Input \u001b[1;32mIn [20]\u001b[0m, in \u001b[0;36m<module>\u001b[1;34m\u001b[0m\n\u001b[0;32m     16\u001b[0m         loss \u001b[38;5;241m=\u001b[39m criterion(outputs, labels)\n\u001b[0;32m     17\u001b[0m         loss\u001b[38;5;241m.\u001b[39mbackward()\n\u001b[1;32m---> 18\u001b[0m         \u001b[43moptimizer\u001b[49m\u001b[38;5;241;43m.\u001b[39;49m\u001b[43mstep\u001b[49m\u001b[43m(\u001b[49m\u001b[43m)\u001b[49m\n\u001b[0;32m     20\u001b[0m         running_loss \u001b[38;5;241m+\u001b[39m\u001b[38;5;241m=\u001b[39m loss\u001b[38;5;241m.\u001b[39mitem()\n\u001b[0;32m     21\u001b[0m \u001b[38;5;66;03m#         if (i + 1) % 100 == 0:\u001b[39;00m\n\u001b[0;32m     22\u001b[0m \u001b[38;5;66;03m#             writer.add_scalar('Loss/train', running_loss , write_index)\u001b[39;00m\n\u001b[0;32m     23\u001b[0m \u001b[38;5;66;03m#         write_index += 1\u001b[39;00m\n",
      "File \u001b[1;32m~\\miniconda3\\envs\\pytorch_gp\\lib\\site-packages\\torch\\optim\\optimizer.py:88\u001b[0m, in \u001b[0;36mOptimizer._hook_for_profile.<locals>.profile_hook_step.<locals>.wrapper\u001b[1;34m(*args, **kwargs)\u001b[0m\n\u001b[0;32m     86\u001b[0m profile_name \u001b[38;5;241m=\u001b[39m \u001b[38;5;124m\"\u001b[39m\u001b[38;5;124mOptimizer.step#\u001b[39m\u001b[38;5;132;01m{}\u001b[39;00m\u001b[38;5;124m.step\u001b[39m\u001b[38;5;124m\"\u001b[39m\u001b[38;5;241m.\u001b[39mformat(obj\u001b[38;5;241m.\u001b[39m\u001b[38;5;18m__class__\u001b[39m\u001b[38;5;241m.\u001b[39m\u001b[38;5;18m__name__\u001b[39m)\n\u001b[0;32m     87\u001b[0m \u001b[38;5;28;01mwith\u001b[39;00m torch\u001b[38;5;241m.\u001b[39mautograd\u001b[38;5;241m.\u001b[39mprofiler\u001b[38;5;241m.\u001b[39mrecord_function(profile_name):\n\u001b[1;32m---> 88\u001b[0m     \u001b[38;5;28;01mreturn\u001b[39;00m \u001b[43mfunc\u001b[49m\u001b[43m(\u001b[49m\u001b[38;5;241;43m*\u001b[39;49m\u001b[43margs\u001b[49m\u001b[43m,\u001b[49m\u001b[43m \u001b[49m\u001b[38;5;241;43m*\u001b[39;49m\u001b[38;5;241;43m*\u001b[39;49m\u001b[43mkwargs\u001b[49m\u001b[43m)\u001b[49m\n",
      "File \u001b[1;32m~\\miniconda3\\envs\\pytorch_gp\\lib\\site-packages\\torch\\autograd\\grad_mode.py:28\u001b[0m, in \u001b[0;36m_DecoratorContextManager.__call__.<locals>.decorate_context\u001b[1;34m(*args, **kwargs)\u001b[0m\n\u001b[0;32m     25\u001b[0m \u001b[38;5;129m@functools\u001b[39m\u001b[38;5;241m.\u001b[39mwraps(func)\n\u001b[0;32m     26\u001b[0m \u001b[38;5;28;01mdef\u001b[39;00m \u001b[38;5;21mdecorate_context\u001b[39m(\u001b[38;5;241m*\u001b[39margs, \u001b[38;5;241m*\u001b[39m\u001b[38;5;241m*\u001b[39mkwargs):\n\u001b[0;32m     27\u001b[0m     \u001b[38;5;28;01mwith\u001b[39;00m \u001b[38;5;28mself\u001b[39m\u001b[38;5;241m.\u001b[39m\u001b[38;5;18m__class__\u001b[39m():\n\u001b[1;32m---> 28\u001b[0m         \u001b[38;5;28;01mreturn\u001b[39;00m \u001b[43mfunc\u001b[49m\u001b[43m(\u001b[49m\u001b[38;5;241;43m*\u001b[39;49m\u001b[43margs\u001b[49m\u001b[43m,\u001b[49m\u001b[43m \u001b[49m\u001b[38;5;241;43m*\u001b[39;49m\u001b[38;5;241;43m*\u001b[39;49m\u001b[43mkwargs\u001b[49m\u001b[43m)\u001b[49m\n",
      "File \u001b[1;32m~\\miniconda3\\envs\\pytorch_gp\\lib\\site-packages\\torch\\optim\\adam.py:133\u001b[0m, in \u001b[0;36mAdam.step\u001b[1;34m(self, closure)\u001b[0m\n\u001b[0;32m    130\u001b[0m             \u001b[38;5;66;03m# record the step after step update\u001b[39;00m\n\u001b[0;32m    131\u001b[0m             state_steps\u001b[38;5;241m.\u001b[39mappend(state[\u001b[38;5;124m'\u001b[39m\u001b[38;5;124mstep\u001b[39m\u001b[38;5;124m'\u001b[39m])\n\u001b[1;32m--> 133\u001b[0m     \u001b[43mF\u001b[49m\u001b[38;5;241;43m.\u001b[39;49m\u001b[43madam\u001b[49m\u001b[43m(\u001b[49m\u001b[43mparams_with_grad\u001b[49m\u001b[43m,\u001b[49m\n\u001b[0;32m    134\u001b[0m \u001b[43m           \u001b[49m\u001b[43mgrads\u001b[49m\u001b[43m,\u001b[49m\n\u001b[0;32m    135\u001b[0m \u001b[43m           \u001b[49m\u001b[43mexp_avgs\u001b[49m\u001b[43m,\u001b[49m\n\u001b[0;32m    136\u001b[0m \u001b[43m           \u001b[49m\u001b[43mexp_avg_sqs\u001b[49m\u001b[43m,\u001b[49m\n\u001b[0;32m    137\u001b[0m \u001b[43m           \u001b[49m\u001b[43mmax_exp_avg_sqs\u001b[49m\u001b[43m,\u001b[49m\n\u001b[0;32m    138\u001b[0m \u001b[43m           \u001b[49m\u001b[43mstate_steps\u001b[49m\u001b[43m,\u001b[49m\n\u001b[0;32m    139\u001b[0m \u001b[43m           \u001b[49m\u001b[43mamsgrad\u001b[49m\u001b[38;5;241;43m=\u001b[39;49m\u001b[43mgroup\u001b[49m\u001b[43m[\u001b[49m\u001b[38;5;124;43m'\u001b[39;49m\u001b[38;5;124;43mamsgrad\u001b[39;49m\u001b[38;5;124;43m'\u001b[39;49m\u001b[43m]\u001b[49m\u001b[43m,\u001b[49m\n\u001b[0;32m    140\u001b[0m \u001b[43m           \u001b[49m\u001b[43mbeta1\u001b[49m\u001b[38;5;241;43m=\u001b[39;49m\u001b[43mbeta1\u001b[49m\u001b[43m,\u001b[49m\n\u001b[0;32m    141\u001b[0m \u001b[43m           \u001b[49m\u001b[43mbeta2\u001b[49m\u001b[38;5;241;43m=\u001b[39;49m\u001b[43mbeta2\u001b[49m\u001b[43m,\u001b[49m\n\u001b[0;32m    142\u001b[0m \u001b[43m           \u001b[49m\u001b[43mlr\u001b[49m\u001b[38;5;241;43m=\u001b[39;49m\u001b[43mgroup\u001b[49m\u001b[43m[\u001b[49m\u001b[38;5;124;43m'\u001b[39;49m\u001b[38;5;124;43mlr\u001b[39;49m\u001b[38;5;124;43m'\u001b[39;49m\u001b[43m]\u001b[49m\u001b[43m,\u001b[49m\n\u001b[0;32m    143\u001b[0m \u001b[43m           \u001b[49m\u001b[43mweight_decay\u001b[49m\u001b[38;5;241;43m=\u001b[39;49m\u001b[43mgroup\u001b[49m\u001b[43m[\u001b[49m\u001b[38;5;124;43m'\u001b[39;49m\u001b[38;5;124;43mweight_decay\u001b[39;49m\u001b[38;5;124;43m'\u001b[39;49m\u001b[43m]\u001b[49m\u001b[43m,\u001b[49m\n\u001b[0;32m    144\u001b[0m \u001b[43m           \u001b[49m\u001b[43meps\u001b[49m\u001b[38;5;241;43m=\u001b[39;49m\u001b[43mgroup\u001b[49m\u001b[43m[\u001b[49m\u001b[38;5;124;43m'\u001b[39;49m\u001b[38;5;124;43meps\u001b[39;49m\u001b[38;5;124;43m'\u001b[39;49m\u001b[43m]\u001b[49m\u001b[43m)\u001b[49m\n\u001b[0;32m    145\u001b[0m \u001b[38;5;28;01mreturn\u001b[39;00m loss\n",
      "File \u001b[1;32m~\\miniconda3\\envs\\pytorch_gp\\lib\\site-packages\\torch\\optim\\_functional.py:98\u001b[0m, in \u001b[0;36madam\u001b[1;34m(params, grads, exp_avgs, exp_avg_sqs, max_exp_avg_sqs, state_steps, amsgrad, beta1, beta2, lr, weight_decay, eps)\u001b[0m\n\u001b[0;32m     94\u001b[0m     denom \u001b[38;5;241m=\u001b[39m (exp_avg_sq\u001b[38;5;241m.\u001b[39msqrt() \u001b[38;5;241m/\u001b[39m math\u001b[38;5;241m.\u001b[39msqrt(bias_correction2))\u001b[38;5;241m.\u001b[39madd_(eps)\n\u001b[0;32m     96\u001b[0m step_size \u001b[38;5;241m=\u001b[39m lr \u001b[38;5;241m/\u001b[39m bias_correction1\n\u001b[1;32m---> 98\u001b[0m \u001b[43mparam\u001b[49m\u001b[38;5;241;43m.\u001b[39;49m\u001b[43maddcdiv_\u001b[49m\u001b[43m(\u001b[49m\u001b[43mexp_avg\u001b[49m\u001b[43m,\u001b[49m\u001b[43m \u001b[49m\u001b[43mdenom\u001b[49m\u001b[43m,\u001b[49m\u001b[43m \u001b[49m\u001b[43mvalue\u001b[49m\u001b[38;5;241;43m=\u001b[39;49m\u001b[38;5;241;43m-\u001b[39;49m\u001b[43mstep_size\u001b[49m\u001b[43m)\u001b[49m\n",
      "\u001b[1;31mKeyboardInterrupt\u001b[0m: "
     ]
    }
   ],
   "source": [
    "#@title Run net\n",
    "N_EPOCHS = 90\n",
    "\n",
    "test_loss = []\n",
    "train_loss = []\n",
    "t0 = time.time()\n",
    "\n",
    "for epoch in tqdm(range(N_EPOCHS)):\n",
    "    running_loss = 0.0\n",
    "    for i, data in enumerate(mini_loader, 0):\n",
    "        optimizer.zero_grad()\n",
    "\n",
    "        inputs, labels = data[0].to(device), data[1].to(device)\n",
    "\n",
    "        outputs = my_nn(inputs).squeeze()\n",
    "        loss = criterion(outputs, labels)\n",
    "        loss.backward()\n",
    "        optimizer.step()\n",
    "\n",
    "        running_loss += loss.item()\n",
    "#         if (i + 1) % 100 == 0:\n",
    "#             writer.add_scalar('Loss/train', running_loss , write_index)\n",
    "#         write_index += 1\n",
    "\n",
    "    train_loss.append(running_loss/train_rows)\n",
    "#     writer.add_scalar('Acc/val', train_loss[-1], write_index)\n",
    "    \n",
    "    #calculate test loss.\n",
    "    with torch.no_grad():        \n",
    "        running_tar_loss = 0\n",
    "        for data, target in test_loader:\n",
    "            running_tar_loss += get_accuracy(my_nn, data, target.to(device))\n",
    "\n",
    "\n",
    "        test_loss.append(running_tar_loss / test_rows)\n",
    "#         writer.add_scalar('Test MSE', test_loss[-1], write_index)\n",
    "\n",
    "    print(epoch, '/', N_EPOCHS,\n",
    "          'complete, train:', round(np.sqrt(train_loss[-1]), 4),\n",
    "          \"test:\", round(np.sqrt(test_loss[-1]), 4),\n",
    "          'elapsed:', round(time.time() - t0))\n",
    "    \n",
    "# writer.close()\n",
    "print('Finished Training')"
   ]
  },
  {
   "cell_type": "code",
   "execution_count": 21,
   "id": "499a8b82",
   "metadata": {},
   "outputs": [],
   "source": [
    "torch.cuda.empty_cache()"
   ]
  },
  {
   "cell_type": "markdown",
   "id": "8ab1801a",
   "metadata": {},
   "source": [
    "### Checking Accuracy"
   ]
  },
  {
   "cell_type": "code",
   "execution_count": null,
   "id": "ca529682",
   "metadata": {},
   "outputs": [],
   "source": [
    "path = \"C:/Users/Matt/Dropbox/SnowComp/RunGraphs/\" \n",
    "\n",
    "suffix = \"_\" + \\\n",
    "    str(cdim1)+ \"_\" + str(cdim2)+ \"_\" +str(cdim3)+ \"_\" + str(kernel_sz)+ \\\n",
    "    \"_\" + str(dropout)+ \"_\" + str(ldim)+ \"_\" + str(epoch) +\"_\" + str(lrate)\n",
    "\n",
    "plt.plot(range(epoch+1), np.sqrt(train_loss), label =\"train\")\n",
    "plt.plot(range(epoch+1), np.sqrt(test_loss), label =\"test\")\n",
    "plt.legend()\n",
    "plt.savefig(path +\"sent_converge_alldata\" + suffix+ \".png\")"
   ]
  },
  {
   "cell_type": "markdown",
   "id": "30ad3627",
   "metadata": {},
   "source": [
    "## Save Model and Predictions"
   ]
  },
  {
   "cell_type": "code",
   "execution_count": null,
   "id": "97e2dbbc",
   "metadata": {},
   "outputs": [],
   "source": []
  },
  {
   "cell_type": "code",
   "execution_count": null,
   "id": "8fa57f6e",
   "metadata": {},
   "outputs": [],
   "source": [
    "pred_all = True\n",
    "if pred_all:\n",
    "    full_x = np.concatenate((dataset.reshape(dataset.shape[0], 1, 41, 41),\n",
    "               sentinel_testfeat.reshape(sentinel_testfeat.shape[0], 1, 41, 41)),\n",
    "              axis= 0)\n",
    "\n",
    "    full_y_meta = pd.concat((train_y, sentinel_ylab_test),\n",
    "                           axis = 0)\n",
    "\n",
    "    full_x, full_y_meta = permuter(full_x, full_y_meta)\n",
    "    full_y = np.array(full_y_meta['snowpack'])\n",
    "    \n",
    "    full_x, full_y = torch.Tensor(full_x), torch.Tensor(full_y)\n",
    "    full_dataset = TensorDataset(full_x, full_y)\n",
    "    full_loader = DataLoader(full_dataset, batch_size=200)\n",
    "    \n",
    "    del dataset, sentinel_testfeat, train_y, sentinel_ylab_test"
   ]
  },
  {
   "cell_type": "code",
   "execution_count": null,
   "id": "52637de3",
   "metadata": {},
   "outputs": [],
   "source": [
    "if pred_all:\n",
    "    #@title Setup net\n",
    "    my_nn = Net(cdim1=cdim1, cdim2=cdim2,cdim3 =cdim3,\n",
    "                kernel_sz=kernel_sz, dropout=dropout, ldim=ldim)\n",
    "\n",
    "    device = torch.device(\"cuda:0\" if torch.cuda.is_available() else \"cpu\")\n",
    "    my_nn.to(device)\n",
    "\n",
    "    optimizer = optim.Adam(my_nn.parameters(), lr=lrate)\n",
    "    criterion = nn.MSELoss(reduction = 'sum')"
   ]
  },
  {
   "cell_type": "code",
   "execution_count": null,
   "id": "1a7d72fb",
   "metadata": {
    "scrolled": true
   },
   "outputs": [],
   "source": [
    "if pred_all:\n",
    "    train_loss = []\n",
    "\n",
    "    #@title Run net\n",
    "    for epoch in tqdm(range(int(N_EPOCHS*1.1))):\n",
    "        running_loss = 0.0\n",
    "        for i, data in enumerate(full_loader, 0):\n",
    "            optimizer.zero_grad()\n",
    "            inputs, labels = data[0].to(device), data[1].to(device)\n",
    "\n",
    "            outputs = my_nn(inputs).squeeze()\n",
    "            loss = criterion(outputs, labels)\n",
    "            loss.backward()\n",
    "            optimizer.step()\n",
    "\n",
    "            running_loss += loss.item()\n",
    "\n",
    "        train_loss.append(running_loss/train_rows)\n",
    "        print(epoch, '/', N_EPOCHS,\n",
    "              'complete, train:', round(np.sqrt(train_loss[-1]), 4),\n",
    "              \"test:\", round(np.sqrt(test_loss[-1]), 4) )\n",
    "        \n",
    "    torch.cuda.empty_cache()"
   ]
  },
  {
   "cell_type": "code",
   "execution_count": null,
   "id": "2d9ae59a",
   "metadata": {},
   "outputs": [],
   "source": [
    "if pred_all:\n",
    "    path = \"C:/Users/Matt/Dropbox/SnowComp/RunGraphs/\" \n",
    "\n",
    "    suffix = \"_\" + \\\n",
    "        str(cdim1)+ \"_\" + str(cdim2)+ \"_\" +str(cdim3)+ \"_\" + str(kernel_sz)+ \\\n",
    "        \"_\" + str(dropout)+ \"_\" + str(ldim)+ \"_\" + str(epoch) +\"_\" + str(lrate) \n",
    "\n",
    "    plt.plot(range(epoch+1), np.sqrt(train_loss), label =\"train\")\n",
    "    plt.legend()\n",
    "    plt.savefig(path +\"sent\" + suffix+ \".png\")"
   ]
  },
  {
   "cell_type": "code",
   "execution_count": null,
   "id": "52c2cdaa",
   "metadata": {},
   "outputs": [],
   "source": [
    "if pred_all:\n",
    "    my_nn.eval()\n",
    "\n",
    "    torch.save(my_nn.state_dict(), path +\"model_sent\"+suffix)\n",
    "\n",
    "    vals = []\n",
    "    for inputs, _ in full_loader:\n",
    "        with torch.no_grad():\n",
    "            inputs = inputs.to(device)\n",
    "            vals.append(my_nn(inputs).cpu().numpy())\n",
    "    vals =  np.concatenate(vals, axis = 0)       \n",
    "\n",
    "    path_preds = \"C:/Users/Matt/Dropbox/SnowComp/preds/\" \n",
    "    np.save(path_preds+\"sentpreds.npy\", vals)\n",
    "\n",
    "    data_path = \"C:/Users/Matt/Dropbox/SnowComp/FinalData/\"\n",
    "    full_y_meta.to_csv(data_path +\"sent_ymeta.csv\")\n",
    "    \n",
    "    del full_x, full_y, full_y_meta, full_dataset, full_loader, vals\n",
    "\n",
    "\n"
   ]
  },
  {
   "cell_type": "code",
   "execution_count": null,
   "id": "bad16778",
   "metadata": {},
   "outputs": [],
   "source": [
    "if pred_all:\n",
    "    sub1_meta = pd.read_csv(sent_path + \"sent_sub1_meta.csv\")\n",
    "    sub2_meta = pd.read_csv(sent_path + \"sent_sub2_meta.csv\")\n",
    "    sub_ds1 = np.load(sent_path + \"sent_pp_sub1.npy\")\n",
    "    sub_ds2 = np.load(sent_path + \"sent_pp_sub2.npy\")\n",
    "\n",
    "    sub_meta = pd.concat((sub1_meta, sub2_meta), axis = 0)\n",
    "    sub_dataset = np.concatenate((sub_ds1, sub_ds2), axis = 0)\n",
    "    \n",
    "    sub_dataset = sub_dataset.reshape((-1, 1, 41, 41))\n",
    "    sub_dataset = minmaxscaler(sub_dataset, [-57.906, 18.57])\n",
    "    del sub1_meta, sub2_meta, sub_ds1, sub_ds2\n",
    "\n",
    "# sub_meta = np.array(sub_meta['snowpack'])"
   ]
  },
  {
   "cell_type": "code",
   "execution_count": null,
   "id": "a9bf6420",
   "metadata": {},
   "outputs": [],
   "source": [
    "if pred_all:\n",
    "    #Predict and save on submission data\n",
    "    vals_sub = []\n",
    "    \n",
    "    sub_dataset = torch.Tensor(sub_dataset)\n",
    "    sub_ds = TensorDataset(sub_dataset)\n",
    "    sub_loader = DataLoader(sub_ds, batch_size=5000)\n",
    "\n",
    "    with torch.no_grad():\n",
    "        for images in sub_loader:\n",
    "            images = images[0].to(device)\n",
    "            vals_sub.append(my_nn(images).cpu().numpy()) \n",
    "\n",
    "    \n",
    "    np.save(path_preds+\"sent_subpred.npy\", vals_sub)"
   ]
  }
 ],
 "metadata": {
  "kernelspec": {
   "display_name": "Python 3 (ipykernel)",
   "language": "python",
   "name": "python3"
  },
  "language_info": {
   "codemirror_mode": {
    "name": "ipython",
    "version": 3
   },
   "file_extension": ".py",
   "mimetype": "text/x-python",
   "name": "python",
   "nbconvert_exporter": "python",
   "pygments_lexer": "ipython3",
   "version": "3.8.12"
  }
 },
 "nbformat": 4,
 "nbformat_minor": 5
}
