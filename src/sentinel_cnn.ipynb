{
 "cells": [
  {
   "cell_type": "code",
   "execution_count": 69,
   "id": "8d30e1dc",
   "metadata": {},
   "outputs": [],
   "source": [
    "import pandas as pd\n",
    "import numpy as np\n",
    "from tqdm.notebook import tqdm\n",
    "import matplotlib.pyplot as plt\n",
    "\n",
    "from datetime import datetime\n",
    "import pickle\n",
    "import random\n",
    "\n",
    "rng = np.random.default_rng(342834)"
   ]
  },
  {
   "cell_type": "code",
   "execution_count": 70,
   "id": "b8d4e6ce",
   "metadata": {},
   "outputs": [],
   "source": [
    "#labels helpers and processing\n",
    "def pivot_df(df, id_col, ignore_cols=None):\n",
    "    if not ignore_cols:\n",
    "        ignore_cols = []\n",
    "    date_cols = [x for x in df.columns if x not in [id_col] + ignore_cols]\n",
    "    dfs = []\n",
    "    for day in date_cols:\n",
    "        day_df = df[[id_col, day]].rename({day: 'snowpack'}, axis=1)\n",
    "        day_df['date'] = day\n",
    "        dfs.append(day_df)\n",
    "    return pd.concat(dfs)\n",
    "\n",
    "def daynum_gen(date_time):\n",
    "    '''converts date time objects to filename'''\n",
    "    date_time = datetime.fromisoformat(date_time)\n",
    "    doy = date_time.timetuple().tm_yday\n",
    "    year = date_time.year\n",
    "    return str(year) + '{:03d}'.format(doy)\n",
    "\n",
    "# Get ordered elevation training data\n",
    "def add_elevation(order, modis):\n",
    "    order = pd.DataFrame({'modis_idx': order, 'order': [x for x in range(len(order))]})\n",
    "    order['station_id'] = order['modis_idx'].apply(lambda x: '-'.join(x.split('-')[:-1]))\n",
    "    order = order.merge(elev_order).sort_values('order')\n",
    "    ordered_elev = elevation[order['DEM_order'].to_list(), :, :]\n",
    "    dim = ordered_elev.shape\n",
    "\n",
    "    return np.concatenate([modis, ordered_elev.reshape(dim[0], 1, dim[1], dim[2])], axis=1)\n",
    "\n",
    "def y_merger(x, y):\n",
    "    '''reattach y labels'''\n",
    "    y = y.rename(columns={\"Unnamed: 0\":\"cell_id\"})\n",
    "    y = pivot_df(y, 'cell_id').dropna()\n",
    "    y['date']=y['date'].map(daynum_gen)\n",
    "\n",
    "    y['idx'] = y['cell_id'] + \"-\" + y['date']\n",
    "    y = y.set_index('idx')\n",
    "\n",
    "    x['idx'] = x['cell_id'] +\\\n",
    "         \"-\" +x['date_long'].astype(str)\n",
    "    x = x.set_index('idx')\n",
    "\n",
    "    return x.join(y['snowpack'])"
   ]
  },
  {
   "cell_type": "code",
   "execution_count": 77,
   "id": "272b4492",
   "metadata": {},
   "outputs": [],
   "source": [
    "y_path = \"C:/Users/Matt/Documents/Python Scripts/SnowComp/dat/\"\n",
    "\n",
    "train_feat = pd.read_csv(y_path + \"ground_measures_train_features.csv\")\n",
    "test =pd.read_csv(y_path + \"ground_measures_test_features.csv\")\n",
    "submission = pd.read_csv(y_path + \"submission_format.csv\")\n",
    "train_y = pd.read_csv(y_path + \"train_labels.csv\") \n",
    "metadata = pd.read_csv(y_path + \"ground_measures_metadata.csv\")"
   ]
  },
  {
   "cell_type": "code",
   "execution_count": 91,
   "id": "301f0598",
   "metadata": {},
   "outputs": [],
   "source": [
    "sent_path = \"C:/Users/Matt/Dropbox/SnowComp/SentinelHelper/\"\n",
    "\n",
    "sentinel_trainfeat = pd.read_csv(sent_path + \"sent_pp_trainfeat.csv\")\n",
    "sentinel_testfeat = pd.read_csv(sent_path + \"sent_pp_testfeat.csv\")\n",
    "sentinel_ylabs = pd.read_csv(sent_path + \"sent_pp_ylab.csv\")"
   ]
  },
  {
   "cell_type": "markdown",
   "id": "e83b0704",
   "metadata": {},
   "source": [
    "### Merge back in y labels, mask NAs"
   ]
  },
  {
   "cell_type": "code",
   "execution_count": 80,
   "id": "371697bc",
   "metadata": {},
   "outputs": [],
   "source": [
    "sentinel_trainfeat = y_merger(sentinel_trainfeat, train_feat)\n",
    "sentinel_testfeat = y_merger(sentinel_testfeat, test)\n",
    "sentinel_ylabs = y_merger(sentinel_ylabs, train_y)"
   ]
  },
  {
   "cell_type": "markdown",
   "id": "facf302c",
   "metadata": {},
   "source": [
    "## Define Training and Testing Sets"
   ]
  },
  {
   "cell_type": "code",
   "execution_count": null,
   "id": "ed73bb5f",
   "metadata": {},
   "outputs": [],
   "source": [
    "#@title Imports\n",
    "import torch\n",
    "import torch.nn as nn\n",
    "import torch.nn.functional as F\n",
    "import torch.optim as optim\n",
    "from torch.utils.data import TensorDataset, DataLoader\n",
    "from torch.utils.tensorboard import SummaryWriter"
   ]
  },
  {
   "cell_type": "code",
   "execution_count": 90,
   "id": "566f2bcb",
   "metadata": {
    "scrolled": true
   },
   "outputs": [
    {
     "data": {
      "text/plain": [
       "'[[-14.68666182 -11.28283651 -10.94262238 ...  -8.63001602  -8.1752884\\n   -7.50209077]\\n [-14.06172072 -13.67520101 -10.7870076  ...  -6.45086553  -6.06331967\\n   -9.75055821]\\n [-13.27421134 -11.89650905 -11.98049499 ...  -8.39559617  -6.59923726\\n   -9.82995084]\\n ...\\n [ -7.95123448  -7.3295684   -8.78284667 ... -10.66935572 -11.50698151\\n  -11.69684473]\\n [-10.30231037  -9.3643654   -8.99757735 ... -10.72397404 -10.92480873\\n  -11.77672265]\\n [-11.10299803  -9.67240732 -10.89589824 ... -11.86795424 -11.44884082\\n  -12.82893485]]'"
      ]
     },
     "execution_count": 90,
     "metadata": {},
     "output_type": "execute_result"
    }
   ],
   "source": [
    "np.array(sentinel_trainfeat['first'])"
   ]
  },
  {
   "cell_type": "markdown",
   "id": "935f59e0",
   "metadata": {},
   "source": [
    "## Define CNN"
   ]
  },
  {
   "cell_type": "code",
   "execution_count": null,
   "id": "c2ef4585",
   "metadata": {},
   "outputs": [],
   "source": []
  }
 ],
 "metadata": {
  "kernelspec": {
   "display_name": "Python 3 (ipykernel)",
   "language": "python",
   "name": "python3"
  },
  "language_info": {
   "codemirror_mode": {
    "name": "ipython",
    "version": 3
   },
   "file_extension": ".py",
   "mimetype": "text/x-python",
   "name": "python",
   "nbconvert_exporter": "python",
   "pygments_lexer": "ipython3",
   "version": "3.9.9"
  }
 },
 "nbformat": 4,
 "nbformat_minor": 5
}
