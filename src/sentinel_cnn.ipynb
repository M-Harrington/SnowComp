{
 "cells": [
  {
   "cell_type": "markdown",
   "id": "c8c0daff",
   "metadata": {},
   "source": [
    "# CNN for Sentinel Images"
   ]
  },
  {
   "cell_type": "code",
   "execution_count": 90,
   "id": "0fed0272",
   "metadata": {},
   "outputs": [],
   "source": [
    "import pandas as pd\n",
    "import numpy as np\n",
    "from tqdm.notebook import tqdm\n",
    "import matplotlib.pyplot as plt\n",
    "import geopandas as gpd\n",
    "import time\n",
    "\n",
    "from datetime import datetime\n",
    "import pickle\n",
    "import random\n",
    "import json\n",
    "\n",
    "tqdm.pandas() \n",
    "\n",
    "rng = np.random.default_rng(342834)"
   ]
  },
  {
   "cell_type": "code",
   "execution_count": 91,
   "id": "9d257ea3",
   "metadata": {},
   "outputs": [],
   "source": [
    "#labels helpers and processing\n",
    "def pivot_df(df, id_col, ignore_cols=None):\n",
    "    if not ignore_cols:\n",
    "        ignore_cols = []\n",
    "    date_cols = [x for x in df.columns if x not in [id_col] + ignore_cols]\n",
    "    dfs = []\n",
    "    for day in date_cols:\n",
    "        day_df = df[[id_col, day]].rename({day: 'snowpack'}, axis=1)\n",
    "        day_df['date'] = day\n",
    "        dfs.append(day_df)\n",
    "    return pd.concat(dfs)\n",
    "\n",
    "def daynum_gen(date_time):\n",
    "    '''converts date time objects to filename'''\n",
    "    date_time = datetime.fromisoformat(date_time)\n",
    "    doy = date_time.timetuple().tm_yday\n",
    "    year = date_time.year\n",
    "    return str(year) + '{:03d}'.format(doy)\n",
    "\n",
    "# Get ordered elevation training data\n",
    "def add_elevation(order, modis):\n",
    "    order = pd.DataFrame({'modis_idx': order, 'order': [x for x in range(len(order))]})\n",
    "    order['station_id'] = order['modis_idx'].apply(lambda x: '-'.join(x.split('-')[:-1]))\n",
    "    order = order.merge(elev_order).sort_values('order')\n",
    "    ordered_elev = elevation[order['DEM_order'].to_list(), :, :]\n",
    "    dim = ordered_elev.shape\n",
    "\n",
    "    return np.concatenate([modis, ordered_elev.reshape(dim[0], 1, dim[1], dim[2])], axis=1)\n",
    "\n"
   ]
  },
  {
   "cell_type": "code",
   "execution_count": 92,
   "id": "fbab25cf",
   "metadata": {},
   "outputs": [],
   "source": [
    "## Sentinel Helpers\n",
    "def y_merger(x, y):\n",
    "    '''reattach y labels to sentinel'''\n",
    "    y = y.rename(columns={\"Unnamed: 0\":\"cell_id\"})\n",
    "    y = pivot_df(y, 'cell_id').dropna()\n",
    "    y['date']=y['date'].map(daynum_gen)\n",
    "\n",
    "    y['idx'] = y['cell_id'] + \"-\" + y['date']\n",
    "    y = y.set_index('idx')\n",
    "\n",
    "    x['idx'] = x['cell_id'] +\\\n",
    "         \"-\" +x['date_long'].astype(str)\n",
    "    x = x.set_index('idx')\n",
    "\n",
    "    return x.join(y['snowpack'])\n",
    "\n",
    "#preprocessing helpers\n",
    "def masker(x,y):\n",
    "#     return x , y\n",
    "    mask = np.all(x > -99, axis = (1,2))\n",
    "    print(mask.sum(), \"of\", len(mask))\n",
    "    \n",
    "    return x[mask], y[mask]\n",
    "\n",
    "def minmaxscaler(x):\n",
    "    print(\"min\", round(x.min(),3), \"max\", round(x.max(),3))\n",
    "    x = (x - x.min())/(x.max() - x.min())\n",
    "                   \n",
    "    return x\n",
    "\n",
    "def reshaper(ds):\n",
    "    #readjust dimensions\n",
    "    dim0 = ds.shape[0]\n",
    "    dim1 = ds.shape[1]\n",
    "    dim2 = ds.shape[2]\n",
    "\n",
    "    return ds.reshape((dim0, 1, dim1, dim2))"
   ]
  },
  {
   "cell_type": "code",
   "execution_count": 93,
   "id": "bd890158",
   "metadata": {},
   "outputs": [],
   "source": [
    "DATA_PATH = \"C:/Users/Matt/Documents/Python Scripts/SnowComp/dat/\"\n",
    "\n",
    "#@title Original data\n",
    "metadata = pd.read_csv(DATA_PATH + 'ground_measures_metadata.csv')\n",
    "train_inp = pd.read_csv(DATA_PATH + 'ground_measures_train_features.csv')\n",
    "test_inp = pd.read_csv(DATA_PATH + 'ground_measures_test_features.csv')\n",
    "train_labels = pd.read_csv(DATA_PATH + 'train_labels.csv')\n",
    "grid_cells = gpd.read_file(DATA_PATH + 'grid_cells.geojson')\n",
    "submission_format = gpd.read_file(DATA_PATH + 'submission_format.csv')"
   ]
  },
  {
   "cell_type": "markdown",
   "id": "2b9c7e62",
   "metadata": {},
   "source": [
    "## Sentinel Preprocessing"
   ]
  },
  {
   "cell_type": "code",
   "execution_count": 94,
   "id": "50aa787e",
   "metadata": {},
   "outputs": [
    {
     "name": "stderr",
     "output_type": "stream",
     "text": [
      "C:\\Users\\Matt\\AppData\\Local\\Temp\\ipykernel_14724\\1111496563.py:9: UserWarning: Geometry is in a geographic CRS. Results from 'centroid' are likely incorrect. Use 'GeoSeries.to_crs()' to re-project geometries to a projected CRS before this operation.\n",
      "\n",
      "  cell_metadata['centroid'] = cell_metadata['geometry'].centroid\n"
     ]
    }
   ],
   "source": [
    "#@title Get metadata for grid cells\n",
    "states = gpd.read_file('C:/Users/Matt/Documents/Python Scripts/SnowComp/dat/states/')\\\n",
    "    .rename({'NAME': 'state'}, axis=1)\n",
    "states = states.to_crs('EPSG:4326')\n",
    "\n",
    "cell_metadata = gpd.sjoin(grid_cells, states[['geometry', 'state']])\\\n",
    "    .drop_duplicates(subset='cell_id')\\\n",
    "    .drop(['index_right'], axis=1)\n",
    "cell_metadata['centroid'] = cell_metadata['geometry'].centroid\n",
    "cell_metadata['longitude'] = cell_metadata['centroid'].x\n",
    "cell_metadata['latitude'] = cell_metadata['centroid'].y\n",
    "cell_metadata = cell_metadata[['cell_id', 'state', 'longitude', 'latitude']]\n"
   ]
  },
  {
   "cell_type": "code",
   "execution_count": 95,
   "id": "df540fc0",
   "metadata": {},
   "outputs": [],
   "source": [
    "#@title Format dfs\n",
    "def get_rmse(df, actual='actual_snowpack', predicted='snowpack'):\n",
    "    return ((df[actual] - df[predicted]) ** 2).mean() ** 0.5\n",
    "\n",
    "def pivot_df(df, id_col, ignore_cols=None):\n",
    "    if not ignore_cols:\n",
    "        ignore_cols = []\n",
    "    date_cols = [x for x in df.columns if x not in [id_col] + ignore_cols]\n",
    "    dfs = []\n",
    "    for day in date_cols:\n",
    "        day_df = df[[id_col, day]].rename({day: 'snowpack'}, axis=1)\n",
    "        day_df['date'] = day\n",
    "        dfs.append(day_df)\n",
    "    return pd.concat(dfs)\n",
    "\n",
    "def get_day_of_season(doy):\n",
    "    return doy + 365 - 335 if doy < 335 else doy - 335\n",
    "\n",
    "def add_time_cols(df):\n",
    "    df['date'] = pd.to_datetime(df['date'])\n",
    "    df['doy'] = df['date'].dt.dayofyear\n",
    "    df['dos'] = df['doy'].apply(get_day_of_season)\n",
    "    df['year'] = df['date'].dt.year\n",
    "    df['season'] = df['year']\n",
    "    df.loc[df['doy'] < 335, 'season'] -= 1\n",
    "    return df\n",
    "\n",
    "def clean_train_test(df, id_col='station_id', metadata_df=None):\n",
    "    df = pivot_df(df, id_col)\n",
    "    if metadata_df is not None:\n",
    "        df = df.merge(metadata_df)\n",
    "    return add_time_cols(df)\n",
    "\n",
    "def permuter(narray, df, rng= rng):\n",
    "    df.reset_index(inplace= True)\n",
    "    p =rng.permutation(len(narray))\n",
    "    \n",
    "    return narray[p], df.loc[p]\n",
    "\n",
    "train = clean_train_test(train_inp.rename({'Unnamed: 0': 'station_id'}, axis=1),\n",
    "                         metadata_df=metadata)\n",
    "train2 = clean_train_test(train_labels, 'cell_id', cell_metadata).dropna()\n",
    "train_full = pd.concat([train2.rename({'cell_id': 'station_id'}, axis=1).assign(datatype='labels'),\n",
    "                        train.drop(['elevation_m', 'name'], axis=1).assign(datatype='ground')])\n",
    "\n",
    "test = clean_train_test(\n",
    "    test_inp.rename({'Unnamed: 0': 'station_id'}, axis=1), metadata_df=metadata)\\\n",
    "    .rename({'snowpack': 'actual_snowpack'}, axis=1).dropna()\\\n",
    "    .merge(train[['station_id', 'state']].drop_duplicates())\n",
    "\n",
    "to_predict = clean_train_test(submission_format.drop('geometry', axis=1), 'cell_id', cell_metadata)"
   ]
  },
  {
   "cell_type": "code",
   "execution_count": 96,
   "id": "6f147d03",
   "metadata": {},
   "outputs": [],
   "source": [
    "sent_path = \"C:/Users/Matt/Dropbox/SnowComp/SentinelHelper/\"\n",
    "\n",
    "sentinel_trainfeat = np.load(sent_path + \"sent_pp_trainfeat.npy\")\n",
    "sentinel_testfeat = np.load(sent_path + \"sent_pp_testfeat.npy\")\n",
    "sentinel_ylabs = np.load(sent_path + \"sent_pp_ylabs.npy\")\n",
    "\n",
    "trainfeat_meta = pd.read_csv(sent_path + \"sent_trainfeat_meta.csv\")\n",
    "testfeat_meta = pd.read_csv(sent_path + \"sent_testfeat_meta.csv\")\n",
    "ylabs_meta = pd.read_csv(sent_path + \"sent_ylabs_meta.csv\")"
   ]
  },
  {
   "cell_type": "markdown",
   "id": "7b6ff641",
   "metadata": {},
   "source": [
    "### Merge back in y labels, mask NAs\n",
    "\n",
    "CHECK order not adjusted"
   ]
  },
  {
   "cell_type": "code",
   "execution_count": 97,
   "id": "52a2195b",
   "metadata": {
    "scrolled": false
   },
   "outputs": [
    {
     "name": "stdout",
     "output_type": "stream",
     "text": [
      "76159 of 76410\n",
      "105571 of 106760\n",
      "38618 of 38628\n",
      "min -57.906 max 18.57\n",
      "min -50.229 max 19.536\n",
      "min -27.488 max 14.445\n"
     ]
    }
   ],
   "source": [
    "sentinel_ylabs, ylabs_meta = masker(sentinel_ylabs, ylabs_meta)\n",
    "sentinel_trainfeat, trainfeat_meta = masker(sentinel_trainfeat, trainfeat_meta)\n",
    "sentinel_testfeat, testfeat_meta = masker(sentinel_testfeat, testfeat_meta)\n",
    "\n",
    "sentinel_ylabs = minmaxscaler(sentinel_ylabs)\n",
    "sentinel_trainfeat = minmaxscaler(sentinel_trainfeat)\n",
    "sentinel_testfeat = minmaxscaler(sentinel_testfeat)"
   ]
  },
  {
   "cell_type": "code",
   "execution_count": 98,
   "id": "e2b7a0c1",
   "metadata": {},
   "outputs": [],
   "source": [
    "dataset = np.concatenate([sentinel_trainfeat, sentinel_ylabs])\n",
    "train_y = pd.concat([trainfeat_meta, ylabs_meta])\n",
    "train_y['date'] = pd.to_datetime(train_y['date'])\n",
    "train_y = train_y.merge(train_full.rename({'station_id': 'cell_id'}, axis=1)\\\n",
    "                                    [['cell_id', 'snowpack', 'date']])\n",
    "\n",
    "testfeat_meta['date'] = pd.to_datetime(testfeat_meta['date'])\n",
    "sentinel_ylab_test = testfeat_meta.merge(\n",
    "    test.rename({'station_id': 'cell_id', 'actual_snowpack': 'snowpack'}, axis=1)\\\n",
    "    [['cell_id', 'snowpack', 'date']])"
   ]
  },
  {
   "cell_type": "code",
   "execution_count": 99,
   "id": "e4216aae",
   "metadata": {},
   "outputs": [],
   "source": [
    "# sentinel_testfeat, sentinel_ylab_test\n",
    "del sentinel_ylabs\n",
    "del ylabs_meta\n",
    "del sentinel_trainfeat\n",
    "del trainfeat_meta"
   ]
  },
  {
   "cell_type": "markdown",
   "id": "1282c6c3",
   "metadata": {},
   "source": [
    "## Define Training and Testing Sets\n",
    "\n",
    "\n",
    "`dataset -> sentinel_ylabs`"
   ]
  },
  {
   "cell_type": "code",
   "execution_count": 100,
   "id": "933d1961",
   "metadata": {},
   "outputs": [],
   "source": [
    "#@title Imports\n",
    "import torch\n",
    "import torch.nn as nn\n",
    "import torch.nn.functional as F\n",
    "import torch.optim as optim\n",
    "from torch.utils.data import TensorDataset, DataLoader"
   ]
  },
  {
   "cell_type": "markdown",
   "id": "664086aa",
   "metadata": {},
   "source": [
    "## Define CNN"
   ]
  },
  {
   "cell_type": "code",
   "execution_count": 101,
   "id": "e6269558",
   "metadata": {},
   "outputs": [],
   "source": [
    "#@title Define simple CNN\n",
    "# From: https://pytorch.org/tutorials/recipes/recipes/defining_a_neural_network.html\n",
    "# Also used: https://pytorch.org/tutorials/beginner/deep_learning_60min_blitz.html\n",
    "\n",
    "START_D = 1\n",
    "START_HW = 41\n",
    "\n",
    "class Net(nn.Module):\n",
    "\n",
    "    def _conv_calc(self, in_dim, pad, stride, k):\n",
    "        out = int(np.floor((in_dim + 2 * pad - (k - 1) - 1) / stride + 1))\n",
    "        return out\n",
    "\n",
    "    def __init__(self, cdim1, cdim2, cdim3, kernel_sz, dropout,\n",
    "                 ldim, print_dim = True):\n",
    "        super(Net, self).__init__()\n",
    "        \n",
    "        #first layer\n",
    "        self.conv1 = nn.Conv2d(START_D, cdim1, kernel_sz, 1)\n",
    "        self.avgpool = nn.AvgPool2d(3, stride= 1)\n",
    "        \n",
    "        c1_dim = self._conv_calc(START_HW, 0, 1, kernel_sz)\n",
    "        mp0_dim = self._conv_calc(c1_dim, 0, 1, 3)\n",
    "        \n",
    "        #second layer\n",
    "        self.conv2 = nn.Conv2d(cdim1, cdim2, kernel_sz, 1)\n",
    "        c2_dim = self._conv_calc(mp0_dim, 0, 1, kernel_sz)\n",
    "        mp1_dim = self._conv_calc(c2_dim, 0, 1, 3)\n",
    "        \n",
    "        #third layer\n",
    "        self.conv3_ = nn.Conv2d(cdim3, cdim3, kernel_sz, 1)\n",
    "        self.conv3 = nn.Conv2d(cdim2, cdim3, kernel_sz, 1)\n",
    "        c3_dim = self._conv_calc(mp1_dim, 0, 1, kernel_sz)\n",
    "        c3__dim = self._conv_calc(c3_dim, 0, 1, kernel_sz)\n",
    "        c3___dim = self._conv_calc(c3_dim, 0, 1, kernel_sz)\n",
    "        mp2_dim = self._conv_calc(c3___dim, 0, 1, 3)\n",
    "        \n",
    "        #fourth layer\n",
    "        print(cdim3, mp2_dim, mp2_dim)\n",
    "        flattened_dim = cdim3 * mp2_dim * mp2_dim\n",
    "        self.fc1 = nn.Linear(200, ldim)\n",
    "        self.fc2 = nn.Linear(ldim, 1)\n",
    "\n",
    "        #extras\n",
    "        self.dropout1 = nn.Dropout2d(dropout)\n",
    "        self.dropout2 = nn.Dropout2d(dropout*2)\n",
    "        self.BatchNorm1 = nn.BatchNorm2d(cdim1)\n",
    "        self.BatchNorm3 = nn.BatchNorm2d(cdim3)\n",
    "        \n",
    "        if print_dim:\n",
    "            print('c1 dim:', c1_dim)\n",
    "            print('mp0 dim:', mp0_dim)\n",
    "            print('c2 dim:', c2_dim)\n",
    "            print('mp1 dim:', mp1_dim)\n",
    "            print('c3 dim:', c3_dim)\n",
    "            print('c3_ dim:', c3__dim)\n",
    "            print('c3__ dim:', c3___dim)\n",
    "            print('mp2 dim:', mp2_dim)\n",
    "            print('flattened_dim', flattened_dim)\n",
    "            \n",
    "        \n",
    "        \n",
    "    def forward(self, x):\n",
    "        #first layer\n",
    "        x = self.conv1(x)\n",
    "        x = F.tanh(x)\n",
    "        # x = F.relu(x)\n",
    "        x = self.BatchNorm1(x)\n",
    "        x = self.avgpool(x)\n",
    "        \n",
    "        #second layer\n",
    "        x = self.dropout1(x)\n",
    "        x = self.conv2(x)\n",
    "        x = F.tanh(x)\n",
    "        # x = F.relu(x)\n",
    "        x = self.avgpool(x)\n",
    "        \n",
    "        #third layer\n",
    "        x = self.dropout2(x)\n",
    "        x = self.conv3(x)\n",
    "        x = F.tanh(x)\n",
    "        \n",
    "        x = self.conv3_(x)\n",
    "        x = F.tanh(x)\n",
    "        \n",
    "        x = self.conv3_(x)\n",
    "        x = F.tanh(x)\n",
    "        # x = F.relu(x)\n",
    "        x = self.BatchNorm3(x)\n",
    "        x = self.avgpool(x)\n",
    "        \n",
    "        #fourth layer\n",
    "        x = self.dropout1(x)\n",
    "        x = torch.flatten(x, 1)\n",
    "#         print(x.size())\n",
    "        x = self.fc1(x)\n",
    "        x = F.tanh(x)\n",
    "        # x = F.relu(x)\n",
    "        \n",
    "        output = self.fc2(x)\n",
    "        return output"
   ]
  },
  {
   "cell_type": "code",
   "execution_count": 102,
   "id": "03c2043f",
   "metadata": {},
   "outputs": [],
   "source": [
    "#@title Helpers to get predictions and accuracy\n",
    "def predict(cnn, x, as_numpy=False):\n",
    "    device = torch.device(\"cuda:0\" if torch.cuda.is_available() else \"cpu\")\n",
    "    cnn.eval()\n",
    "    x = x.type(torch.FloatTensor).to(device)\n",
    "    output = cnn(x)\n",
    "    if as_numpy:\n",
    "        output = output.flatten().cpu().detach().numpy() #detach removes gradients (bad)\n",
    "        \n",
    "    cnn.train()\n",
    "    return output.squeeze()\n",
    "\n",
    "def get_accuracy(cnn, x, y):\n",
    "#     y = torch.from_numpy(y).to(device)\n",
    "    outputs = predict(cnn, x, as_numpy = False)\n",
    "    loss = ((y-outputs)**2).sum()\n",
    "    return round(loss.item(), 6)"
   ]
  },
  {
   "cell_type": "code",
   "execution_count": 103,
   "id": "9e6e6c80",
   "metadata": {
    "scrolled": true
   },
   "outputs": [],
   "source": [
    "# #@title Setup net\n",
    "# cdim1=60; cdim2=20; cdim3 =15; kernel_sz=3; dropout=0.13; ldim=40; lrate = 0.0003\n",
    "# my_nn = Net(cdim1=cdim1, cdim2=cdim2,cdim3 =cdim3, kernel_sz=kernel_sz, dropout=dropout, ldim=ldim)\n",
    "# optimizer = optim.Adam(my_nn.parameters(), lr=0.1)\n",
    "# optimizer.zero_grad()\n",
    "\n",
    "# # test_im = torch.from_numpy(dataset[0]).reshape(1, START_D, 21, 21)\n",
    "# test_im = torch.from_numpy(dataset[0]).reshape(1, START_D, 41, 41)\n",
    "# result = my_nn(test_im.type(torch.FloatTensor))\n",
    "# result.shape"
   ]
  },
  {
   "cell_type": "code",
   "execution_count": 104,
   "id": "9742f9da",
   "metadata": {},
   "outputs": [],
   "source": [
    "#@title Get data loaders\n",
    "\n",
    "mini_x = np.array(dataset.reshape(dataset.shape[0], 1, 41, 41))\n",
    "mini_y = np.array(train_y['snowpack'])\n",
    "mini_x, mini_y = torch.Tensor(mini_x), torch.Tensor(mini_y)\n",
    "\n",
    "test_x = np.array(sentinel_testfeat.reshape(sentinel_testfeat.shape[0], 1, 41, 41))\n",
    "test_y = np.array(sentinel_ylab_test['snowpack'])\n",
    "test_x, test_y = torch.Tensor(test_x), torch.Tensor(test_y)\n",
    "test_dataset = TensorDataset(test_x, test_y)\n",
    "test_loader = DataLoader(test_dataset, batch_size = 200)\n",
    "\n",
    "mini_dataset = TensorDataset(mini_x, mini_y)\n",
    "mini_loader = DataLoader(mini_dataset, batch_size=200)\n",
    "\n",
    "train_rows = len(mini_x)\n",
    "test_rows = len(test_x)"
   ]
  },
  {
   "cell_type": "code",
   "execution_count": 105,
   "id": "7c554846",
   "metadata": {},
   "outputs": [
    {
     "name": "stdout",
     "output_type": "stream",
     "text": [
      "8 11 11\n",
      "c1 dim: 35\n",
      "mp0 dim: 33\n",
      "c2 dim: 27\n",
      "mp1 dim: 25\n",
      "c3 dim: 19\n",
      "c3_ dim: 13\n",
      "c3__ dim: 13\n",
      "mp2 dim: 11\n",
      "flattened_dim 968\n"
     ]
    }
   ],
   "source": [
    "#@ title Setup net\n",
    "cdim1, cdim2, cdim3, kernel_sz, dropout, ldim, lr = 32, 18, 8, 7, 0.13, 16, 1e-4\n",
    "# cdim1, cdim2, cdim3, kernel_sz, dropout, ldim = 48, 18, 8, 3, 0.2, 50\n",
    "\n",
    "my_nn = Net(cdim1=cdim1, cdim2=cdim2, cdim3=cdim3, kernel_sz=kernel_sz, dropout=dropout, ldim=ldim)\n",
    "\n",
    "device = torch.device(\"cuda:0\" if torch.cuda.is_available() else \"cpu\")\n",
    "my_nn.to(device)\n",
    "optimizer = optim.Adam(my_nn.parameters(), lr=lr)#0.00005)\n",
    "criterion = nn.MSELoss(reduction = 'sum')\n"
   ]
  },
  {
   "cell_type": "code",
   "execution_count": 106,
   "id": "28edfa79",
   "metadata": {},
   "outputs": [
    {
     "data": {
      "application/vnd.jupyter.widget-view+json": {
       "model_id": "6c9b21fba36c49aa972562b6628e8b23",
       "version_major": 2,
       "version_minor": 0
      },
      "text/plain": [
       "  0%|          | 0/90 [00:00<?, ?it/s]"
      ]
     },
     "metadata": {},
     "output_type": "display_data"
    },
    {
     "name": "stderr",
     "output_type": "stream",
     "text": [
      "C:\\Users\\Matt\\miniconda3\\envs\\pytorch_gp\\lib\\site-packages\\torch\\nn\\functional.py:1795: UserWarning: nn.functional.tanh is deprecated. Use torch.tanh instead.\n",
      "  warnings.warn(\"nn.functional.tanh is deprecated. Use torch.tanh instead.\")\n"
     ]
    },
    {
     "name": "stdout",
     "output_type": "stream",
     "text": [
      "0 / 90 complete, train: 17.4259 test: 12.1248 elapsed: 14\n",
      "1 / 90 complete, train: 16.0192 test: 11.169 elapsed: 28\n",
      "2 / 90 complete, train: 15.4497 test: 10.9092 elapsed: 43\n",
      "3 / 90 complete, train: 15.1285 test: 10.7236 elapsed: 57\n",
      "4 / 90 complete, train: 14.8938 test: 10.6178 elapsed: 73\n",
      "5 / 90 complete, train: 14.7215 test: 10.5599 elapsed: 88\n",
      "6 / 90 complete, train: 14.6433 test: 10.5354 elapsed: 102\n",
      "7 / 90 complete, train: 14.5467 test: 10.5319 elapsed: 116\n",
      "8 / 90 complete, train: 14.5001 test: 10.5412 elapsed: 131\n",
      "9 / 90 complete, train: 14.4609 test: 10.5681 elapsed: 145\n",
      "10 / 90 complete, train: 14.4368 test: 10.5768 elapsed: 159\n",
      "11 / 90 complete, train: 14.4219 test: 10.5966 elapsed: 173\n",
      "12 / 90 complete, train: 14.4218 test: 10.6205 elapsed: 188\n",
      "13 / 90 complete, train: 14.4135 test: 10.633 elapsed: 203\n",
      "14 / 90 complete, train: 14.3864 test: 10.6501 elapsed: 218\n",
      "15 / 90 complete, train: 14.4097 test: 10.6632 elapsed: 233\n",
      "16 / 90 complete, train: 14.4 test: 10.6885 elapsed: 247\n",
      "17 / 90 complete, train: 14.396 test: 10.6847 elapsed: 262\n",
      "18 / 90 complete, train: 14.3958 test: 10.6929 elapsed: 276\n",
      "19 / 90 complete, train: 14.3969 test: 10.6998 elapsed: 290\n",
      "20 / 90 complete, train: 14.3973 test: 10.7055 elapsed: 305\n",
      "21 / 90 complete, train: 14.3988 test: 10.7103 elapsed: 319\n",
      "22 / 90 complete, train: 14.3946 test: 11.6818 elapsed: 333\n",
      "23 / 90 complete, train: 14.6336 test: 10.7542 elapsed: 347\n",
      "24 / 90 complete, train: 14.3969 test: 10.7432 elapsed: 362\n",
      "25 / 90 complete, train: 14.4014 test: 10.7413 elapsed: 376\n",
      "26 / 90 complete, train: 14.5134 test: 10.7553 elapsed: 390\n",
      "27 / 90 complete, train: 14.3977 test: 10.7515 elapsed: 405\n",
      "28 / 90 complete, train: 14.4378 test: 10.7481 elapsed: 419\n",
      "29 / 90 complete, train: 14.4164 test: 10.7483 elapsed: 434\n",
      "30 / 90 complete, train: 14.3985 test: 10.7433 elapsed: 448\n",
      "31 / 90 complete, train: 14.3958 test: 10.7413 elapsed: 463\n",
      "32 / 90 complete, train: 14.3955 test: 10.7396 elapsed: 477\n",
      "33 / 90 complete, train: 14.3977 test: 10.7382 elapsed: 491\n",
      "34 / 90 complete, train: 14.3979 test: 10.7406 elapsed: 506\n",
      "35 / 90 complete, train: 14.3956 test: 10.7391 elapsed: 520\n",
      "36 / 90 complete, train: 14.3968 test: 10.7379 elapsed: 535\n",
      "37 / 90 complete, train: 14.3978 test: 10.7367 elapsed: 549\n",
      "38 / 90 complete, train: 14.3985 test: 10.7364 elapsed: 564\n",
      "39 / 90 complete, train: 14.3954 test: 10.7356 elapsed: 579\n",
      "40 / 90 complete, train: 14.3971 test: 10.7358 elapsed: 593\n",
      "41 / 90 complete, train: 14.3953 test: 10.7352 elapsed: 608\n",
      "42 / 90 complete, train: 14.3955 test: 10.7348 elapsed: 622\n",
      "43 / 90 complete, train: 14.3853 test: 10.7375 elapsed: 637\n",
      "44 / 90 complete, train: 14.3953 test: 10.7366 elapsed: 651\n",
      "45 / 90 complete, train: 14.3955 test: 10.7362 elapsed: 666\n",
      "46 / 90 complete, train: 14.396 test: 10.7357 elapsed: 680\n",
      "47 / 90 complete, train: 14.3964 test: 10.7352 elapsed: 694\n",
      "48 / 90 complete, train: 14.3961 test: 10.7348 elapsed: 709\n",
      "49 / 90 complete, train: 14.3957 test: 10.7351 elapsed: 723\n",
      "50 / 90 complete, train: 14.3962 test: 10.7348 elapsed: 737\n",
      "51 / 90 complete, train: 14.3953 test: 10.7346 elapsed: 751\n",
      "52 / 90 complete, train: 14.3964 test: 10.7339 elapsed: 766\n",
      "53 / 90 complete, train: 14.3966 test: 10.7337 elapsed: 780\n",
      "54 / 90 complete, train: 14.3952 test: 10.7336 elapsed: 796\n",
      "55 / 90 complete, train: 14.3953 test: 10.7334 elapsed: 812\n",
      "56 / 90 complete, train: 14.3953 test: 10.7332 elapsed: 827\n",
      "57 / 90 complete, train: 14.3955 test: 10.7331 elapsed: 842\n",
      "58 / 90 complete, train: 14.396 test: 10.733 elapsed: 857\n",
      "59 / 90 complete, train: 14.3955 test: 10.733 elapsed: 871\n",
      "60 / 90 complete, train: 14.3954 test: 10.7329 elapsed: 885\n",
      "61 / 90 complete, train: 14.3958 test: 10.7327 elapsed: 899\n",
      "62 / 90 complete, train: 14.3962 test: 10.7327 elapsed: 914\n",
      "63 / 90 complete, train: 14.3963 test: 10.7324 elapsed: 929\n",
      "64 / 90 complete, train: 14.3955 test: 10.7324 elapsed: 944\n",
      "65 / 90 complete, train: 14.3952 test: 10.7323 elapsed: 960\n",
      "66 / 90 complete, train: 14.3951 test: 10.7323 elapsed: 975\n",
      "67 / 90 complete, train: 14.3951 test: 10.7321 elapsed: 990\n",
      "68 / 90 complete, train: 14.3954 test: 10.7321 elapsed: 1005\n",
      "69 / 90 complete, train: 14.3951 test: 10.7321 elapsed: 1020\n",
      "70 / 90 complete, train: 14.3952 test: 10.7321 elapsed: 1034\n",
      "71 / 90 complete, train: 14.3951 test: 10.732 elapsed: 1049\n",
      "72 / 90 complete, train: 14.3953 test: 10.732 elapsed: 1064\n",
      "73 / 90 complete, train: 14.3951 test: 10.732 elapsed: 1079\n",
      "74 / 90 complete, train: 14.3952 test: 10.732 elapsed: 1094\n",
      "75 / 90 complete, train: 14.3956 test: 10.732 elapsed: 1109\n",
      "76 / 90 complete, train: 14.3965 test: 10.7324 elapsed: 1123\n",
      "77 / 90 complete, train: 14.3955 test: 10.7324 elapsed: 1138\n",
      "78 / 90 complete, train: 14.399 test: 10.733 elapsed: 1153\n",
      "79 / 90 complete, train: 14.3967 test: 10.7328 elapsed: 1168\n",
      "80 / 90 complete, train: 14.3957 test: 10.7327 elapsed: 1183\n",
      "81 / 90 complete, train: 14.3953 test: 10.7325 elapsed: 1197\n",
      "82 / 90 complete, train: 14.3952 test: 10.7324 elapsed: 1212\n",
      "83 / 90 complete, train: 14.3954 test: 10.7324 elapsed: 1227\n",
      "84 / 90 complete, train: 14.3951 test: 10.7324 elapsed: 1242\n",
      "85 / 90 complete, train: 14.3951 test: 10.7323 elapsed: 1257\n",
      "86 / 90 complete, train: 14.3951 test: 10.7323 elapsed: 1271\n",
      "87 / 90 complete, train: 14.4094 test: 10.734 elapsed: 1286\n",
      "88 / 90 complete, train: 14.3994 test: 10.7345 elapsed: 1301\n",
      "89 / 90 complete, train: 14.3957 test: 10.7338 elapsed: 1316\n",
      "Finished Training\n"
     ]
    }
   ],
   "source": [
    "#@title Run net\n",
    "N_EPOCHS = 90\n",
    "\n",
    "test_loss = []\n",
    "train_loss = []\n",
    "t0 = time.time()\n",
    "\n",
    "for epoch in tqdm(range(N_EPOCHS)):\n",
    "    running_loss = 0.0\n",
    "    for i, data in enumerate(mini_loader, 0):\n",
    "        optimizer.zero_grad()\n",
    "\n",
    "        inputs, labels = data[0].to(device), data[1].to(device)\n",
    "\n",
    "        outputs = my_nn(inputs).squeeze()\n",
    "        loss = criterion(outputs, labels)\n",
    "        loss.backward()\n",
    "        optimizer.step()\n",
    "\n",
    "        running_loss += loss.item()\n",
    "#         if (i + 1) % 100 == 0:\n",
    "#             writer.add_scalar('Loss/train', running_loss , write_index)\n",
    "#         write_index += 1\n",
    "\n",
    "    train_loss.append(running_loss/train_rows)\n",
    "#     writer.add_scalar('Acc/val', train_loss[-1], write_index)\n",
    "    \n",
    "    #calculate test loss.\n",
    "    with torch.no_grad():        \n",
    "        running_tar_loss = 0\n",
    "        for data, target in test_loader:\n",
    "            running_tar_loss += get_accuracy(my_nn, data, target.to(device))\n",
    "\n",
    "\n",
    "        test_loss.append(running_tar_loss / test_rows)\n",
    "#         writer.add_scalar('Test MSE', test_loss[-1], write_index)\n",
    "\n",
    "    print(epoch, '/', N_EPOCHS,\n",
    "          'complete, train:', round(np.sqrt(train_loss[-1]), 4),\n",
    "          \"test:\", round(np.sqrt(test_loss[-1]), 4),\n",
    "          'elapsed:', round(time.time() - t0))\n",
    "    \n",
    "# writer.close()\n",
    "print('Finished Training')"
   ]
  },
  {
   "cell_type": "code",
   "execution_count": 107,
   "id": "499a8b82",
   "metadata": {},
   "outputs": [],
   "source": [
    "torch.cuda.empty_cache()"
   ]
  },
  {
   "cell_type": "markdown",
   "id": "8ab1801a",
   "metadata": {},
   "source": [
    "### Checking Accuracy"
   ]
  },
  {
   "cell_type": "code",
   "execution_count": 108,
   "id": "ca529682",
   "metadata": {},
   "outputs": [
    {
     "data": {
      "image/png": "[encoded data removed]",
      "text/plain": [
       "<Figure size 432x288 with 1 Axes>"
      ]
     },
     "metadata": {
      "needs_background": "light"
     },
     "output_type": "display_data"
    }
   ],
   "source": [
    "path = \"C:/Users/Matt/Dropbox/SnowComp/RunGraphs/\" \n",
    "\n",
    "suffix = \"_\" + \\\n",
    "    str(cdim1)+ \"_\" + str(cdim2)+ \"_\" +str(cdim3)+ \"_\" + str(kernel_sz)+ \\\n",
    "    \"_\" + str(dropout)+ \"_\" + str(ldim)+ \"_\" + str(epoch) +\"_\" + str(lrate)\n",
    "\n",
    "plt.plot(range(epoch+1), np.sqrt(train_loss), label =\"train\")\n",
    "plt.plot(range(epoch+1), np.sqrt(test_loss), label =\"test\")\n",
    "plt.legend()\n",
    "plt.savefig(path +\"sent_converge_alldata\" + suffix+ \".png\")"
   ]
  },
  {
   "cell_type": "markdown",
   "id": "30ad3627",
   "metadata": {},
   "source": [
    "## Save Model and Predictions"
   ]
  },
  {
   "cell_type": "code",
   "execution_count": null,
   "id": "3ede0078",
   "metadata": {},
   "outputs": [],
   "source": []
  },
  {
   "cell_type": "code",
   "execution_count": 109,
   "id": "530808f6",
   "metadata": {},
   "outputs": [],
   "source": [
    "pred_all = True\n",
    "if pred_all:\n",
    "    full_x = np.concatenate((dataset.reshape(dataset.shape[0], 1, 41, 41),\n",
    "               sentinel_testfeat.reshape(sentinel_testfeat.shape[0], 1, 41, 41)),\n",
    "              axis= 0)\n",
    "\n",
    "    full_y_meta = pd.concat((train_y, sentinel_ylab_test),\n",
    "                           axis = 0)\n",
    "\n",
    "    full_x, full_y_meta = permuter(full_x, full_y_meta)\n",
    "    full_y = np.array(full_y_meta['snowpack'])\n",
    "    \n",
    "    full_x, full_y = torch.Tensor(full_x), torch.Tensor(full_y)\n",
    "    full_dataset = TensorDataset(full_x, full_y)\n",
    "    full_loader = DataLoader(full_dataset, batch_size=200)\n",
    "    \n",
    "    del dataset, sentinel_testfeat, train_y, sentinel_ylab_test"
   ]
  },
  {
   "cell_type": "code",
   "execution_count": 110,
   "id": "abb98e61",
   "metadata": {},
   "outputs": [
    {
     "name": "stdout",
     "output_type": "stream",
     "text": [
      "8 11 11\n",
      "c1 dim: 35\n",
      "mp0 dim: 33\n",
      "c2 dim: 27\n",
      "mp1 dim: 25\n",
      "c3 dim: 19\n",
      "c3_ dim: 13\n",
      "c3__ dim: 13\n",
      "mp2 dim: 11\n",
      "flattened_dim 968\n"
     ]
    }
   ],
   "source": [
    "if pred_all:\n",
    "    #@title Setup net\n",
    "    my_nn = Net(cdim1=cdim1, cdim2=cdim2,cdim3 =cdim3,\n",
    "                kernel_sz=kernel_sz, dropout=dropout, ldim=ldim)\n",
    "\n",
    "    device = torch.device(\"cuda:0\" if torch.cuda.is_available() else \"cpu\")\n",
    "    my_nn.to(device)\n",
    "\n",
    "    optimizer = optim.Adam(my_nn.parameters(), lr=lrate)\n",
    "    criterion = nn.MSELoss(reduction = 'sum')"
   ]
  },
  {
   "cell_type": "code",
   "execution_count": 111,
   "id": "e228f33f",
   "metadata": {},
   "outputs": [
    {
     "data": {
      "application/vnd.jupyter.widget-view+json": {
       "model_id": "ba71853f24124c46b45409bffd5c470a",
       "version_major": 2,
       "version_minor": 0
      },
      "text/plain": [
       "  0%|          | 0/99 [00:00<?, ?it/s]"
      ]
     },
     "metadata": {},
     "output_type": "display_data"
    },
    {
     "name": "stderr",
     "output_type": "stream",
     "text": [
      "C:\\Users\\Matt\\miniconda3\\envs\\pytorch_gp\\lib\\site-packages\\torch\\nn\\functional.py:1795: UserWarning: nn.functional.tanh is deprecated. Use torch.tanh instead.\n",
      "  warnings.warn(\"nn.functional.tanh is deprecated. Use torch.tanh instead.\")\n"
     ]
    },
    {
     "name": "stdout",
     "output_type": "stream",
     "text": [
      "0 / 90 complete, train: 17.4508 test: 10.7338\n",
      "1 / 90 complete, train: 15.3834 test: 10.7338\n",
      "2 / 90 complete, train: 15.2146 test: 10.7338\n",
      "3 / 90 complete, train: 15.2052 test: 10.7338\n",
      "4 / 90 complete, train: 15.2014 test: 10.7338\n",
      "5 / 90 complete, train: 15.1933 test: 10.7338\n",
      "6 / 90 complete, train: 15.1979 test: 10.7338\n",
      "7 / 90 complete, train: 15.1916 test: 10.7338\n",
      "8 / 90 complete, train: 15.1899 test: 10.7338\n",
      "9 / 90 complete, train: 15.1881 test: 10.7338\n",
      "10 / 90 complete, train: 15.1861 test: 10.7338\n",
      "11 / 90 complete, train: 15.1628 test: 10.7338\n",
      "12 / 90 complete, train: 15.1746 test: 10.7338\n",
      "13 / 90 complete, train: 15.1554 test: 10.7338\n",
      "14 / 90 complete, train: 15.1391 test: 10.7338\n",
      "15 / 90 complete, train: 15.1177 test: 10.7338\n",
      "16 / 90 complete, train: 15.0501 test: 10.7338\n",
      "17 / 90 complete, train: 14.9821 test: 10.7338\n",
      "18 / 90 complete, train: 14.9317 test: 10.7338\n",
      "19 / 90 complete, train: 14.877 test: 10.7338\n",
      "20 / 90 complete, train: 14.836 test: 10.7338\n",
      "21 / 90 complete, train: 14.8108 test: 10.7338\n",
      "22 / 90 complete, train: 14.7694 test: 10.7338\n",
      "23 / 90 complete, train: 14.7418 test: 10.7338\n",
      "24 / 90 complete, train: 14.7204 test: 10.7338\n",
      "25 / 90 complete, train: 14.7008 test: 10.7338\n",
      "26 / 90 complete, train: 14.675 test: 10.7338\n",
      "27 / 90 complete, train: 14.6449 test: 10.7338\n",
      "28 / 90 complete, train: 14.6229 test: 10.7338\n",
      "29 / 90 complete, train: 14.6017 test: 10.7338\n",
      "30 / 90 complete, train: 14.5748 test: 10.7338\n",
      "31 / 90 complete, train: 14.5489 test: 10.7338\n",
      "32 / 90 complete, train: 14.5469 test: 10.7338\n",
      "33 / 90 complete, train: 14.5228 test: 10.7338\n",
      "34 / 90 complete, train: 14.509 test: 10.7338\n",
      "35 / 90 complete, train: 14.5002 test: 10.7338\n",
      "36 / 90 complete, train: 14.4773 test: 10.7338\n",
      "37 / 90 complete, train: 14.4615 test: 10.7338\n",
      "38 / 90 complete, train: 14.4427 test: 10.7338\n",
      "39 / 90 complete, train: 14.4264 test: 10.7338\n",
      "40 / 90 complete, train: 14.4091 test: 10.7338\n",
      "41 / 90 complete, train: 14.4077 test: 10.7338\n",
      "42 / 90 complete, train: 14.3874 test: 10.7338\n",
      "43 / 90 complete, train: 14.3799 test: 10.7338\n",
      "44 / 90 complete, train: 14.3602 test: 10.7338\n",
      "45 / 90 complete, train: 14.3442 test: 10.7338\n",
      "46 / 90 complete, train: 14.3326 test: 10.7338\n",
      "47 / 90 complete, train: 14.3293 test: 10.7338\n",
      "48 / 90 complete, train: 14.3133 test: 10.7338\n",
      "49 / 90 complete, train: 14.3157 test: 10.7338\n",
      "50 / 90 complete, train: 14.2976 test: 10.7338\n",
      "51 / 90 complete, train: 14.2897 test: 10.7338\n",
      "52 / 90 complete, train: 14.2824 test: 10.7338\n",
      "53 / 90 complete, train: 14.2655 test: 10.7338\n",
      "54 / 90 complete, train: 14.2763 test: 10.7338\n",
      "55 / 90 complete, train: 14.2561 test: 10.7338\n",
      "56 / 90 complete, train: 14.2434 test: 10.7338\n",
      "57 / 90 complete, train: 14.2443 test: 10.7338\n",
      "58 / 90 complete, train: 14.2284 test: 10.7338\n",
      "59 / 90 complete, train: 14.2187 test: 10.7338\n",
      "60 / 90 complete, train: 14.2192 test: 10.7338\n",
      "61 / 90 complete, train: 14.199 test: 10.7338\n",
      "62 / 90 complete, train: 14.1918 test: 10.7338\n",
      "63 / 90 complete, train: 14.1939 test: 10.7338\n",
      "64 / 90 complete, train: 14.1723 test: 10.7338\n",
      "65 / 90 complete, train: 14.1721 test: 10.7338\n",
      "66 / 90 complete, train: 14.1578 test: 10.7338\n",
      "67 / 90 complete, train: 14.1562 test: 10.7338\n",
      "68 / 90 complete, train: 14.1443 test: 10.7338\n",
      "69 / 90 complete, train: 14.1369 test: 10.7338\n",
      "70 / 90 complete, train: 14.1233 test: 10.7338\n",
      "71 / 90 complete, train: 14.1256 test: 10.7338\n",
      "72 / 90 complete, train: 14.1207 test: 10.7338\n",
      "73 / 90 complete, train: 14.1068 test: 10.7338\n",
      "74 / 90 complete, train: 14.0908 test: 10.7338\n",
      "75 / 90 complete, train: 14.094 test: 10.7338\n",
      "76 / 90 complete, train: 14.0825 test: 10.7338\n",
      "77 / 90 complete, train: 14.0981 test: 10.7338\n",
      "78 / 90 complete, train: 14.0797 test: 10.7338\n",
      "79 / 90 complete, train: 14.0688 test: 10.7338\n",
      "80 / 90 complete, train: 14.0689 test: 10.7338\n",
      "81 / 90 complete, train: 14.0611 test: 10.7338\n",
      "82 / 90 complete, train: 14.0494 test: 10.7338\n",
      "83 / 90 complete, train: 14.0469 test: 10.7338\n",
      "84 / 90 complete, train: 14.0328 test: 10.7338\n",
      "85 / 90 complete, train: 14.0288 test: 10.7338\n",
      "86 / 90 complete, train: 14.0219 test: 10.7338\n",
      "87 / 90 complete, train: 14.0247 test: 10.7338\n",
      "88 / 90 complete, train: 13.9941 test: 10.7338\n",
      "89 / 90 complete, train: 14.0001 test: 10.7338\n",
      "90 / 90 complete, train: 14.0029 test: 10.7338\n",
      "91 / 90 complete, train: 13.9928 test: 10.7338\n",
      "92 / 90 complete, train: 13.9972 test: 10.7338\n",
      "93 / 90 complete, train: 13.9742 test: 10.7338\n",
      "94 / 90 complete, train: 13.9874 test: 10.7338\n",
      "95 / 90 complete, train: 13.9708 test: 10.7338\n",
      "96 / 90 complete, train: 13.9834 test: 10.7338\n",
      "97 / 90 complete, train: 13.9538 test: 10.7338\n",
      "98 / 90 complete, train: 13.9469 test: 10.7338\n"
     ]
    }
   ],
   "source": [
    "if pred_all:\n",
    "    train_loss = []\n",
    "\n",
    "    #@title Run net\n",
    "    for epoch in tqdm(range(int(N_EPOCHS*1.1))):\n",
    "        running_loss = 0.0\n",
    "        for i, data in enumerate(full_loader, 0):\n",
    "            optimizer.zero_grad()\n",
    "            inputs, labels = data[0].to(device), data[1].to(device)\n",
    "\n",
    "            outputs = my_nn(inputs).squeeze()\n",
    "            loss = criterion(outputs, labels)\n",
    "            loss.backward()\n",
    "            optimizer.step()\n",
    "\n",
    "            running_loss += loss.item()\n",
    "\n",
    "        train_loss.append(running_loss/train_rows)\n",
    "        print(epoch, '/', N_EPOCHS,\n",
    "              'complete, train:', round(np.sqrt(train_loss[-1]), 4),\n",
    "              \"test:\", round(np.sqrt(test_loss[-1]), 4) )\n",
    "        \n",
    "    torch.cuda.empty_cache()"
   ]
  },
  {
   "cell_type": "code",
   "execution_count": 112,
   "id": "8dbe6b7f",
   "metadata": {},
   "outputs": [
    {
     "data": {
      "image/png": "[encoded data removed]",
      "text/plain": [
       "<Figure size 432x288 with 1 Axes>"
      ]
     },
     "metadata": {
      "needs_background": "light"
     },
     "output_type": "display_data"
    }
   ],
   "source": [
    "if pred_all:\n",
    "    path = \"C:/Users/Matt/Dropbox/SnowComp/RunGraphs/\" \n",
    "\n",
    "    suffix = \"_\" + \\\n",
    "        str(cdim1)+ \"_\" + str(cdim2)+ \"_\" +str(cdim3)+ \"_\" + str(kernel_sz)+ \\\n",
    "        \"_\" + str(dropout)+ \"_\" + str(ldim)+ \"_\" + str(epoch) +\"_\" + str(lrate) \n",
    "\n",
    "    plt.plot(range(epoch+1), np.sqrt(train_loss), label =\"train\")\n",
    "    plt.legend()\n",
    "    plt.savefig(path +\"sent\" + suffix+ \".png\")"
   ]
  },
  {
   "cell_type": "code",
   "execution_count": 123,
   "id": "c4a74810",
   "metadata": {},
   "outputs": [],
   "source": [
    "if pred_all:\n",
    "    my_nn.eval()\n",
    "\n",
    "    torch.save(my_nn.state_dict(), path +\"model_sent\"+suffix)\n",
    "\n",
    "    vals = []\n",
    "    for inputs, _ in full_loader:\n",
    "        with torch.no_grad():\n",
    "            inputs = inputs.to(device)\n",
    "            vals.append(my_nn(inputs).cpu().numpy())\n",
    "    vals =  np.concatenate(vals, axis = 0)       \n",
    "\n",
    "    path_preds = \"C:/Users/Matt/Dropbox/SnowComp/preds/\" \n",
    "    np.save(path_preds+\"sentpreds.npy\", vals)\n",
    "\n",
    "    data_path = \"C:/Users/Matt/Dropbox/SnowComp/FinalData/\"\n",
    "    full_y_meta.to_csv(data_path +\"sent_ymeta.csv\")\n",
    "    \n",
    "    del full_x, full_y, full_y_meta, full_dataset, full_loader, vals\n",
    "\n",
    "\n"
   ]
  },
  {
   "cell_type": "code",
   "execution_count": 137,
   "id": "b81a0603",
   "metadata": {},
   "outputs": [],
   "source": [
    "if pred_all:\n",
    "    sub1_meta = pd.read_csv(sent_path + \"sent_sub1_meta.csv\")\n",
    "    sub2_meta = pd.read_csv(sent_path + \"sent_sub2_meta.csv\")\n",
    "    sub_ds1 = np.load(sent_path + \"sent_pp_sub1.npy\")\n",
    "    sub_ds2 = np.load(sent_path + \"sent_pp_sub2.npy\")\n",
    "\n",
    "    sub_meta = pd.concat((sub1_meta, sub2_meta), axis = 0)\n",
    "    sub_dataset = np.concatenate((sub_ds1, sub_ds2), axis = 0)\n",
    "    \n",
    "    sub_dataset = sub_dataset.reshape((-1, 1, 41, 41))\n",
    "    del sub1_meta, sub2_meta, sub_ds1, sub_ds2\n",
    "\n",
    "# sub_meta = np.array(sub_meta['snowpack'])"
   ]
  },
  {
   "cell_type": "code",
   "execution_count": 141,
   "id": "f932652a",
   "metadata": {},
   "outputs": [
    {
     "name": "stdout",
     "output_type": "stream",
     "text": [
      "torch.Size([5000, 1, 41, 41])\n"
     ]
    }
   ],
   "source": [
    "for images in sub_loader:\n",
    "    print(images[0].shape)\n",
    "    break"
   ]
  },
  {
   "cell_type": "code",
   "execution_count": 142,
   "id": "f26846a0",
   "metadata": {},
   "outputs": [
    {
     "name": "stderr",
     "output_type": "stream",
     "text": [
      "C:\\Users\\Matt\\miniconda3\\envs\\pytorch_gp\\lib\\site-packages\\torch\\nn\\functional.py:1795: UserWarning: nn.functional.tanh is deprecated. Use torch.tanh instead.\n",
      "  warnings.warn(\"nn.functional.tanh is deprecated. Use torch.tanh instead.\")\n"
     ]
    }
   ],
   "source": [
    "if pred_all:\n",
    "    #Predict and save on submission data\n",
    "    vals_sub = []\n",
    "    \n",
    "    sub_dataset = torch.Tensor(sub_dataset)\n",
    "    sub_ds = TensorDataset(sub_dataset)\n",
    "    sub_loader = DataLoader(sub_ds, batch_size=5000)\n",
    "\n",
    "    with torch.no_grad():\n",
    "        for images in sub_loader:\n",
    "            images = images[0].to(device)\n",
    "            vals_sub.append(my_nn(images).cpu().numpy()) \n",
    "\n",
    "    vals_sub = np.concatenate(vals_sub, axis = 0)        \n",
    "    np.save(path_preds+\"sent_subpred.npy\", vals_sub)"
   ]
  },
  {
   "cell_type": "code",
   "execution_count": null,
   "id": "1a1d759f",
   "metadata": {},
   "outputs": [],
   "source": []
  }
 ],
 "metadata": {
  "kernelspec": {
   "display_name": "Python 3 (ipykernel)",
   "language": "python",
   "name": "python3"
  },
  "language_info": {
   "codemirror_mode": {
    "name": "ipython",
    "version": 3
   },
   "file_extension": ".py",
   "mimetype": "text/x-python",
   "name": "python",
   "nbconvert_exporter": "python",
   "pygments_lexer": "ipython3",
   "version": "3.8.12"
  }
 },
 "nbformat": 4,
 "nbformat_minor": 5
}
