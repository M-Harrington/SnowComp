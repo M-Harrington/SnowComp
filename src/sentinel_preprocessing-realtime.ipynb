{
 "cells": [
  {
   "cell_type": "markdown",
   "id": "b204d367",
   "metadata": {},
   "source": [
    "# Making Sentinel images CNN-ready"
   ]
  },
  {
   "cell_type": "code",
   "execution_count": 2,
   "id": "7a142cd5",
   "metadata": {},
   "outputs": [],
   "source": [
    "import pandas as pd\n",
    "import numpy as np\n",
    "import matplotlib.pyplot as plt\n",
    "from tqdm.notebook import tqdm\n",
    "tqdm.pandas() \n",
    "\n",
    "import math\n",
    "import json\n",
    "\n",
    "path = \"C:/Users/Matt/Dropbox/SnowComp/realtimeData/sent_raw/\""
   ]
  },
  {
   "cell_type": "code",
   "execution_count": 3,
   "id": "299fe23b",
   "metadata": {},
   "outputs": [],
   "source": [
    "def translator(row, missing_val = -100):\n",
    "    if row is np.nan:\n",
    "        return np.full((41, 41), missing_val, dtype= np.float64)\n",
    "    else:\n",
    "        return np.array(json.loads(row))\n",
    "\n",
    "def array_create(array):\n",
    "    final = np.empty((array.shape[0], 41, 41), dtype = np.float64)\n",
    "    for i, image in tqdm(array.iterrows(), total = array.shape[0]):\n",
    "        image = translator(image['first'])\n",
    "        final[i] = np.array(image, dtype = np.float64)\n",
    "        \n",
    "    return final\n",
    "\n",
    "date_fix = lambda row: row[0:-9]"
   ]
  },
  {
   "cell_type": "code",
   "execution_count": 5,
   "id": "cec39abb",
   "metadata": {},
   "outputs": [],
   "source": [
    "DATE = \"2022-02-17\"\n",
    "sent1 = pd.read_csv(path + \"sentinel_sub1of4_\"+ DATE +\".csv\")\n",
    "sent2 = pd.read_csv(path + \"sentinel_sub2of4_\"+ DATE +\".csv\")\n",
    "sent3 = pd.read_csv(path + \"sentinel_sub3of4_\"+ DATE +\".csv\")\n",
    "sent4 = pd.read_csv(path + \"sentinel_sub4of4_\"+ DATE +\".csv\")"
   ]
  },
  {
   "cell_type": "code",
   "execution_count": 6,
   "id": "da8438ae",
   "metadata": {},
   "outputs": [],
   "source": [
    "submission = pd.concat([sent1,sent2,sent3,sent4], axis = 0)"
   ]
  },
  {
   "cell_type": "code",
   "execution_count": 7,
   "id": "a9389222",
   "metadata": {
    "scrolled": true
   },
   "outputs": [
    {
     "data": {
      "application/vnd.jupyter.widget-view+json": {
       "model_id": "35988a0ef5664c88841b7043406b987f",
       "version_major": 2,
       "version_minor": 0
      },
      "text/plain": [
       "  0%|          | 0/20759 [00:00<?, ?it/s]"
      ]
     },
     "metadata": {},
     "output_type": "display_data"
    }
   ],
   "source": [
    "save_path = \"C:/Users/Matt/Dropbox/SnowComp/realtimeData/\"\n",
    "\n",
    "submission.drop('system:index', axis =1, inplace = True)\n",
    "submission['date'] = submission['date'].map(date_fix)\n",
    "\n",
    "\n",
    "submission, sub1_meta = array_create(submission), \\\n",
    "    submission.drop(\"first\", axis=1)\n",
    "\n",
    "np.save(save_path + \"sent_pp_sub1\"+ DATE +\".npy\",submission)\n",
    "sub1_meta.to_csv(save_path + \"sent_sub1_meta\"+ DATE +\".csv\", index = False)\n"
   ]
  }
 ],
 "metadata": {
  "kernelspec": {
   "display_name": "Python 3 (ipykernel)",
   "language": "python",
   "name": "python3"
  },
  "language_info": {
   "codemirror_mode": {
    "name": "ipython",
    "version": 3
   },
   "file_extension": ".py",
   "mimetype": "text/x-python",
   "name": "python",
   "nbconvert_exporter": "python",
   "pygments_lexer": "ipython3",
   "version": "3.9.7"
  }
 },
 "nbformat": 4,
 "nbformat_minor": 5
}
