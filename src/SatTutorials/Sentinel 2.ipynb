{
 "cells": [
  {
   "cell_type": "markdown",
   "id": "3439d25b",
   "metadata": {},
   "source": [
    "## Accessing Sentinel-2 L2A data with the Planetary Computer STAC API"
   ]
  },
  {
   "cell_type": "markdown",
   "id": "0b901ca6",
   "metadata": {},
   "source": [
    "The Sentinel-2 program provides global imagery in thirteen spectral bands at 10m-60m resolution and a revisit time of approximately five days. This dataset represents the global Sentinel-2 archive, from 2016 to the present, processed to L2A (bottom-of-atmosphere) using Sen2Cor and converted to cloud-optimized GeoTIFF format. The digital elevation model used for terrain correction was Planet DEM 30.\n",
    "\n",
    "This notebook demonstrates the use of the Planetary Computer STAC API to query for Sentinel-2 tiles.\n",
    "\n",
    "This notebook works with or without an API key, but you will be given more permissive access to the data with an API key. The Planetary Computer Hub is pre-configured to use your API key.\n",
    "\n",
    "### Environment setup\n",
    "\n",
    "This notebook works with or without an API key, but you will be given more permissive access to the data with an API key. The Planetary Computer Hub is pre-configured to use your API key."
   ]
  },
  {
   "cell_type": "code",
   "execution_count": null,
   "id": "39162144",
   "metadata": {},
   "outputs": [],
   "source": [
    "from pystac_client import Client\n",
    "from pystac.extensions.eo import EOExtension as eo\n",
    "import planetary_computer as pc\n",
    "\n",
    "# Set the environment variable PC_SDK_SUBSCRIPTION_KEY, or set it here.\n",
    "# The Hub sets PC_SDK_SUBSCRIPTION_KEY automatically.\n",
    "# pc.settings.set_subscription_key(<YOUR API Key>)"
   ]
  },
  {
   "cell_type": "markdown",
   "id": "1afb6a95",
   "metadata": {},
   "source": [
    "### Choose a region and time of interest\n",
    "\n",
    "This area is near Jonah Bay, Alaska."
   ]
  },
  {
   "cell_type": "code",
   "execution_count": null,
   "id": "5a58c83c",
   "metadata": {},
   "outputs": [],
   "source": [
    "area_of_interest = {\n",
    "    \"type\": \"Polygon\",\n",
    "    \"coordinates\": [\n",
    "        [\n",
    "            [-148.56536865234375, 60.80072385643073],\n",
    "            [-147.44338989257812, 60.80072385643073],\n",
    "            [-147.44338989257812, 61.18363894915102],\n",
    "            [-148.56536865234375, 61.18363894915102],\n",
    "            [-148.56536865234375, 60.80072385643073],\n",
    "        ]\n",
    "    ],\n",
    "}"
   ]
  },
  {
   "cell_type": "markdown",
   "id": "e6063982",
   "metadata": {},
   "source": [
    "Define the time range to filter images with. Here we use the summer of 2019."
   ]
  },
  {
   "cell_type": "code",
   "execution_count": null,
   "id": "cbc3da48",
   "metadata": {},
   "outputs": [],
   "source": [
    "time_of_interest = \"2019-06-01/2019-08-01\""
   ]
  },
  {
   "cell_type": "markdown",
   "id": "b7b583b0",
   "metadata": {},
   "source": [
    "### Search the collection and choose an image to render\n",
    "\n",
    "Use pystac-client to search for Sentinel 2 L2A data in this time range."
   ]
  },
  {
   "cell_type": "code",
   "execution_count": null,
   "id": "a015c55b",
   "metadata": {},
   "outputs": [],
   "source": [
    "catalog = Client.open(\"https://planetarycomputer.microsoft.com/api/stac/v1\")\n",
    "\n",
    "search = catalog.search(\n",
    "    collections=[\"sentinel-2-l2a\"],\n",
    "    intersects=area_of_interest,\n",
    "    datetime=time_of_interest,\n",
    "    query={\"eo:cloud_cover\": {\"lt\": 10}},\n",
    ")\n",
    "\n",
    "# Check how many items were returned\n",
    "items = list(search.get_items())\n",
    "print(f\"Returned {len(items)} Items\")"
   ]
  },
  {
   "cell_type": "markdown",
   "id": "a83cb47a",
   "metadata": {},
   "source": [
    "Returned 5 Items\n",
    "\n",
    "We can now work directly with the PySTAC Items returned by the API. Here we find the least cloudy of the bunch."
   ]
  },
  {
   "cell_type": "code",
   "execution_count": null,
   "id": "76dedda5",
   "metadata": {},
   "outputs": [],
   "source": [
    "least_cloudy_item = sorted(items, key=lambda item: eo.ext(item).cloud_cover)[0]\n",
    "\n",
    "print(\n",
    "    f\"Choosing {least_cloudy_item.id} from {least_cloudy_item.datetime.date()}\"\n",
    "    f\" with {eo.ext(least_cloudy_item).cloud_cover}% cloud cover\"\n",
    ")"
   ]
  },
  {
   "cell_type": "markdown",
   "id": "3206a550",
   "metadata": {},
   "source": [
    "Choosing S2B_MSIL2A_20190629T212529_R043_T06VVN_20201006T080531 from 2019-06-29 with 0.314306% cloud cover\n",
    "\n",
    "Get the URL to the Cloud Optimized GeoTIFF image corresponding to the true color composite image."
   ]
  },
  {
   "cell_type": "code",
   "execution_count": null,
   "id": "f4e621fa",
   "metadata": {},
   "outputs": [],
   "source": [
    "asset_href = least_cloudy_item.assets[\"visual\"].href"
   ]
  },
  {
   "cell_type": "markdown",
   "id": "9533d0e4",
   "metadata": {},
   "source": [
    "This HREF is a URL is the location of the asset data on Azure Blob Storage. In order to read the data, we'll need to retrieve a Shared Access Signature and supply it as a query parameter. These tokens are generated from the Planetary Computer Data Access API.\n",
    "\n",
    "We use the planetary-computer package to \"sign\" our asset HREF with a generated token:"
   ]
  },
  {
   "cell_type": "code",
   "execution_count": null,
   "id": "a574ec9a",
   "metadata": {},
   "outputs": [],
   "source": [
    "signed_href = pc.sign(asset_href)"
   ]
  },
  {
   "cell_type": "markdown",
   "id": "bb4f7431",
   "metadata": {},
   "source": [
    "We can now use the HREF to read our data in any tools that can retrieve data from URLs via HTTP GET operations.\n",
    "\n",
    "For example, here we use rasterio to render the image data over our area of interest:\n",
    "\n",
    "### Render our AOI from this image"
   ]
  },
  {
   "cell_type": "code",
   "execution_count": null,
   "id": "55d8425a",
   "metadata": {},
   "outputs": [],
   "source": [
    "import rasterio\n",
    "from rasterio import windows\n",
    "from rasterio import features\n",
    "from rasterio import warp\n",
    "\n",
    "import numpy as np\n",
    "from PIL import Image\n",
    "\n",
    "with rasterio.open(signed_href) as ds:\n",
    "    aoi_bounds = features.bounds(area_of_interest)\n",
    "    warped_aoi_bounds = warp.transform_bounds(\"epsg:4326\", ds.crs, *aoi_bounds)\n",
    "    aoi_window = windows.from_bounds(transform=ds.transform, *warped_aoi_bounds)\n",
    "    band_data = ds.read(window=aoi_window)"
   ]
  },
  {
   "cell_type": "markdown",
   "id": "78dd5cfe",
   "metadata": {},
   "source": [
    "rasterio gives us data band-interleave format; transpose to pixel-interleave, and downscale the image data for plotting."
   ]
  },
  {
   "cell_type": "code",
   "execution_count": null,
   "id": "ac9cc2a4",
   "metadata": {},
   "outputs": [],
   "source": [
    "img = Image.fromarray(np.transpose(band_data, axes=[1, 2, 0]))\n",
    "w = img.size[0]\n",
    "h = img.size[1]\n",
    "aspect = w / h\n",
    "target_w = 800\n",
    "target_h = (int)(target_w / aspect)\n",
    "img.resize((target_w, target_h), Image.BILINEAR)"
   ]
  }
 ],
 "metadata": {
  "kernelspec": {
   "display_name": "Python 3 (ipykernel)",
   "language": "python",
   "name": "python3"
  },
  "language_info": {
   "codemirror_mode": {
    "name": "ipython",
    "version": 3
   },
   "file_extension": ".py",
   "mimetype": "text/x-python",
   "name": "python",
   "nbconvert_exporter": "python",
   "pygments_lexer": "ipython3",
   "version": "3.8.11"
  }
 },
 "nbformat": 4,
 "nbformat_minor": 5
}
