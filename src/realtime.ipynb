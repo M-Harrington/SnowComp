{
  "nbformat": 4,
  "nbformat_minor": 0,
  "metadata": {
    "colab": {
      "name": "realtime.ipynb",
      "provenance": [],
      "collapsed_sections": []
    },
    "kernelspec": {
      "name": "python3",
      "display_name": "Python 3"
    },
    "language_info": {
      "name": "python"
    },
    "accelerator": "GPU"
  },
  "cells": [
    {
      "cell_type": "markdown",
      "source": [
        "TODO:\n",
        "\n",
        "\n",
        "*   Replace CNN with finalized model\n",
        "*   Replace RF with finalized model\n",
        "*   Load in MODIS imagery for relevant dates\n",
        "\n"
      ],
      "metadata": {
        "id": "xQJOGO_Tw6Ac"
      }
    },
    {
      "cell_type": "markdown",
      "source": [
        "# Mount drive"
      ],
      "metadata": {
        "id": "qGt-70QClelr"
      }
    },
    {
      "cell_type": "code",
      "execution_count": 2,
      "metadata": {
        "colab": {
          "base_uri": "https://localhost:8080/"
        },
        "id": "P-rSKk25BOni",
        "outputId": "4fd794c2-0db4-4f23-a717-65d67ee51af4",
        "cellView": "form"
      },
      "outputs": [
        {
          "output_type": "stream",
          "name": "stdout",
          "text": [
            "Mounted at /content/drive\n"
          ]
        }
      ],
      "source": [
        "#@title Mount drive\n",
        "from google.colab import drive\n",
        "drive.mount('/content/drive')\n"
      ]
    },
    {
      "cell_type": "markdown",
      "source": [
        "# Setup"
      ],
      "metadata": {
        "id": "sW2tyXizlidj"
      }
    },
    {
      "cell_type": "code",
      "source": [
        "#@title Paths\n",
        "ROOT = 'drive/MyDrive/fall21/snowcast/'\n",
        "CODE_PATH = ROOT + 'src/'\n",
        "DATA_PATH = ROOT + 'data/'\n",
        "PRED_PATH = DATA_PATH + 'evaluation_stage/predictions/'\n",
        "\n",
        "CNN_PATH = DATA_PATH + 'models/model_32_18_8_3_0.13_50_44.png' # TODO\n",
        "RF_PATH = DATA_PATH + 'models/rf.joblib' # TODO"
      ],
      "metadata": {
        "cellView": "form",
        "id": "dtukYC2LpUEX"
      },
      "execution_count": 41,
      "outputs": []
    },
    {
      "cell_type": "code",
      "source": [
        "#@title Installs\n",
        "!apt install gdal-bin python-gdal python3-gdal &> /dev/null\n",
        "!apt install python3-rtree &> /dev/null\n",
        "!pip install git+git://github.com/geopandas/geopandas.git &> /dev/null\n",
        "!pip install descartes &> /dev/null\n",
        "!pip install geopandas rioxarray &> /dev/null"
      ],
      "metadata": {
        "cellView": "form",
        "id": "yrYlWjZur2kD"
      },
      "execution_count": 4,
      "outputs": []
    },
    {
      "cell_type": "code",
      "source": [
        "#@title Imports\n",
        "import sys\n",
        "sys.path.append(CODE_PATH)\n",
        "\n",
        "import joblib\n",
        "import torch\n",
        "import numpy as np\n",
        "import pandas as pd\n",
        "import geopandas as gpd\n",
        "\n",
        "from datetime import datetime\n",
        "\n",
        "import importlib\n",
        "import cnn\n",
        "importlib.reload(cnn)\n",
        "from cnn import Net"
      ],
      "metadata": {
        "cellView": "form",
        "id": "919OGliilhTw"
      },
      "execution_count": 5,
      "outputs": []
    },
    {
      "cell_type": "markdown",
      "source": [
        "# Predictions"
      ],
      "metadata": {
        "id": "5amGBaJKxNYP"
      }
    },
    {
      "cell_type": "code",
      "source": [
        "#@title Get prediction df\n",
        "def pivot_df(df, id_col, ignore_cols=None):\n",
        "    if not ignore_cols:\n",
        "        ignore_cols = []\n",
        "    date_cols = [x for x in df.columns if x not in [id_col] + ignore_cols]\n",
        "    dfs = []\n",
        "    for day in date_cols:\n",
        "        day_df = df[[id_col, day]].rename({day: 'snowpack'}, axis=1)\n",
        "        day_df['date'] = day\n",
        "        dfs.append(day_df)\n",
        "    return pd.concat(dfs)\n",
        "\n",
        "def get_day_of_season(doy):\n",
        "    return doy + 365 - 335 if doy < 335 else doy - 335\n",
        "\n",
        "def add_time_cols(df):\n",
        "    df['date'] = pd.to_datetime(df['date'])\n",
        "    df['doy'] = df['date'].dt.dayofyear\n",
        "    df['dos'] = df['doy'].apply(get_day_of_season)\n",
        "    df['year'] = df['date'].dt.year\n",
        "    df['season'] = df['year']\n",
        "    df.loc[df['doy'] < 335, 'season'] -= 1\n",
        "    return df\n",
        "\n",
        "def clean_train_test(df, id_col='station_id', metadata_df=None):\n",
        "    df = pivot_df(df, id_col)\n",
        "    if metadata_df is not None:\n",
        "        df = df.merge(metadata_df)\n",
        "    return add_time_cols(df)\n",
        "\n",
        "submission_format = pd.read_csv(DATA_PATH + 'evaluation_stage/submission_format.csv')\\\n",
        "                      .rename({'Unnamed: 0': 'cell_id'}, axis=1)\n",
        "to_predict = clean_train_test(submission_format, 'cell_id')\n",
        "predict_date = max([x for x in to_predict['date'] if x < datetime.today()])"
      ],
      "metadata": {
        "cellView": "form",
        "id": "iC07CaFwqtzJ"
      },
      "execution_count": 57,
      "outputs": []
    },
    {
      "cell_type": "code",
      "source": [
        "#@title Load CNN\n",
        "net_kwargs = {'cdim1': 32,\n",
        "              'cdim2': 18,\n",
        "              'cdim3': 8,\n",
        "              'kernel_sz': 3,\n",
        "              'dropout': 0.13,\n",
        "              'ldim': 50}\n",
        "\n",
        "my_nn = Net(**net_kwargs)\n",
        "my_nn.load_state_dict(torch.load(CNN_PATH))\n",
        "\n",
        "device = torch.device(\"cuda:0\" if torch.cuda.is_available() else \"cpu\")\n",
        "_ = my_nn.to(device)\n"
      ],
      "metadata": {
        "colab": {
          "base_uri": "https://localhost:8080/"
        },
        "cellView": "form",
        "id": "5sJ-WCtjlglM",
        "outputId": "3378df48-04ce-4e53-e732-7f9ace267872"
      },
      "execution_count": 8,
      "outputs": [
        {
          "output_type": "stream",
          "name": "stdout",
          "text": [
            "c1 dim: 19\n",
            "mp0 dim: 17\n",
            "c2 dim: 15\n",
            "mp1 dim: 13\n",
            "c3 dim: 11\n",
            "mp2 dim: 9\n",
            "flattened_dim 648\n"
          ]
        }
      ]
    },
    {
      "cell_type": "code",
      "execution_count": 32,
      "metadata": {
        "cellView": "form",
        "id": "bVoLvW3mj07w"
      },
      "outputs": [],
      "source": [
        "#@title TODO: ingest actual MODIS images for submission locations\n",
        "train_path_small = DATA_PATH + 'modis/ModisSnowImages_AT_small.npy'\n",
        "dataset = np.load(train_path_small) / 255\n",
        "dataset = dataset[:20759, :, :, :]"
      ]
    },
    {
      "cell_type": "code",
      "source": [
        ""
      ],
      "metadata": {
        "id": "4Mj8YGW-p1LJ"
      },
      "execution_count": null,
      "outputs": []
    },
    {
      "cell_type": "code",
      "source": [
        "#@title Get CNN predictions\n",
        "def predict(cnn, x, as_numpy=False):\n",
        "    device = torch.device(\"cuda:0\" if torch.cuda.is_available() else \"cpu\")\n",
        "    cnn.eval()\n",
        "    x = x.type(torch.FloatTensor).to(device)\n",
        "    output = cnn(x)\n",
        "    if as_numpy:\n",
        "        output = output.flatten().cpu().detach().numpy() #detach removes gradients (bad)\n",
        "        \n",
        "    cnn.train()\n",
        "    return output.squeeze()\n",
        "\n",
        "cnn_preds = predict(my_nn.cuda(), torch.Tensor(dataset).cuda(), as_numpy=True)"
      ],
      "metadata": {
        "cellView": "form",
        "id": "UMDTKeIZx_Dj"
      },
      "execution_count": null,
      "outputs": []
    },
    {
      "cell_type": "code",
      "source": [
        "#@title Get RF predictions\n",
        "def format_rf(df):\n",
        "    df['dos_2'] = df['dos'] ** 2\n",
        "    return df\n",
        "\n",
        "rf = joblib.load(RF_PATH)\n",
        "pred_df = format_rf(to_predict[to_predict['date'] == pd.to_datetime(predict_date)])\n",
        "pred_df['modis_pred'] = cnn_preds\n",
        "pred_df['snowpack'] = rf.predict(pred_df[['dos', 'modis_pred']])\n"
      ],
      "metadata": {
        "cellView": "form",
        "id": "Lt4eR6XPp1Gr"
      },
      "execution_count": null,
      "outputs": []
    },
    {
      "cell_type": "code",
      "source": [
        "#@title Write predictions\n",
        "def write_formatted_preds(preds_df, outpath):\n",
        "    preds_df = preds_df[['cell_id', 'date', 'snowpack']]\n",
        "    preds_df['date'] = preds_df['date'].apply(lambda x: x.strftime('%Y-%m-%d'))\n",
        "    submission = preds_df.pivot(index='cell_id', columns='date', values='snowpack')\\\n",
        "                        .reset_index()\\\n",
        "                        .sort_values('cell_id')\n",
        "    \n",
        "    assert sorted(submission.columns) == sorted(submission_format.columns)\n",
        "    assert sorted(submission['cell_id']) == sorted(submission_format['cell_id'])\n",
        "\n",
        "    submission.to_csv(PRED_PATH + '%s.csv' % outpath, index=False)\n",
        "\n",
        "\n",
        "out_df = pd.concat([to_predict, pred_df[to_predict.columns]])\\\n",
        "           .drop_duplicates(subset=['cell_id', 'date'], keep='last')\n",
        "x = write_formatted_preds(out_df[['cell_id', 'snowpack', 'date']], \n",
        "                      datetime.today().strftime('%Y%m%d_preds.csv'))\n"
      ],
      "metadata": {
        "cellView": "form",
        "id": "iRRgvMNCp1I3"
      },
      "execution_count": 63,
      "outputs": []
    },
    {
      "cell_type": "code",
      "source": [
        ""
      ],
      "metadata": {
        "id": "a6zhLt88p1D8"
      },
      "execution_count": null,
      "outputs": []
    }
  ]
}