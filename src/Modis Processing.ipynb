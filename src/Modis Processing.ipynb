{
 "cells": [
  {
   "cell_type": "markdown",
   "id": "adc607f6",
   "metadata": {},
   "source": [
    "### Modis Download and Processing\n",
    "Script designed to process Modis images and save them one by one.\n",
    "\n",
    "1. Find vtiles/htiles/dates for each data point\n",
    "2. define windows around them, cut image\n",
    "3. save images \n",
    "\n",
    "Potentially intended to offload eventually to azure vms"
   ]
  },
  {
   "cell_type": "code",
   "execution_count": 1,
   "id": "2a896f5a",
   "metadata": {},
   "outputs": [],
   "source": [
    "import pandas as pd\n",
    "import geojson as gsn"
   ]
  },
  {
   "cell_type": "code",
   "execution_count": null,
   "id": "5ef66646",
   "metadata": {},
   "outputs": [],
   "source": [
    "def lat_lon_to_modis_tile(lat,lon):\n",
    "    \"\"\"\n",
    "    Get the modis tile indices (h,v) for a given lat/lon\n",
    "    \n",
    "    https://www.earthdatascience.org/tutorials/convert-modis-tile-to-lat-lon/\n",
    "    \"\"\"\n",
    "    \n",
    "    found_matching_tile = False\n",
    "    i = 0\n",
    "    while(not found_matching_tile):\n",
    "        found_matching_tile = lat >= modis_tile_extents[i, 4] \\\n",
    "        and lat <= modis_tile_extents[i, 5] \\\n",
    "        and lon >= modis_tile_extents[i, 2] and lon <= modis_tile_extents[i, 3]\n",
    "        i += 1\n",
    "        \n",
    "    v = int(modis_tile_extents[i-1, 0])\n",
    "    h = int(modis_tile_extents[i-1, 1])\n",
    "    \n",
    "    return h,v\n",
    "\n",
    "\n",
    "def list_blobs_in_folder(container_name,folder_name):\n",
    "    \"\"\"\n",
    "    List all blobs in a virtual folder in an Azure blob container\n",
    "    \"\"\"\n",
    "    \n",
    "    files = []\n",
    "    generator = modis_container_client.list_blobs(name_starts_with=folder_name)\n",
    "    for blob in generator:\n",
    "        files.append(blob.name)\n",
    "    return files\n",
    "        \n",
    "    \n",
    "def list_hdf_blobs_in_folder(container_name,folder_name):\n",
    "    \"\"\"\"\n",
    "    List .hdf files in a folder\n",
    "    \"\"\"\n",
    "    \n",
    "    files = list_blobs_in_folder(container_name,folder_name)\n",
    "    files = [fn for fn in files if fn.endswith('.hdf')]\n",
    "    return files"
   ]
  },
  {
   "cell_type": "markdown",
   "id": "bc09d243",
   "metadata": {},
   "source": [
    "Ingest training + testing geodata and timestamps"
   ]
  },
  {
   "cell_type": "code",
   "execution_count": null,
   "id": "6ee14526",
   "metadata": {},
   "outputs": [],
   "source": []
  }
 ],
 "metadata": {
  "kernelspec": {
   "display_name": "Python 3 (ipykernel)",
   "language": "python",
   "name": "python3"
  },
  "language_info": {
   "codemirror_mode": {
    "name": "ipython",
    "version": 3
   },
   "file_extension": ".py",
   "mimetype": "text/x-python",
   "name": "python",
   "nbconvert_exporter": "python",
   "pygments_lexer": "ipython3",
   "version": "3.10.1"
  }
 },
 "nbformat": 4,
 "nbformat_minor": 5
}
