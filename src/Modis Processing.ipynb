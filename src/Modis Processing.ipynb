{
 "cells": [
  {
   "cell_type": "markdown",
   "id": "adc607f6",
   "metadata": {},
   "source": [
    "### Modis Download and Processing\n",
    "Script designed to process Modis images and save them one by one.\n",
    "\n",
    "1. Find vtiles/htiles/dates for each data point\n",
    "2. define windows around them, cut image\n",
    "3. save images \n",
    "\n",
    "Potentially intended to offload eventually to azure vms"
   ]
  },
  {
   "cell_type": "code",
   "execution_count": 110,
   "id": "2a896f5a",
   "metadata": {},
   "outputs": [
    {
     "name": "stdout",
     "output_type": "stream",
     "text": [
      "\r",
      "  0% [                                                                              ]     0 / 32585\r",
      " 25% [...................                                                           ]  8192 / 32585\r",
      " 50% [.......................................                                       ] 16384 / 32585\r",
      " 75% [..........................................................                    ] 24576 / 32585\r",
      "100% [..............................................................................] 32585 / 32585"
     ]
    }
   ],
   "source": [
    "import pandas as pd\n",
    "import geojson as gsn\n",
    "from pyproj import Proj\n",
    "from osgeo import gdal\n",
    "\n",
    "import tempfile\n",
    "import wget\n",
    "import math\n",
    "import numpy as np\n",
    "import matplotlib.pyplot as plt\n",
    "import os\n",
    "\n",
    "import rioxarray as rxr\n",
    "from azure.storage.blob import ContainerClient\n",
    "\n",
    "modis_account_name = 'modissa'\n",
    "modis_container_name = 'modis-006'\n",
    "modis_account_url = 'https://' + modis_account_name + '.blob.core.windows.net/'\n",
    "modis_blob_root = modis_account_url + modis_container_name + '/'\n",
    "\n",
    "# This file is provided by NASA; it indicates the lat/lon extents of each\n",
    "# NOTE: this was from tutorial, not actually helpful because unprojected?\n",
    "\n",
    "modis_tile_extents_url = modis_blob_root + 'sn_bound_10deg.txt'\n",
    "\n",
    "temp_dir = os.path.join(tempfile.gettempdir(),'modis')\n",
    "os.makedirs(temp_dir,exist_ok=True)\n",
    "fn = os.path.join(temp_dir,modis_tile_extents_url.split('/')[-1])\n",
    "# wget.download(modis_tile_extents_url, fn)\n",
    "\n",
    "\n",
    "modis_container_client = ContainerClient(account_url=modis_account_url, \n",
    "                                         container_name=modis_container_name,\n",
    "                                                  credential=None)"
   ]
  },
  {
   "cell_type": "markdown",
   "id": "e1970cdf",
   "metadata": {},
   "source": [
    "### see above TODO\n"
   ]
  },
  {
   "cell_type": "code",
   "execution_count": 112,
   "id": "5ef66646",
   "metadata": {},
   "outputs": [],
   "source": [
    "def lat_lon_to_modis_tile(lat,lon):\n",
    "    '''converts lat lon to modis tiles but reconstructing grid and its projection'''\n",
    "    \n",
    "    CELLS = 2400\n",
    "    VERTICAL_TILES = 18\n",
    "    HORIZONTAL_TILES = 36\n",
    "    EARTH_RADIUS = 6371007.181\n",
    "    EARTH_WIDTH = 2 * math.pi * EARTH_RADIUS\n",
    "\n",
    "    TILE_WIDTH = EARTH_WIDTH / HORIZONTAL_TILES\n",
    "    TILE_HEIGHT = TILE_WIDTH\n",
    "    CELL_SIZE = TILE_WIDTH / CELLS\n",
    "    \n",
    "    MODIS_GRID = Proj(f'+proj=sinu +R={EARTH_RADIUS} +nadgrids=@null +wktext')\n",
    "    \n",
    "    x, y = MODIS_GRID(lon, lat)\n",
    "    h = (EARTH_WIDTH * .5 + x) / TILE_WIDTH\n",
    "    v = -(EARTH_WIDTH * .25 + y - (VERTICAL_TILES - 0) * TILE_HEIGHT) / TILE_HEIGHT\n",
    "    \n",
    "    return int(h), int(v)\n",
    "\n",
    "\n",
    "def list_blobs_in_folder(container_name,folder_name):\n",
    "    \"\"\"\n",
    "    List all blobs in a virtual folder in an Azure blob container\n",
    "    \"\"\"\n",
    "    \n",
    "    files = []\n",
    "    generator = modis_container_client.list_blobs(name_starts_with=folder_name)\n",
    "    for blob in generator:\n",
    "        files.append(blob.name)\n",
    "    return files\n",
    "        \n",
    "    \n",
    "def list_hdf_blobs_in_folder(container_name,folder_name):\n",
    "    \"\"\"\"\n",
    "    List .hdf files in a folder\n",
    "    \"\"\"\n",
    "    \n",
    "    files = list_blobs_in_folder(container_name,folder_name)\n",
    "    files = [fn for fn in files if fn.endswith('.hdf')]\n",
    "    return files"
   ]
  },
  {
   "cell_type": "markdown",
   "id": "bc09d243",
   "metadata": {},
   "source": [
    "Ingest training + testing geodata and timestamps\n",
    "\n",
    "Note: paths are currently absolute, but happy to make them work on both machines"
   ]
  },
  {
   "cell_type": "code",
   "execution_count": 15,
   "id": "6ee14526",
   "metadata": {},
   "outputs": [
    {
     "name": "stdout",
     "output_type": "stream",
     "text": [
      "18130\n"
     ]
    }
   ],
   "source": [
    "path = \"C:/Users/Matt/Documents/Python Scripts/SnowComp/dat/grid_cells.geojson\"\n",
    "with open(path) as f:\n",
    "    gj = gsn.load(f)\n",
    "print(len(gj['features']))"
   ]
  },
  {
   "cell_type": "markdown",
   "id": "e4dbec4d",
   "metadata": {},
   "source": [
    "Estimate centroids for lat_lon calculations by taking mean of points (not actual centroid because of projection and great circle distance?)"
   ]
  },
  {
   "cell_type": "code",
   "execution_count": 42,
   "id": "3419f2e3",
   "metadata": {},
   "outputs": [],
   "source": [
    "centroids = {} #cellid : centroid\n",
    "tiles = {}\n",
    "\n",
    "\n",
    "for cell in range(len(gj['features'])):\n",
    "    assert len(gj['features'][cell]['geometry']['coordinates'][0]) == 5 #coordinates have repeat on fifth, make sure this is universal\n",
    "    \n",
    "    cell_id =gj['features'][cell]['properties']['cell_id']\n",
    "    centroid = list(np.mean(\n",
    "        gj['features'][cell]['geometry']['coordinates'][0][0:4],\n",
    "        axis = 0)) #lazy centroid calculation\n",
    "    centroids[cell_id] = centroid\n",
    "    \n",
    "    tiles[cell_id] = lat_lon_to_modis_tile(centroid[1], centroid[0])"
   ]
  },
  {
   "cell_type": "markdown",
   "id": "f292e9ab",
   "metadata": {},
   "source": [
    "### Reproject from SR-ORG:6974 to EPSG:4326\n",
    "\n",
    "Note, maybe do with xarray, src ?"
   ]
  },
  {
   "cell_type": "code",
   "execution_count": 140,
   "id": "3d53257a",
   "metadata": {},
   "outputs": [
    {
     "name": "stdout",
     "output_type": "stream",
     "text": [
      "Found 1 matching file(s):\n",
      "MCD43A4/08/05/2014236/MCD43A4.A2014236.h08v05.006.2016153121230.hdf\n"
     ]
    }
   ],
   "source": [
    "product = 'MCD43A4'\n",
    "daynum = '2014236'\n",
    "folder = product + '/' + '{:0>2d}/{:0>2d}'.format(8,5) + '/' + daynum\n",
    "\n",
    "# Find all HDF files from this tile on this day\n",
    "filenames = list_hdf_blobs_in_folder(modis_container_name,folder)\n",
    "print('Found {} matching file(s):'.format(len(filenames)))\n",
    "for fn in filenames:\n",
    "    print(fn)\n",
    "file_root = filenames.copy()\n",
    "    \n",
    "# Work with the first returned URL\n",
    "blob_name = filenames[0]\n",
    "\n",
    "# Download to a temporary file\n",
    "url = modis_blob_root + blob_name\n",
    "\n",
    "filename = os.path.join(temp_dir,blob_name.replace('/','_'))\n",
    "if not os.path.isfile(filename):\n",
    "    wget.download(url,filename)"
   ]
  },
  {
   "cell_type": "code",
   "execution_count": 156,
   "id": "31bfaaeb",
   "metadata": {},
   "outputs": [],
   "source": [
    "file_root[0] = file_root[0].replace('.', '-').replace('/','-')"
   ]
  },
  {
   "cell_type": "code",
   "execution_count": 161,
   "id": "5cb28fc3",
   "metadata": {},
   "outputs": [
    {
     "ename": "RuntimeError",
     "evalue": "Input file C:\\Users\\Matt\\AppData\\Local\\Temp\\modis\\MCD43A4_08_05_2014236_MCD43A4.A2014236.h08v05.006.2016153121230.hdf has no raster bands.",
     "output_type": "error",
     "traceback": [
      "\u001b[1;31m---------------------------------------------------------------------------\u001b[0m",
      "\u001b[1;31mRuntimeError\u001b[0m                              Traceback (most recent call last)",
      "\u001b[1;32m~\\AppData\\Local\\Temp/ipykernel_25188/2342858047.py\u001b[0m in \u001b[0;36m<module>\u001b[1;34m\u001b[0m\n\u001b[0;32m      4\u001b[0m \u001b[0minput_raster\u001b[0m \u001b[1;33m=\u001b[0m \u001b[0mgdal\u001b[0m\u001b[1;33m.\u001b[0m\u001b[0mOpen\u001b[0m\u001b[1;33m(\u001b[0m\u001b[0mfilename\u001b[0m\u001b[1;33m)\u001b[0m\u001b[1;33m\u001b[0m\u001b[1;33m\u001b[0m\u001b[0m\n\u001b[0;32m      5\u001b[0m \u001b[0moutput_raster\u001b[0m \u001b[1;33m=\u001b[0m \u001b[1;34m\"C:/Users/Matt/Pictures/\"\u001b[0m\u001b[1;33m+\u001b[0m\u001b[0mfile_root\u001b[0m\u001b[1;33m[\u001b[0m\u001b[1;36m0\u001b[0m\u001b[1;33m]\u001b[0m \u001b[1;33m+\u001b[0m \u001b[1;34m\"-epsg4326\"\u001b[0m\u001b[1;33m+\u001b[0m\u001b[1;34m\".tif\"\u001b[0m \u001b[1;31m#cutoff ending, reapply\u001b[0m\u001b[1;33m\u001b[0m\u001b[1;33m\u001b[0m\u001b[0m\n\u001b[1;32m----> 6\u001b[1;33m warp = gdal.Warp(output_raster, input_raster,\n\u001b[0m\u001b[0;32m      7\u001b[0m                  options=gdal.WarpOptions(dstSRS='EPSG:4326', format =\"GTiff\"))\n\u001b[0;32m      8\u001b[0m \u001b[1;31m#                  options=gdal.WarpOptions(srcSRS ='SR-ORG:6974' , dstSRS='EPSG:4326'))\u001b[0m\u001b[1;33m\u001b[0m\u001b[1;33m\u001b[0m\u001b[0m\n",
      "\u001b[1;32m~\\miniconda3\\envs\\snowcomp\\lib\\site-packages\\osgeo\\gdal.py\u001b[0m in \u001b[0;36mWarp\u001b[1;34m(destNameOrDestDS, srcDSOrSrcDSTab, **kwargs)\u001b[0m\n\u001b[0;32m    705\u001b[0m \u001b[1;33m\u001b[0m\u001b[0m\n\u001b[0;32m    706\u001b[0m     \u001b[1;32mif\u001b[0m \u001b[0misinstance\u001b[0m\u001b[1;33m(\u001b[0m\u001b[0mdestNameOrDestDS\u001b[0m\u001b[1;33m,\u001b[0m \u001b[0mstr\u001b[0m\u001b[1;33m)\u001b[0m\u001b[1;33m:\u001b[0m\u001b[1;33m\u001b[0m\u001b[1;33m\u001b[0m\u001b[0m\n\u001b[1;32m--> 707\u001b[1;33m         \u001b[1;32mreturn\u001b[0m \u001b[0mwrapper_GDALWarpDestName\u001b[0m\u001b[1;33m(\u001b[0m\u001b[0mdestNameOrDestDS\u001b[0m\u001b[1;33m,\u001b[0m \u001b[0msrcDSTab\u001b[0m\u001b[1;33m,\u001b[0m \u001b[0mopts\u001b[0m\u001b[1;33m,\u001b[0m \u001b[0mcallback\u001b[0m\u001b[1;33m,\u001b[0m \u001b[0mcallback_data\u001b[0m\u001b[1;33m)\u001b[0m\u001b[1;33m\u001b[0m\u001b[1;33m\u001b[0m\u001b[0m\n\u001b[0m\u001b[0;32m    708\u001b[0m     \u001b[1;32melse\u001b[0m\u001b[1;33m:\u001b[0m\u001b[1;33m\u001b[0m\u001b[1;33m\u001b[0m\u001b[0m\n\u001b[0;32m    709\u001b[0m         \u001b[1;32mreturn\u001b[0m \u001b[0mwrapper_GDALWarpDestDS\u001b[0m\u001b[1;33m(\u001b[0m\u001b[0mdestNameOrDestDS\u001b[0m\u001b[1;33m,\u001b[0m \u001b[0msrcDSTab\u001b[0m\u001b[1;33m,\u001b[0m \u001b[0mopts\u001b[0m\u001b[1;33m,\u001b[0m \u001b[0mcallback\u001b[0m\u001b[1;33m,\u001b[0m \u001b[0mcallback_data\u001b[0m\u001b[1;33m)\u001b[0m\u001b[1;33m\u001b[0m\u001b[1;33m\u001b[0m\u001b[0m\n",
      "\u001b[1;32m~\\miniconda3\\envs\\snowcomp\\lib\\site-packages\\osgeo\\gdal.py\u001b[0m in \u001b[0;36mwrapper_GDALWarpDestName\u001b[1;34m(*args)\u001b[0m\n\u001b[0;32m   4701\u001b[0m \u001b[1;32mdef\u001b[0m \u001b[0mwrapper_GDALWarpDestName\u001b[0m\u001b[1;33m(\u001b[0m\u001b[1;33m*\u001b[0m\u001b[0margs\u001b[0m\u001b[1;33m)\u001b[0m\u001b[1;33m:\u001b[0m\u001b[1;33m\u001b[0m\u001b[1;33m\u001b[0m\u001b[0m\n\u001b[0;32m   4702\u001b[0m     \u001b[1;34m\"\"\"wrapper_GDALWarpDestName(char const * dest, int object_list_count, GDALWarpAppOptions warpAppOptions, GDALProgressFunc callback=0, void * callback_data=None) -> Dataset\"\"\"\u001b[0m\u001b[1;33m\u001b[0m\u001b[1;33m\u001b[0m\u001b[0m\n\u001b[1;32m-> 4703\u001b[1;33m     \u001b[1;32mreturn\u001b[0m \u001b[0m_gdal\u001b[0m\u001b[1;33m.\u001b[0m\u001b[0mwrapper_GDALWarpDestName\u001b[0m\u001b[1;33m(\u001b[0m\u001b[1;33m*\u001b[0m\u001b[0margs\u001b[0m\u001b[1;33m)\u001b[0m\u001b[1;33m\u001b[0m\u001b[1;33m\u001b[0m\u001b[0m\n\u001b[0m\u001b[0;32m   4704\u001b[0m \u001b[1;32mclass\u001b[0m \u001b[0mGDALVectorTranslateOptions\u001b[0m\u001b[1;33m(\u001b[0m\u001b[0m_object\u001b[0m\u001b[1;33m)\u001b[0m\u001b[1;33m:\u001b[0m\u001b[1;33m\u001b[0m\u001b[1;33m\u001b[0m\u001b[0m\n\u001b[0;32m   4705\u001b[0m     \u001b[1;34m\"\"\"Proxy of C++ GDALVectorTranslateOptions class.\"\"\"\u001b[0m\u001b[1;33m\u001b[0m\u001b[1;33m\u001b[0m\u001b[0m\n",
      "\u001b[1;31mRuntimeError\u001b[0m: Input file C:\\Users\\Matt\\AppData\\Local\\Temp\\modis\\MCD43A4_08_05_2014236_MCD43A4.A2014236.h08v05.006.2016153121230.hdf has no raster bands."
     ]
    }
   ],
   "source": [
    "assert len(file_root) == 1 # future these will come in multiples, not currently handled\n",
    "gdal.UseExceptions()\n",
    "\n",
    "input_raster = gdal.Open(filename)\n",
    "output_raster = \"C:/Users/Matt/Pictures/\"+file_root[0] + \"-epsg4326\"+\".tif\" #cutoff ending, reapply\n",
    "warp = gdal.Warp(output_raster, input_raster,\n",
    "                 options=gdal.WarpOptions(dstSRS='EPSG:4326', format =\"GTiff\"))\n",
    "#                  options=gdal.WarpOptions(srcSRS ='SR-ORG:6974' , dstSRS='EPSG:4326'))\n",
    "warp = None # Closes the files"
   ]
  },
  {
   "cell_type": "markdown",
   "id": "f2e39907",
   "metadata": {},
   "source": [
    "### Sanity check of image"
   ]
  },
  {
   "cell_type": "code",
   "execution_count": 119,
   "id": "f5412983",
   "metadata": {},
   "outputs": [
    {
     "name": "stdout",
     "output_type": "stream",
     "text": [
      "<xarray.DataArray 'x' ()>\n",
      "array(-11119273.54030874)\n",
      "Coordinates:\n",
      "    spatial_ref  int32 0\n",
      "<xarray.DataArray 'y' ()>\n",
      "array(4447570.42230874)\n",
      "Coordinates:\n",
      "    spatial_ref  int32 0\n"
     ]
    }
   ],
   "source": [
    "# print(ds.x.min())\n",
    "# print(ds.y.max())"
   ]
  },
  {
   "cell_type": "code",
   "execution_count": 137,
   "id": "5051de64",
   "metadata": {},
   "outputs": [
    {
     "ename": "RasterioIOError",
     "evalue": "C:/Users/Matt/AppData/Local/Temp/modis/MCD43A4_08_05_2014236_MCD43A4.A2014236.h08v05.006.2016153121230.epsg4326.hdf: No such file or directory",
     "output_type": "error",
     "traceback": [
      "\u001b[1;31m---------------------------------------------------------------------------\u001b[0m",
      "\u001b[1;31mKeyError\u001b[0m                                  Traceback (most recent call last)",
      "\u001b[1;32m~\\miniconda3\\envs\\snowcomp\\lib\\site-packages\\xarray\\backends\\file_manager.py\u001b[0m in \u001b[0;36m_acquire_with_cache_info\u001b[1;34m(self, needs_lock)\u001b[0m\n\u001b[0;32m    198\u001b[0m             \u001b[1;32mtry\u001b[0m\u001b[1;33m:\u001b[0m\u001b[1;33m\u001b[0m\u001b[1;33m\u001b[0m\u001b[0m\n\u001b[1;32m--> 199\u001b[1;33m                 \u001b[0mfile\u001b[0m \u001b[1;33m=\u001b[0m \u001b[0mself\u001b[0m\u001b[1;33m.\u001b[0m\u001b[0m_cache\u001b[0m\u001b[1;33m[\u001b[0m\u001b[0mself\u001b[0m\u001b[1;33m.\u001b[0m\u001b[0m_key\u001b[0m\u001b[1;33m]\u001b[0m\u001b[1;33m\u001b[0m\u001b[1;33m\u001b[0m\u001b[0m\n\u001b[0m\u001b[0;32m    200\u001b[0m             \u001b[1;32mexcept\u001b[0m \u001b[0mKeyError\u001b[0m\u001b[1;33m:\u001b[0m\u001b[1;33m\u001b[0m\u001b[1;33m\u001b[0m\u001b[0m\n",
      "\u001b[1;32m~\\miniconda3\\envs\\snowcomp\\lib\\site-packages\\xarray\\backends\\lru_cache.py\u001b[0m in \u001b[0;36m__getitem__\u001b[1;34m(self, key)\u001b[0m\n\u001b[0;32m     52\u001b[0m         \u001b[1;32mwith\u001b[0m \u001b[0mself\u001b[0m\u001b[1;33m.\u001b[0m\u001b[0m_lock\u001b[0m\u001b[1;33m:\u001b[0m\u001b[1;33m\u001b[0m\u001b[1;33m\u001b[0m\u001b[0m\n\u001b[1;32m---> 53\u001b[1;33m             \u001b[0mvalue\u001b[0m \u001b[1;33m=\u001b[0m \u001b[0mself\u001b[0m\u001b[1;33m.\u001b[0m\u001b[0m_cache\u001b[0m\u001b[1;33m[\u001b[0m\u001b[0mkey\u001b[0m\u001b[1;33m]\u001b[0m\u001b[1;33m\u001b[0m\u001b[1;33m\u001b[0m\u001b[0m\n\u001b[0m\u001b[0;32m     54\u001b[0m             \u001b[0mself\u001b[0m\u001b[1;33m.\u001b[0m\u001b[0m_cache\u001b[0m\u001b[1;33m.\u001b[0m\u001b[0mmove_to_end\u001b[0m\u001b[1;33m(\u001b[0m\u001b[0mkey\u001b[0m\u001b[1;33m)\u001b[0m\u001b[1;33m\u001b[0m\u001b[1;33m\u001b[0m\u001b[0m\n",
      "\u001b[1;31mKeyError\u001b[0m: [<function open at 0x000001948E86D5A0>, ('C:\\\\Users\\\\Matt\\\\AppData\\\\Local\\\\Temp\\\\modis\\\\MCD43A4_08_05_2014236_MCD43A4.A2014236.h08v05.006.2016153121230.epsg4326.hdf',), 'r', (('sharing', False),)]",
      "\nDuring handling of the above exception, another exception occurred:\n",
      "\u001b[1;31mCPLE_OpenFailedError\u001b[0m                      Traceback (most recent call last)",
      "\u001b[1;32mrasterio\\_base.pyx\u001b[0m in \u001b[0;36mrasterio._base.DatasetBase.__init__\u001b[1;34m()\u001b[0m\n",
      "\u001b[1;32mrasterio\\_shim.pyx\u001b[0m in \u001b[0;36mrasterio._shim.open_dataset\u001b[1;34m()\u001b[0m\n",
      "\u001b[1;32mrasterio\\_err.pyx\u001b[0m in \u001b[0;36mrasterio._err.exc_wrap_pointer\u001b[1;34m()\u001b[0m\n",
      "\u001b[1;31mCPLE_OpenFailedError\u001b[0m: C:/Users/Matt/AppData/Local/Temp/modis/MCD43A4_08_05_2014236_MCD43A4.A2014236.h08v05.006.2016153121230.epsg4326.hdf: No such file or directory",
      "\nDuring handling of the above exception, another exception occurred:\n",
      "\u001b[1;31mRasterioIOError\u001b[0m                           Traceback (most recent call last)",
      "\u001b[1;32m~\\AppData\\Local\\Temp/ipykernel_25188/423961364.py\u001b[0m in \u001b[0;36m<module>\u001b[1;34m\u001b[0m\n\u001b[1;32m----> 1\u001b[1;33m \u001b[0mds\u001b[0m \u001b[1;33m=\u001b[0m \u001b[0mrxr\u001b[0m\u001b[1;33m.\u001b[0m\u001b[0mopen_rasterio\u001b[0m\u001b[1;33m(\u001b[0m\u001b[0moutput_raster\u001b[0m\u001b[1;33m)\u001b[0m\u001b[1;33m\u001b[0m\u001b[1;33m\u001b[0m\u001b[0m\n\u001b[0m\u001b[0;32m      2\u001b[0m \u001b[1;33m\u001b[0m\u001b[0m\n\u001b[0;32m      3\u001b[0m \u001b[0mnorm_value\u001b[0m \u001b[1;33m=\u001b[0m \u001b[1;36m5000\u001b[0m\u001b[1;33m\u001b[0m\u001b[1;33m\u001b[0m\u001b[0m\n\u001b[0;32m      4\u001b[0m \u001b[0mr\u001b[0m \u001b[1;33m=\u001b[0m \u001b[0mds\u001b[0m\u001b[1;33m[\u001b[0m\u001b[1;34m'Nadir_Reflectance_Band1'\u001b[0m\u001b[1;33m]\u001b[0m\u001b[1;33m.\u001b[0m\u001b[0mvalues\u001b[0m\u001b[1;33m.\u001b[0m\u001b[0msqueeze\u001b[0m\u001b[1;33m(\u001b[0m\u001b[1;33m)\u001b[0m \u001b[1;33m/\u001b[0m \u001b[0mnorm_value\u001b[0m\u001b[1;33m\u001b[0m\u001b[1;33m\u001b[0m\u001b[0m\n\u001b[0;32m      5\u001b[0m \u001b[0mg\u001b[0m \u001b[1;33m=\u001b[0m \u001b[0mds\u001b[0m\u001b[1;33m[\u001b[0m\u001b[1;34m'Nadir_Reflectance_Band4'\u001b[0m\u001b[1;33m]\u001b[0m\u001b[1;33m.\u001b[0m\u001b[0mvalues\u001b[0m\u001b[1;33m.\u001b[0m\u001b[0msqueeze\u001b[0m\u001b[1;33m(\u001b[0m\u001b[1;33m)\u001b[0m \u001b[1;33m/\u001b[0m \u001b[0mnorm_value\u001b[0m\u001b[1;33m\u001b[0m\u001b[1;33m\u001b[0m\u001b[0m\n",
      "\u001b[1;32m~\\miniconda3\\envs\\snowcomp\\lib\\site-packages\\rioxarray\\_io.py\u001b[0m in \u001b[0;36mopen_rasterio\u001b[1;34m(filename, parse_coordinates, chunks, cache, lock, masked, mask_and_scale, variable, group, default_name, decode_times, decode_timedelta, **open_kwargs)\u001b[0m\n\u001b[0;32m    831\u001b[0m         \u001b[1;32melse\u001b[0m\u001b[1;33m:\u001b[0m\u001b[1;33m\u001b[0m\u001b[1;33m\u001b[0m\u001b[0m\n\u001b[0;32m    832\u001b[0m             \u001b[0mmanager\u001b[0m \u001b[1;33m=\u001b[0m \u001b[0mURIManager\u001b[0m\u001b[1;33m(\u001b[0m\u001b[0mrasterio\u001b[0m\u001b[1;33m.\u001b[0m\u001b[0mopen\u001b[0m\u001b[1;33m,\u001b[0m \u001b[0mfilename\u001b[0m\u001b[1;33m,\u001b[0m \u001b[0mmode\u001b[0m\u001b[1;33m=\u001b[0m\u001b[1;34m\"r\"\u001b[0m\u001b[1;33m,\u001b[0m \u001b[0mkwargs\u001b[0m\u001b[1;33m=\u001b[0m\u001b[0mopen_kwargs\u001b[0m\u001b[1;33m)\u001b[0m\u001b[1;33m\u001b[0m\u001b[1;33m\u001b[0m\u001b[0m\n\u001b[1;32m--> 833\u001b[1;33m         \u001b[0mriods\u001b[0m \u001b[1;33m=\u001b[0m \u001b[0mmanager\u001b[0m\u001b[1;33m.\u001b[0m\u001b[0macquire\u001b[0m\u001b[1;33m(\u001b[0m\u001b[1;33m)\u001b[0m\u001b[1;33m\u001b[0m\u001b[1;33m\u001b[0m\u001b[0m\n\u001b[0m\u001b[0;32m    834\u001b[0m         \u001b[0mcaptured_warnings\u001b[0m \u001b[1;33m=\u001b[0m \u001b[0mrio_warnings\u001b[0m\u001b[1;33m.\u001b[0m\u001b[0mcopy\u001b[0m\u001b[1;33m(\u001b[0m\u001b[1;33m)\u001b[0m\u001b[1;33m\u001b[0m\u001b[1;33m\u001b[0m\u001b[0m\n\u001b[0;32m    835\u001b[0m \u001b[1;33m\u001b[0m\u001b[0m\n",
      "\u001b[1;32m~\\miniconda3\\envs\\snowcomp\\lib\\site-packages\\xarray\\backends\\file_manager.py\u001b[0m in \u001b[0;36macquire\u001b[1;34m(self, needs_lock)\u001b[0m\n\u001b[0;32m    179\u001b[0m             \u001b[0mAn\u001b[0m \u001b[0mopen\u001b[0m \u001b[0mfile\u001b[0m \u001b[0mobject\u001b[0m\u001b[1;33m,\u001b[0m \u001b[1;32mas\u001b[0m \u001b[0mreturned\u001b[0m \u001b[0mby\u001b[0m\u001b[0;31m \u001b[0m\u001b[0;31m`\u001b[0m\u001b[0;31m`\u001b[0m\u001b[0mopener\u001b[0m\u001b[1;33m(\u001b[0m\u001b[1;33m*\u001b[0m\u001b[0margs\u001b[0m\u001b[1;33m,\u001b[0m \u001b[1;33m**\u001b[0m\u001b[0mkwargs\u001b[0m\u001b[1;33m)\u001b[0m\u001b[0;31m`\u001b[0m\u001b[0;31m`\u001b[0m\u001b[1;33m.\u001b[0m\u001b[1;33m\u001b[0m\u001b[1;33m\u001b[0m\u001b[0m\n\u001b[0;32m    180\u001b[0m         \"\"\"\n\u001b[1;32m--> 181\u001b[1;33m         \u001b[0mfile\u001b[0m\u001b[1;33m,\u001b[0m \u001b[0m_\u001b[0m \u001b[1;33m=\u001b[0m \u001b[0mself\u001b[0m\u001b[1;33m.\u001b[0m\u001b[0m_acquire_with_cache_info\u001b[0m\u001b[1;33m(\u001b[0m\u001b[0mneeds_lock\u001b[0m\u001b[1;33m)\u001b[0m\u001b[1;33m\u001b[0m\u001b[1;33m\u001b[0m\u001b[0m\n\u001b[0m\u001b[0;32m    182\u001b[0m         \u001b[1;32mreturn\u001b[0m \u001b[0mfile\u001b[0m\u001b[1;33m\u001b[0m\u001b[1;33m\u001b[0m\u001b[0m\n\u001b[0;32m    183\u001b[0m \u001b[1;33m\u001b[0m\u001b[0m\n",
      "\u001b[1;32m~\\miniconda3\\envs\\snowcomp\\lib\\site-packages\\xarray\\backends\\file_manager.py\u001b[0m in \u001b[0;36m_acquire_with_cache_info\u001b[1;34m(self, needs_lock)\u001b[0m\n\u001b[0;32m    203\u001b[0m                     \u001b[0mkwargs\u001b[0m \u001b[1;33m=\u001b[0m \u001b[0mkwargs\u001b[0m\u001b[1;33m.\u001b[0m\u001b[0mcopy\u001b[0m\u001b[1;33m(\u001b[0m\u001b[1;33m)\u001b[0m\u001b[1;33m\u001b[0m\u001b[1;33m\u001b[0m\u001b[0m\n\u001b[0;32m    204\u001b[0m                     \u001b[0mkwargs\u001b[0m\u001b[1;33m[\u001b[0m\u001b[1;34m\"mode\"\u001b[0m\u001b[1;33m]\u001b[0m \u001b[1;33m=\u001b[0m \u001b[0mself\u001b[0m\u001b[1;33m.\u001b[0m\u001b[0m_mode\u001b[0m\u001b[1;33m\u001b[0m\u001b[1;33m\u001b[0m\u001b[0m\n\u001b[1;32m--> 205\u001b[1;33m                 \u001b[0mfile\u001b[0m \u001b[1;33m=\u001b[0m \u001b[0mself\u001b[0m\u001b[1;33m.\u001b[0m\u001b[0m_opener\u001b[0m\u001b[1;33m(\u001b[0m\u001b[1;33m*\u001b[0m\u001b[0mself\u001b[0m\u001b[1;33m.\u001b[0m\u001b[0m_args\u001b[0m\u001b[1;33m,\u001b[0m \u001b[1;33m**\u001b[0m\u001b[0mkwargs\u001b[0m\u001b[1;33m)\u001b[0m\u001b[1;33m\u001b[0m\u001b[1;33m\u001b[0m\u001b[0m\n\u001b[0m\u001b[0;32m    206\u001b[0m                 \u001b[1;32mif\u001b[0m \u001b[0mself\u001b[0m\u001b[1;33m.\u001b[0m\u001b[0m_mode\u001b[0m \u001b[1;33m==\u001b[0m \u001b[1;34m\"w\"\u001b[0m\u001b[1;33m:\u001b[0m\u001b[1;33m\u001b[0m\u001b[1;33m\u001b[0m\u001b[0m\n\u001b[0;32m    207\u001b[0m                     \u001b[1;31m# ensure file doesn't get overriden when opened again\u001b[0m\u001b[1;33m\u001b[0m\u001b[1;33m\u001b[0m\u001b[0m\n",
      "\u001b[1;32m~\\miniconda3\\envs\\snowcomp\\lib\\site-packages\\rasterio\\env.py\u001b[0m in \u001b[0;36mwrapper\u001b[1;34m(*args, **kwds)\u001b[0m\n\u001b[0;32m    435\u001b[0m \u001b[1;33m\u001b[0m\u001b[0m\n\u001b[0;32m    436\u001b[0m         \u001b[1;32mwith\u001b[0m \u001b[0menv_ctor\u001b[0m\u001b[1;33m(\u001b[0m\u001b[0msession\u001b[0m\u001b[1;33m=\u001b[0m\u001b[0msession\u001b[0m\u001b[1;33m)\u001b[0m\u001b[1;33m:\u001b[0m\u001b[1;33m\u001b[0m\u001b[1;33m\u001b[0m\u001b[0m\n\u001b[1;32m--> 437\u001b[1;33m             \u001b[1;32mreturn\u001b[0m \u001b[0mf\u001b[0m\u001b[1;33m(\u001b[0m\u001b[1;33m*\u001b[0m\u001b[0margs\u001b[0m\u001b[1;33m,\u001b[0m \u001b[1;33m**\u001b[0m\u001b[0mkwds\u001b[0m\u001b[1;33m)\u001b[0m\u001b[1;33m\u001b[0m\u001b[1;33m\u001b[0m\u001b[0m\n\u001b[0m\u001b[0;32m    438\u001b[0m \u001b[1;33m\u001b[0m\u001b[0m\n\u001b[0;32m    439\u001b[0m     \u001b[1;32mreturn\u001b[0m \u001b[0mwrapper\u001b[0m\u001b[1;33m\u001b[0m\u001b[1;33m\u001b[0m\u001b[0m\n",
      "\u001b[1;32m~\\miniconda3\\envs\\snowcomp\\lib\\site-packages\\rasterio\\__init__.py\u001b[0m in \u001b[0;36mopen\u001b[1;34m(fp, mode, driver, width, height, count, crs, transform, dtype, nodata, sharing, **kwargs)\u001b[0m\n\u001b[0;32m    218\u001b[0m         \u001b[1;31m# None.\u001b[0m\u001b[1;33m\u001b[0m\u001b[1;33m\u001b[0m\u001b[0m\n\u001b[0;32m    219\u001b[0m         \u001b[1;32mif\u001b[0m \u001b[0mmode\u001b[0m \u001b[1;33m==\u001b[0m \u001b[1;34m'r'\u001b[0m\u001b[1;33m:\u001b[0m\u001b[1;33m\u001b[0m\u001b[1;33m\u001b[0m\u001b[0m\n\u001b[1;32m--> 220\u001b[1;33m             \u001b[0ms\u001b[0m \u001b[1;33m=\u001b[0m \u001b[0mDatasetReader\u001b[0m\u001b[1;33m(\u001b[0m\u001b[0mpath\u001b[0m\u001b[1;33m,\u001b[0m \u001b[0mdriver\u001b[0m\u001b[1;33m=\u001b[0m\u001b[0mdriver\u001b[0m\u001b[1;33m,\u001b[0m \u001b[0msharing\u001b[0m\u001b[1;33m=\u001b[0m\u001b[0msharing\u001b[0m\u001b[1;33m,\u001b[0m \u001b[1;33m**\u001b[0m\u001b[0mkwargs\u001b[0m\u001b[1;33m)\u001b[0m\u001b[1;33m\u001b[0m\u001b[1;33m\u001b[0m\u001b[0m\n\u001b[0m\u001b[0;32m    221\u001b[0m         \u001b[1;32melif\u001b[0m \u001b[0mmode\u001b[0m \u001b[1;33m==\u001b[0m \u001b[1;34m\"r+\"\u001b[0m\u001b[1;33m:\u001b[0m\u001b[1;33m\u001b[0m\u001b[1;33m\u001b[0m\u001b[0m\n\u001b[0;32m    222\u001b[0m             s = get_writer_for_path(path, driver=driver)(\n",
      "\u001b[1;32mrasterio\\_base.pyx\u001b[0m in \u001b[0;36mrasterio._base.DatasetBase.__init__\u001b[1;34m()\u001b[0m\n",
      "\u001b[1;31mRasterioIOError\u001b[0m: C:/Users/Matt/AppData/Local/Temp/modis/MCD43A4_08_05_2014236_MCD43A4.A2014236.h08v05.006.2016153121230.epsg4326.hdf: No such file or directory"
     ]
    }
   ],
   "source": [
    "ds = rxr.open_rasterio(output_raster)\n",
    "\n",
    "norm_value = 5000\n",
    "r = ds['Nadir_Reflectance_Band1'].values.squeeze() / norm_value\n",
    "g = ds['Nadir_Reflectance_Band4'].values.squeeze() / norm_value\n",
    "b = ds['Nadir_Reflectance_Band3'].values.squeeze() / norm_value\n",
    "rgb = np.dstack((r,g,b))\n",
    "\n",
    "np.clip(rgb,0,1,rgb)\n",
    "fig = plt.figure(frameon=False); ax = plt.Axes(fig,[0., 0., 1., 1.])\n",
    "ax.set_axis_off(); fig.add_axes(ax)\n",
    "plt.imshow(rgb);"
   ]
  }
 ],
 "metadata": {
  "kernelspec": {
   "display_name": "Python 3 (ipykernel)",
   "language": "python",
   "name": "python3"
  },
  "language_info": {
   "codemirror_mode": {
    "name": "ipython",
    "version": 3
   },
   "file_extension": ".py",
   "mimetype": "text/x-python",
   "name": "python",
   "nbconvert_exporter": "python",
   "pygments_lexer": "ipython3",
   "version": "3.10.1"
  }
 },
 "nbformat": 4,
 "nbformat_minor": 5
}
