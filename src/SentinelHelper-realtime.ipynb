{
 "cells": [
  {
   "cell_type": "markdown",
   "id": "2f9c7785",
   "metadata": {},
   "source": [
    "# Pre-preprocessing Sentinel 1\n",
    "\n",
    "list of `cell_id, date, lat, lon` for downloading"
   ]
  },
  {
   "cell_type": "code",
   "execution_count": 1,
   "id": "c4c8cf9b",
   "metadata": {},
   "outputs": [],
   "source": [
    "import pandas as pd\n",
    "import geojson as gsn\n",
    "from pyproj import Proj\n",
    "\n",
    "import tempfile\n",
    "import wget\n",
    "import math\n",
    "import random\n",
    "import numpy as np\n",
    "import matplotlib.pyplot as plt\n",
    "from tqdm.notebook import tqdm\n",
    "\n",
    "import os\n",
    "import pickle\n",
    "from collections import defaultdict\n",
    "from datetime import datetime, timedelta"
   ]
  },
  {
   "cell_type": "code",
   "execution_count": 2,
   "id": "ccfe4529",
   "metadata": {},
   "outputs": [],
   "source": [
    "def daynum_gen(date_time):\n",
    "    '''converts date time objects to filename'''\n",
    "    date_time = datetime.fromisoformat(date_time)\n",
    "    doy = date_time.timetuple().tm_yday\n",
    "    year = date_time.year\n",
    "    return str(year) + '{:03d}'.format(doy)\n",
    "\n"
   ]
  },
  {
   "cell_type": "code",
   "execution_count": 3,
   "id": "f73da42a",
   "metadata": {},
   "outputs": [],
   "source": [
    "submission = pd.read_csv(\"C:/Users/Matt/Documents/Python Scripts/SnowComp/dat/submission_format_2b.csv\")\n",
    "\n",
    "submission.rename({\"Unnamed: 0\":\"cell_id\"}, axis=1, inplace=True)\n",
    "DATE = \"2022-02-24\""
   ]
  },
  {
   "cell_type": "code",
   "execution_count": 4,
   "id": "54cc02c1",
   "metadata": {},
   "outputs": [
    {
     "name": "stdout",
     "output_type": "stream",
     "text": [
      "20759\n"
     ]
    }
   ],
   "source": [
    "path = \"C:/Users/Matt/Documents/Python Scripts/SnowComp/dat/grid_cells_2b.geojson\"\n",
    "with open(path) as f:\n",
    "    gj = gsn.load(f)\n",
    "print(len(gj['features']))"
   ]
  },
  {
   "cell_type": "code",
   "execution_count": 5,
   "id": "566d6063",
   "metadata": {},
   "outputs": [],
   "source": [
    "centroids = {} #cellid : centroid\n",
    "\n",
    "for cell in range(len(gj['features'])):\n",
    "    assert len(gj['features'][cell]['geometry']['coordinates'][0]) == 5 #coordinates have repeat on fifth, make sure this is universal\n",
    "    \n",
    "    cell_id =gj['features'][cell]['properties']['cell_id']\n",
    "    centroid = list(np.mean(\n",
    "        gj['features'][cell]['geometry']['coordinates'][0][0:4],\n",
    "        axis = 0)) #lazy centroid calculation\n",
    "    centroids[cell_id] = centroid"
   ]
  },
  {
   "cell_type": "code",
   "execution_count": 6,
   "id": "bfc6a4c4",
   "metadata": {},
   "outputs": [],
   "source": [
    "def date_loc_gen(cell_ids, metadata= None, centroids=centroids):\n",
    "    date_locs = []\n",
    "    \n",
    "    cell_ids = cell_ids['cell_id']\n",
    "    counter_sub = 0 \n",
    "    for cell in tqdm(cell_ids):\n",
    "        date_locs.append([cell, DATE, centroids[cell][1], centroids[cell][0]])\n",
    "        \n",
    "        counter_sub += 1 \n",
    "    \n",
    "    \n",
    "    date_locs = pd.DataFrame(date_locs, columns = ['cell_id', 'date', 'lat', 'lon'])       \n",
    "    date_locs['date_long'] = date_locs['date'].map(daynum_gen)\n",
    "    \n",
    "    return date_locs"
   ]
  },
  {
   "cell_type": "markdown",
   "id": "13049da6",
   "metadata": {},
   "source": [
    "## Submission dataset"
   ]
  },
  {
   "cell_type": "code",
   "execution_count": 7,
   "id": "8306d2f2",
   "metadata": {
    "scrolled": true
   },
   "outputs": [
    {
     "name": "stdout",
     "output_type": "stream",
     "text": [
      "(20759, 26)\n",
      "(5189, 26)\n",
      "(5190, 26)\n",
      "(5190, 26)\n",
      "(5190, 26)\n"
     ]
    }
   ],
   "source": [
    "q1 = int(submission.shape[0]/4)\n",
    "q2 = int(submission.shape[0]/2)\n",
    "q3 = int(submission.shape[0]/4*3)\n",
    "\n",
    "print(submission.shape)\n",
    "print(submission.iloc[0:q1].shape)\n",
    "print(submission.iloc[q1:q2].shape)\n",
    "print(submission.iloc[q2:q3].shape)\n",
    "print(submission.iloc[q3:].shape)\n",
    "\n",
    "\n",
    "sub_all = [submission.iloc[0:q1], submission.iloc[q1:q2],\n",
    "           submission.iloc[q2:q3],submission.iloc[q3:]]"
   ]
  },
  {
   "cell_type": "code",
   "execution_count": 8,
   "id": "cbd58b15",
   "metadata": {},
   "outputs": [
    {
     "data": {
      "application/vnd.jupyter.widget-view+json": {
       "model_id": "f215f353ab17430b9297355300af1679",
       "version_major": 2,
       "version_minor": 0
      },
      "text/plain": [
       "  0%|          | 0/5189 [00:00<?, ?it/s]"
      ]
     },
     "metadata": {},
     "output_type": "display_data"
    },
    {
     "name": "stdout",
     "output_type": "stream",
     "text": [
      "(5189, 5)\n"
     ]
    },
    {
     "data": {
      "application/vnd.jupyter.widget-view+json": {
       "model_id": "c5cf82e505cc4130b260e4b8ae134ca1",
       "version_major": 2,
       "version_minor": 0
      },
      "text/plain": [
       "  0%|          | 0/5190 [00:00<?, ?it/s]"
      ]
     },
     "metadata": {},
     "output_type": "display_data"
    },
    {
     "name": "stdout",
     "output_type": "stream",
     "text": [
      "(5190, 5)\n"
     ]
    },
    {
     "data": {
      "application/vnd.jupyter.widget-view+json": {
       "model_id": "385b8655416746d18699119d80a13c41",
       "version_major": 2,
       "version_minor": 0
      },
      "text/plain": [
       "  0%|          | 0/5190 [00:00<?, ?it/s]"
      ]
     },
     "metadata": {},
     "output_type": "display_data"
    },
    {
     "name": "stdout",
     "output_type": "stream",
     "text": [
      "(5190, 5)\n"
     ]
    },
    {
     "data": {
      "application/vnd.jupyter.widget-view+json": {
       "model_id": "25a8e348cc23450f9ccc6f035c84e177",
       "version_major": 2,
       "version_minor": 0
      },
      "text/plain": [
       "  0%|          | 0/5190 [00:00<?, ?it/s]"
      ]
     },
     "metadata": {},
     "output_type": "display_data"
    },
    {
     "name": "stdout",
     "output_type": "stream",
     "text": [
      "(5190, 5)\n"
     ]
    }
   ],
   "source": [
    "for i, ds in enumerate(sub_all):\n",
    "    date_loc_sub = date_loc_gen(ds)\n",
    "\n",
    "    date_loc_sub  = date_loc_sub.sort_values(\"date_long\")\n",
    "    print(date_loc_sub.shape)\n",
    "\n",
    "    #note no filtering is needed because these are later dates\n",
    "\n",
    "    sent_path = \"C:/Users/Matt/Dropbox/SnowComp/SentinelHelper/realtime/\"\n",
    "    date_loc_sub.to_csv(sent_path + \"sub_dateloc\"+ \"{}of{}_\".format(i+1,len(sub_all))+DATE+\n",
    "                        \".csv\", index= False)"
   ]
  }
 ],
 "metadata": {
  "kernelspec": {
   "display_name": "Python 3 (ipykernel)",
   "language": "python",
   "name": "python3"
  },
  "language_info": {
   "codemirror_mode": {
    "name": "ipython",
    "version": 3
   },
   "file_extension": ".py",
   "mimetype": "text/x-python",
   "name": "python",
   "nbconvert_exporter": "python",
   "pygments_lexer": "ipython3",
   "version": "3.9.7"
  }
 },
 "nbformat": 4,
 "nbformat_minor": 5
}
