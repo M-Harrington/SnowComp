{
 "cells": [
  {
   "cell_type": "code",
   "execution_count": null,
   "id": "4058d434",
   "metadata": {},
   "outputs": [],
   "source": [
    "import pandas as pd\n",
    "import numpy as np\n",
    "import matplotlib.pyplot as plt\n",
    "import matplotlib.cm as cm\n",
    "\n",
    "import pickle\n",
    "import random\n",
    "\n",
    "rng = np.random.default_rng(926334)"
   ]
  },
  {
   "cell_type": "code",
   "execution_count": null,
   "id": "140051bf",
   "metadata": {},
   "outputs": [],
   "source": [
    "ROOT = 'C:/Users/Matt/Documents/Python Scripts/SnowComp/realtime/'\n",
    "MODIS_CNN_PATH = ROOT + 'model_32_18_8_3_0.13_50_1399_0.0001' #'modis_model'\n",
    "\n",
    "import sys\n",
    "sys.path.append(ROOT)\n",
    "\n",
    "import torch\n",
    "import captum.attr as attrib\n",
    "from modis_cnn import Net as ModisNet\n",
    "\n",
    "net_kwargs = {'cdim1': 32,\n",
    "              'cdim2': 18,\n",
    "              'cdim3': 8,\n",
    "              'kernel_sz': 3,\n",
    "              'dropout': 0.13,\n",
    "              'ldim': 50}\n",
    "\n",
    "\n",
    "modis_net = ModisNet(**net_kwargs)\n",
    "modis_net.load_state_dict(torch.load(MODIS_CNN_PATH))"
   ]
  },
  {
   "cell_type": "markdown",
   "id": "9f8dd81a",
   "metadata": {},
   "source": [
    "## Make dropout predictions and estimations of uncertainty"
   ]
  },
  {
   "cell_type": "code",
   "execution_count": null,
   "id": "d1f2c075",
   "metadata": {},
   "outputs": [],
   "source": []
  }
 ],
 "metadata": {
  "kernelspec": {
   "display_name": "Python 3 (ipykernel)",
   "language": "python",
   "name": "python3"
  },
  "language_info": {
   "codemirror_mode": {
    "name": "ipython",
    "version": 3
   },
   "file_extension": ".py",
   "mimetype": "text/x-python",
   "name": "python",
   "nbconvert_exporter": "python",
   "pygments_lexer": "ipython3",
   "version": "3.9.7"
  }
 },
 "nbformat": 4,
 "nbformat_minor": 5
}
