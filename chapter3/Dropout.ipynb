{
 "cells": [
  {
   "cell_type": "code",
   "execution_count": 37,
   "id": "1cffb22a",
   "metadata": {},
   "outputs": [],
   "source": [
    "import pandas as pd\n",
    "import numpy as np\n",
    "import matplotlib.pyplot as plt\n",
    "import matplotlib.cm as cm\n",
    "from torch.utils.data import TensorDataset, DataLoader\n",
    "from tqdm.notebook import trange, tqdm\n",
    "\n",
    "import pickle\n",
    "import random\n",
    "\n",
    "rng = np.random.default_rng(926334)\n",
    "np.set_printoptions(suppress=True)"
   ]
  },
  {
   "cell_type": "code",
   "execution_count": 16,
   "id": "57fb16c5",
   "metadata": {
    "collapsed": true
   },
   "outputs": [
    {
     "name": "stdout",
     "output_type": "stream",
     "text": [
      "c1 dim: 19\n",
      "mp0 dim: 17\n",
      "c2 dim: 15\n",
      "mp1 dim: 13\n",
      "c3 dim: 11\n",
      "mp2 dim: 9\n",
      "flattened_dim 648\n"
     ]
    },
    {
     "data": {
      "text/plain": [
       "Net(\n",
       "  (conv1): Conv2d(2, 32, kernel_size=(3, 3), stride=(1, 1))\n",
       "  (avgpool): AvgPool2d(kernel_size=3, stride=1, padding=0)\n",
       "  (conv2): Conv2d(32, 18, kernel_size=(3, 3), stride=(1, 1))\n",
       "  (conv3): Conv2d(18, 8, kernel_size=(3, 3), stride=(1, 1))\n",
       "  (fc1): Linear(in_features=648, out_features=50, bias=True)\n",
       "  (fc2): Linear(in_features=50, out_features=1, bias=True)\n",
       "  (dropout1): Dropout2d(p=0.13, inplace=False)\n",
       "  (dropout2): Dropout2d(p=0.26, inplace=False)\n",
       "  (BatchNorm1): BatchNorm2d(32, eps=1e-05, momentum=0.1, affine=True, track_running_stats=True)\n",
       "  (BatchNorm3): BatchNorm2d(8, eps=1e-05, momentum=0.1, affine=True, track_running_stats=True)\n",
       ")"
      ]
     },
     "execution_count": 16,
     "metadata": {},
     "output_type": "execute_result"
    }
   ],
   "source": [
    "ROOT = 'C:/Users/Matt/Documents/Python Scripts/SnowComp/realtime/'\n",
    "MODIS_CNN_PATH = ROOT + 'model_32_18_8_3_0.13_50_1399_0.0001' #'modis_model'\n",
    "\n",
    "import sys\n",
    "sys.path.append(ROOT)\n",
    "\n",
    "import torch\n",
    "import captum.attr as attrib\n",
    "from modis_cnn import Net as ModisNet\n",
    "\n",
    "net_kwargs = {'cdim1': 32,\n",
    "              'cdim2': 18,\n",
    "              'cdim3': 8,\n",
    "              'kernel_sz': 3,\n",
    "              'dropout': 0.13,\n",
    "              'ldim': 50}\n",
    "\n",
    "\n",
    "modis_net = ModisNet(**net_kwargs)\n",
    "modis_net.load_state_dict(torch.load(MODIS_CNN_PATH))\n",
    "\n",
    "device = torch.device(\"cuda:0\" if torch.cuda.is_available() else \"cpu\")\n",
    "modis_net.to(device)\n",
    "\n",
    "modis_net.train()\n",
    "print(\"model is in Training mode\")"
   ]
  },
  {
   "cell_type": "code",
   "execution_count": 5,
   "id": "5ee9c899",
   "metadata": {},
   "outputs": [],
   "source": [
    "data_path = \"C:/Users/Matt/Dropbox/SnowComp/FinalData/\"\n",
    "\n",
    "y_train  = pd.read_csv(data_path + \"train_y.csv\")\n",
    "y_test  = pd.read_csv(data_path + \"test_y.csv\")\n",
    "\n",
    "x_train = np.load(data_path + \"train_dataset.npy\")\n",
    "x_test = np.load(data_path + \"test_datast.npy\")"
   ]
  },
  {
   "cell_type": "markdown",
   "id": "42b8a569",
   "metadata": {},
   "source": [
    "## Make dropout predictions and estimations of uncertainty"
   ]
  },
  {
   "cell_type": "code",
   "execution_count": 35,
   "id": "5150e5e5",
   "metadata": {},
   "outputs": [],
   "source": [
    "#@title Get Modis CNN predictions\n",
    "def dout_predict(cnn, x): \n",
    "    x = torch.Tensor(x).type(torch.FloatTensor)\n",
    "    \n",
    "    cnn.train()    \n",
    "    vals_sub = []\n",
    "    \n",
    "    x = TensorDataset(x)\n",
    "    sub_loader = DataLoader(x, batch_size=5000)\n",
    "    with torch.no_grad():\n",
    "        for images in sub_loader:\n",
    "            images = images[0].to(device)\n",
    "            vals_sub.append(cnn(images).cpu().numpy())\n",
    "            \n",
    "    vals_sub = np.concatenate(vals_sub, axis = 0)    \n",
    "    \n",
    "    return vals_sub.squeeze()"
   ]
  },
  {
   "cell_type": "code",
   "execution_count": 38,
   "id": "b54bc7bc",
   "metadata": {
    "scrolled": true
   },
   "outputs": [
    {
     "data": {
      "application/vnd.jupyter.widget-view+json": {
       "model_id": "6091942f96f74b979a72187607d34ff3",
       "version_major": 2,
       "version_minor": 0
      },
      "text/plain": [
       "  0%|          | 0/50 [00:00<?, ?it/s]"
      ]
     },
     "metadata": {},
     "output_type": "display_data"
    }
   ],
   "source": [
    "preds = np.zeros((x_train.shape[0], 50))\n",
    "for i in trange(50):\n",
    "    preds_train[:,i] = dout_predict(modis_net, x_train)\n",
    "np.save(\"C:/Users/Matt/Dropbox/SnowComp/FinalData/DropoutPredsTrain.npy\", preds_train)"
   ]
  },
  {
   "cell_type": "code",
   "execution_count": 42,
   "id": "0de50648",
   "metadata": {
    "scrolled": true
   },
   "outputs": [
    {
     "data": {
      "application/vnd.jupyter.widget-view+json": {
       "model_id": "ac879dd1c1064beb8ff1588bb6a4c2ef",
       "version_major": 2,
       "version_minor": 0
      },
      "text/plain": [
       "  0%|          | 0/50 [00:00<?, ?it/s]"
      ]
     },
     "metadata": {},
     "output_type": "display_data"
    }
   ],
   "source": [
    "preds_test = np.zeros((x_test.shape[0], 50))\n",
    "for i in trange(50):\n",
    "    preds_test[:,i] = dout_predict(modis_net, x_test)\n",
    "np.save(\"C:/Users/Matt/Dropbox/SnowComp/FinalData/DropoutPredsTest.npy\", preds_test)"
   ]
  },
  {
   "cell_type": "code",
   "execution_count": null,
   "id": "26288f4f",
   "metadata": {},
   "outputs": [],
   "source": [
    "\n",
    "\n",
    "\n",
    "\n",
    "\n",
    "\n",
    "\n",
    "\n",
    "\n",
    "\n",
    "\n",
    "\n",
    "\n",
    "\n",
    "\n",
    "\n",
    "\n",
    "\n",
    "\n",
    "\n",
    "\n",
    "\n",
    "\n",
    "\n",
    "\n",
    "\n",
    "\n"
   ]
  }
 ],
 "metadata": {
  "kernelspec": {
   "display_name": "Python 3 (ipykernel)",
   "language": "python",
   "name": "python3"
  },
  "language_info": {
   "codemirror_mode": {
    "name": "ipython",
    "version": 3
   },
   "file_extension": ".py",
   "mimetype": "text/x-python",
   "name": "python",
   "nbconvert_exporter": "python",
   "pygments_lexer": "ipython3",
   "version": "3.9.7"
  }
 },
 "nbformat": 4,
 "nbformat_minor": 5
}
