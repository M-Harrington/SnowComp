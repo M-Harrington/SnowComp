{
 "cells": [
  {
   "cell_type": "code",
   "execution_count": 3,
   "id": "54f7be28",
   "metadata": {},
   "outputs": [],
   "source": [
    "import pandas as pd\n",
    "import numpy as np\n",
    "import matplotlib.pyplot as plt\n",
    "import matplotlib.cm as cm\n",
    "\n",
    "import pickle\n",
    "import random\n",
    "\n",
    "rng = np.random.default_rng(926334)"
   ]
  },
  {
   "cell_type": "code",
   "execution_count": 4,
   "id": "f122d5c1",
   "metadata": {},
   "outputs": [
    {
     "name": "stdout",
     "output_type": "stream",
     "text": [
      "c1 dim: 19\n",
      "mp0 dim: 17\n",
      "c2 dim: 15\n",
      "mp1 dim: 13\n",
      "c3 dim: 11\n",
      "mp2 dim: 9\n",
      "flattened_dim 648\n"
     ]
    },
    {
     "data": {
      "text/plain": [
       "<All keys matched successfully>"
      ]
     },
     "execution_count": 4,
     "metadata": {},
     "output_type": "execute_result"
    }
   ],
   "source": [
    "ROOT = 'C:/Users/Matt/Documents/Python Scripts/SnowComp/realtime/'\n",
    "MODIS_CNN_PATH = ROOT + 'model_32_18_8_3_0.13_50_1399_0.0001' #'modis_model'\n",
    "\n",
    "import sys\n",
    "sys.path.append(ROOT)\n",
    "\n",
    "import torch\n",
    "import captum.attr as attrib\n",
    "from modis_cnn import Net as ModisNet\n",
    "\n",
    "net_kwargs = {'cdim1': 32,\n",
    "              'cdim2': 18,\n",
    "              'cdim3': 8,\n",
    "              'kernel_sz': 3,\n",
    "              'dropout': 0.13,\n",
    "              'ldim': 50}\n",
    "\n",
    "\n",
    "modis_net = ModisNet(**net_kwargs)\n",
    "modis_net.load_state_dict(torch.load(MODIS_CNN_PATH))"
   ]
  },
  {
   "cell_type": "code",
   "execution_count": null,
   "id": "b69ea106",
   "metadata": {},
   "outputs": [],
   "source": []
  },
  {
   "cell_type": "markdown",
   "id": "af0b0d64",
   "metadata": {},
   "source": [
    "## Make dropout predictions and estimations of uncertainty"
   ]
  },
  {
   "cell_type": "code",
   "execution_count": 2,
   "id": "9ac44471",
   "metadata": {},
   "outputs": [],
   "source": [
    "#@title Get Modis CNN predictions\n",
    "def dout_predict(cnn, x, as_numpy=False):\n",
    "    device = torch.device(\"cuda:0\" if torch.cuda.is_available() else \"cpu\")\n",
    "    cnn.train()\n",
    "    print(\"model is in Training mode\")\n",
    "    \n",
    "    x = x.type(torch.FloatTensor)\n",
    "    \n",
    "    vals_sub = []\n",
    "    \n",
    "    x = TensorDataset(x)\n",
    "    sub_loader = DataLoader(x, batch_size=5000)\n",
    "    with torch.no_grad():\n",
    "        for images in sub_loader:\n",
    "            images = images[0].to(device)\n",
    "            vals_sub.append(cnn(images).cpu().numpy())\n",
    "            \n",
    "    vals_sub = np.concatenate(vals_sub, axis = 0)    \n",
    "    \n",
    "    return vals_sub.squeeze()"
   ]
  },
  {
   "cell_type": "code",
   "execution_count": null,
   "id": "548dec49",
   "metadata": {},
   "outputs": [],
   "source": []
  },
  {
   "cell_type": "code",
   "execution_count": null,
   "id": "8469c159",
   "metadata": {},
   "outputs": [],
   "source": [
    "\n",
    "\n",
    "\n",
    "\n",
    "\n",
    "\n",
    "\n",
    "\n",
    "\n",
    "\n",
    "\n",
    "\n",
    "\n",
    "\n",
    "\n",
    "\n",
    "\n",
    "\n",
    "\n",
    "\n",
    "\n",
    "\n",
    "\n",
    "\n",
    "\n",
    "\n",
    "\n"
   ]
  }
 ],
 "metadata": {
  "kernelspec": {
   "display_name": "Python 3 (ipykernel)",
   "language": "python",
   "name": "python3"
  },
  "language_info": {
   "codemirror_mode": {
    "name": "ipython",
    "version": 3
   },
   "file_extension": ".py",
   "mimetype": "text/x-python",
   "name": "python",
   "nbconvert_exporter": "python",
   "pygments_lexer": "ipython3",
   "version": "3.9.7"
  }
 },
 "nbformat": 4,
 "nbformat_minor": 5
}
