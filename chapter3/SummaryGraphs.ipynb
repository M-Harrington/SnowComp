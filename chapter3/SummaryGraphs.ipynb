{
 "cells": [
  {
   "cell_type": "code",
   "execution_count": 30,
   "id": "2941acdf",
   "metadata": {},
   "outputs": [],
   "source": [
    "import pandas as pd\n",
    "import numpy as np\n",
    "import matplotlib.pyplot as plt\n",
    "import matplotlib.cm as cm\n",
    "\n",
    "import pickle\n",
    "import random \n",
    "\n",
    "rng = np.random.default_rng(926334)\n",
    "\n",
    "#labels helpers and processing\n",
    "def pivot_df(df, id_col, ignore_cols=None):\n",
    "    if not ignore_cols:\n",
    "        ignore_cols = []\n",
    "    date_cols = [x for x in df.columns if x not in [id_col] + ignore_cols]\n",
    "    dfs = []\n",
    "    for day in date_cols:\n",
    "        day_df = df[[id_col, day]].rename({day: 'snowpack'}, axis=1)\n",
    "        day_df['date'] = day\n",
    "        dfs.append(day_df)\n",
    "    return pd.concat(dfs)\n",
    "\n",
    "def daynum_gen(date_time):\n",
    "    '''converts date time objects to filename'''\n",
    "    date_time = datetime.fromisoformat(date_time)\n",
    "    doy = date_time.timetuple().tm_yday\n",
    "    year = date_time.year\n",
    "    return str(year) + '{:03d}'.format(doy)"
   ]
  },
  {
   "cell_type": "markdown",
   "id": "256e0555",
   "metadata": {},
   "source": [
    "Load data"
   ]
  },
  {
   "cell_type": "code",
   "execution_count": 2,
   "id": "49e75382",
   "metadata": {},
   "outputs": [],
   "source": [
    "data_path = \"C:/Users/Matt/Dropbox/SnowComp/FinalData/\"\n",
    "\n",
    "y_train  = pd.read_csv(data_path + \"train_y.csv\")\n",
    "y_test  = pd.read_csv(data_path + \"test_y.csv\")\n",
    "\n",
    "x_train = np.load(data_path + \"train_dataset.npy\")\n",
    "x_test = np.load(data_path + \"test_datast.npy\")"
   ]
  },
  {
   "cell_type": "markdown",
   "id": "62d4c9b9",
   "metadata": {},
   "source": [
    "## Image pixel value distribution"
   ]
  },
  {
   "cell_type": "code",
   "execution_count": 18,
   "id": "cb52b106",
   "metadata": {
    "collapsed": true
   },
   "outputs": [
    {
     "data": {
      "text/plain": [
       "array([[0.        , 0.        , 0.        , 0.        , 0.        ,\n",
       "        0.        , 0.        , 0.98039216, 0.98039216, 0.98039216,\n",
       "        0.27843137, 0.21568627, 0.21568627, 0.78823529, 0.        ,\n",
       "        0.        , 0.        , 0.        , 0.        , 0.        ,\n",
       "        0.        ],\n",
       "       [0.        , 0.92941176, 0.92941176, 0.        , 0.        ,\n",
       "        0.        , 0.        , 0.        , 0.78823529, 0.19215686,\n",
       "        0.26666667, 0.26666667, 0.16078431, 0.        , 0.        ,\n",
       "        0.        , 0.        , 0.        , 0.        , 0.        ,\n",
       "        0.        ],\n",
       "       [0.        , 0.92941176, 0.92941176, 0.        , 0.        ,\n",
       "        0.        , 0.        , 0.        , 0.        , 0.        ,\n",
       "        0.78823529, 0.78823529, 0.        , 0.        , 0.        ,\n",
       "        0.        , 0.        , 0.        , 0.        , 0.        ,\n",
       "        0.        ],\n",
       "       [0.92941176, 0.92941176, 0.92941176, 0.92941176, 0.92941176,\n",
       "        0.92941176, 0.78823529, 0.        , 0.        , 0.        ,\n",
       "        0.26666667, 0.78823529, 0.78823529, 0.        , 0.        ,\n",
       "        0.        , 0.        , 0.        , 0.        , 0.        ,\n",
       "        0.        ],\n",
       "       [0.92941176, 0.92941176, 0.92941176, 0.92941176, 0.92941176,\n",
       "        0.92941176, 0.92941176, 0.78823529, 0.        , 0.        ,\n",
       "        0.21176471, 0.18823529, 0.78823529, 0.78823529, 0.        ,\n",
       "        0.        , 0.        , 0.        , 0.        , 0.        ,\n",
       "        0.        ],\n",
       "       [0.92941176, 0.78431373, 0.78431373, 0.78431373, 0.78431373,\n",
       "        0.78431373, 0.92941176, 0.        , 0.        , 0.        ,\n",
       "        0.21176471, 0.18431373, 0.78823529, 0.        , 0.        ,\n",
       "        0.        , 0.        , 0.        , 0.        , 0.        ,\n",
       "        0.        ],\n",
       "       [0.92941176, 0.78431373, 0.78431373, 0.92941176, 0.92941176,\n",
       "        0.92941176, 0.92941176, 0.78823529, 0.78823529, 0.23529412,\n",
       "        0.23921569, 0.2745098 , 0.78823529, 0.12941176, 0.21960784,\n",
       "        0.21960784, 0.78823529, 0.        , 0.        , 0.        ,\n",
       "        0.        ],\n",
       "       [0.78431373, 0.78431373, 0.78431373, 0.78431373, 0.92941176,\n",
       "        0.92941176, 0.92941176, 0.78823529, 0.21960784, 0.29803922,\n",
       "        0.32156863, 0.32156863, 0.28627451, 0.23921569, 0.16470588,\n",
       "        0.2       , 0.78823529, 0.78823529, 0.        , 0.        ,\n",
       "        0.        ],\n",
       "       [0.92941176, 0.92941176, 0.78431373, 0.78431373, 0.78431373,\n",
       "        0.78431373, 0.92941176, 0.92941176, 0.0627451 , 0.26666667,\n",
       "        0.26666667, 0.30980392, 0.30588235, 0.27843137, 0.14901961,\n",
       "        0.1372549 , 0.1372549 , 0.        , 0.        , 0.        ,\n",
       "        0.        ],\n",
       "       [0.78431373, 0.78431373, 0.78431373, 0.78431373, 0.78431373,\n",
       "        0.78431373, 0.78431373, 0.92941176, 0.78823529, 0.78823529,\n",
       "        0.18039216, 0.25490196, 0.25490196, 0.23529412, 0.24313725,\n",
       "        0.24313725, 0.14509804, 0.05882353, 0.        , 0.        ,\n",
       "        0.        ],\n",
       "       [0.78431373, 0.78431373, 0.78431373, 0.78431373, 0.78431373,\n",
       "        0.78431373, 0.78823529, 0.        , 0.78823529, 0.78823529,\n",
       "        0.2745098 , 0.2745098 , 0.23529412, 0.78823529, 0.20392157,\n",
       "        0.0627451 , 0.        , 0.        , 0.        , 0.        ,\n",
       "        0.        ],\n",
       "       [0.78431373, 0.78431373, 0.78431373, 0.78431373, 0.78431373,\n",
       "        0.92941176, 0.        , 0.        , 0.78823529, 0.33333333,\n",
       "        0.3254902 , 0.34117647, 0.34117647, 0.3254902 , 0.3254902 ,\n",
       "        0.10196078, 0.10196078, 0.        , 0.78823529, 0.        ,\n",
       "        0.        ],\n",
       "       [0.92941176, 0.92941176, 0.92941176, 0.78431373, 0.78431373,\n",
       "        0.92941176, 0.92941176, 0.78823529, 0.78823529, 0.24313725,\n",
       "        0.24313725, 0.27058824, 0.27058824, 0.29803922, 0.25882353,\n",
       "        0.25882353, 0.78823529, 0.        , 0.        , 0.        ,\n",
       "        0.        ],\n",
       "       [0.78431373, 0.78431373, 0.92941176, 0.92941176, 0.92941176,\n",
       "        0.92941176, 0.78823529, 0.        , 0.        , 0.        ,\n",
       "        0.18431373, 0.24705882, 0.2745098 , 0.2745098 , 0.30588235,\n",
       "        0.21568627, 0.16078431, 0.        , 0.        , 0.        ,\n",
       "        0.        ],\n",
       "       [0.92941176, 0.92941176, 0.92941176, 0.92941176, 0.78823529,\n",
       "        0.78823529, 0.        , 0.        , 0.        , 0.78823529,\n",
       "        0.98039216, 0.98039216, 0.98039216, 0.14901961, 0.15686275,\n",
       "        0.        , 0.        , 0.        , 0.        , 0.        ,\n",
       "        0.        ],\n",
       "       [0.92941176, 0.92941176, 0.92941176, 0.78431373, 0.92941176,\n",
       "        0.78823529, 0.78823529, 0.        , 0.        , 0.78823529,\n",
       "        0.78823529, 0.78823529, 0.        , 0.        , 0.        ,\n",
       "        0.        , 0.        , 0.        , 0.        , 0.        ,\n",
       "        0.        ],\n",
       "       [0.78431373, 0.78431373, 0.78431373, 0.78431373, 0.        ,\n",
       "        0.        , 0.        , 0.78823529, 0.78823529, 0.78823529,\n",
       "        0.78823529, 0.78823529, 0.        , 0.        , 0.        ,\n",
       "        0.        , 0.        , 0.        , 0.        , 0.        ,\n",
       "        0.        ],\n",
       "       [0.78431373, 0.92941176, 0.92941176, 0.92941176, 0.        ,\n",
       "        0.        , 0.        , 0.        , 0.        , 0.        ,\n",
       "        0.        , 0.        , 0.        , 0.        , 0.        ,\n",
       "        0.        , 0.        , 0.        , 0.        , 0.        ,\n",
       "        0.        ],\n",
       "       [0.92941176, 0.78431373, 0.78431373, 0.92941176, 0.        ,\n",
       "        0.        , 0.        , 0.        , 0.        , 0.        ,\n",
       "        0.        , 0.78823529, 0.        , 0.        , 0.        ,\n",
       "        0.        , 0.        , 0.        , 0.        , 0.        ,\n",
       "        0.05098039],\n",
       "       [0.92941176, 0.92941176, 0.92941176, 0.92941176, 0.92941176,\n",
       "        0.        , 0.        , 0.        , 0.78823529, 0.78823529,\n",
       "        0.78823529, 0.78823529, 0.78823529, 0.        , 0.        ,\n",
       "        0.        , 0.        , 0.        , 0.        , 0.        ,\n",
       "        0.        ],\n",
       "       [0.78431373, 0.78431373, 0.78431373, 0.78431373, 0.92941176,\n",
       "        0.92941176, 0.        , 0.        , 0.        , 0.        ,\n",
       "        0.        , 0.78823529, 0.78823529, 0.78823529, 0.78823529,\n",
       "        0.        , 0.        , 0.        , 0.        , 0.        ,\n",
       "        0.        ]])"
      ]
     },
     "execution_count": 18,
     "metadata": {},
     "output_type": "execute_result"
    }
   ],
   "source": [
    "x_train[0,1]"
   ]
  },
  {
   "cell_type": "code",
   "execution_count": 47,
   "id": "272a0fab",
   "metadata": {},
   "outputs": [
    {
     "data": {
      "image/png": "[encoded data removed]",
      "text/plain": [
       "<Figure size 720x504 with 1 Axes>"
      ]
     },
     "metadata": {
      "needs_background": "light"
     },
     "output_type": "display_data"
    }
   ],
   "source": [
    "fig, ax = plt.subplots(figsize = (10,7))\n",
    "ax.hist(x_train.flatten()*255,\n",
    "        weights = np.ones_like(x_train.flatten()) / x_train.flatten().size*100,\n",
    "        bins = 15, edgecolor='black', linewidth=1.1)\n",
    "ax.ticklabel_format(style='plain')\n",
    "ax.set_ylabel(\"Percentage of Data\", fontsize= 16)\n",
    "ax.set_xlabel(\"Pixel Value\", fontsize= 16)\n",
    "ax.set_title(\"Training Data\", fontsize= 16)\n",
    "plt.show()"
   ]
  },
  {
   "cell_type": "code",
   "execution_count": 48,
   "id": "d6b210bb",
   "metadata": {
    "scrolled": true
   },
   "outputs": [
    {
     "data": {
      "image/png": "[encoded data removed]",
      "text/plain": [
       "<Figure size 720x504 with 1 Axes>"
      ]
     },
     "metadata": {
      "needs_background": "light"
     },
     "output_type": "display_data"
    }
   ],
   "source": [
    "fig, ax = plt.subplots(figsize = (10,7))\n",
    "ax.hist(x_test.flatten()*255,\n",
    "        weights = np.ones_like(x_test.flatten()) / x_test.flatten().size*100,\n",
    "        bins = 15, edgecolor='black', linewidth=1.1)\n",
    "ax.ticklabel_format(style='plain')\n",
    "ax.set_ylabel(\"Percentage of Data\", fontsize= 16)\n",
    "ax.set_xlabel(\"Pixel Value\", fontsize= 16)\n",
    "ax.set_title(\"Testing Data\", fontsize= 16)\n",
    "plt.show()"
   ]
  },
  {
   "cell_type": "code",
   "execution_count": 57,
   "id": "23cb626d",
   "metadata": {},
   "outputs": [
    {
     "data": {
      "text/plain": [
       "0.5567"
      ]
     },
     "execution_count": 57,
     "metadata": {},
     "output_type": "execute_result"
    }
   ],
   "source": [
    "#percentage more than 100 (55.67%)\n",
    "\n",
    "round(((x_test.flatten()*255 > 100).sum() +(x_train.flatten()*255 > 100).sum())/(\n",
    "    len(x_train.flatten()) + len(x_test.flatten())), 4)"
   ]
  },
  {
   "cell_type": "markdown",
   "id": "583ccd20",
   "metadata": {},
   "source": [
    "## How many have both Aqua and Terra images on one day"
   ]
  },
  {
   "cell_type": "code",
   "execution_count": 83,
   "id": "3b56a27a",
   "metadata": {},
   "outputs": [
    {
     "data": {
      "image/png": "[encoded data removed]",
      "text/plain": [
       "<Figure size 720x504 with 1 Axes>"
      ]
     },
     "metadata": {
      "needs_background": "light"
     },
     "output_type": "display_data"
    }
   ],
   "source": [
    "#aqua average pixel value\n",
    "plt_data = (np.vstack((x_train, x_test))*255).mean(axis = (2,3))\n",
    "\n",
    "fig, ax = plt.subplots(figsize = (10,7))\n",
    "\n",
    "bins = np.linspace(0, 256, 20)\n",
    "\n",
    "ax.hist(plt_data[:,0], bins, alpha=0.5, label='Terra',\n",
    "        edgecolor='black', linewidth=1.05)\n",
    "ax.hist(plt_data[:,1], bins, alpha=0.5, label='Aqua',\n",
    "        edgecolor='black', linewidth=1.05)\n",
    "\n",
    "ax.ticklabel_format(style='plain')\n",
    "ax.set_ylabel(\"Number of Images\", fontsize= 16)\n",
    "ax.set_xlabel(\"Pixel Value\", fontsize= 16)\n",
    "ax.set_title(\"Average Pixel Value Per Image\", fontsize= 16)\n",
    "\n",
    "ax.legend(fontsize = 12)\n",
    "plt.show()"
   ]
  },
  {
   "cell_type": "code",
   "execution_count": 84,
   "id": "b983d6fe",
   "metadata": {},
   "outputs": [
    {
     "name": "stdout",
     "output_type": "stream",
     "text": [
      "less than 1: [4.10056432 3.2918328 ]\n",
      "greater than 249: [22.73677376 21.48409714]\n",
      "greater than 100: [57.67237071 68.52075452]\n"
     ]
    }
   ],
   "source": [
    "total = plt_data.shape[0]\n",
    "\n",
    "#how many 0, how many 250+?\n",
    "print(\"less than 1:\", (plt_data < 1).sum(axis=0)/total*100)\n",
    "print(\"greater than 249:\", (plt_data > 249).sum(axis=0)/total*100)\n",
    "print(\"greater than 100:\", (plt_data > 100).sum(axis=0)/total*100)"
   ]
  },
  {
   "cell_type": "markdown",
   "id": "9f95090e",
   "metadata": {},
   "source": [
    "## Within-image Missingness histogram"
   ]
  },
  {
   "cell_type": "code",
   "execution_count": 91,
   "id": "d0e2fa3b",
   "metadata": {
    "scrolled": true
   },
   "outputs": [
    {
     "data": {
      "image/png": "[encoded data removed]",
      "text/plain": [
       "<Figure size 720x504 with 1 Axes>"
      ]
     },
     "metadata": {
      "needs_background": "light"
     },
     "output_type": "display_data"
    }
   ],
   "source": [
    "plt_data = ((np.vstack((x_train, x_test))*255 > 100) |\n",
    " (np.vstack((x_train, x_test))*255 < 1)).sum(axis = (1,2,3))/(21*21*2)\n",
    "\n",
    "\n",
    "fig, ax = plt.subplots(figsize = (10,7))\n",
    "ax.hist(plt_data.flatten(),\n",
    "        weights = np.ones_like(plt_data) / plt_data.size*100,\n",
    "        bins = 15, edgecolor='black', linewidth=1.1)\n",
    "ax.ticklabel_format(style='plain')\n",
    "ax.set_ylabel(\"Percentage of Data\", fontsize= 16)\n",
    "ax.set_xlabel(\"Percent Missing Pixels Per Image\", fontsize= 16)\n",
    "ax.set_title(\"Within-Image Missingness\", fontsize= 16)\n",
    "plt.show()"
   ]
  },
  {
   "cell_type": "code",
   "execution_count": 94,
   "id": "609d71e5",
   "metadata": {},
   "outputs": [
    {
     "name": "stdout",
     "output_type": "stream",
     "text": [
      "100% missing: 21.905425468659374\n"
     ]
    }
   ],
   "source": [
    "print(\"100% missing:\", (plt_data > .999).sum()/len(plt_data)*100)"
   ]
  },
  {
   "cell_type": "markdown",
   "id": "8bbdcfa1",
   "metadata": {},
   "source": [
    "## Panel of images + predictions, compared to actual values"
   ]
  },
  {
   "cell_type": "code",
   "execution_count": 45,
   "id": "b5c1f97b",
   "metadata": {},
   "outputs": [
    {
     "name": "stdout",
     "output_type": "stream",
     "text": [
      "c1 dim: 19\n",
      "mp0 dim: 17\n",
      "c2 dim: 15\n",
      "mp1 dim: 13\n",
      "c3 dim: 11\n",
      "mp2 dim: 9\n",
      "flattened_dim 648\n"
     ]
    },
    {
     "data": {
      "text/plain": [
       "<All keys matched successfully>"
      ]
     },
     "execution_count": 45,
     "metadata": {},
     "output_type": "execute_result"
    }
   ],
   "source": [
    "ROOT = 'C:/Users/Matt/Documents/Python Scripts/SnowComp/realtime/'\n",
    "MODIS_CNN_PATH = ROOT + 'model_32_18_8_3_0.13_50_1399_0.0001' #'modis_model'\n",
    "\n",
    "import sys\n",
    "sys.path.append(ROOT)\n",
    "\n",
    "import torch\n",
    "from modis_cnn import Net as ModisNet\n",
    "\n",
    "net_kwargs = {'cdim1': 32,\n",
    "              'cdim2': 18,\n",
    "              'cdim3': 8,\n",
    "              'kernel_sz': 3,\n",
    "              'dropout': 0.13,\n",
    "              'ldim': 50}\n",
    "\n",
    "\n",
    "modis_net = ModisNet(**net_kwargs)\n",
    "modis_net.load_state_dict(torch.load(MODIS_CNN_PATH))"
   ]
  },
  {
   "cell_type": "code",
   "execution_count": 72,
   "id": "677da2d8",
   "metadata": {},
   "outputs": [
    {
     "data": {
      "text/plain": [
       "array(['SNOTEL:520_ID_SNTL', 'SNOTEL:487_MT_SNTL', 'SNOTEL:324_ID_SNTL',\n",
       "       '384f2df2-0974-4092-a2da-42d7750038b1',\n",
       "       'fdeb8912-f9d1-445d-aadb-e943534f67fe', 'SNOTEL:717_CO_SNTL',\n",
       "       'SNOTEL:474_UT_SNTL', 'd04ccae0-5fc0-4f96-bf1b-44a676b3b49e'],\n",
       "      dtype=object)"
      ]
     },
     "execution_count": 72,
     "metadata": {},
     "output_type": "execute_result"
    }
   ],
   "source": [
    "idx = np.random.randint(low=0, high=x_test.shape[0], size=(nsamples,)) \n",
    "y_test.iloc[idx,0].values"
   ]
  },
  {
   "cell_type": "code",
   "execution_count": 70,
   "id": "c070b939",
   "metadata": {},
   "outputs": [
    {
     "data": {
      "text/html": [
       "<div>\n",
       "<style scoped>\n",
       "    .dataframe tbody tr th:only-of-type {\n",
       "        vertical-align: middle;\n",
       "    }\n",
       "\n",
       "    .dataframe tbody tr th {\n",
       "        vertical-align: top;\n",
       "    }\n",
       "\n",
       "    .dataframe thead th {\n",
       "        text-align: right;\n",
       "    }\n",
       "</style>\n",
       "<table border=\"1\" class=\"dataframe\">\n",
       "  <thead>\n",
       "    <tr style=\"text-align: right;\">\n",
       "      <th></th>\n",
       "      <th>cell_id</th>\n",
       "      <th>snowpack</th>\n",
       "      <th>date</th>\n",
       "    </tr>\n",
       "  </thead>\n",
       "  <tbody>\n",
       "    <tr>\n",
       "      <th>523</th>\n",
       "      <td>SNOTEL:457_CO_SNTL</td>\n",
       "      <td>0.0</td>\n",
       "      <td>2018135</td>\n",
       "    </tr>\n",
       "    <tr>\n",
       "      <th>1260</th>\n",
       "      <td>SNOTEL:457_CO_SNTL</td>\n",
       "      <td>17.5</td>\n",
       "      <td>2013106</td>\n",
       "    </tr>\n",
       "    <tr>\n",
       "      <th>2819</th>\n",
       "      <td>SNOTEL:457_CO_SNTL</td>\n",
       "      <td>14.1</td>\n",
       "      <td>2019029</td>\n",
       "    </tr>\n",
       "    <tr>\n",
       "      <th>4587</th>\n",
       "      <td>SNOTEL:457_CO_SNTL</td>\n",
       "      <td>9.9</td>\n",
       "      <td>2019358</td>\n",
       "    </tr>\n",
       "    <tr>\n",
       "      <th>5886</th>\n",
       "      <td>SNOTEL:457_CO_SNTL</td>\n",
       "      <td>9.2</td>\n",
       "      <td>2016362</td>\n",
       "    </tr>\n",
       "    <tr>\n",
       "      <th>...</th>\n",
       "      <td>...</td>\n",
       "      <td>...</td>\n",
       "      <td>...</td>\n",
       "    </tr>\n",
       "    <tr>\n",
       "      <th>219342</th>\n",
       "      <td>SNOTEL:457_CO_SNTL</td>\n",
       "      <td>22.9</td>\n",
       "      <td>2014070</td>\n",
       "    </tr>\n",
       "    <tr>\n",
       "      <th>219987</th>\n",
       "      <td>SNOTEL:457_CO_SNTL</td>\n",
       "      <td>6.0</td>\n",
       "      <td>2016348</td>\n",
       "    </tr>\n",
       "    <tr>\n",
       "      <th>219988</th>\n",
       "      <td>SNOTEL:457_CO_SNTL</td>\n",
       "      <td>6.2</td>\n",
       "      <td>2018009</td>\n",
       "    </tr>\n",
       "    <tr>\n",
       "      <th>220913</th>\n",
       "      <td>SNOTEL:457_CO_SNTL</td>\n",
       "      <td>17.0</td>\n",
       "      <td>2018086</td>\n",
       "    </tr>\n",
       "    <tr>\n",
       "      <th>221123</th>\n",
       "      <td>SNOTEL:457_CO_SNTL</td>\n",
       "      <td>5.9</td>\n",
       "      <td>2018338</td>\n",
       "    </tr>\n",
       "  </tbody>\n",
       "</table>\n",
       "<p>213 rows × 3 columns</p>\n",
       "</div>"
      ],
      "text/plain": [
       "                   cell_id  snowpack     date\n",
       "523     SNOTEL:457_CO_SNTL       0.0  2018135\n",
       "1260    SNOTEL:457_CO_SNTL      17.5  2013106\n",
       "2819    SNOTEL:457_CO_SNTL      14.1  2019029\n",
       "4587    SNOTEL:457_CO_SNTL       9.9  2019358\n",
       "5886    SNOTEL:457_CO_SNTL       9.2  2016362\n",
       "...                    ...       ...      ...\n",
       "219342  SNOTEL:457_CO_SNTL      22.9  2014070\n",
       "219987  SNOTEL:457_CO_SNTL       6.0  2016348\n",
       "219988  SNOTEL:457_CO_SNTL       6.2  2018009\n",
       "220913  SNOTEL:457_CO_SNTL      17.0  2018086\n",
       "221123  SNOTEL:457_CO_SNTL       5.9  2018338\n",
       "\n",
       "[213 rows x 3 columns]"
      ]
     },
     "execution_count": 70,
     "metadata": {},
     "output_type": "execute_result"
    }
   ],
   "source": [
    "y_train[y_train.cell_id == y_test.iloc[idx,0].values[0]]"
   ]
  },
  {
   "cell_type": "markdown",
   "id": "76f63430",
   "metadata": {},
   "source": [
    "### Training\n",
    "\n",
    "Match the training and testing datasets by location in different times"
   ]
  },
  {
   "cell_type": "code",
   "execution_count": 78,
   "id": "83a30eab",
   "metadata": {},
   "outputs": [
    {
     "data": {
      "image/png": "[encoded data removed]",
      "text/plain": [
       "<Figure size 864x432 with 8 Axes>"
      ]
     },
     "metadata": {
      "needs_background": "light"
     },
     "output_type": "display_data"
    }
   ],
   "source": [
    "nsamples = 8\n",
    "\n",
    "idx = np.random.randint(low=0, high=x_test.shape[0], size=(nsamples,))\n",
    "# idx = np.array([176120,  16587, 120640, 172680, 181050, 109652, 118646, 217709]) # good set of train not completely missing days\n",
    "# idx = np.array([  813,  2586,  8527, 47244, 45731, 21826, 10435, 44521]) #decent test set\n",
    "\n",
    "samples = x_test[idx]\n",
    "preds = modis_net(torch.Tensor(x_test[idx])).detach().numpy()\n",
    "actual = y_test.iloc[idx].snowpack.values\n",
    "sites = y_test.iloc[idx,0].values\n",
    "\n",
    "nrows = 2\n",
    "ncols = 4\n",
    "h = 3 * nrows\n",
    "w = 3 * ncols\n",
    "\n",
    "fig, ax = plt.subplots(nrows=nrows, ncols=ncols, figsize=(w, h))\n",
    "\n",
    "for i in range(nsamples):\n",
    "    ii = i // ncols\n",
    "    jj = i % ncols\n",
    "    \n",
    "\n",
    "    which_sat = 0 if (samples[i, 0, :, :]*255 >100).sum() <= (samples[i, 1, :, :]*255 >100).sum() else 1\n",
    "    \n",
    "    samples[i, which_sat, :, :][samples[i, which_sat, :, :] > .395] = np.nan #above 100/255\n",
    "    \n",
    "    current_cmap = cm.get_cmap().copy()\n",
    "    current_cmap.set_bad(color='red')\n",
    "    \n",
    "    ax[ii, jj].imshow(\n",
    "        samples[i, which_sat, :, :], vmin=0, vmax=.395,\n",
    "        cmap = current_cmap\n",
    "    )\n",
    "    \n",
    "    #title would be prediction score vs actual\n",
    "    ax[ii, jj].set_title(\n",
    "        f\"predicted={float(preds[i]):.2f}\\n actual={float(actual[i]):.2f}\\n {sites[i]}\", fontsize=10\n",
    "    )\n",
    "    \n",
    "    ax[ii, jj].axis(\"off\")\n",
    "    \n",
    "fig.subplots_adjust(hspace=0.2, wspace=0.4)\n"
   ]
  },
  {
   "cell_type": "markdown",
   "id": "519005b6",
   "metadata": {},
   "source": [
    "Way more missingness for remote sites?"
   ]
  },
  {
   "cell_type": "code",
   "execution_count": 102,
   "id": "af786fd4",
   "metadata": {},
   "outputs": [
    {
     "name": "stdout",
     "output_type": "stream",
     "text": [
      "testing obs: 38628 of 52400 (73.72%)\n",
      "training obs: 144015 of 221733 (64.95%)\n"
     ]
    }
   ],
   "source": [
    "def is_groundsite(name):\n",
    "    if name[0:4] in {\"CDEC\", \"SNOT\"}:\n",
    "        return True\n",
    "    return False\n",
    "\n",
    "ground_idx_te = y_test.cell_id.map(is_groundsite)\n",
    "print(\"testing obs ground:\",ground_idx_te.sum(), \"of\", len(ground_idx_te), f\"({ground_idx_te.sum()/len(ground_idx_te):.2%})\") \n",
    "\n",
    "ground_idx_tr = y_train.cell_id.map(is_groundsite)\n",
    "print(\"training obs ground:\",ground_idx_tr.sum(), \"of\", len(ground_idx_tr), f\"({ground_idx_tr.sum()/len(ground_idx_tr):.2%})\") "
   ]
  },
  {
   "cell_type": "code",
   "execution_count": 112,
   "id": "e79c02af",
   "metadata": {},
   "outputs": [
    {
     "name": "stdout",
     "output_type": "stream",
     "text": [
      "training pixels missing (Ground):  79925244 of 127021230 (62.92%)\n",
      "testing pixels missing (Ground):  19589920 of 34069896 (57.50%)\n",
      "training pixels missing (ASO):  29808269 of 68547276 (43.49%)\n",
      "testing pixels missing (ASO):  5285374 of 12146904 (43.51%)\n"
     ]
    }
   ],
   "source": [
    "missing_pix = (x_train[ground_idx_tr.values] *255 > 100.1).sum()\n",
    "total_pix = len(x_train[ground_idx_tr.values].flatten())\n",
    "print(\"training pixels missing (Ground): \", missing_pix, \"of\", total_pix, f\"({missing_pix/total_pix:.2%})\") \n",
    "\n",
    "missing_pix = (x_test[ground_idx_te.values] *255 > 100.1).sum()\n",
    "total_pix = len(x_test[ground_idx_te.values].flatten())\n",
    "print(\"testing pixels missing (Ground): \", missing_pix, \"of\", total_pix, f\"({missing_pix/total_pix:.2%})\") \n",
    "\n",
    "missing_pix = (x_train[~ground_idx_tr.values] *255 > 100.1).sum()\n",
    "total_pix = len(x_train[~ground_idx_tr.values].flatten())\n",
    "print(\"training pixels missing (ASO): \", missing_pix, \"of\", total_pix, f\"({missing_pix/total_pix:.2%})\") \n",
    "\n",
    "missing_pix = (x_test[~ground_idx_te.values] *255 > 100.1).sum()\n",
    "total_pix = len(x_test[~ground_idx_te.values].flatten())\n",
    "print(\"testing pixels missing (ASO): \", missing_pix, \"of\", total_pix, f\"({missing_pix/total_pix:.2%})\") "
   ]
  },
  {
   "cell_type": "markdown",
   "id": "3bcfe9d3",
   "metadata": {},
   "source": [
    "Where do all missing images get mapped to?\n",
    "The mean value of the training set?"
   ]
  },
  {
   "cell_type": "code",
   "execution_count": null,
   "id": "2f807e9c",
   "metadata": {},
   "outputs": [],
   "source": [
    "\n",
    "\n",
    "\n",
    "\n",
    "\n",
    "\n",
    "\n",
    "\n",
    "\n",
    "\n",
    "\n",
    "\n",
    "\n",
    "\n",
    "\n",
    "\n",
    "\n",
    "\n",
    "\n",
    "\n",
    "\n",
    "\n",
    "\n",
    "\n",
    "\n",
    "\n",
    "\n",
    "\n",
    "\n",
    "\n",
    "\n",
    "\n",
    "\n",
    "\n",
    "\n",
    "\n",
    "\n",
    "\n",
    "\n",
    "\n",
    "\n",
    "\n",
    "\n",
    "\n",
    "\n",
    "\n",
    "\n"
   ]
  }
 ],
 "metadata": {
  "kernelspec": {
   "display_name": "Python 3 (ipykernel)",
   "language": "python",
   "name": "python3"
  },
  "language_info": {
   "codemirror_mode": {
    "name": "ipython",
    "version": 3
   },
   "file_extension": ".py",
   "mimetype": "text/x-python",
   "name": "python",
   "nbconvert_exporter": "python",
   "pygments_lexer": "ipython3",
   "version": "3.9.7"
  }
 },
 "nbformat": 4,
 "nbformat_minor": 5
}
