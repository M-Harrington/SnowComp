{
  "cells": [
    {
      "cell_type": "markdown",
      "metadata": {
        "id": "view-in-github",
        "colab_type": "text"
      },
      "source": [
        "<a href=\"https://colab.research.google.com/github/M-Harrington/SnowComp/blob/main/baseline_models.ipynb\" target=\"_parent\"><img src=\"https://colab.research.google.com/assets/colab-badge.svg\" alt=\"Open In Colab\"/></a>"
      ]
    },
    {
      "cell_type": "markdown",
      "metadata": {
        "id": "OdJinEYfGAfZ"
      },
      "source": [
        "# Drive"
      ]
    },
    {
      "cell_type": "code",
      "execution_count": null,
      "metadata": {
        "colab": {
          "base_uri": "https://localhost:8080/"
        },
        "id": "P-rSKk25BOni",
        "outputId": "23b8c8c6-e419-45e9-e2d8-e6e16c8d0956",
        "cellView": "form"
      },
      "outputs": [
        {
          "output_type": "stream",
          "name": "stdout",
          "text": [
            "Mounted at /content/drive\n"
          ]
        }
      ],
      "source": [
        "#@title Mount drive\n",
        "from google.colab import drive\n",
        "drive.mount('/content/drive')\n"
      ]
    },
    {
      "cell_type": "code",
      "execution_count": null,
      "metadata": {
        "id": "SOfpo3htBS9M"
      },
      "outputs": [],
      "source": [
        ""
      ]
    },
    {
      "cell_type": "markdown",
      "metadata": {
        "id": "YX6-3_9vGDCe"
      },
      "source": [
        "# Setup"
      ]
    },
    {
      "cell_type": "code",
      "execution_count": null,
      "metadata": {
        "id": "D-VlHUVdeyRw"
      },
      "outputs": [],
      "source": [
        "#@title Installs\n",
        "# Important library for many geopython libraries\n",
        "!apt install gdal-bin python-gdal python3-gdal &> /dev/null\n",
        "# Install rtree - Geopandas requirment\n",
        "!apt install python3-rtree &> /dev/null\n",
        "# Install Geopandas\n",
        "!pip install git+git://github.com/geopandas/geopandas.git &> /dev/null\n",
        "# Install descartes - Geopandas requirment\n",
        "!pip install descartes &> /dev/null\n",
        "!pip install geopandas rioxarray &> /dev/null"
      ]
    },
    {
      "cell_type": "code",
      "execution_count": null,
      "metadata": {
        "id": "WWfdTWVtBXkw"
      },
      "outputs": [],
      "source": [
        "#@title Imports\n",
        "import gdal\n",
        "import itertools\n",
        "import math\n",
        "import os\n",
        "import random\n",
        "import time\n",
        "\n",
        "import numpy as np\n",
        "import geopandas as gpd\n",
        "import pandas as pd\n",
        "\n",
        "from datetime import datetime, timedelta\n",
        "from osgeo import gdal, gdalconst\n",
        "from scipy.interpolate import UnivariateSpline\n",
        "from scipy.stats import pearsonr\n",
        "from sklearn import linear_model, metrics\n",
        "from sklearn.decomposition import PCA\n",
        "from sklearn.model_selection import KFold \n",
        "from sklearn.ensemble import RandomForestClassifier, RandomForestRegressor\n",
        "from sklearn.linear_model import LinearRegression, LogisticRegression\n",
        "\n",
        "import plotly\n",
        "import seaborn as sns\n",
        "import matplotlib.pyplot as plt\n",
        "import plotly.graph_objects as go\n",
        "import plotly.express as px\n",
        "\n",
        "pd.options.mode.chained_assignment = None \n",
        "DATA_PATH = 'drive/MyDrive/fall21/snowcast/data/'\n",
        "WEATHER_DIR = DATA_PATH + 'weather/'\n",
        "PRED_PATH = DATA_PATH + 'predictions/'\n",
        "\n",
        "START_DATE = datetime(2012, 6, 30)\n",
        "END_DATE = datetime(2021, 6, 29)\n",
        "\n",
        "gdal.UseExceptions()"
      ]
    },
    {
      "cell_type": "markdown",
      "metadata": {
        "id": "Alg42J5rOqJ3"
      },
      "source": [
        "# Get main data sources"
      ]
    },
    {
      "cell_type": "code",
      "execution_count": null,
      "metadata": {
        "id": "AkHSH6D09nRg"
      },
      "outputs": [],
      "source": [
        "#@title Read in data\n",
        "metadata = pd.read_csv(DATA_PATH + 'ground_measures_metadata.csv')\n",
        "train_inp = pd.read_csv(DATA_PATH + 'ground_measures_train_features.csv')\n",
        "test_inp = pd.read_csv(DATA_PATH + 'ground_measures_test_features.csv')\n",
        "train_labels = pd.read_csv(DATA_PATH + 'train_labels.csv')\n",
        "grid_cells = gpd.read_file(DATA_PATH + 'grid_cells.geojson')\n",
        "submission_format = gpd.read_file(DATA_PATH + 'submission_format.csv')"
      ]
    },
    {
      "cell_type": "code",
      "execution_count": null,
      "metadata": {
        "id": "-ZxsNj1Da8VX"
      },
      "outputs": [],
      "source": [
        ""
      ]
    },
    {
      "cell_type": "code",
      "execution_count": null,
      "metadata": {
        "colab": {
          "base_uri": "https://localhost:8080/"
        },
        "id": "3qGbn6xMTLpp",
        "outputId": "e5e63fb5-2cc0-45e9-8f50-b855528ae487"
      },
      "outputs": [
        {
          "output_type": "stream",
          "name": "stderr",
          "text": [
            "/usr/local/lib/python3.7/dist-packages/ipykernel_launcher.py:3: UserWarning:\n",
            "\n",
            "CRS mismatch between the CRS of left geometries and the CRS of right geometries.\n",
            "Use `to_crs()` to reproject one of the input geometries to match the CRS of the other.\n",
            "\n",
            "Left CRS: EPSG:4326\n",
            "Right CRS: EPSG:4269\n",
            "\n",
            "\n",
            "/usr/local/lib/python3.7/dist-packages/ipykernel_launcher.py:4: UserWarning:\n",
            "\n",
            "Geometry is in a geographic CRS. Results from 'centroid' are likely incorrect. Use 'GeoSeries.to_crs()' to re-project geometries to a projected CRS before this operation.\n",
            "\n",
            "\n"
          ]
        }
      ],
      "source": [
        "#@title Get metadata for grid cells\n",
        "states = gpd.read_file(DATA_PATH + 'states/cb_2018_us_state_5m.shp')\\\n",
        "    .rename({'NAME': 'state'}, axis=1)\n",
        "cell_metadata = gpd.sjoin(grid_cells, states[['geometry', 'state']])\\\n",
        "    .drop_duplicates(subset='cell_id')\\\n",
        "    .drop(['index_right'], axis=1)\n",
        "cell_metadata['centroid'] = cell_metadata['geometry'].centroid\n",
        "cell_metadata['longitude'] = cell_metadata['centroid'].x\n",
        "cell_metadata['latitude'] = cell_metadata['centroid'].y\n",
        "cell_metadata = cell_metadata[['cell_id', 'state', 'longitude', 'latitude']]"
      ]
    },
    {
      "cell_type": "code",
      "execution_count": null,
      "metadata": {
        "id": "CuwwWHhoTOUs"
      },
      "outputs": [],
      "source": [
        "#@title Format dfs\n",
        "def get_rmse(df, actual='actual_snowpack', predicted='snowpack'):\n",
        "    return ((df[actual] - df[predicted]) ** 2).mean() ** 0.5\n",
        "\n",
        "def pivot_df(df, id_col, ignore_cols=None):\n",
        "    if not ignore_cols:\n",
        "        ignore_cols = []\n",
        "    date_cols = [x for x in df.columns if x not in [id_col] + ignore_cols]\n",
        "    dfs = []\n",
        "    for day in date_cols:\n",
        "        day_df = df[[id_col, day]].rename({day: 'snowpack'}, axis=1)\n",
        "        day_df['date'] = day\n",
        "        dfs.append(day_df)\n",
        "    return pd.concat(dfs)\n",
        "\n",
        "def get_day_of_season(doy):\n",
        "    return doy + 365 - 335 if doy < 335 else doy - 335\n",
        "\n",
        "def add_time_cols(df):\n",
        "    df['date'] = pd.to_datetime(df['date'])\n",
        "    df['doy'] = df['date'].dt.dayofyear\n",
        "    df['dos'] = df['doy'].apply(get_day_of_season)\n",
        "    df['year'] = df['date'].dt.year\n",
        "    df['season'] = df['year']\n",
        "    df.loc[df['doy'] < 335, 'season'] -= 1\n",
        "    return df\n",
        "\n",
        "def clean_train_test(df, id_col='station_id', metadata_df=None):\n",
        "    df = pivot_df(df, id_col)\n",
        "    if metadata_df is not None:\n",
        "        df = df.merge(metadata_df)\n",
        "    return add_time_cols(df)\n",
        "\n",
        "\n",
        "train = clean_train_test(train_inp.rename({'Unnamed: 0': 'station_id'}, axis=1),\n",
        "                         metadata_df=metadata)\n",
        "train2 = clean_train_test(train_labels, 'cell_id', cell_metadata).dropna()\n",
        "train_full = pd.concat([train2.rename({'cell_id': 'station_id'}, axis=1).assign(datatype='labels'),\n",
        "                        train.drop(['elevation_m', 'name'], axis=1).assign(datatype='ground')])\n",
        "\n",
        "test = clean_train_test(\n",
        "    test_inp.rename({'Unnamed: 0': 'station_id'}, axis=1), metadata_df=metadata)\\\n",
        "    .rename({'snowpack': 'actual_snowpack'}, axis=1).dropna()\\\n",
        "    .merge(train[['station_id', 'state']].drop_duplicates())\n",
        "\n",
        "to_predict = clean_train_test(submission_format.drop('geometry', axis=1), 'cell_id', cell_metadata)\n",
        "\n",
        "# round(test['actual_snowpack'].std(), 3)"
      ]
    },
    {
      "cell_type": "code",
      "execution_count": null,
      "metadata": {
        "id": "ekRQVDqO_r3D"
      },
      "outputs": [],
      "source": [
        ""
      ]
    },
    {
      "cell_type": "code",
      "execution_count": null,
      "metadata": {
        "id": "hrYJodyUWheG"
      },
      "outputs": [],
      "source": [
        "#@title Helpers to read in weather data\n",
        "def get_date(x):\n",
        "    return datetime.strptime(x.split('_')[0], '%Y%m%d')\n",
        "\n",
        "def read_train_weather(fname, var, dir, verbose=False):\n",
        "    if verbose:\n",
        "        print('Reading', fname)\n",
        "    df = pd.read_csv(WEATHER_DIR + dir + fname)\\\n",
        "           .rename({'cell_id': 'station_id'}, axis=1)\n",
        "    df_04 = pivot_df(df, 'station_id', ignore_cols=[x for x in df.columns if x.endswith('_16')])\n",
        "    df_16 = pivot_df(df, 'station_id', ignore_cols=[x for x in df.columns if x.endswith('_04')])\n",
        "\n",
        "    df_04['date'] = df_04['date'].apply(get_date)\n",
        "    df_16['date'] = df_16['date'].apply(get_date)\n",
        "\n",
        "    return df_04.rename({'snowpack': var + '_04'}, axis=1)\\\n",
        "                .merge(df_16.rename({'snowpack': var + '_16'}, axis=1), how='outer')\n",
        "\n",
        "def get_missing_rows(df):\n",
        "    stations = df['station_id'].unique()\n",
        "    start, end = df['date'].min(), df['date'].max()\n",
        "    dates = [start + timedelta(i) for i in range((end - start).days + 1)]\n",
        "    comb = pd.DataFrame(list(itertools.product(stations, dates)), columns=['station_id', 'date'])\n",
        "    return df.merge(comb, how='outer')\n",
        "\n",
        "def unravel_weather(df, p):\n",
        "    return pd.concat([\n",
        "        df.drop([p + '_16'], axis=1).rename({p + '_04': p}, axis=1).assign(reading='04'),\n",
        "        df.drop([p + '_04'], axis=1).rename({p + '_16': p}, axis=1).assign(reading='16')])\\\n",
        "        .sort_values(['date', 'reading'])\n",
        "\n",
        "# Fill nas with most recent prior observation\n",
        "def fill_na(df, p):\n",
        "    unraveled = unravel_weather(df, p)\n",
        "    unraveled[p] = unraveled.groupby('station_id')[p].fillna(method='ffill').to_list()\n",
        "    return unraveled[unraveled['reading'] == '04']\\\n",
        "        .rename({p: p + '_04'}, axis=1)\\\n",
        "        .drop({'reading'}, axis=1)\\\n",
        "        .merge(unraveled[unraveled['reading'] == '16']\\\n",
        "               .rename({p: p + '_16'}, axis=1)\n",
        "               .drop({'reading'}, axis=1))\n",
        "\n",
        "# Fill nas with most recent prior observation from same time of day (proxy for high/low temp)\n",
        "def fill_na_temp(df, p):\n",
        "    df = df.sort_values(['date'])\n",
        "    df[p + '_04'] = df.groupby('station_id')[p + '_04'].fillna(method='ffill').to_list()\n",
        "    df[p + '_16'] = df.groupby('station_id')[p + '_16'].fillna(method='ffill').to_list()\n",
        "    return df"
      ]
    },
    {
      "cell_type": "code",
      "execution_count": null,
      "metadata": {
        "colab": {
          "base_uri": "https://localhost:8080/"
        },
        "id": "rima62YiGy_C",
        "outputId": "228b3242-55e7-4064-811e-60cc05873614"
      },
      "outputs": [
        {
          "output_type": "stream",
          "name": "stdout",
          "text": [
            "WARNING ['precip_04', 'precip_16']\n"
          ]
        }
      ],
      "source": [
        "#@title Read training weather data\n",
        "# from scratch\n",
        "\n",
        "def get_weather_var(prefix, is_temp=False):\n",
        "    files = [x for x in os.listdir(WEATHER_DIR + 'train_csvs/') if x.startswith(prefix + '_2')]\n",
        "    df = pd.concat([read_train_weather(x, prefix, 'train_csvs/') for x in files])\n",
        "    df = get_missing_rows(df)\n",
        "    return fill_na_temp(df, prefix) if is_temp else fill_na(df, prefix)\n",
        "\n",
        "# snow_depth = get_weather_var('snow_depth')\n",
        "# snow_depth.to_csv(WEATHER_DIR + 'aggregated_train_csvs/snow_depth.csv', index=False)\n",
        "\n",
        "# water_eq = get_weather_var('snow_depth_water_eq')\n",
        "# water_eq.to_csv(WEATHER_DIR + 'aggregated_train_csvs/snow_depth_water_eq.csv', index=False)\n",
        "\n",
        "# snow_cover = get_weather_var('snow_cover')\n",
        "# snow_cover.to_csv(WEATHER_DIR + 'aggregated_train_csvs/snow_cover.csv', index=False)\n",
        "\n",
        "# temp = get_weather_var('temp', is_temp=True)\n",
        "# temp.to_csv(WEATHER_DIR + 'aggregated_train_csvs/temp.csv', index=False)\n",
        "# print('temp done')\n",
        "\n",
        "# frozen_precip = get_weather_var('pct_frozen_precip')\n",
        "# frozen_precip.to_csv(WEATHER_DIR + 'aggregated_train_csvs/pct_frozen_precip.csv', index=False)\n",
        "# print('frozen_precip done')\n",
        "\n",
        "# precip = get_weather_var('precip')\n",
        "# precip.to_csv(WEATHER_DIR + 'aggregated_train_csvs/precip.csv', index=False)\n",
        "# print('precip done')\n",
        "\n",
        "# from file\n",
        "def read_file(fname):\n",
        "    path = WEATHER_DIR + 'aggregated_train_csvs/%s.csv' % fname\n",
        "    df = pd.read_csv(path)\n",
        "    df['date'] = pd.to_datetime(df['date'])\n",
        "    c = [x for x in df.columns if x.endswith('_04') or x.endswith('_16')]\n",
        "    if len(df[df[c[0]] != df[c[1]]]) == 0:\n",
        "        print('WARNING', c)\n",
        "    return df\n",
        "\n",
        "snow_depth_orig = read_file('snow_depth')\n",
        "temp_orig = read_file('temp')\n",
        "water_eq_orig = read_file('snow_depth_water_eq')\n",
        "snow_cover_orig = read_file('snow_cover')\n",
        "frozen_precip_orig = read_file('pct_frozen_precip')\n",
        "precip_orig = read_file('precip')\n",
        "\n"
      ]
    },
    {
      "cell_type": "code",
      "execution_count": null,
      "metadata": {
        "id": "WrQZo5ImWjz6"
      },
      "outputs": [],
      "source": [
        ""
      ]
    },
    {
      "cell_type": "code",
      "execution_count": null,
      "metadata": {
        "id": "_Meid6b6Dxfb"
      },
      "outputs": [],
      "source": [
        "#@title Misc helpers\n",
        "def rmse(a, p):\n",
        "    return round(((a - p) ** 2).mean() ** 0.5, 4)\n",
        "\n",
        "def quick_predict(train_df, test_df, cols, get_preds=False):\n",
        "    lm = LinearRegression().fit(train_df[cols], train_df['snowpack'])\n",
        "    train_rmse = rmse(train_df['snowpack'], lm.predict(train_df[cols]))\n",
        "    test_preds = lm.predict(test_df[cols])\n",
        "    if get_preds:\n",
        "        return train_rmse, test_preds\n",
        "    else:\n",
        "        test_rmse = rmse(test_df['actual_snowpack'], test_preds)\n",
        "        corr = round(pearsonr(test_df['actual_snowpack'], test_preds)[0], 4)\n",
        "        return train_rmse, test_rmse, corr\n",
        "\n",
        "\n",
        "def interact(df, cont_cols, dummy_col):\n",
        "    keep_cols = list(set(df.columns) - set([dummy_col] + cont_cols))\n",
        "    dummies = pd.get_dummies(df, columns=[dummy_col])\n",
        "    dummy_cols = [x for x in dummies.columns if x.startswith(dummy_col)]\n",
        "    int_df = dummies[keep_cols]\n",
        "\n",
        "    for cc in cont_cols:\n",
        "        for dc in dummy_cols:\n",
        "            int_df[cc + '_' + dc] = dummies[cc] * dummies[dc]\n",
        "\n",
        "    return int_df\n",
        "\n",
        "def get_tt_cols(df):\n",
        "    df['dos_2'] = df['dos'] ** 2\n",
        "    return interact(df, ['dos', 'dos_2'], 'state')\n",
        "\n",
        "def write_formatted_preds(preds_df, outpath):\n",
        "    preds_df = preds_df[['cell_id', 'date', 'snowpack']]\n",
        "    preds_df['date'] = preds_df['date'].apply(lambda x: x.strftime('%Y-%m-%d'))\n",
        "    submission = preds_df.pivot(index='cell_id', columns='date', values='snowpack')\\\n",
        "                        .reset_index()\\\n",
        "                        .sort_values('cell_id')\n",
        "\n",
        "    assert sorted(submission.columns) == sorted(submission_format.columns[:-1])\n",
        "    assert sorted(submission['cell_id']) == sorted(submission_format['cell_id'])\n",
        "\n",
        "    submission.to_csv(PRED_PATH + '%s.csv' % outpath, index=False)\n",
        "\n",
        "def format_state(orig_df):\n",
        "    df = orig_df.dropna()\n",
        "    df['dos_2'] = df['dos'] ** 2\n",
        "    return interact(df, ['dos', 'dos_2'], 'state')\n",
        "\n",
        "\n",
        "\n",
        "\n"
      ]
    },
    {
      "cell_type": "markdown",
      "metadata": {
        "id": "aEIx4hFBCzCV"
      },
      "source": [
        "# Get processed data sources"
      ]
    },
    {
      "cell_type": "code",
      "execution_count": null,
      "metadata": {
        "id": "Zz43Bv9tA_Mc"
      },
      "outputs": [],
      "source": [
        ""
      ]
    },
    {
      "cell_type": "code",
      "execution_count": null,
      "metadata": {
        "id": "CkuzQPncFpv5"
      },
      "outputs": [],
      "source": [
        "#@title Get snow depth data\n",
        "snow_depth = snow_depth_orig.copy()\n",
        "snow_depth['daily_depth'] = snow_depth['snow_depth_04']\n",
        "snow_depth.loc[snow_depth['snow_depth_16'] > snow_depth['snow_depth_04'], 'daily_depth'] =\\\n",
        "    snow_depth['snow_depth_16']\n",
        "\n",
        "snow_depth = snow_depth.sort_values('date')\n",
        "snow_depth['delta'] = (snow_depth['daily_depth'] -\n",
        "                       snow_depth.groupby('station_id')['daily_depth'].shift(1))\n",
        "snow_depth = add_time_cols(snow_depth.drop(['snow_depth_04', 'snow_depth_16'], axis=1))\n",
        "\n",
        "# try different variables\n",
        "snow_depth['delta'] = snow_depth['delta'].fillna(0)\n",
        "snow_depth = snow_depth.sort_values(['season', 'dos'])\n",
        "snow_depth['max_depth'] = snow_depth.groupby(['station_id', 'season'])['daily_depth'].cummax()\n",
        "\n",
        "snow_depth['snowfall'] = snow_depth['delta'].apply(lambda x: max(0, x))\n",
        "snow_depth['snowmelt'] = snow_depth['delta'].apply(lambda x: min(0, x))\n",
        "\n",
        "snow_depth['snowfall'] = snow_depth.groupby(['station_id', 'season'])['snowfall'].cumsum()\n",
        "snow_depth['snowmelt'] = snow_depth.groupby(['station_id', 'season'])['snowmelt'].cumsum()\n",
        "\n",
        "snow_depth['net_snow'] = snow_depth['snowfall'] + snow_depth['snowmelt']\n"
      ]
    },
    {
      "cell_type": "code",
      "execution_count": null,
      "metadata": {
        "cellView": "form",
        "id": "e4nU3ltoF3WG"
      },
      "outputs": [],
      "source": [
        "#@title Get temperature data\n",
        "temp = temp_orig.copy()\n",
        "temp['date'] = pd.to_datetime(temp['date'])\n",
        "\n",
        "temp['low'] = temp['temp_04']\n",
        "temp.loc[temp['temp_16'] < temp['temp_04'], 'low'] = temp['temp_16']\n",
        "\n",
        "temp['high'] = temp['temp_16']\n",
        "temp.loc[temp['temp_16'] < temp['temp_04'], 'high'] = temp['temp_04']\n",
        "\n",
        "temp = add_time_cols(temp)\n",
        "temp = temp[(temp['date'] >= train['date'].min()) &\n",
        "            (temp['date'] <= test['date'].max()) &\n",
        "            (temp['dos'] <= test['dos'].max())]\n"
      ]
    },
    {
      "cell_type": "code",
      "execution_count": null,
      "metadata": {
        "cellView": "form",
        "id": "zod7B_r8F3Rx"
      },
      "outputs": [],
      "source": [
        "#@title \"Degree day\" helpers\n",
        "def get_integral(slope, intercept, start, end):\n",
        "    l = slope / 2 * start ** 2 + intercept * start\n",
        "    r = slope / 2 * end ** 2 + intercept * end\n",
        "    return r - l\n",
        "\n",
        "def get_ddays(x):\n",
        "    min_temp, max_temp = x['low'], x['high']\n",
        "    # print(min_temp, max_temp)\n",
        "    if min_temp > 0:\n",
        "        neg_area = 0\n",
        "        pos_area = (max_temp - min_temp) / 2 + min_temp\n",
        "    elif max_temp <= 0:\n",
        "        pos_area = 0\n",
        "        neg_area = (min_temp - max_temp) / 2 - min_temp\n",
        "    else:\n",
        "        x_int = (-1 * min_temp) / (max_temp - min_temp)\n",
        "        slope = (max_temp - min_temp)\n",
        "        neg_area = -1 * get_integral(slope, min_temp, 0, x_int)\n",
        "        pos_area = get_integral(slope, min_temp, x_int, 1)\n",
        "    return neg_area, pos_area\n"
      ]
    },
    {
      "cell_type": "code",
      "execution_count": null,
      "metadata": {
        "cellView": "form",
        "colab": {
          "base_uri": "https://localhost:8080/"
        },
        "id": "zfneQ8SJGCZ0",
        "outputId": "cb9f0715-27ca-4c63-c8f0-622a625bc840"
      },
      "outputs": [
        {
          "output_type": "stream",
          "name": "stdout",
          "text": [
            "21.949269771575928\n"
          ]
        }
      ],
      "source": [
        "#@title Get degree days\n",
        "t0 = time.time()\n",
        "temp['ddays'] = temp.apply(get_ddays, axis=1)\n",
        "print(time.time() - t0)\n",
        "\n",
        "temp['ddays_neg'] = temp['ddays'].apply(lambda x: x[0])\n",
        "temp['ddays_pos'] = temp['ddays'].apply(lambda x: x[1])\n",
        "temp = temp.sort_values('dos')\n",
        "\n",
        "temp['ddays_neg_cum'] = temp.groupby(['station_id', 'season'])['ddays_neg'].cumsum()\n",
        "temp['ddays_pos_cum'] = temp.groupby(['station_id', 'season'])['ddays_pos'].cumsum()\n"
      ]
    },
    {
      "cell_type": "code",
      "execution_count": null,
      "metadata": {
        "cellView": "form",
        "id": "1FFmDhEOGCVC"
      },
      "outputs": [],
      "source": [
        "#@title Get outliers in training data\n",
        "outliers = train_full.sort_values('dos')\n",
        "outliers['delta'] = \\\n",
        "    (outliers['snowpack'] - outliers.groupby(['station_id', 'season'])['snowpack'].shift(1)) /\\\n",
        "    (outliers['dos'] - outliers.groupby(['station_id', 'season'])['dos'].shift(1))\n",
        "outliers = outliers.dropna()\n",
        "\n",
        "i = 2\n",
        "non_outliers = outliers[(outliers['delta'] < i) & (outliers['delta'] > -i)]\n",
        "outliers = outliers[(outliers['delta'] >= i) | (outliers['delta'] <= -i)]\n",
        "outliers = outliers[['station_id', 'season']].drop_duplicates()\n",
        "non_outliers = non_outliers[['station_id', 'season']].drop_duplicates()\n",
        "\n",
        "\n"
      ]
    },
    {
      "cell_type": "code",
      "execution_count": null,
      "metadata": {
        "id": "IofN3WHnFsmx"
      },
      "outputs": [],
      "source": [
        ""
      ]
    },
    {
      "cell_type": "markdown",
      "metadata": {
        "id": "08uiENUPQE2F"
      },
      "source": [
        "# Workspace"
      ]
    },
    {
      "cell_type": "code",
      "execution_count": null,
      "metadata": {
        "id": "alYUDl4fOvJ2",
        "colab": {
          "base_uri": "https://localhost:8080/",
          "height": 881
        },
        "cellView": "form",
        "outputId": "7e45cd09-865e-49a1-d26a-b9fe85a43ca5"
      },
      "outputs": [
        {
          "output_type": "execute_result",
          "data": {
            "text/plain": [
              "<matplotlib.axes._subplots.AxesSubplot at 0x7ff524699c90>"
            ]
          },
          "metadata": {},
          "execution_count": 15
        },
        {
          "output_type": "display_data",
          "data": {
            "image/png": "[encoded data removed]",
            "text/plain": [
              "<Figure size 1440x1080 with 1 Axes>"
            ]
          },
          "metadata": {
            "needs_background": "light"
          }
        }
      ],
      "source": [
        "#@title Plot train/test data points\n",
        "train_plot = train_full.drop_duplicates(subset='station_id')\n",
        "train_plot = gpd.GeoDataFrame(train_plot,\n",
        "    geometry=gpd.points_from_xy(train_plot['longitude'], train_plot['latitude']))\n",
        "\n",
        "pred_plot = to_predict.drop_duplicates(subset='cell_id')\n",
        "pred_plot = gpd.GeoDataFrame(pred_plot,\n",
        "    geometry=gpd.points_from_xy(pred_plot['longitude'], pred_plot['latitude']))\n",
        "\n",
        "f, ax=plt.subplots(figsize=(20, 15))\n",
        "train_plot.plot(column='datatype', ax=ax, markersize=2)\n",
        "pred_plot.plot(color='red', ax=ax, markersize=2)\n"
      ]
    },
    {
      "cell_type": "code",
      "execution_count": null,
      "metadata": {
        "id": "vlM_ou7PRONY"
      },
      "outputs": [],
      "source": [
        ""
      ]
    },
    {
      "cell_type": "code",
      "execution_count": null,
      "metadata": {
        "colab": {
          "base_uri": "https://localhost:8080/"
        },
        "id": "MCpSCNukOvHB",
        "outputId": "0e10d1cc-76e4-4266-883b-20a316a96664",
        "cellView": "form"
      },
      "outputs": [
        {
          "output_type": "stream",
          "name": "stderr",
          "text": [
            "/usr/local/lib/python3.7/dist-packages/ipykernel_launcher.py:4: UserWarning:\n",
            "\n",
            "Geometry is in a geographic CRS. Results from 'buffer' are likely incorrect. Use 'GeoSeries.to_crs()' to re-project geometries to a projected CRS before this operation.\n",
            "\n",
            "\n",
            "/usr/local/lib/python3.7/dist-packages/ipykernel_launcher.py:11: UserWarning:\n",
            "\n",
            "CRS mismatch between the CRS of left geometries and the CRS of right geometries.\n",
            "Use `to_crs()` to reproject one of the input geometries to match the CRS of the other.\n",
            "\n",
            "Left CRS: None\n",
            "Right CRS: EPSG:4326\n",
            "\n",
            "\n"
          ]
        }
      ],
      "source": [
        "#@title Get id to region map\n",
        "regions = grid_cells.dissolve(by='region').reset_index()\n",
        "regions = regions[regions['region'] != 'other']\n",
        "regions['geometry'] = regions['geometry'].convex_hull.buffer(0.2)\n",
        "\n",
        "id_to_region = gpd.GeoDataFrame(\n",
        "    metadata, geometry=gpd.points_from_xy(metadata['longitude'], metadata['latitude']))\\\n",
        "    [['station_id', 'geometry']]\n",
        "id_to_region = pd.concat([id_to_region,\n",
        "    grid_cells[['cell_id', 'geometry']].rename({'cell_id': 'station_id'}, axis=1)])\n",
        "id_to_region = gpd.sjoin(id_to_region, regions, how='left')\n",
        "id_to_region['region'] = id_to_region['region'].fillna('other')\n",
        "id_to_region = id_to_region[['station_id', 'region']]\n",
        "\n",
        "train_reg = train_full.merge(id_to_region)\n",
        "test_reg = test.merge(id_to_region)\n",
        "to_predict_reg = to_predict.merge(id_to_region.rename({'station_id': 'cell_id'}, axis=1))\n",
        "\n"
      ]
    },
    {
      "cell_type": "code",
      "source": [
        "#@title Plot train/test data -- Sierras\n",
        "train_locs = id_to_region[id_to_region['station_id'].isin(train_full['station_id'])]\\\n",
        "    .merge(train_full[['datatype', 'station_id']].drop_duplicates())\n",
        "test_locs = id_to_region[id_to_region['station_id'].isin(to_predict['cell_id'])]\n",
        "\n",
        "f, ax = plt.subplots(figsize=(10, 10))\n",
        "train_locs[train_locs['region'] == 'sierras'].plot(ax=ax, markersize=2, column='datatype', legend=True)\n",
        "test_locs[test_locs['region'] == 'sierras'].plot(ax=ax, markersize=2, color='red')"
      ],
      "metadata": {
        "colab": {
          "base_uri": "https://localhost:8080/",
          "height": 610
        },
        "id": "FyzXqePKvT56",
        "outputId": "a5c6444e-0d98-4db6-eac9-69c7d9c0bb35",
        "cellView": "form"
      },
      "execution_count": null,
      "outputs": [
        {
          "output_type": "execute_result",
          "data": {
            "text/plain": [
              "<matplotlib.axes._subplots.AxesSubplot at 0x7f6460fd2ed0>"
            ]
          },
          "metadata": {},
          "execution_count": 363
        },
        {
          "output_type": "display_data",
          "data": {
            "image/png": "[encoded data removed]",
            "text/plain": [
              "<Figure size 720x720 with 1 Axes>"
            ]
          },
          "metadata": {
            "needs_background": "light"
          }
        }
      ]
    },
    {
      "cell_type": "code",
      "source": [
        ""
      ],
      "metadata": {
        "id": "2G9ZQXlnv2mI"
      },
      "execution_count": null,
      "outputs": []
    },
    {
      "cell_type": "code",
      "execution_count": null,
      "metadata": {
        "id": "lhX_CCT4OvER",
        "cellView": "form"
      },
      "outputs": [],
      "source": [
        "#@title RF helpers\n",
        "def format_rf(df):\n",
        "    df = df.dropna()\n",
        "    # df['snowpack_cat'] = df['snowpack'].apply(lambda x: 0 if x < 15 else 1) # not used right now\n",
        "    df['dos_2'] = df['dos'] ** 2\n",
        "    # df = pd.get_dummies(df, columns=['datatype'])\n",
        "    # df = pd.get_dummies(df, columns=['region'])\n",
        "    return pd.get_dummies(df, columns=['state'])\n",
        "\n",
        "def get_trained_rf(train_df, holdout_ids, rf_cols, fuzz, max_depth, n_estimators=100):\n",
        "    print(fuzz, max_depth, n_estimators)\n",
        "    train_holdout = train_df[~train_df['station_id'].isin(holdout_ids)]\n",
        "    train_c = format_rf(train_holdout).dropna()\n",
        "\n",
        "    if fuzz > 0:\n",
        "        train_c['latitude'] += np.random.normal(0, fuzz, len(train_c))\n",
        "        train_c['longitude'] += np.random.normal(0, fuzz, len(train_c))\n",
        "\n",
        "    rf = RandomForestRegressor(max_depth=max_depth, n_estimators=n_estimators, random_state=123)\\\n",
        "        .fit(train_c[rf_cols], train_c['snowpack'])\n",
        "\n",
        "    preds = rf.predict(train_c[rf_cols])\n",
        "    print(\"Train Std Dev:\", round(train_c['snowpack'].std(), 3),\" Train RMSE: \", rmse(train_c['snowpack'], preds))\n",
        "    return rf, preds\n",
        "\n",
        "def eval_test(rf, rf_cols, test_df, p = True):\n",
        "    rf_df = format_rf(test_df.rename({'actual_snowpack': 'snowpack'}, axis=1))\n",
        "    preds = rf.predict(rf_df[rf_cols])\n",
        "\n",
        "    if p:\n",
        "        print(\"Test Std Dev:\", round(rf_df['snowpack'].std(), 3), \"Test RMSE: \", rmse(rf_df['snowpack'], preds))\n",
        "    \n",
        "    return preds\n",
        "\n",
        "def get_rmse_all(df1, df2, df3, print_name, return_score=False):\n",
        "    temp_preds =  pd.concat((\n",
        "        (df1['actual_snowpack'] - df1['preds']) ** 2 ,\n",
        "        (df2['actual_snowpack'] - df2['preds']) ** 2 ,\n",
        "        (df3['actual_snowpack'] - df3['preds']) ** 2))\n",
        "\n",
        "    rmse_val =  temp_preds.mean()** .5\n",
        "    print(\"Difference Std Dev:\",round(temp_preds.std(), 3) , \"RMSE:\", round(rmse_val, 3), print_name ) \n",
        "    if return_score:\n",
        "        return rmse_val\n",
        "\n",
        "def get_rmse_all_train(sierra_preds, sierra_train,\n",
        "                        rocky_preds, rocky_train,\n",
        "                        other_preds, other_train):\n",
        "    sierra_train, rocky_train, other_train =sierra_train.dropna(), rocky_train.dropna(), other_train.dropna() \n",
        "    temp_diff = np.concatenate( (\n",
        "        (sierra_preds - sierra_train['snowpack'].to_numpy())**2,\n",
        "        (rocky_preds - rocky_train['snowpack'].to_numpy())**2,                  \n",
        "        (other_preds - other_train['snowpack'].to_numpy())**2\n",
        "    )) \n",
        "    print(\"Difference Std Dev:\",round(temp_diff.std(), 3) , \"RMSE:\", round(temp_diff.mean()**.5, 3), \"  TRAIN\")"
      ]
    },
    {
      "cell_type": "code",
      "execution_count": null,
      "metadata": {
        "id": "rKcVI8L7Ja_I",
        "cellView": "form"
      },
      "outputs": [],
      "source": [
        "#@title Get train/test dfs by region\n",
        "random.seed(123)\n",
        "\n",
        "def holdout(train_df):\n",
        "    stations = train_df.loc[train_df['datatype'] == 'ground', 'station_id'].unique()\n",
        "    random.shuffle(stations)\n",
        "    return list(stations[:int(len(stations) / 10)])\n",
        "\n",
        "sierra_train = train_reg[train_reg['region'] == 'sierras']\n",
        "sierra_test = test_reg[test_reg['region'] == 'sierras']\n",
        "sierra_holdout_list = holdout(sierra_train)\n",
        "sierra_holdout = sierra_test[sierra_test['station_id'].isin(sierra_holdout_list)]\n",
        "\n",
        "rocky_train = train_reg[train_reg['region'] == 'central rockies']\n",
        "rocky_test = test_reg[test_reg['region'] == 'central rockies']\n",
        "rocky_holdout_list = holdout(rocky_train)\n",
        "rocky_holdout = rocky_test[rocky_test['station_id'].isin(rocky_holdout_list)]\n",
        "\n",
        "other_train = train_reg.copy()\n",
        "other_test = test_reg[test_reg['region'] == 'other']\n",
        "other_holdout_list = holdout(other_train)\n",
        "other_holdout = other_test[other_test['station_id'].isin(other_holdout_list)]\n"
      ]
    },
    {
      "cell_type": "code",
      "source": [
        ""
      ],
      "metadata": {
        "id": "a31Eb7yGvT2X"
      },
      "execution_count": null,
      "outputs": []
    },
    {
      "cell_type": "code",
      "execution_count": null,
      "metadata": {
        "id": "I9arUh10WrMv",
        "cellView": "form"
      },
      "outputs": [],
      "source": [
        "#@title Check for and remove outliers in training data -- not currently using\n",
        "\n",
        "# sierra_train.groupby(['station_id', 'season'])['snowpack'].std().mean() # 9.61\n",
        "# outliers = sierra_train.sort_values('dos')\n",
        "# outliers['delta'] = \\\n",
        "#     (outliers['snowpack'] - outliers.groupby(['station_id', 'season'])['snowpack'].shift(1)) /\\\n",
        "#     (outliers['dos'] - outliers.groupby(['station_id', 'season'])['dos'].shift(1))\n",
        "# outliers = outliers.dropna()\n",
        "# print(outliers['snowpack'].std())\n",
        "\n",
        "# upper = 2\n",
        "# lower = 0.2\n",
        "\n",
        "# non_outliers = outliers.loc[(outliers['delta'] < upper) & (outliers['delta'] > -lower), \n",
        "#                             ['station_id', 'season']].drop_duplicates()\\\n",
        "#                             .rename({'cell_id': 'station_id'}, axis=1)\n",
        "# sierra_train = sierra_train.merge(non_outliers)\n"
      ]
    },
    {
      "cell_type": "code",
      "execution_count": null,
      "metadata": {
        "id": "kRi3ful8X5rv"
      },
      "outputs": [],
      "source": [
        ""
      ]
    },
    {
      "cell_type": "code",
      "execution_count": null,
      "metadata": {
        "colab": {
          "base_uri": "https://localhost:8080/"
        },
        "id": "T6n7XNuIGVTZ",
        "outputId": "6a11d71c-fd3a-473d-ac7c-7012dbaa69e2",
        "cellView": "form"
      },
      "outputs": [
        {
          "output_type": "stream",
          "name": "stdout",
          "text": [
            "SIERRAS\n",
            "0.1 10 300\n",
            "15.887 12.0419\n",
            "8.443 9.4768\n",
            "8.191 10.9949\n"
          ]
        }
      ],
      "source": [
        "#@title Train RF by region\n",
        "baseline_cols = ['dos', 'dos_2', 'latitude', 'longitude']\n",
        "\n",
        "#train_df, holdout_ids, rf_cols, fuzz, max_depth, n_estimators=100\n",
        "train = True\n",
        "if train:\n",
        "    rf_sierra, sierra_preds = get_trained_rf(sierra_train, sierra_holdout_list, baseline_cols, 0.1, 10, 300)\n",
        "    rf_rocky, rocky_preds = get_trained_rf(rocky_train, rocky_holdout_list, baseline_cols, 0.3, 10, 300)\n",
        "    rf_other, other_preds = get_trained_rf(other_train, other_holdout_list, baseline_cols, 0.3, 10, 300)\n",
        "\n",
        "print('\\nSIERRAS')\n",
        "sierra_test['preds'] = eval_test(rf_sierra, baseline_cols, sierra_test)\n",
        "sierra_holdout['preds'] = eval_test(rf_sierra, baseline_cols, sierra_holdout)\n",
        "\n",
        "print('ROCKIES')\n",
        "rocky_test['preds'] = eval_test(rf_rocky, baseline_cols, rocky_test)\n",
        "rocky_holdout['preds'] = eval_test(rf_rocky, baseline_cols, rocky_holdout)\n",
        "\n",
        "print('OTHER')\n",
        "other_test['preds'] = eval_test(rf_other, baseline_cols, other_test)\n",
        "other_holdout['preds'] = eval_test(rf_other, baseline_cols, other_holdout)\n",
        "\n",
        "print('\\nOVERALL')\n",
        "get_rmse_all_train(sierra_preds, sierra_train[~sierra_train['station_id'].isin(sierra_holdout_list)],\n",
        "                        rocky_preds, rocky_train[~rocky_train['station_id'].isin(rocky_holdout_list)],\n",
        "                        other_preds, other_train[~other_train['station_id'].isin(other_holdout_list)])\n",
        "\n",
        "get_rmse_all(sierra_test, rocky_test,other_test, \"  TEST\")\n",
        "get_rmse_all(sierra_holdout, rocky_holdout,other_holdout, \"  HOLDOUT\")\n"
      ]
    },
    {
      "cell_type": "code",
      "execution_count": null,
      "metadata": {
        "id": "A9_4RylvX5Jh",
        "cellView": "form"
      },
      "outputs": [],
      "source": [
        "#@title Train full RFs\n",
        "#note we should make final predictions on all data, so above are overwritten\n",
        "train = True\n",
        "if train:\n",
        "    rf_sierra, sierra_preds = get_trained_rf(sierra_train, [], baseline_cols, 0.1, 10, 300)\n",
        "    rf_rocky, rocky_preds = get_trained_rf(rocky_train, [], baseline_cols, 0.3, 10, 300)\n",
        "    rf_other, other_preds = get_trained_rf(other_train, [], baseline_cols, 0.3, 10, 300)\n",
        "\n",
        "get_rmse_all_train(sierra_preds, sierra_train,\n",
        "                        rocky_preds, rocky_train,\n",
        "                        other_preds, other_train)"
      ]
    },
    {
      "cell_type": "code",
      "execution_count": null,
      "metadata": {
        "id": "XLLfFx1YJiZx",
        "colab": {
          "base_uri": "https://localhost:8080/"
        },
        "outputId": "5c2fd24a-5ec9-41d4-da66-79b63ebb708b",
        "cellView": "form"
      },
      "outputs": [
        {
          "output_type": "stream",
          "name": "stdout",
          "text": [
            "344736\n",
            "159030\n",
            "12996\n"
          ]
        }
      ],
      "source": [
        "#@title Predict submission dataset\n",
        "reg_to_rf = [('sierras', rf_sierra), ('central rockies', rf_rocky), ('other', rf_other)]\n",
        "predicted = []\n",
        "\n",
        "for reg, rf in reg_to_rf:\n",
        "    reg_df = to_predict_reg[to_predict_reg['region'] == reg]\n",
        "    pred_df = format_rf(reg_df)\n",
        "    pred_df['snowpack'] = rf.predict(pred_df[baseline_cols])\n",
        "    predicted.append(pred_df)\n",
        "\n",
        "predicted = pd.concat(predicted)\n",
        "write_formatted_preds(predicted[['cell_id', 'snowpack', 'date']], 'rf_by_region_sierra_label_only')"
      ]
    },
    {
      "cell_type": "code",
      "execution_count": null,
      "metadata": {
        "id": "OSTOxyOA87l0"
      },
      "outputs": [],
      "source": [
        ""
      ]
    },
    {
      "cell_type": "code",
      "execution_count": null,
      "metadata": {
        "id": "upLK0LnqfCVm",
        "cellView": "form"
      },
      "outputs": [],
      "source": [
        "#@title CV code\n",
        "random.seed(123)\n",
        "sierra_stations = sierra_train.loc[sierra_train['datatype'] == 'ground', 'station_id'].unique()\n",
        "random.shuffle(sierra_stations)\n",
        "block_sz = int(len(sierra_stations) / 5)\n",
        "\n",
        "preds = []\n",
        "\n",
        "for i in range(5):\n",
        "    print(i)\n",
        "    start = i * block_sz\n",
        "    end = (i + 1) * block_sz if i < 9 else len(sierra_stations)\n",
        "    sierra_holdout_list = sierra_stations[start: end]\n",
        "    \n",
        "    rf_10, _ = get_trained_rf(sierra_train, sierra_holdout_list, baseline_cols, 0, 10, 300)\n",
        "    # rf_15, _ = get_trained_rf(sierra_train, sierra_holdout_list, baseline_cols, 0, 15)\n",
        "    # rf_20, _ = get_trained_rf(sierra_train, sierra_holdout_list, baseline_cols, 0, 20)\n",
        "\n",
        "    sierra_holdout = sierra_test[sierra_test['station_id'].isin(sierra_holdout_list)]\n",
        "    sierra_holdout['preds_10'] = eval_test(rf_10, baseline_cols, sierra_holdout)\n",
        "    # sierra_holdout['preds_15'] = eval_test(rf_15, baseline_cols, sierra_holdout)\n",
        "    # sierra_holdout['preds_20'] = eval_test(rf_20, baseline_cols, sierra_holdout)\n",
        "\n",
        "    preds.append(sierra_holdout)\n",
        "\n",
        "preds = pd.concat(preds)\n"
      ]
    },
    {
      "cell_type": "code",
      "execution_count": null,
      "metadata": {
        "id": "jssh_RWxrYyv"
      },
      "outputs": [],
      "source": [
        "#@title Naive CV\n",
        "k = 5\n",
        "kf = KFold(n_splits=k, shuffle=True, random_state=12345)\n",
        "\n",
        "scores = []\n",
        "for train_index , test_index in kf.split(train_reg):\n",
        "    train , test = train_reg.iloc[train_index,:], train_reg.iloc[test_index,:]\n",
        "\n",
        "    sierra_train = train[train['region'] == 'sierras']\n",
        "    sierra_test = (test[test['region'] == 'sierras']).dropna()\n",
        "\n",
        "    rocky_train = train[train['region'] == 'central rockies']\n",
        "    rocky_test = (test[test['region'] == 'central rockies']).dropna()\n",
        "\n",
        "    other_train = train.copy()\n",
        "    other_test = (test[test['region'] == 'other']).dropna()\n",
        "\n",
        "\n",
        "    rf_sierra, sierra_preds = get_trained_rf(sierra_train, [], baseline_cols, 0.1, 10, 300)\n",
        "    rf_rocky, rocky_preds = get_trained_rf(rocky_train, [], baseline_cols, 0.3, 10, 300)\n",
        "    rf_other, other_preds = get_trained_rf(other_train, [], baseline_cols, 0.3, 10, 300)\n",
        "\n",
        "    sierra_test['preds'] = eval_test(rf_sierra, baseline_cols, sierra_test, p = False)\n",
        "    rocky_test['preds'] = eval_test(rf_rocky, baseline_cols, rocky_test, p = False)\n",
        "    other_test['preds'] = eval_test(rf_other, baseline_cols, other_test, p = False)\n",
        "    \n",
        "    sierra_test.rename({'snowpack': 'actual_snowpack'}, axis=1, inplace=True)\n",
        "    rocky_test.rename({'snowpack': 'actual_snowpack'}, axis=1, inplace=True)\n",
        "    other_test.rename({'snowpack': 'actual_snowpack'}, axis=1, inplace=True)\n",
        "\n",
        "    scores.append(get_rmse_all(sierra_test, rocky_test,other_test, \"\", return_score = True))\n",
        "\n",
        "print(\"\\n\",scores,\"\\n\", np.sqrt((np.array(scores)**2).sum()/k ))"
      ]
    }
  ],
  "metadata": {
    "colab": {
      "name": "baseline_models.ipynb",
      "provenance": [],
      "collapsed_sections": [
        "aEIx4hFBCzCV"
      ],
      "include_colab_link": true
    },
    "kernelspec": {
      "display_name": "Python 3",
      "name": "python3"
    },
    "language_info": {
      "name": "python"
    }
  },
  "nbformat": 4,
  "nbformat_minor": 0
}